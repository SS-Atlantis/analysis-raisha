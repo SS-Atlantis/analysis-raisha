{
 "cells": [
  {
   "cell_type": "markdown",
   "metadata": {},
   "source": [
    "Code taken From Suchy et al. ([Suchyetal_NPGOpaper/notebooks/Figure5_PhytoplanktonBiomass.ipynb](https://github.com/SalishSeaCast/Suchyetal_NPGOpaper/blob/main/notebooks/Figure5_PhytoplanktonBiomass.ipynb)) to extract monthly diatom and nanoflagellate biomass from 201905 to match data from [Suchy et al., 2025](https://agupubs.onlinelibrary.wiley.com/doi/10.1029/2024JC021036)"
   ]
  },
  {
   "cell_type": "code",
   "execution_count": 2,
   "metadata": {},
   "outputs": [],
   "source": [
    "import numpy as np\n",
    "import xarray as xr\n",
    "import pandas as pd\n",
    "from salishsea_tools import viz_tools, places, visualisations\n",
    "from matplotlib import pyplot as plt, dates\n",
    "from datetime import datetime, timedelta\n",
    "from calendar import month_name\n",
    "from scipy.io import loadmat\n",
    "from tqdm.notebook import tqdm\n",
    "from salishsea_tools import nc_tools\n",
    "import cmocean\n",
    "from scipy.stats import sem\n",
    "import scipy.stats as stats"
   ]
  },
  {
   "cell_type": "code",
   "execution_count": 3,
   "metadata": {},
   "outputs": [],
   "source": [
    "plt.rcParams.update({'font.size': 12, 'axes.titlesize': 'medium'})"
   ]
  },
  {
   "cell_type": "markdown",
   "metadata": {},
   "source": [
    "### Import monthly files for Diatoms"
   ]
  },
  {
   "cell_type": "code",
   "execution_count": 8,
   "metadata": {},
   "outputs": [],
   "source": [
    "#years, months, data\n",
    "monthly_array_diatoms_depthint_slice = np.zeros([14,12,50,50])\n",
    "# Load monthly averages\n",
    "mask = xr.open_dataset('/data/eolson/results/MEOPAR/NEMO-forcing-new/grid/mesh_mask201702.nc')\n",
    "slc = {'y': slice(450,500), 'x': slice(250,300)}\n",
    "e3t, tmask = [mask[var].isel(z=slice(None, 27),**slc).values for var in ('e3t_0', 'tmask')]\n",
    "years, variables = range(2007, 2021), ['diatoms']\n",
    "# flagellates_depthintorary list dict\n",
    "data = {}\n",
    "# Permanent aggregate dict\n",
    "aggregates = {var: {} for var in variables}\n",
    "monthlydat = {var: {} for var in variables}\n",
    "\n",
    "# Loop through years\n",
    "for year in [2007,2008,2009,2010,2011,2012,2016,2017,2018,2019,2020]:\n",
    "    # Initialize lists\n",
    "    for var in variables: data[var] = []\n",
    "    # Load monthly averages\n",
    "    for month in range(1, 13):\n",
    "        datestr = f'{year}{month:02d}'\n",
    "        prefix = f'/data/sallen/results/MEOPAR/v201905r/SalishSea_1m_{datestr}_{datestr}'\n",
    "        \n",
    "        # Load grazing variables\n",
    "        with xr.open_dataset(prefix + '_ptrc_T.nc') as ds:\n",
    "            q = np.ma.masked_where(tmask == 0, ds[var].isel(deptht=slice(None, 27), **slc).values * e3t).sum(axis=1).data #100 m \n",
    "            # change 27 to 40 for whole water column\n",
    "            q2 = q[0,:,:]\n",
    "            monthly_array_diatoms_depthint_slice[year-2007,month-1,:,:] = q2 #year2015 is index 0 along 1st dimension\n",
    "            for var in ['diatoms']:\n",
    "                data[var].append(np.ma.masked_where(tmask == 0, ds[var].isel(deptht=slice(None, 27), **slc).values * e3t).sum(axis=1).data)\n",
    "    \n",
    "    # Concatenate months\n",
    "    for var in variables: aggregates[var][year] = np.concatenate(data[var]).mean(axis=0)\n",
    "\n",
    "# Loop through years for wrap files\n",
    "for year in [2013,2014,2015]:\n",
    "    # Initialize lists\n",
    "    for var in variables: data[var] = []\n",
    "    # Load monthly averages\n",
    "    for month in range(1, 13):\n",
    "        datestr = f'{year}{month:02d}'\n",
    "        prefix = f'/data/sallen/results/MEOPAR/v201905r_wrap/SalishSea_1m_{datestr}_{datestr}'\n",
    "        \n",
    "        # Load grazing variables\n",
    "        with xr.open_dataset(prefix + '_ptrc_T.nc') as ds:\n",
    "            q = np.ma.masked_where(tmask == 0, ds[var].isel(deptht=slice(None, 27), **slc).values * e3t).sum(axis=1).data\n",
    "            q2 = q[0,:,:]\n",
    "            monthly_array_diatoms_depthint_slice[year-2007,month-1,:,:] = q2 #year2015 is index 0 along 1st dimension\n",
    "            for var in ['diatoms']:\n",
    "                data[var].append(np.ma.masked_where(tmask == 0, ds[var].isel(deptht=slice(None, 27), **slc).values * e3t).sum(axis=1).data)\n",
    "    \n",
    "    # Concatenate months\n",
    "    for var in variables: aggregates[var][year] = np.concatenate(data[var]).mean(axis=0)"
   ]
  },
  {
   "cell_type": "code",
   "execution_count": 9,
   "metadata": {},
   "outputs": [
    {
     "name": "stdout",
     "output_type": "stream",
     "text": [
      "(14, 12)\n"
     ]
    }
   ],
   "source": [
    "monthly_array_diatoms_depthint_slice[monthly_array_diatoms_depthint_slice == 0 ] = np.nan\n",
    "monthly_array_diatoms_depthint_slicemean = \\\n",
    "np.nanmean(np.nanmean(monthly_array_diatoms_depthint_slice, axis = 2),axis = 2)\n",
    "print(np.shape(monthly_array_diatoms_depthint_slicemean))"
   ]
  },
  {
   "cell_type": "code",
   "execution_count": 11,
   "metadata": {},
   "outputs": [],
   "source": [
    "np.savetxt(\"/ocean/rlovindeer/MOAD/analysis-raisha/SSmodel_outputs/Control/SSC201905_monthly_diatoms.csv\", monthly_array_diatoms_depthint_slicemean, delimiter = \",\")"
   ]
  },
  {
   "cell_type": "markdown",
   "metadata": {},
   "source": [
    "### Import monthly files for nanoflagellates"
   ]
  },
  {
   "cell_type": "code",
   "execution_count": 12,
   "metadata": {},
   "outputs": [],
   "source": [
    "\n",
    "#years, months, data\n",
    "monthly_array_flagellates_depthint_slice = np.zeros([14,12,50,50])\n",
    "# Load monthly averages\n",
    "mask = xr.open_dataset('/data/eolson/results/MEOPAR/NEMO-forcing-new/grid/mesh_mask201702.nc')\n",
    "slc = {'y': slice(450,500), 'x': slice(250,300)}\n",
    "e3t, tmask = [mask[var].isel(z=slice(None, 27),**slc).values for var in ('e3t_0', 'tmask')]\n",
    "years, variables = range(2007, 2021), ['flagellates']\n",
    "# flagellates_depthintorary list dict\n",
    "data = {}\n",
    "# Permanent aggregate dict\n",
    "aggregates = {var: {} for var in variables}\n",
    "monthlydat = {var: {} for var in variables}\n",
    "\n",
    "# Loop through years\n",
    "for year in [2007,2008,2009,2010,2011,2012,2016,2017,2018,2019,2020]:\n",
    "    # Initialize lists\n",
    "    for var in variables: data[var] = []\n",
    "    # Load monthly averages\n",
    "    for month in range(1, 13):\n",
    "        datestr = f'{year}{month:02d}'\n",
    "        prefix = f'/data/sallen/results/MEOPAR/v201905r/SalishSea_1m_{datestr}_{datestr}'\n",
    "        # Load grazing variables\n",
    "        with xr.open_dataset(prefix + '_ptrc_T.nc') as ds:\n",
    "            q = np.ma.masked_where(tmask == 0, ds[var].isel(deptht=slice(None, 27), **slc).values * e3t).sum(axis=1).data\n",
    "            q2 = q[0,:,:]\n",
    "            monthly_array_flagellates_depthint_slice[year-2007,month-1,:,:] = q2 #year2015 is index 0 along 1st dimension\n",
    "            for var in ['flagellates']:\n",
    "                data[var].append(np.ma.masked_where(tmask == 0, ds[var].isel(deptht=slice(None, 27), **slc).values * e3t).sum(axis=1).data)\n",
    "    # Concatenate months\n",
    "    for var in variables: aggregates[var][year] = np.concatenate(data[var]).mean(axis=0) \n",
    "\n",
    "# Loop through years for wrap files\n",
    "for year in [2013,2014,2015]:\n",
    "    # Initialize lists\n",
    "    for var in variables: data[var] = []\n",
    "    # Load monthly averages\n",
    "    for month in range(1, 13):\n",
    "        datestr = f'{year}{month:02d}'\n",
    "        prefix = f'/data/sallen/results/MEOPAR/v201905r_wrap/SalishSea_1m_{datestr}_{datestr}'\n",
    "        # Load grazing variables\n",
    "        with xr.open_dataset(prefix + '_ptrc_T.nc') as ds:\n",
    "            q = np.ma.masked_where(tmask == 0, ds[var].isel(deptht=slice(None, 27), **slc).values * e3t).sum(axis=1).data \n",
    "            q2 = q[0,:,:]\n",
    "            monthly_array_flagellates_depthint_slice[year-2007,month-1,:,:] = q2 #year2015 is index 0 along 1st dimension\n",
    "            for var in ['flagellates']:\n",
    "                data[var].append(np.ma.masked_where(tmask == 0, ds[var].isel(deptht=slice(None, 27), **slc).values * e3t).sum(axis=1).data)\n",
    "    # Concatenate months\n",
    "    for var in variables: aggregates[var][year] = np.concatenate(data[var]).mean(axis=0)"
   ]
  },
  {
   "cell_type": "code",
   "execution_count": 13,
   "metadata": {},
   "outputs": [
    {
     "name": "stdout",
     "output_type": "stream",
     "text": [
      "(14, 12)\n"
     ]
    }
   ],
   "source": [
    "monthly_array_flagellates_depthint_slice[monthly_array_flagellates_depthint_slice == 0 ] = np.nan\n",
    "monthly_array_flagellates_depthint_slicemean = \\\n",
    "np.nanmean(np.nanmean(monthly_array_flagellates_depthint_slice, axis = 2),axis = 2)\n",
    "print(np.shape(monthly_array_flagellates_depthint_slicemean))"
   ]
  },
  {
   "cell_type": "code",
   "execution_count": 14,
   "metadata": {},
   "outputs": [],
   "source": [
    "np.savetxt(\"/ocean/rlovindeer/MOAD/analysis-raisha/SSmodel_outputs/Control/SSC201905_monthly_flagellate.csv\", monthly_array_flagellates_depthint_slicemean, delimiter = \",\")"
   ]
  },
  {
   "cell_type": "code",
   "execution_count": 27,
   "metadata": {},
   "outputs": [],
   "source": [
    "ssc_diatom_monthly_mean = monthly_array_diatoms_depthint_slicemean.mean(axis=0).flatten()\n",
    "ssc_diatom_std = monthly_array_diatoms_depthint_slicemean.std(axis=0).flatten()\n",
    "\n",
    "ssc_flagellates_monthly_mean = monthly_array_flagellates_depthint_slicemean.mean(axis=0).flatten()\n",
    "ssc_flagellates_std = monthly_array_flagellates_depthint_slicemean.std(axis=0).flatten()\n"
   ]
  },
  {
   "cell_type": "code",
   "execution_count": 39,
   "metadata": {},
   "outputs": [
    {
     "data": {
      "image/png": "[encoded data removed]",
      "text/plain": [
       "<Figure size 1008x360 with 1 Axes>"
      ]
     },
     "metadata": {
      "needs_background": "light"
     },
     "output_type": "display_data"
    }
   ],
   "source": [
    "fig, ax = plt.subplots(figsize=(14, 5))\n",
    "\n",
    "fig.tight_layout(pad=2.5)\n",
    "\n",
    "bbox = {'boxstyle': 'round', 'facecolor': 'w', 'alpha': 1}\n",
    "cmap = plt.get_cmap('tab10')\n",
    "palette = [cmap(0), cmap(0.2), 'k', cmap(0.1), cmap(0.3)]\n",
    "xticks=np.arange(len(ssc_diatom_monthly_mean)) \n",
    "\n",
    "width=0.35\n",
    "\n",
    "ax.bar(xticks-0.2, ssc_flagellates_monthly_mean,width,yerr=ssc_flagellates_std,color='grey',ecolor='dimgrey',edgecolor='k',label='Nanoflagellates',alpha=0.5,capsize=3) #wheat\n",
    "#ax[0].fill_between(xticks,NPGO_C_F_mean,color='dimgrey',alpha=.2,label='Nanoflagellates') #wheat\n",
    "ax.bar(xticks + 0.2, ssc_diatom_monthly_mean,width,yerr=ssc_diatom_std,color='k',ecolor='grey',edgecolor='k',hatch='//',alpha=0.7,capsize=3,label='Diatoms') #lightgreen\n",
    "#ax[0].fill_between(xticks,NPGO_C_D_mean,color='black',hatch='//',alpha=.3,label='Diatoms') #lightgreen\n",
    "ax.set_title('SalishSeaCast Monthly Average 2007-2020',fontsize=16)\n",
    "ax.legend(frameon=False,loc=1,fontsize=14)\n",
    "ax.set_ylim(0,50)\n",
    "ax.set_xlim(-.5,11.5)\n",
    "ax.set_ylabel('Biomass (mmol N m$^{-2}$)',fontsize=14)\n",
    "ax.xaxis.set_tick_params(labelsize=14)\n",
    "ax.yaxis.set_tick_params(labelsize=14)\n",
    "#ax.text(-.25, 45, \"(a)\", color='k',fontsize=14)\n",
    "ax.set_xticks(xticks)\n",
    "ax.set_xticklabels(('Jan','Feb','Mar','Apr','May','Jun','Jul','Aug','Sep','Oct','Nov',\"Dec\"));"
   ]
  }
 ],
 "metadata": {
  "kernelspec": {
   "display_name": "salishsea-tools",
   "language": "python",
   "name": "python3"
  },
  "language_info": {
   "codemirror_mode": {
    "name": "ipython",
    "version": 3
   },
   "file_extension": ".py",
   "mimetype": "text/x-python",
   "name": "python",
   "nbconvert_exporter": "python",
   "pygments_lexer": "ipython3",
   "version": "3.9.7"
  }
 },
 "nbformat": 4,
 "nbformat_minor": 2
}
