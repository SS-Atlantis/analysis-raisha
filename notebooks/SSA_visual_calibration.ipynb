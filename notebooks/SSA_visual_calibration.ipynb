{
 "cells": [
  {
   "cell_type": "code",
   "execution_count": null,
   "id": "19568bc7-c13d-4df7-b892-9a2dfcb19af8",
   "metadata": {},
   "outputs": [],
   "source": [
    "## Each of these sets of code opens a new shiny web app and requires ReactiveAtlantis lib\n",
    "\n",
    "library(ReactiveAtlantis)\n",
    "setwd(\"/ocean/rlovindeer/MOAD/analysis-raisha/SSmodel_outputs/\")"
   ]
  },
  {
   "cell_type": "code",
   "execution_count": null,
   "id": "cdbcc8a0-15ec-4560-958e-5e657d230edb",
   "metadata": {},
   "outputs": [],
   "source": [
    "# Comparing two sets of runs\n",
    "\n",
    "nc.out.current <- 'output-25yr/outputSalishSea.nc'\n",
    "nc.out.previous <- 'output-20yr/outputSalishSea.nc'\n",
    "groups.csv <- '/ocean/rlovindeer/Atlantis/salish-sea-atlantis-model/SS_grps.csv'\n",
    "bgm.file <- '/ocean/rlovindeer/Atlantis/salish-sea-atlantis-model/SS_xy.bgm'\n",
    "cum.depths <- c(0, 25, 50, 100, 250, 400, 700)\n",
    "compare(nc.out.current, nc.out.old = nc.out.previous, grp.csv = groups.csv, bgm.file=bgm.file, cum.depths=cum.depths)"
   ]
  },
  {
   "cell_type": "code",
   "execution_count": null,
   "id": "1077ab46-8268-4a3d-b21c-704f4415ad8a",
   "metadata": {},
   "outputs": [],
   "source": [
    "# Examining growth of primary producers per box\n",
    "\n",
    "nc.initial <- '/ocean/rlovindeer/Atlantis/salish-sea-atlantis-model/SS_init.nc'\n",
    "nc.current <- 'output-25yr/outputSalishSea.nc'\n",
    "grp.csv <- '/ocean/rlovindeer/Atlantis/salish-sea-atlantis-model/SS_grps.csv'\n",
    "prm.file <- '/ocean/rlovindeer/Atlantis/salish-sea-atlantis-model/02SS_Biology.prm'\n",
    "growth.pp(nc.initial, grp.csv, prm.file, nc.current)"
   ]
  },
  {
   "cell_type": "code",
   "execution_count": null,
   "id": "18041e33-b86b-4b74-b404-a43eaf41a7ed",
   "metadata": {},
   "outputs": [],
   "source": [
    "# Examining food web structure\n",
    "\n",
    "grp.csv <- '/ocean/rlovindeer/Atlantis/salish-sea-atlantis-model/SS_grps.csv'\n",
    "prm.file <- '/ocean/rlovindeer/Atlantis/salish-sea-atlantis-model/02SS_Biology.prm'\n",
    "diet.file <- 'output-25yr/outputSalishSeaDietCheck.txt'\n",
    "food.web(diet.file, grp.csv)\n",
    "food.web(diet.file, grp.file, diet.file.bypol)"
   ]
  },
  {
   "cell_type": "code",
   "execution_count": null,
   "id": "2ba7e925-cf6f-45b6-a279-bf0074098248",
   "metadata": {},
   "outputs": [],
   "source": [
    "# Examining predation (without age structure)\n",
    "\n",
    "biom        <- 'output-25yr/outputSalishSeaBiomIndx.txt'\n",
    "diet.file   <- 'output-25yr/outputSalishSeaDietCheck.txt'\n",
    "grp.csv     <- '/ocean/rlovindeer/Atlantis/salish-sea-atlantis-model/SS_grps.csv'\n",
    "predation(biom, grp.csv, diet.file, bio.age = NULL)"
   ]
  },
  {
   "cell_type": "code",
   "execution_count": null,
   "id": "79d16150-d23d-4ba1-8db2-3d311508a9f8",
   "metadata": {},
   "outputs": [],
   "source": [
    "# Examining predation by age\n",
    "\n",
    "biom        <- 'output-25yr/outputSalishSeaBiomIndx.txt'\n",
    "diet.file   <- 'output-25yr/outputSalishSeaDietCheck.txt'\n",
    "bio.age     <- 'output-25yr/outputSalishSeaAgeBiomIndx.txt'\n",
    "grp.csv     <- '/ocean/rlovindeer/Atlantis/salish-sea-atlantis-model/SS_grps.csv'\n",
    "predation(biom, grp.csv, diet.file, bio.age)"
   ]
  },
  {
   "cell_type": "code",
   "execution_count": null,
   "id": "668bb105-823e-48dc-9dd3-7fb5ee5bec4b",
   "metadata": {},
   "outputs": [],
   "source": []
  }
 ],
 "metadata": {
  "kernelspec": {
   "display_name": "R",
   "language": "R",
   "name": "ir"
  },
  "language_info": {
   "codemirror_mode": "r",
   "file_extension": ".r",
   "mimetype": "text/x-r-source",
   "name": "R",
   "pygments_lexer": "r",
   "version": "4.0.5"
  }
 },
 "nbformat": 4,
 "nbformat_minor": 5
}
