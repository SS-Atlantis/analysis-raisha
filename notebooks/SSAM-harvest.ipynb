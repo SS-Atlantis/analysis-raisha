{
 "cells": [
  {
   "attachments": {},
   "cell_type": "markdown",
   "metadata": {},
   "source": [
    "Fishing harvest parameters for the Salish Sea Atlantis Model"
   ]
  },
  {
   "cell_type": "code",
   "execution_count": 13,
   "metadata": {},
   "outputs": [],
   "source": [
    "import os\n",
    "import numpy as np\n",
    "import requests\n",
    "import geopandas as gpd\n",
    "import pandas as pd\n",
    "import matplotlib.pyplot as plt\n",
    "from netCDF4 import Dataset\n",
    "from shapely.geometry import Point\n",
    "import download_from_url"
   ]
  },
  {
   "cell_type": "markdown",
   "metadata": {},
   "source": [
    "Collect fisheries landing data from 1990 to 2022 from DFO"
   ]
  },
  {
   "cell_type": "code",
   "execution_count": 14,
   "metadata": {},
   "outputs": [],
   "source": [
    "def download_file(url, save_path):\n",
    "    \n",
    "    try:\n",
    "        # Send an HTTP GET request to the URL\n",
    "        response = requests.get(url, stream=True)\n",
    "        response.raise_for_status()  # Raise an error for bad status codes\n",
    "        \n",
    "        # Save the file in chunks\n",
    "        with open(save_path, 'wb') as file:\n",
    "            for chunk in response.iter_content(chunk_size=8192):\n",
    "                file.write(chunk)\n",
    "        \n",
    "        print(f\"File successfully downloaded and saved to {save_path}\")\n",
    "    except requests.exceptions.RequestException as e:\n",
    "        print(f\"An error occurred: {e}\")"
   ]
  },
  {
   "cell_type": "code",
   "execution_count": 17,
   "metadata": {},
   "outputs": [
    {
     "name": "stdout",
     "output_type": "stream",
     "text": [
      "File successfully downloaded and saved to /ocean/rlovindeer/Atlantis/Fisheries-data/Seafisheries-landings1990.xls\n",
      "File successfully downloaded and saved to /ocean/rlovindeer/Atlantis/Fisheries-data/Seafisheries-landings1991.xls\n",
      "File successfully downloaded and saved to /ocean/rlovindeer/Atlantis/Fisheries-data/Seafisheries-landings1992.xls\n",
      "File successfully downloaded and saved to /ocean/rlovindeer/Atlantis/Fisheries-data/Seafisheries-landings1993.xls\n",
      "File successfully downloaded and saved to /ocean/rlovindeer/Atlantis/Fisheries-data/Seafisheries-landings1994.xls\n",
      "File successfully downloaded and saved to /ocean/rlovindeer/Atlantis/Fisheries-data/Seafisheries-landings1995.xls\n",
      "File successfully downloaded and saved to /ocean/rlovindeer/Atlantis/Fisheries-data/Seafisheries-landings1996.xls\n",
      "File successfully downloaded and saved to /ocean/rlovindeer/Atlantis/Fisheries-data/Seafisheries-landings1997.xls\n",
      "File successfully downloaded and saved to /ocean/rlovindeer/Atlantis/Fisheries-data/Seafisheries-landings1998.xls\n",
      "File successfully downloaded and saved to /ocean/rlovindeer/Atlantis/Fisheries-data/Seafisheries-landings1999.xls\n",
      "File successfully downloaded and saved to /ocean/rlovindeer/Atlantis/Fisheries-data/Seafisheries-landings2000.xls\n",
      "File successfully downloaded and saved to /ocean/rlovindeer/Atlantis/Fisheries-data/Seafisheries-landings2001.xls\n",
      "File successfully downloaded and saved to /ocean/rlovindeer/Atlantis/Fisheries-data/Seafisheries-landings2002.xls\n",
      "File successfully downloaded and saved to /ocean/rlovindeer/Atlantis/Fisheries-data/Seafisheries-landings2003.xls\n",
      "File successfully downloaded and saved to /ocean/rlovindeer/Atlantis/Fisheries-data/Seafisheries-landings2004.xls\n",
      "File successfully downloaded and saved to /ocean/rlovindeer/Atlantis/Fisheries-data/Seafisheries-landings2005.xls\n",
      "File successfully downloaded and saved to /ocean/rlovindeer/Atlantis/Fisheries-data/Seafisheries-landings2006.xls\n",
      "File successfully downloaded and saved to /ocean/rlovindeer/Atlantis/Fisheries-data/Seafisheries-landings2007.xls\n",
      "File successfully downloaded and saved to /ocean/rlovindeer/Atlantis/Fisheries-data/Seafisheries-landings2008.xls\n",
      "File successfully downloaded and saved to /ocean/rlovindeer/Atlantis/Fisheries-data/Seafisheries-landings2009.xls\n",
      "File successfully downloaded and saved to /ocean/rlovindeer/Atlantis/Fisheries-data/Seafisheries-landings2010.xls\n",
      "File successfully downloaded and saved to /ocean/rlovindeer/Atlantis/Fisheries-data/Seafisheries-landings2011.xls\n",
      "File successfully downloaded and saved to /ocean/rlovindeer/Atlantis/Fisheries-data/Seafisheries-landings2012.xls\n",
      "File successfully downloaded and saved to /ocean/rlovindeer/Atlantis/Fisheries-data/Seafisheries-landings2013.xls\n",
      "File successfully downloaded and saved to /ocean/rlovindeer/Atlantis/Fisheries-data/Seafisheries-landings2014.xls\n",
      "File successfully downloaded and saved to /ocean/rlovindeer/Atlantis/Fisheries-data/Seafisheries-landings2015.xls\n",
      "File successfully downloaded and saved to /ocean/rlovindeer/Atlantis/Fisheries-data/Seafisheries-landings2016.xls\n",
      "File successfully downloaded and saved to /ocean/rlovindeer/Atlantis/Fisheries-data/Seafisheries-landings2017.xls\n",
      "File successfully downloaded and saved to /ocean/rlovindeer/Atlantis/Fisheries-data/Seafisheries-landings2018.xls\n",
      "File successfully downloaded and saved to /ocean/rlovindeer/Atlantis/Fisheries-data/Seafisheries-landings2019.xls\n",
      "File successfully downloaded and saved to /ocean/rlovindeer/Atlantis/Fisheries-data/Seafisheries-landings2020.xls\n",
      "File successfully downloaded and saved to /ocean/rlovindeer/Atlantis/Fisheries-data/Seafisheries-landings2021.xls\n",
      "File successfully downloaded and saved to /ocean/rlovindeer/Atlantis/Fisheries-data/Seafisheries-landings2022.xls\n"
     ]
    }
   ],
   "source": [
    "for year in range (1990, 2023):\n",
    "    save_path = \"/ocean/rlovindeer/Atlantis/Fisheries-data/Seafisheries-landings\"+str(year)+\".xls\"\n",
    "    url = \"https://www.dfo-mpo.gc.ca/stats/commercial/land-debarq/sea-maritimes/xls/s\"+str(year)+\"pq_e.xls\"\n",
    "    download_file(url, save_path)"
   ]
  }
 ],
 "metadata": {
  "interpreter": {
   "hash": "e4d84b090d0c7c6778fa197aacf5543338ee30c87f3fb579a323dc77be78ea57"
  },
  "kernelspec": {
   "display_name": "Python 3.8.10 ('parcels-dev')",
   "language": "python",
   "name": "python3"
  },
  "language_info": {
   "codemirror_mode": {
    "name": "ipython",
    "version": 3
   },
   "file_extension": ".py",
   "mimetype": "text/x-python",
   "name": "python",
   "nbconvert_exporter": "python",
   "pygments_lexer": "ipython3",
   "version": "3.9.7"
  },
  "orig_nbformat": 4
 },
 "nbformat": 4,
 "nbformat_minor": 2
}
