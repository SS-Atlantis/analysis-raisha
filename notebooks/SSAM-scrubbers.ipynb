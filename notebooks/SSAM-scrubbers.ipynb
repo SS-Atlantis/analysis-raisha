{
 "cells": [
  {
   "cell_type": "markdown",
   "metadata": {},
   "source": [
    "Converting PAH as Phenanthrene Equivalence (PAHphe in µg) from ship scrubber discharge data for the Salish Sea for 2019 into Salish Sea Atlantis contaminant forcing files of Phenanthrene (mg/m^3). Discharge data provided by Environment & Climate Change Canada (ECCC). "
   ]
  },
  {
   "cell_type": "code",
   "execution_count": 1,
   "metadata": {},
   "outputs": [],
   "source": [
    "import os\n",
    "import xarray as xr\n",
    "import numpy as np\n",
    "import geopandas as gpd\n",
    "import pandas as pd\n",
    "from netCDF4 import Dataset\n",
    "from shapely.geometry import Point"
   ]
  },
  {
   "cell_type": "code",
   "execution_count": 2,
   "metadata": {},
   "outputs": [],
   "source": [
    "ssam_shapefile = \"/ocean/rlovindeer/Atlantis/ssam_oceanparcels/SalishSea/SalishSea_July172019_2/SalishSea_July172019.shp\"\n",
    "ssam = gpd.read_file(ssam_shapefile)\n",
    "box_depth = ssam['BOTZ']\n",
    "box_area = ssam['AREA']\n",
    "box_volume = box_area * box_depth #m^3\n",
    "\n",
    "numPolygons = 130\n",
    "numLayers = 7"
   ]
  },
  {
   "cell_type": "code",
   "execution_count": 50,
   "metadata": {},
   "outputs": [],
   "source": [
    "scrubber_data_path = '/ocean/rlovindeer/Atlantis/ShipScrubber/MEIT_2019_Data_SSAMDomain.csv'\n",
    "scrubberdf = pd.read_csv(scrubber_data_path)\n",
    "scrubberdf = scrubberdf.sort_values(by='date_time')"
   ]
  },
  {
   "cell_type": "code",
   "execution_count": 72,
   "metadata": {},
   "outputs": [
    {
     "data": {
      "text/plain": [
       "398074"
      ]
     },
     "execution_count": 72,
     "metadata": {},
     "output_type": "execute_result"
    }
   ],
   "source": [
    "len(scrubberdf.lat)"
   ]
  },
  {
   "cell_type": "code",
   "execution_count": null,
   "metadata": {},
   "outputs": [],
   "source": [
    "for i in range(1, len(scrubberdf.lat)):\n",
    "\n",
    "    if scrubberdf.BOX_ID([i]-1) == scrubberdf.BOX_ID([i]) and scrubberdf.date_time([i]-1) == scrubberdf.date_time([i]),\n",
    "    scrubberdf.PAHphe([i]-1) + scrubberdf.PAHphe[(i)]\n",
    "\n",
    "    "
   ]
  },
  {
   "cell_type": "code",
   "execution_count": 34,
   "metadata": {},
   "outputs": [],
   "source": [
    "#scrubberdf.shape\n",
    "#discharge = (scrubberdf.PAHphe * 0.001)/(scrubberdf.ww_tonnes * 1000) #mg # This yields a constant, 0.00264\n",
    "PAHphe = scrubberdf.PAHphe * 0.001 #mg\n",
    "lat = scrubberdf.lat\n",
    "lon = scrubberdf.long\n",
    "time = scrubberdf.date_time"
   ]
  },
  {
   "cell_type": "code",
   "execution_count": 57,
   "metadata": {},
   "outputs": [],
   "source": [
    "minDate = time[0]\n",
    "maxDate = time[(time.shape[0]-1)]"
   ]
  },
  {
   "cell_type": "code",
   "execution_count": 42,
   "metadata": {},
   "outputs": [
    {
     "data": {
      "image/png": "[encoded data removed]",
      "text/plain": [
       "<Figure size 1008x216 with 1 Axes>"
      ]
     },
     "metadata": {
      "needs_background": "light"
     },
     "output_type": "display_data"
    }
   ],
   "source": [
    "import matplotlib.pyplot as plt\n",
    "fig, ax = plt.subplots(figsize = (14,3))\n",
    "ax.plot(PAHphe, '.')\n",
    "ax.set_title('PAH as Phenanthrene Equivalence (mg)', fontsize = 14)\n",
    "ax.set_ylabel('PAHphe (mg)')\n",
    "ax.tick_params(labelsize=12)"
   ]
  },
  {
   "cell_type": "code",
   "execution_count": 43,
   "metadata": {},
   "outputs": [],
   "source": [
    "# Discharge release times\n",
    "release_start = '2019-01-01'\n",
    "release_end = '2091-12-31'\n",
    "days_from_1950 = (2019-1950)*365"
   ]
  },
  {
   "cell_type": "code",
   "execution_count": 44,
   "metadata": {},
   "outputs": [],
   "source": [
    "# Atlantis time steps\n",
    "outputDT = 43100.00\n",
    "stepsPerDay = int(86400.0/ outputDT)"
   ]
  },
  {
   "cell_type": "code",
   "execution_count": null,
   "metadata": {},
   "outputs": [],
   "source": [
    "# Create netcdf forcing file\n",
    "\n",
    "netcdfFileName = \"Atlantis_Scrubber_PAH_2019.nc\"\n",
    "try:\n",
    "    os.remove(netcdfFileName)\n",
    "except:\n",
    "    pass\n",
    "ncfile = Dataset(netcdfFileName, \"w\", format=\"NETCDF4\", clobber=True)\n",
    "Dataset.set_fill_on(ncfile)\n",
    "\n",
    "# Dimensions\n",
    "time = ncfile.createDimension(\"t\", None)\n",
    "b = ncfile.createDimension(\"b\", numPolygons)\n",
    "z = ncfile.createDimension(\"z\", numLayers)\n",
    "\n",
    "# Variables\n",
    "t = ncfile.createVariable(\"t\",np.float64, (\"t\",))\n",
    "Phenanthrene = ncfile.createVariable(\"Phenanthrene\",np.float64,(\"t\", \"b\", \"z\"))\n",
    "\n",
    "# Attributes\n",
    "Phenanthrene.units = \"mgPAH/m^3\"\n",
    "Phenanthrene.long_name = \"Phenanthrene\"\n",
    "Phenanthrene.missing_value = 0.0000\n",
    "Phenanthrene.valid_min = 0.0000\n",
    "Phenanthrene.valid_max = 100000000.0\n",
    "\n",
    "#times.units = \"seconds since \" + d\n",
    "t.units = \"seconds since 1950-01-01 00:00:00 +10\"\n",
    "t.dt = outputDT\n",
    "t.long_name = \"time\""
   ]
  },
  {
   "cell_type": "code",
   "execution_count": null,
   "metadata": {},
   "outputs": [],
   "source": [
    "# Populate Variables\n",
    "seconds2019 = np.datetime64(maxDate) - np.datetime64(minDate)\n",
    "numSteps = seconds2019/outputDT\n",
    "numSteps = numSteps.astype(int)\n",
    "timeData = np.arange(0,(numSteps)*outputDT,outputDT)\n",
    "t[:] = timeData\n",
    "\n",
    "DataFiller = np.zeros((numSteps, numPolygons, numLayers))"
   ]
  },
  {
   "cell_type": "code",
   "execution_count": null,
   "metadata": {},
   "outputs": [],
   "source": [
    "Phenanthrene[:,:,:] = DataFiller\n",
    "\n",
    "ncfile.close()"
   ]
  }
 ],
 "metadata": {
  "interpreter": {
   "hash": "e4d84b090d0c7c6778fa197aacf5543338ee30c87f3fb579a323dc77be78ea57"
  },
  "kernelspec": {
   "display_name": "Python 3.8.10 ('parcels-dev')",
   "language": "python",
   "name": "python3"
  },
  "language_info": {
   "codemirror_mode": {
    "name": "ipython",
    "version": 3
   },
   "file_extension": ".py",
   "mimetype": "text/x-python",
   "name": "python",
   "nbconvert_exporter": "python",
   "pygments_lexer": "ipython3",
   "version": "3.8.10"
  },
  "orig_nbformat": 4
 },
 "nbformat": 4,
 "nbformat_minor": 2
}
