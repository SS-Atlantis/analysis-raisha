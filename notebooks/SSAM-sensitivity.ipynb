{
 "cells": [
  {
   "attachments": {},
   "cell_type": "markdown",
   "metadata": {},
   "source": [
    "### Calculating the sensitivity of SSAM output to small fluctuations in input\n",
    "Quantifying differences in the output files of Salish Sea Atlantis Model simulations with small differences in input"
   ]
  },
  {
   "cell_type": "code",
   "execution_count": 1,
   "metadata": {},
   "outputs": [],
   "source": [
    "import xarray as xr\n",
    "import numpy as np\n",
    "import pandas as pd\n",
    "from pathlib import Path\n",
    "import matplotlib.cm as cm\n",
    "import matplotlib.pyplot as plt\n",
    "import ssam_groups as groups\n",
    "import ssam_plot as splot"
   ]
  },
  {
   "cell_type": "code",
   "execution_count": 2,
   "metadata": {},
   "outputs": [],
   "source": [
    "def my_rmsd_percent(one, two):\n",
    "    one_all_layers = one.sum(axis=2)\n",
    "    two_all_layers = two.sum(axis=2)\n",
    "    diff = abs(one_all_layers-two_all_layers)\n",
    "    diff_ratio = diff/two\n",
    "    diff_ratio_squared = diff_ratio**2\n",
    "    diff_ratio_squared_mean1 = diff_ratio_squared.mean(axis=1, skipna=True)\n",
    "    diff_ratio_squared_mean2 = diff_ratio_squared_mean1.mean(axis=0, skipna=True)\n",
    "    my_rmsd_percent = ((diff_ratio_squared_mean2)**(1/2))*100\n",
    "    return my_rmsd_percent"
   ]
  },
  {
   "cell_type": "code",
   "execution_count": 15,
   "metadata": {},
   "outputs": [],
   "source": [
    "scenario_path = Path('/ocean/rlovindeer/MOAD/analysis-raisha/SSmodel_outputs/Sensitivity/')\n",
    "\n",
    "control_file = \"/ocean/rlovindeer/MOAD/analysis-raisha/SSmodel_outputs/Sensitivity/control/outputSalishSea.nc\"\n",
    "control= xr.open_dataset(str(control_file), decode_cf=True)\n",
    "annual_control = control.resample(t='5Y').mean()"
   ]
  },
  {
   "cell_type": "code",
   "execution_count": 4,
   "metadata": {},
   "outputs": [
    {
     "data": {
      "text/plain": [
       "array([  1,   2,   3,   4,   5,   6,   7,   8,   9,  10,  11,  13,  14,\n",
       "        15,  16,  18,  19,  20,  21,  23,  26,  28,  31,  32,  33,  34,\n",
       "        35,  36,  37,  38,  39,  40,  54,  55,  57,  58,  60,  62,  63,\n",
       "        64,  66,  68,  72,  73,  74,  75,  79,  80,  81,  82,  83,  84,\n",
       "        85,  86,  88,  90,  91,  92,  94,  96,  98, 101, 102, 103, 104,\n",
       "       105, 106, 107, 108, 109, 111, 112, 113, 114, 115, 116, 117, 118,\n",
       "       119, 120, 121, 122, 123, 124])"
      ]
     },
     "execution_count": 4,
     "metadata": {},
     "output_type": "execute_result"
    }
   ],
   "source": [
    "# Masking land boxes\n",
    "Temps = np.ma.filled(control.Temp[1,:,5], np.nonzero)\n",
    "(ocean_boxes) = Temps.nonzero()\n",
    "ocean_boxes = ocean_boxes[0]\n",
    "ocean_boxes = ocean_boxes[1:ocean_boxes.size-1]\n",
    "ocean_boxes"
   ]
  },
  {
   "cell_type": "code",
   "execution_count": 33,
   "metadata": {},
   "outputs": [],
   "source": [
    "# test new equation\n",
    "scenario_test_path = '/ocean/rlovindeer/MOAD/analysis-raisha/SSmodel_outputs/Sensitivity/butterflyeffect_MAx11/outputSalishSea.nc'\n",
    "scenario_test = xr.open_dataset(str(scenario_test_path), decode_cf=True)\n",
    "\n",
    "one = control.variables['Diatom_N'][0:142][ocean_boxes][:]\n",
    "two = scenario_test.variables['Diatom_N'][:][ocean_boxes][:]"
   ]
  },
  {
   "cell_type": "code",
   "execution_count": 34,
   "metadata": {},
   "outputs": [
    {
     "ename": "TypeError",
     "evalue": "'Variable' object is not callable",
     "output_type": "error",
     "traceback": [
      "\u001b[0;31m---------------------------------------------------------------------------\u001b[0m",
      "\u001b[0;31mTypeError\u001b[0m                                 Traceback (most recent call last)",
      "\u001b[0;32m/tmp/ipykernel_1577214/3427101159.py\u001b[0m in \u001b[0;36m<module>\u001b[0;34m\u001b[0m\n\u001b[0;32m----> 1\u001b[0;31m \u001b[0mmy_rmsd_percent\u001b[0m\u001b[0;34m(\u001b[0m\u001b[0mone\u001b[0m\u001b[0;34m,\u001b[0m \u001b[0mtwo\u001b[0m\u001b[0;34m)\u001b[0m\u001b[0;34m\u001b[0m\u001b[0;34m\u001b[0m\u001b[0m\n\u001b[0m",
      "\u001b[0;31mTypeError\u001b[0m: 'Variable' object is not callable"
     ]
    }
   ],
   "source": [
    "my_rmsd_percent(one, two)"
   ]
  },
  {
   "cell_type": "code",
   "execution_count": 38,
   "metadata": {},
   "outputs": [],
   "source": [
    "#file_dict = {'BC', 'FHE', 'MA', 'ORR', 'PL', 'PS', 'WHB'}\n",
    "file_dict = {'MA', 'PS'}\n",
    "\n",
    "scens = sorted([p for p in scenario_path.glob('butterflyeffect_*x11/outputSalishSea.nc')])\n",
    "\n",
    "# measured opening of scenario files\n",
    "for path in scens:\n",
    "    nm = str(path).split(sep = '/')\n",
    "    name1 = nm[7].split(sep='_')\n",
    "    name = name1[1]\n",
    "\n",
    "    rmsd_data = pd.DataFrame({'scenario_file': [],\n",
    "                    'species': [],\n",
    "                    'RMSD%': []},)\n",
    "    scenario = xr.open_dataset(str(path), decode_cf=True)\n",
    "    annual_scenario = scenario.resample(t='5Y').mean()\n",
    "    for species in groups.all_pelagic:\n",
    "        two = annual_scenario.variables[groups.all_pelagic[species] +'_N'][:][ocean_boxes]\n",
    "        one = annual_control.variables[groups.all_pelagic[species] + '_N'][0:142][ocean_boxes]\n",
    "\n",
    "        rmsd_score = my_rmsd_percent(one, two)\n",
    "        rmsd_data.loc[len(rmsd_data.index)] = [name, species, float(rmsd_score)]                       \n",
    "    rmsd_data.to_csv(\"/ocean/rlovindeer/MOAD/analysis-raisha/SSmodel_outputs/Sensitivity/rmsd_percent_\"+name+\"_13Jul.csv\")"
   ]
  }
 ],
 "metadata": {
  "interpreter": {
   "hash": "e4d84b090d0c7c6778fa197aacf5543338ee30c87f3fb579a323dc77be78ea57"
  },
  "kernelspec": {
   "display_name": "Python 3.8.10 ('parcels-dev')",
   "language": "python",
   "name": "python3"
  },
  "language_info": {
   "codemirror_mode": {
    "name": "ipython",
    "version": 3
   },
   "file_extension": ".py",
   "mimetype": "text/x-python",
   "name": "python",
   "nbconvert_exporter": "python",
   "pygments_lexer": "ipython3",
   "version": "3.8.10"
  },
  "orig_nbformat": 4
 },
 "nbformat": 4,
 "nbformat_minor": 2
}
