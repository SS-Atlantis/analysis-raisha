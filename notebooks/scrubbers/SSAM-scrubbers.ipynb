{
 "cells": [
  {
   "cell_type": "markdown",
   "metadata": {},
   "source": [
    "Converting PAH as Phenanthrene Equivalence (PAHphe in µg) from ship scrubber discharge data for the Salish Sea for 2019 into Salish Sea Atlantis contaminant forcing files of Phenanthrene (mg/m^3). Discharge data provided by Environment & Climate Change Canada (ECCC). "
   ]
  },
  {
   "cell_type": "code",
   "execution_count": 1,
   "metadata": {},
   "outputs": [],
   "source": [
    "import os\n",
    "import numpy as np\n",
    "import geopandas as gpd\n",
    "import pandas as pd\n",
    "import matplotlib.pyplot as plt\n",
    "from netCDF4 import Dataset\n",
    "from shapely.geometry import Point"
   ]
  },
  {
   "cell_type": "code",
   "execution_count": 2,
   "metadata": {},
   "outputs": [],
   "source": [
    "ssam_shapefile = \"/ocean/rlovindeer/Atlantis/ssam_oceanparcels/SalishSea/SalishSea_July172019_2/SalishSea_July172019.shp\"\n",
    "ssam = gpd.read_file(ssam_shapefile)\n",
    "box_depth = ssam['BOTZ']\n",
    "box_area = ssam['AREA']\n",
    "box_id = ssam['BOX_ID']\n",
    "box_volume = box_area * box_depth #m^3\n",
    "\n",
    "numPolygons = 130\n",
    "numLayers = 7\n",
    "\n",
    "#box_id"
   ]
  },
  {
   "cell_type": "markdown",
   "metadata": {},
   "source": [
    "### Aggregating ECCC data by Atlantis boxes"
   ]
  },
  {
   "cell_type": "code",
   "execution_count": 3,
   "metadata": {},
   "outputs": [],
   "source": [
    "scrubber_data_path = '/ocean/rlovindeer/Atlantis/ShipScrubber/MEIT_2019_Data_SSAMDomain.csv'\n",
    "scrubberdf1 = pd.read_csv(scrubber_data_path)\n",
    "scrubberdf = scrubberdf1.sort_values(by='date_time')"
   ]
  },
  {
   "cell_type": "code",
   "execution_count": 4,
   "metadata": {},
   "outputs": [],
   "source": [
    "#discharge = (scrubberdf.PAHphe * 0.001)/(scrubberdf.ww_tonnes * 1000) # This yields a constant, 0.00264\n",
    "PAHphe = scrubberdf.PAHphe * 0.001 #mg\n",
    "lat = scrubberdf.lat\n",
    "lon = scrubberdf.long\n",
    "time = scrubberdf.date_time\n",
    "df_boxes = scrubberdf.BOX_ID"
   ]
  },
  {
   "cell_type": "code",
   "execution_count": 7,
   "metadata": {},
   "outputs": [
    {
     "data": {
      "image/png": "[encoded data removed]",
      "text/plain": [
       "<Figure size 1008x216 with 1 Axes>"
      ]
     },
     "metadata": {
      "needs_background": "light"
     },
     "output_type": "display_data"
    }
   ],
   "source": [
    "fig, ax = plt.subplots(figsize = (14,3))\n",
    "ax.plot(df_boxes, PAHphe, '.')\n",
    "ax.set_title('PAH as Phenanthrene Equivalence (mg)', fontsize = 14)\n",
    "ax.set_ylabel('PAHphe (mg)')\n",
    "ax.set_xlabel('BOX_ID')\n",
    "ax.tick_params(labelsize=12)"
   ]
  },
  {
   "cell_type": "code",
   "execution_count": 40,
   "metadata": {},
   "outputs": [
    {
     "name": "stdout",
     "output_type": "stream",
     "text": [
      "31506633 seconds\n",
      "numSteps = 731\n",
      "2019-12-31 16:00:00\n"
     ]
    }
   ],
   "source": [
    "# Min and Maax dates in data file\n",
    "minDate = '2019-01-01 00:09:27'\n",
    "maxDate = '2019-12-31 16:00:00'\n",
    "\n",
    "# Atlantis time steps\n",
    "outputDT = 43100.00\n",
    "stepsPerDay = int(86400.0/ outputDT)\n",
    "\n",
    "seconds2019 = np.datetime64(maxDate) - np.datetime64(minDate)\n",
    "print(seconds2019)\n",
    "numSteps = seconds2019/outputDT\n",
    "numSteps = numSteps.astype(int)\n",
    "print('numSteps = ' + str(numSteps))"
   ]
  },
  {
   "cell_type": "code",
   "execution_count": 83,
   "metadata": {},
   "outputs": [
    {
     "data": {
      "text/plain": [
       "48.4556838333"
      ]
     },
     "execution_count": 83,
     "metadata": {},
     "output_type": "execute_result"
    }
   ],
   "source": [
    "#len(scrubberdf.lat)\n",
    "scrubberdf.lat[0]"
   ]
  },
  {
   "cell_type": "code",
   "execution_count": null,
   "metadata": {},
   "outputs": [],
   "source": []
  },
  {
   "cell_type": "code",
   "execution_count": 84,
   "metadata": {},
   "outputs": [],
   "source": [
    "# aggregating data within the same box, date, and time\n",
    "\n",
    "current_BOX_ID = None\n",
    "current_date_time = None\n",
    "current_PAHphe = None\n",
    "\n",
    "dataAggregate = pd.DataFrame({'BOX_ID': [],\n",
    "                            'date_time': [],\n",
    "                            'PAHphe': []})\n",
    "\n",
    "for i in range(0, len(scrubberdf.lat)):\n",
    "    if scrubberdf.BOX_ID[i] == current_BOX_ID and scrubberdf.date_time[i] == current_date_time:\n",
    "        current_BOX_ID = scrubberdf.BOX_ID[i]\n",
    "        current_PAHphe = current_PAHphe + scrubberdf.PAHphe[i]\n",
    "        current_date_time = scrubberdf.date_time[i]\n",
    "    else: \n",
    "        current_PAHphe = scrubberdf.PAHphe[i]\n",
    "        current_BOX_ID = scrubberdf.BOX_ID[i]\n",
    "        current_date_time = scrubberdf.date_time[i]\n",
    "        dataAggregate.loc[len(dataAggregate.index)] = [current_BOX_ID, current_date_time, current_PAHphe]"
   ]
  },
  {
   "cell_type": "code",
   "execution_count": 85,
   "metadata": {},
   "outputs": [
    {
     "data": {
      "text/plain": [
       "(101602, 3)"
      ]
     },
     "execution_count": 85,
     "metadata": {},
     "output_type": "execute_result"
    }
   ],
   "source": [
    "dataAggregate.shape"
   ]
  },
  {
   "cell_type": "code",
   "execution_count": 88,
   "metadata": {},
   "outputs": [],
   "source": [
    "dataAggregate.to_csv(\"/ocean/rlovindeer/Atlantis/ShipScrubber/data_aggregated.csv\")"
   ]
  },
  {
   "cell_type": "markdown",
   "metadata": {},
   "source": [
    "### Creating netcdf input forcing file for Atlantis"
   ]
  },
  {
   "cell_type": "code",
   "execution_count": 75,
   "metadata": {},
   "outputs": [
    {
     "data": {
      "text/plain": [
       "101602"
      ]
     },
     "execution_count": 75,
     "metadata": {},
     "output_type": "execute_result"
    }
   ],
   "source": [
    "# creating Atlantis PAHphe netcdf input forcing file\n",
    "new_scrubber_data_path = '/ocean/rlovindeer/Atlantis/ShipScrubber/data_aggregated.csv'\n",
    "new_df = pd.read_csv(new_scrubber_data_path)\n",
    "new_df = new_df.sort_values(by='date_time')\n",
    "\n",
    "PAHphe = new_df.PAHphe * 0.001 #mg\n",
    "times = new_df.date_time\n",
    "box = new_df.BOX_ID\n",
    "numData = int(new_df.PAHphe.shape[0])\n",
    "numData"
   ]
  },
  {
   "cell_type": "markdown",
   "metadata": {},
   "source": [
    "1. aggregate all discharge between Atlantis time steps to consolidate timesteps to 43200 seconds per timestep\n",
    "1. for each discharge time step, put the discharge in the correct surface layer of each box\n",
    "1. arrange the data as t, b, z, for the netcdf file\n",
    "1. create netcdf file variables\n",
    "1. populate netcdf file with the data and save and close netcdf file"
   ]
  },
  {
   "cell_type": "code",
   "execution_count": 98,
   "metadata": {},
   "outputs": [
    {
     "name": "stdout",
     "output_type": "stream",
     "text": [
      "31506633 seconds\n"
     ]
    },
    {
     "data": {
      "text/plain": [
       "730"
      ]
     },
     "execution_count": 98,
     "metadata": {},
     "output_type": "execute_result"
    }
   ],
   "source": [
    "# Min and Maax dates in data file\n",
    "minDate = '2019-01-01 00:09:27'\n",
    "maxDate = '2019-12-31 16:00:00'\n",
    "\n",
    "# Atlantis time steps\n",
    "outputDT = 43200.00\n",
    "stepsPerDay = int(86400.0/ outputDT)\n",
    "\n",
    "seconds2019 = np.datetime64(maxDate) - np.datetime64(minDate)\n",
    "print(seconds2019)\n",
    "numSteps = seconds2019/outputDT\n",
    "numSteps = numSteps.astype(int) + 1\n",
    "numSteps"
   ]
  },
  {
   "cell_type": "code",
   "execution_count": 99,
   "metadata": {},
   "outputs": [],
   "source": [
    "# Create netcdf forcing file\n",
    "\n",
    "netcdfFileName = \"Atlantis_Scrubber_PAH_2019.nc\"\n",
    "try:\n",
    "    os.remove(netcdfFileName)\n",
    "except:\n",
    "    pass\n",
    "ncfile = Dataset(netcdfFileName, \"w\", format=\"NETCDF4\", clobber=True)\n",
    "Dataset.set_fill_on(ncfile)\n",
    "\n",
    "# Dimensions\n",
    "time = ncfile.createDimension(\"t\", None)\n",
    "b = ncfile.createDimension(\"b\", numPolygons)\n",
    "z = ncfile.createDimension(\"z\", numLayers)\n",
    "\n",
    "# Variables\n",
    "t = ncfile.createVariable(\"t\",np.float64, (\"t\",))\n",
    "Phenanthrene = ncfile.createVariable(\"Phenanthrene\",np.float64,(\"t\", \"b\", \"z\"))\n",
    "\n",
    "# Attributes\n",
    "Phenanthrene.units = \"mgPAH/m^3\"\n",
    "Phenanthrene.long_name = \"Phenanthrene\"\n",
    "Phenanthrene.missing_value = 0.0000\n",
    "Phenanthrene.valid_min = 0.0000\n",
    "Phenanthrene.valid_max = 100000000.0\n",
    "\n",
    "#times.units = \"seconds since \" + d\n",
    "t.units = \"seconds since 1950-01-01 00:00:00 +10\"\n",
    "t.dt = outputDT\n",
    "t.long_name = \"time\""
   ]
  },
  {
   "cell_type": "code",
   "execution_count": 100,
   "metadata": {},
   "outputs": [],
   "source": [
    "# Populate time variables\n",
    "seconds_from_1950 = (2019-1950)*(365*24*60*60)\n",
    "timeData = np.arange(0,(numSteps)*outputDT,outputDT)\n",
    "t[:] = timeData + seconds_from_1950"
   ]
  },
  {
   "cell_type": "code",
   "execution_count": 101,
   "metadata": {},
   "outputs": [],
   "source": [
    "# Populate discharge data variables\n",
    "\n",
    "DataFiller = np.zeros((numSteps, numPolygons, numLayers))\n",
    "\n",
    "for i in range(0,numData):\n",
    "    if times[i] == minDate:\n",
    "        stepNum = 0\n",
    "    else: \n",
    "        secs = (np.datetime64(times[i]) - np.datetime64(minDate))\n",
    "        stepNum = int(np.around(secs.astype(int)/outputDT))  \n",
    "\n",
    "    for targetIndex in range(0, numPolygons):\n",
    "        if box_id[targetIndex] == box[i]:\n",
    "            if box_volume[targetIndex] == 0:\n",
    "                target_volume = 0\n",
    "            else :\n",
    "                target_volume = 1 / box_volume[targetIndex]\n",
    "            \n",
    "            if box_depth[targetIndex] < 26:\n",
    "                layer = 0\n",
    "            elif box_depth[targetIndex] == 50:\n",
    "                layer = 1\n",
    "            elif box_depth[targetIndex] == 100:\n",
    "                layer = 2\n",
    "            elif box_depth[targetIndex] == 200:\n",
    "                layer = 3\n",
    "            elif box_depth[targetIndex] > 200 and box_depth[targetIndex] < 401:\n",
    "                layer = 4\n",
    "            elif box_depth[targetIndex] > 400:\n",
    "                layer = 5\n",
    "\n",
    "            DataFiller[stepNum][int(box[i])][layer] = DataFiller[stepNum][int(box[i])][layer] + (PAHphe[i] * target_volume)\n",
    "    "
   ]
  },
  {
   "cell_type": "code",
   "execution_count": 102,
   "metadata": {},
   "outputs": [],
   "source": [
    "Phenanthrene[:,:,:] = DataFiller\n",
    "\n",
    "ncfile.close()"
   ]
  }
 ],
 "metadata": {
  "interpreter": {
   "hash": "e4d84b090d0c7c6778fa197aacf5543338ee30c87f3fb579a323dc77be78ea57"
  },
  "kernelspec": {
   "display_name": "Python 3.8.10 ('parcels-dev')",
   "language": "python",
   "name": "python3"
  },
  "language_info": {
   "codemirror_mode": {
    "name": "ipython",
    "version": 3
   },
   "file_extension": ".py",
   "mimetype": "text/x-python",
   "name": "python",
   "nbconvert_exporter": "python",
   "pygments_lexer": "ipython3",
   "version": "3.8.10"
  },
  "orig_nbformat": 4
 },
 "nbformat": 4,
 "nbformat_minor": 2
}
