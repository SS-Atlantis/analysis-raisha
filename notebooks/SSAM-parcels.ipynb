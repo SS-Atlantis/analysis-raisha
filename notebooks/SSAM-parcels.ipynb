{
 "cells": [
  {
   "cell_type": "code",
   "execution_count": 1,
   "id": "028fd6a0-efca-456e-88a3-1c22367e39dd",
   "metadata": {},
   "outputs": [
    {
     "name": "stderr",
     "output_type": "stream",
     "text": [
      "INFO: Compiled ParcelsRandom ==> /tmp/parcels-2926/libparcels_random_9d3ec2e4-38d7-4054-a5e5-e97ab555d094.so\n"
     ]
    }
   ],
   "source": [
    "import sys\n",
    "import os\n",
    "import math\n",
    "from parcels import FieldSet, AdvectionRK4, ParticleSet, JITParticle, ParticleFile, plotTrajectoriesFile, Variable, ScipyParticle\n",
    "import numpy as np\n",
    "from datetime import timedelta\n",
    "sys.path.append('/ocean/rlovindeer/Atlantis/ssam_oceanparcels/Parcels_Utils/particle_tracking/parcels/')\n",
    "from util.file_plotting import bec_plotTrajectoriesFile\n",
    "from util.seed_particles import get_particles, get_release_times\n",
    "from util.parse_wildcards import parse_wildcards"
   ]
  },
  {
   "cell_type": "code",
   "execution_count": 2,
   "id": "d86204ff-e80c-4dbc-add5-a4b57f127582",
   "metadata": {},
   "outputs": [
    {
     "name": "stdin",
     "output_type": "stream",
     "text": [
      " 1\n"
     ]
    },
    {
     "name": "stdout",
     "output_type": "stream",
     "text": [
      "5b_Turn_Point_Diluted_bitumen\n"
     ]
    }
   ],
   "source": [
    "file_id = int(input( ))\n",
    "scenario = {1 : \"5b_Turn_Point_Diluted_bitumen\"}\n",
    "print(scenario[file_id])"
   ]
  },
  {
   "cell_type": "code",
   "execution_count": 3,
   "id": "afa21366-bac3-472e-bd11-9564c7d0b3da",
   "metadata": {},
   "outputs": [],
   "source": [
    "def DecayParticle(particle, fieldset, time):\n",
    "    dt = particle.dt\n",
    "    #print(dt)\n",
    "    field_decay_value = fieldset.decay\n",
    "    #print(field_decay_value)\n",
    "    decay = math.exp(-1.0 * dt/field_decay_value)\n",
    "    particle.decay_value = particle.decay_value * decay"
   ]
  },
  {
   "cell_type": "code",
   "execution_count": 4,
   "id": "e3c19fb9-3acc-442e-b1ea-62bcf5a3fb3b",
   "metadata": {},
   "outputs": [],
   "source": [
    "data_path = '/ocean/rlovindeer/Atlantis/Physics/Raw_Transport_Data/'\n",
    "grid_path = '/ocean/rlovindeer/Atlantis/Physics/Grids/'\n",
    "\n",
    "u_data_path = data_path + '2018-01*URaw_variables.nc'\n",
    "v_data_path = data_path + '2018-01*VRaw_variables.nc'\n",
    "u_paths = parse_wildcards(u_data_path, 'u')\n",
    "v_paths = parse_wildcards(v_data_path, 'v')"
   ]
  },
  {
   "cell_type": "code",
   "execution_count": 5,
   "id": "9b7edaaf-ba0a-4cdf-9548-5fc4df6ee215",
   "metadata": {},
   "outputs": [],
   "source": [
    "# Salish Sea NEMO Model Grid, Geo-location and Bathymetry, v17-02\n",
    "filenames = {'U': {'lon': grid_path + 'ubcSSnBathymetryV17-02_a29d_efc9_4047.nc',\n",
    "                   'lat': grid_path + 'ubcSSnBathymetryV17-02_a29d_efc9_4047.nc',\n",
    "                   'data': u_paths},\n",
    "             'V': {'lon': grid_path + 'ubcSSnBathymetryV17-02_a29d_efc9_4047.nc',\n",
    "                   'lat': grid_path + 'ubcSSnBathymetryV17-02_a29d_efc9_4047.nc',\n",
    "                   'data': v_paths}}"
   ]
  },
  {
   "cell_type": "code",
   "execution_count": 6,
   "id": "4b1726ac-2f0c-4495-a316-deaaf42cc0b6",
   "metadata": {},
   "outputs": [],
   "source": [
    "variables = {'U': 'uVelocity',\n",
    "             'V': 'vVelocity'}"
   ]
  },
  {
   "cell_type": "code",
   "execution_count": 15,
   "id": "cba42234-166a-42e3-bfed-596af8bc8f95",
   "metadata": {},
   "outputs": [],
   "source": [
    "dimensions = {'lon': 'longitude', 'lat': 'latitude', 'time': 'time'}\n",
    "fieldset = Fieldset.from_nemo(filenames, variables, dimensions, allow_time_extrapolation=True)\n",
    "fieldset.add_constant('decay', 1.0 * 3600.0)"
   ]
  },
  {
   "cell_type": "code",
   "execution_count": 40,
   "id": "ade7ce79-0e53-4e4b-accb-469574aa040e",
   "metadata": {},
   "outputs": [],
   "source": [
    "# wind data\n",
    "wind_path = '/ocean/rlovindeer/Atlantis/Physics/Wind/'\n",
    "u_wind_data_path = wind_path + '2018-01*_UWind_variables.nc'\n",
    "v_wind_data_path = wind_path + '2018-01*_VWind_variables.nc'\n",
    "\n",
    "wind_upaths = parse_wildcards(u_wind_data_path, 'u')\n",
    "wind_vpaths = parse_wildcards(v_wind_data_path, 'v')"
   ]
  },
  {
   "cell_type": "code",
   "execution_count": 41,
   "id": "d717d4f5-7dab-4a97-b145-8f6990b92b19",
   "metadata": {},
   "outputs": [],
   "source": [
    "# HRDPS, Salish Sea, Atmospheric Forcing Grid, Geo-location, v1\"\n",
    "wind_filenames = {'U': {'lon': grid_path + 'ubcSSaAtmosphereGridV1_0f03_6268_df4b.nc',\n",
    "                        'lat': grid_path + 'ubcSSaAtmosphereGridV1_0f03_6268_df4b.nc',\n",
    "                   'data': wind_upaths},\n",
    "                  'V': {'lon': grid_path + 'ubcSSaAtmosphereGridV1_0f03_6268_df4b.nc',\n",
    "                        'lat': grid_path + 'ubcSSaAtmosphereGridV1_0f03_6268_df4b.nc',\n",
    "                   'data': wind_vpaths}}"
   ]
  },
  {
   "cell_type": "code",
   "execution_count": 42,
   "id": "333015ea-aba7-4f75-b274-a1be40396220",
   "metadata": {},
   "outputs": [],
   "source": [
    "wind_variables = {'U': 'u_wind','V': 'v_wind'}"
   ]
  },
  {
   "cell_type": "code",
   "execution_count": 43,
   "id": "dd52afb9-f3f0-4eaf-a989-60735f6e71f6",
   "metadata": {},
   "outputs": [],
   "source": [
    "wind_dimensions = {'lon': 'longitude', 'lat': 'latitude', 'time': 'time'}"
   ]
  },
  {
   "cell_type": "code",
   "execution_count": 51,
   "id": "8425e00e-e1d6-4b9b-8393-5e7fb84292c1",
   "metadata": {},
   "outputs": [
    {
     "ename": "TypeError",
     "evalue": "__init__() got an unexpected keyword argument 'allow_time_extrapolation'",
     "output_type": "error",
     "traceback": [
      "\u001b[0;31m---------------------------------------------------------------------------\u001b[0m",
      "\u001b[0;31mTypeError\u001b[0m                                 Traceback (most recent call last)",
      "\u001b[0;32m<ipython-input-51-542f2094b82e>\u001b[0m in \u001b[0;36m<module>\u001b[0;34m\u001b[0m\n\u001b[0;32m----> 1\u001b[0;31m \u001b[0mwind_fieldset\u001b[0m \u001b[0;34m=\u001b[0m \u001b[0mFieldSet\u001b[0m\u001b[0;34m(\u001b[0m\u001b[0mwind_filenames\u001b[0m\u001b[0;34m,\u001b[0m \u001b[0mwind_variables\u001b[0m\u001b[0;34m,\u001b[0m \u001b[0mwind_dimensions\u001b[0m\u001b[0;34m,\u001b[0m \u001b[0mallow_time_extrapolation\u001b[0m\u001b[0;34m=\u001b[0m\u001b[0;32mTrue\u001b[0m\u001b[0;34m)\u001b[0m\u001b[0;34m\u001b[0m\u001b[0;34m\u001b[0m\u001b[0m\n\u001b[0m",
      "\u001b[0;31mTypeError\u001b[0m: __init__() got an unexpected keyword argument 'allow_time_extrapolation'"
     ]
    }
   ],
   "source": [
    "wind_fieldset = FieldSet.(wind_filenames, wind_variables, wind_dimensions, allow_time_extrapolation=True)"
   ]
  },
  {
   "cell_type": "code",
   "execution_count": 52,
   "id": "3dd76332-d33f-43b7-8904-42713cac2082",
   "metadata": {},
   "outputs": [],
   "source": [
    "# wind_percentage\n",
    "# We need to do a sensitivity analysis of the percetage of wind to be used here\n",
    "# wind_percentage = 0.01\n",
    "# fieldset_sum = FieldSet(U=fieldset.U+(wind_percentage * wind_fieldset.U), V=fieldset.V+(wind_percentage * wind_fieldset.V))"
   ]
  },
  {
   "cell_type": "code",
   "execution_count": 53,
   "id": "c45b3989-af6e-4a33-872b-ab3113689b25",
   "metadata": {},
   "outputs": [
    {
     "ename": "NameError",
     "evalue": "name 'wind_fieldset' is not defined",
     "output_type": "error",
     "traceback": [
      "\u001b[0;31m---------------------------------------------------------------------------\u001b[0m",
      "\u001b[0;31mNameError\u001b[0m                                 Traceback (most recent call last)",
      "\u001b[0;32m<ipython-input-53-2d183e7fef2a>\u001b[0m in \u001b[0;36m<module>\u001b[0;34m\u001b[0m\n\u001b[0;32m----> 1\u001b[0;31m \u001b[0mfieldset_sum\u001b[0m \u001b[0;34m=\u001b[0m \u001b[0mFieldSet\u001b[0m\u001b[0;34m(\u001b[0m\u001b[0mU\u001b[0m\u001b[0;34m=\u001b[0m\u001b[0mfieldset\u001b[0m\u001b[0;34m.\u001b[0m\u001b[0mU\u001b[0m\u001b[0;34m+\u001b[0m\u001b[0;34m(\u001b[0m\u001b[0mwind_fieldset\u001b[0m\u001b[0;34m.\u001b[0m\u001b[0mU\u001b[0m\u001b[0;34m)\u001b[0m\u001b[0;34m,\u001b[0m \u001b[0mV\u001b[0m\u001b[0;34m=\u001b[0m\u001b[0mfieldset\u001b[0m\u001b[0;34m.\u001b[0m\u001b[0mV\u001b[0m\u001b[0;34m+\u001b[0m\u001b[0;34m(\u001b[0m\u001b[0mwind_fieldset\u001b[0m\u001b[0;34m.\u001b[0m\u001b[0mV\u001b[0m\u001b[0;34m)\u001b[0m\u001b[0;34m)\u001b[0m\u001b[0;34m\u001b[0m\u001b[0;34m\u001b[0m\u001b[0m\n\u001b[0m",
      "\u001b[0;31mNameError\u001b[0m: name 'wind_fieldset' is not defined"
     ]
    }
   ],
   "source": [
    "fieldset_sum = FieldSet(U=fieldset.U+(wind_fieldset.U), V=fieldset.V+(wind_fieldset.V))"
   ]
  },
  {
   "cell_type": "code",
   "execution_count": 32,
   "id": "a4b8db19-a74b-4140-8196-2721961381ad",
   "metadata": {},
   "outputs": [],
   "source": [
    "# We might need to add in a beach check \n",
    "# work out how to stop the particles from, being moved by the wind data once they hit the land"
   ]
  },
  {
   "cell_type": "code",
   "execution_count": 33,
   "id": "82b6acce-b32a-467a-9f6c-dfcce0871ee3",
   "metadata": {},
   "outputs": [],
   "source": [
    "class MyParticle(ScipyParticle):\n",
    "    initial_time = -100\n",
    "    decay_value = Variable('decay_value', dtype=np.float32, initial=1.0)"
   ]
  },
  {
   "cell_type": "code",
   "execution_count": 41,
   "id": "1672c822-26e6-465d-9fc0-63c08deb1121",
   "metadata": {},
   "outputs": [],
   "source": [
    "# Particle Features\n",
    "num_particles_per_day = 100\n",
    "feature_release_index = 0\n",
    "input_shapefile_name = \"/ocean/rlovindeer/Atlantis/ssam_oceanparcels/SalishSea/Shape_Scenarios/\" + scenario[file_id] + \".shp\"\n",
    "release_depth = -0.1\n",
    "release_start_time = '2018-01-01'  ## winter start on December Summer Jul - Aug  ## ask Susan about when to do simulation\n",
    "release_end_time = '2018-01-02'"
   ]
  },
  {
   "cell_type": "code",
   "execution_count": 42,
   "id": "4b5366a6-22b7-4611-a9b5-450790c8c5c2",
   "metadata": {},
   "outputs": [],
   "source": [
    "release_start_time = np.datetime64(release_start_time)\n",
    "release_end_time = np.datetime64(release_end_time)\n",
    "time_origin = fieldset.U.grid.time_origin.time_origin"
   ]
  },
  {
   "cell_type": "code",
   "execution_count": 43,
   "id": "7b839340-1c35-48f9-b16a-0395be584574",
   "metadata": {},
   "outputs": [
    {
     "name": "stdout",
     "output_type": "stream",
     "text": [
      "-1800.0\n",
      "100\n",
      "100\n"
     ]
    }
   ],
   "source": [
    "[release_times, p, num_particles] = get_release_times(time_origin, num_particles_per_day, release_start_time, release_end_time)"
   ]
  },
  {
   "cell_type": "code",
   "execution_count": 44,
   "id": "d9ee8be7-56bb-4b0d-9909-a6ca04c43ca1",
   "metadata": {},
   "outputs": [
    {
     "name": "stdout",
     "output_type": "stream",
     "text": [
      "Using shapefile /ocean/rlovindeer/Atlantis/ssam_oceanparcels/SalishSea/Shape_Scenarios/5b_Turn_Point_Diluted_bitumen.shp\n",
      "Number of sites :  1\n",
      "Up to 0 of 1\n",
      "80\n",
      "100\n",
      "Sucessfully seeded particles\n",
      "\n",
      "num_attempts = 2\n",
      "[-123.29342181743614, -123.29308906571126, -123.29331391769186, -123.29342967807801, -123.29367213484532, -123.29322765621787, -123.29364427002147, -123.29273589844243, -123.29375256140635, -123.29293599436784, -123.2934616546045, -123.29338335532181, -123.29266825116741, -123.2943451858446, -123.2928542047529, -123.2929631309421, -123.29277942014751, -123.29292112731557, -123.29359648571949, -123.29295838609143, -123.29428289559226, -123.29323960240134, -123.29263010660989, -123.2934757478005, -123.29369012056402, -123.2939903332198, -123.29297097706512, -123.29360714377957, -123.29338257654626, -123.29448186484314, -123.29328417344985, -123.29329525299856, -123.29328557645024, -123.29263194828697, -123.29315580384579, -123.29380042864285, -123.2936453805364, -123.29312418205214, -123.29318591101311, -123.29317816870477, -123.29409867932186, -123.29388858774216, -123.29337905090317, -123.29364224141707, -123.29431535482252, -123.29410169093181, -123.29419682540824, -123.29321322779307, -123.29401286123893, -123.29358682289829, -123.29420150527672, -123.29429869416168, -123.29320678526507, -123.29378199410269, -123.29432524189242, -123.292843554629, -123.29256652551398, -123.2935821420407, -123.29330975340451, -123.2930409172852, -123.29395383051884, -123.29392716404895, -123.29388347808522, -123.29369091845497, -123.29439114945131, -123.29313450020526, -123.29338624153559, -123.29398866546212, -123.29347294833707, -123.29433156342249, -123.29336755145289, -123.29266085204884, -123.2938823065391, -123.29318462368407, -123.2942558487192, -123.29308679003576, -123.29394063225811, -123.29415306172, -123.29334641857439, -123.29451005349162, -123.29389585268001, -123.29312675746637, -123.29376394076542, -123.29447008698722, -123.29316065889701, -123.29361205075489, -123.29344628602179, -123.29408565047521, -123.2931932880378, -123.29399279969053, -123.29300268713632, -123.29387941014235, -123.29375251665566, -123.2933428102169, -123.29285734753353, -123.29326148075681, -123.29397236037437, -123.29292335077618, -123.2941481725554, -123.29261386113005]\n"
     ]
    }
   ],
   "source": [
    "pset = get_particles(fieldset, num_particles, input_shapefile_name, MyParticle, feature_release_index, release_times, release_depth)"
   ]
  },
  {
   "cell_type": "code",
   "execution_count": 45,
   "id": "25b9fb2a-d6ef-40b2-9a4c-857216418e4d",
   "metadata": {},
   "outputs": [],
   "source": [
    "decay_kernel = pset.Kernel(DecayParticle)\n",
    "my_kernel = AdvectionRK4 + decay_kernel"
   ]
  },
  {
   "cell_type": "code",
   "execution_count": 53,
   "id": "941f9964-6a1e-4f04-9d87-6996422a7529",
   "metadata": {},
   "outputs": [
    {
     "name": "stdout",
     "output_type": "stream",
     "text": [
      "Oil_disperse_5b_Turn_Point_Diluted_bitumen.nc\n"
     ]
    }
   ],
   "source": [
    "output_file_name = 'Oil_disperse' + scenario[file_id] + '.nc'\n",
    "print(output_file_name)"
   ]
  },
  {
   "cell_type": "code",
   "execution_count": 47,
   "id": "95d50dee-2c5a-496c-ab9c-798b1e31f8fc",
   "metadata": {},
   "outputs": [],
   "source": [
    "try:\n",
    "    os.system('rm ' + output_file_name)\n",
    "except:\n",
    "    pass"
   ]
  },
  {
   "cell_type": "code",
   "execution_count": 50,
   "id": "ca91b311-7297-479d-b17e-484906a1b675",
   "metadata": {},
   "outputs": [
    {
     "name": "stderr",
     "output_type": "stream",
     "text": [
      "Exception ignored in: <function ParticleFile.__del__ at 0x7f62ebfb8710>\n",
      "Traceback (most recent call last):\n",
      "  File \"/home/rlovindeer/conda_envs/atlantis-dev/lib/python3.7/site-packages/parcels/particlefile.py\", line 189, in __del__\n",
      "    self.close()\n",
      "  File \"/home/rlovindeer/conda_envs/atlantis-dev/lib/python3.7/site-packages/parcels/particlefile.py\", line 194, in close\n",
      "    self.export()\n",
      "  File \"/home/rlovindeer/conda_envs/atlantis-dev/lib/python3.7/site-packages/parcels/particlefile.py\", line 305, in export\n",
      "    pset_info_local = np.load(os.path.join(tempwritedir, 'pset_info.npy'), allow_pickle=True).item()\n",
      "  File \"/home/rlovindeer/conda_envs/atlantis-dev/lib/python3.7/site-packages/numpy/lib/npyio.py\", line 417, in load\n",
      "    fid = stack.enter_context(open(os_fspath(file), \"rb\"))\n",
      "FileNotFoundError: [Errno 2] No such file or directory: 'out-KKYHEAIG/0/pset_info.npy'\n",
      "INFO: Temporary output files are stored in out-KLHPNKWX.\n",
      "INFO:parcels.tools.loggers:Temporary output files are stored in out-KLHPNKWX.\n",
      "INFO: You can use \"parcels_convert_npydir_to_netcdf out-KLHPNKWX\" to convert these to a NetCDF file during the run.\n",
      "INFO:parcels.tools.loggers:You can use \"parcels_convert_npydir_to_netcdf out-KLHPNKWX\" to convert these to a NetCDF file during the run.\n",
      "100% (604800.0 of 604800.0) |############| Elapsed Time: 0:01:28 Time:  0:01:28\n"
     ]
    }
   ],
   "source": [
    "## Output properties\n",
    "output_file = pset.ParticleFile(name= output_file_name, outputdt = timedelta(minutes = 60))\n",
    "pset.execute(my_kernel,                 # the kernel (which defines how particles move)\n",
    "             runtime=timedelta(hours = 24*7),    # the total length of the run\n",
    "             dt = timedelta(minutes = 60),      # the timestep of the kernel\n",
    "             output_file = output_file)  # the file name and the time step of the outputs\n",
    "output_file.close()"
   ]
  },
  {
   "cell_type": "code",
   "execution_count": null,
   "id": "c7cf24d8-fd0a-4c14-b371-9ce1e53e3d55",
   "metadata": {},
   "outputs": [],
   "source": []
  }
 ],
 "metadata": {
  "kernelspec": {
   "display_name": "Python 3",
   "language": "python",
   "name": "python3"
  },
  "language_info": {
   "codemirror_mode": {
    "name": "ipython",
    "version": 3
   },
   "file_extension": ".py",
   "mimetype": "text/x-python",
   "name": "python",
   "nbconvert_exporter": "python",
   "pygments_lexer": "ipython3",
   "version": "3.7.10"
  }
 },
 "nbformat": 4,
 "nbformat_minor": 5
}
