{
 "cells": [
  {
   "cell_type": "markdown",
   "metadata": {},
   "source": [
    "Notebook to extract data from fprints to the log.txt file in Atlantis"
   ]
  },
  {
   "cell_type": "code",
   "execution_count": 1,
   "metadata": {},
   "outputs": [],
   "source": [
    "import re\n",
    "import pandas as pd\n",
    "import matplotlib.pyplot as plt"
   ]
  },
  {
   "cell_type": "code",
   "execution_count": 2,
   "metadata": {},
   "outputs": [],
   "source": [
    "folder_name = \"7a-EquationsPaper-90d-highFHEuptake\"\n",
    "with open(\"/ocean/rlovindeer/MOAD/analysis-raisha/SSmodel_outputs/Spills/\"+folder_name +\"/log.txt\", \"r\") as file:\n",
    "    row_text = file.readlines()"
   ]
  },
  {
   "cell_type": "code",
   "execution_count": 3,
   "metadata": {},
   "outputs": [
    {
     "data": {
      "image/png": "[encoded data removed]",
      "text/plain": [
       "<Figure size 432x288 with 1 Axes>"
      ]
     },
     "metadata": {
      "needs_background": "light"
     },
     "output_type": "display_data"
    }
   ],
   "source": [
    "# Read the log.txt file\n",
    "\n",
    "filename = \"FHE-kgrowth\"\n",
    "pattern = 'FHE_C_growth_corr'\n",
    "def extract_line_data(filename, pattern)\n",
    "    # First condition: keep rows with pattern\n",
    "    contaminant_row_data = [line for line in row_text if re.search(pattern, line)]\n",
    "\n",
    "    # Function to extract the desired words from each line\n",
    "    def extract_word(line, position):\n",
    "        words = line.split()\n",
    "        return words[position - 1] if len(words) >= position else None\n",
    "\n",
    "    # Extract data into lists\n",
    "    time = [float(extract_word(line, 2)) for line in contaminant_row_data]\n",
    "    group = [extract_word(line, 4) for line in contaminant_row_data]\n",
    "    cGroupLevel = [float(extract_word(line, 7)) for line in contaminant_row_data]\n",
    "    effect = [float(extract_word(line, 9)) for line in contaminant_row_data]\n",
    "\n",
    "    # Create a pandas DataFrame\n",
    "    contaminant_effect = pd.DataFrame({\n",
    "        'Time': time,\n",
    "        'Group': group,\n",
    "        'cGroupLevel': cGroupLevel,\n",
    "        'Effect': effect\n",
    "    })\n",
    "\n",
    "    # Plotting the data (optional, requires matplotlib)\n",
    "    plt.scatter(contaminant_effect['cGroupLevel'], contaminant_effect['Effect'])\n",
    "    plt.xlabel('cGroupLevel')\n",
    "    plt.ylabel('Effect')\n",
    "    plt.title(pattern)\n",
    "    plt.show()\n",
    "\n",
    "    # Save the data to a CSV file\n",
    "    contaminant_effect.to_csv(filename+\".csv\", index=False)"
   ]
  },
  {
   "cell_type": "code",
   "execution_count": 4,
   "metadata": {},
   "outputs": [
    {
     "data": {
      "image/png": "[encoded data removed]",
      "text/plain": [
       "<Figure size 432x288 with 1 Axes>"
      ]
     },
     "metadata": {
      "needs_background": "light"
     },
     "output_type": "display_data"
    }
   ],
   "source": [
    "filename = \"FHE-kreprod\"\n",
    "pattern = 'FHE_C_reprod_corr'\n",
    "\n",
    "# First condition: keep rows with pattern\n",
    "contaminant_row_data = [line for line in row_text if re.search(pattern, line)]\n",
    "\n",
    "# Function to extract the desired words from each line\n",
    "def extract_word(line, position):\n",
    "    words = line.split()\n",
    "    return words[position - 1] if len(words) >= position else None\n",
    "\n",
    "# Extract data into lists\n",
    "time = [float(extract_word(line, 2)) for line in contaminant_row_data]\n",
    "group = [extract_word(line, 4) for line in contaminant_row_data]\n",
    "contam = [extract_word(line, 5) for line in contaminant_row_data]\n",
    "cGroupLevel = [float(extract_word(line, 7)) for line in contaminant_row_data]\n",
    "effect = [float(extract_word(line, 9)) for line in contaminant_row_data]\n",
    "\n",
    "# Create a pandas DataFrame\n",
    "contaminant_effect = pd.DataFrame({\n",
    "    'Time': time,\n",
    "    'Group': group,\n",
    "    'Contaminant': contam,\n",
    "    'cGroupLevel': cGroupLevel,\n",
    "    'Effect': effect\n",
    "})\n",
    "\n",
    "# Save the data to a CSV file\n",
    "contaminant_effect.to_csv(filename+\".csv\", index=False)\n",
    "\n",
    "# Plotting the data (optional, requires matplotlib)\n",
    "plt.scatter(contaminant_effect['cGroupLevel'], contaminant_effect['Effect'])\n",
    "plt.xlabel('cGroupLevel')\n",
    "plt.ylabel('Effect')\n",
    "plt.title(pattern)\n",
    "plt.show()"
   ]
  },
  {
   "cell_type": "code",
   "execution_count": 5,
   "metadata": {},
   "outputs": [
    {
     "data": {
      "image/png": "[encoded data removed]",
      "text/plain": [
       "<Figure size 432x288 with 1 Axes>"
      ]
     },
     "metadata": {
      "needs_background": "light"
     },
     "output_type": "display_data"
    }
   ],
   "source": [
    "filename = \"FHE-Mcontam\"\n",
    "pattern = 'FHE_contaminantSpMort'\n",
    "\n",
    "# First condition: keep rows with pattern\n",
    "contaminant_row_data = [line for line in row_text if re.search(pattern, line)]\n",
    "\n",
    "# Function to extract the desired words from each line\n",
    "def extract_word(line, position):\n",
    "    words = line.split()\n",
    "    return words[position - 1] if len(words) >= position else None\n",
    "\n",
    "# Extract data into lists\n",
    "time = [float(extract_word(line, 2)) for line in contaminant_row_data]\n",
    "group = [extract_word(line, 4) for line in contaminant_row_data]\n",
    "contam = [extract_word(line, 5) for line in contaminant_row_data]\n",
    "cGroupLevel = [float(extract_word(line, 7)) for line in contaminant_row_data]\n",
    "effect = [float(extract_word(line, 9)) for line in contaminant_row_data]\n",
    "\n",
    "# Create a pandas DataFrame\n",
    "contaminant_effect = pd.DataFrame({\n",
    "    'Time': time,\n",
    "    'Group': group,\n",
    "    'Contaminant': contam,\n",
    "    'cGroupLevel': cGroupLevel,\n",
    "    'Effect': effect\n",
    "})\n",
    "\n",
    "# Save the data to a CSV file\n",
    "contaminant_effect.to_csv(filename+\".csv\", index=False)\n",
    "\n",
    "# Plotting the data (optional, requires matplotlib)\n",
    "plt.scatter(contaminant_effect['cGroupLevel'], contaminant_effect['Effect'])\n",
    "plt.xlabel('cGroupLevel')\n",
    "plt.ylabel('Effect')\n",
    "plt.title(pattern)\n",
    "plt.show()"
   ]
  }
 ],
 "metadata": {
  "interpreter": {
   "hash": "e4d84b090d0c7c6778fa197aacf5543338ee30c87f3fb579a323dc77be78ea57"
  },
  "kernelspec": {
   "display_name": "Python 3.8.10 ('parcels-dev')",
   "language": "python",
   "name": "python3"
  },
  "language_info": {
   "codemirror_mode": {
    "name": "ipython",
    "version": 3
   },
   "file_extension": ".py",
   "mimetype": "text/x-python",
   "name": "python",
   "nbconvert_exporter": "python",
   "pygments_lexer": "ipython3",
   "version": "3.8.10"
  },
  "orig_nbformat": 4
 },
 "nbformat": 4,
 "nbformat_minor": 2
}
