{
 "cells": [
  {
   "cell_type": "code",
   "execution_count": 2,
   "id": "19568bc7-c13d-4df7-b892-9a2dfcb19af8",
   "metadata": {},
   "outputs": [],
   "source": [
    "# Load ReactiveAtlantis lib\n",
    "\n",
    "library(ReactiveAtlantis)\n",
    "setwd(\"/ocean/rlovindeer/MOAD/analysis-raisha/SSmodel_outputs/\")"
   ]
  },
  {
   "cell_type": "code",
   "execution_count": null,
   "id": "668bb105-823e-48dc-9dd3-7fb5ee5bec4b",
   "metadata": {},
   "outputs": [],
   "source": [
    "# Assign parameters\n",
    "\n",
    "biom        <- 'output-25yr/outputSalishSeaBiomIndx.txt'\n",
    "diet.file   <- 'output-25yr/outputSalishSeaDietCheck.txt'\n",
    "grps.csv    <- '/ocean/rlovindeer/Atlantis/salish-sea-atlantis-model/SS_grps.csv'\n",
    "bio.age     <- 'output-25yr/outputSalishSeaAgeBiomIndx.txt'"
   ]
  },
  {
   "cell_type": "code",
   "execution_count": null,
   "id": "2ba7e925-cf6f-45b6-a279-bf0074098248",
   "metadata": {},
   "outputs": [],
   "source": [
    "# Examine predation without age structure [opens new shiny web app]\n",
    "\n",
    "predation(biom, grps.csv, diet.file, bio.age = NULL)"
   ]
  },
  {
   "cell_type": "code",
   "execution_count": null,
   "id": "79d16150-d23d-4ba1-8db2-3d311508a9f8",
   "metadata": {},
   "outputs": [],
   "source": [
    "# Examine predation by age [opens new shiny web app]\n",
    "\n",
    "predation(biom, grps.csv, diet.file, bio.age)"
   ]
  }
 ],
 "metadata": {
  "kernelspec": {
   "display_name": "R",
   "language": "R",
   "name": "ir"
  },
  "language_info": {
   "codemirror_mode": "r",
   "file_extension": ".r",
   "mimetype": "text/x-r-source",
   "name": "R",
   "pygments_lexer": "r",
   "version": "4.0.5"
  }
 },
 "nbformat": 4,
 "nbformat_minor": 5
}
