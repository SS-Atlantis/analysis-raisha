{
 "cells": [
  {
   "cell_type": "code",
   "execution_count": 2,
   "metadata": {
    "vscode": {
     "languageId": "r"
    }
   },
   "outputs": [
    {
     "name": "stderr",
     "output_type": "stream",
     "text": [
      "\n",
      "Attaching package: ‘dplyr’\n",
      "\n",
      "\n",
      "The following objects are masked from ‘package:stats’:\n",
      "\n",
      "    filter, lag\n",
      "\n",
      "\n",
      "The following objects are masked from ‘package:base’:\n",
      "\n",
      "    intersect, setdiff, setequal, union\n",
      "\n",
      "\n",
      "\n",
      "Attaching package: ‘DT’\n",
      "\n",
      "\n",
      "The following objects are masked from ‘package:shiny’:\n",
      "\n",
      "    dataTableOutput, renderDataTable\n",
      "\n",
      "\n"
     ]
    }
   ],
   "source": [
    "# Load required libraries and set working directory\n",
    "\n",
    "library(\"shiny\")\n",
    "library(\"dplyr\")\n",
    "library(\"DT\")\n",
    "library(\"ggplot2\")\n",
    "library(\"ncdf4\")\n",
    "library(\"stringr\")\n",
    "\n",
    "library(shinyrAtlantis)\n",
    "setwd(\"/ocean/rlovindeer/MOAD/analysis-raisha/SSmodel_outputs/5b_TurnPoint_20200701/\")"
   ]
  },
  {
   "cell_type": "code",
   "execution_count": 3,
   "metadata": {
    "vscode": {
     "languageId": "r"
    }
   },
   "outputs": [],
   "source": [
    "# Exploring model boxes\n",
    "\n",
    "bgm.file    <- 'SS_xy.bgm'\n",
    "obj <- make.sh.dist.object(bgm.file)\n",
    "#sh.dist(obj)"
   ]
  },
  {
   "cell_type": "code",
   "execution_count": 4,
   "metadata": {
    "vscode": {
     "languageId": "r"
    }
   },
   "outputs": [
    {
     "name": "stdout",
     "output_type": "stream",
     "text": [
      "Generating object (10 steps)\n",
      "1.  Extracting map data\n",
      "2.  Reading group summaries\n",
      "3.  Extracting general parameters\n",
      "4.  Extracting group parameters (this may take a few minutes)\n",
      "------------------------------------------------------------------------------------------------------------------------------------------------------------------------------------------------------------------------------------------------------------------\n",
      "5.  Extracting habitat parameters\n",
      "6.  Extracting distribution information\n"
     ]
    },
    {
     "name": "stderr",
     "output_type": "stream",
     "text": [
      "Warning message in make.prm.distributions(prm.file, Code, numboxes):\n",
      "“NAs introduced by coercion”\n",
      "Warning message in make.prm.distributions(prm.file, Code, numboxes):\n",
      "“NAs introduced by coercion”\n"
     ]
    },
    {
     "name": "stdout",
     "output_type": "stream",
     "text": [
      "7.  Extracting migration information\n"
     ]
    },
    {
     "name": "stderr",
     "output_type": "stream",
     "text": [
      "Warning message in make.prm.migration(prm.file, Code):\n",
      "“NAs introduced by coercion”\n"
     ]
    },
    {
     "name": "stdout",
     "output_type": "stream",
     "text": [
      "8.  Extracting prey availability (this may take a few minutes)\n",
      "----------------------------------------------------------\n",
      "9.  Extracting clearance information\n",
      "10. Extracting growth information\n",
      "11. Extracting refuge information\n"
     ]
    },
    {
     "name": "stderr",
     "output_type": "stream",
     "text": [
      "\n",
      "Listening on http://127.0.0.1:4755\n",
      "\n"
     ]
    }
   ],
   "source": [
    "# Biology parameters\n",
    "\n",
    "grp.file <- 'groups.csv'\n",
    "prm.file <- 'biology.prm'\n",
    "obj <- make.sh.prm.object(bgm.file, grp.file, prm.file)\n",
    "sh.prm(obj)"
   ]
  },
  {
   "cell_type": "code",
   "execution_count": 4,
   "metadata": {
    "vscode": {
     "languageId": "r"
    }
   },
   "outputs": [
    {
     "name": "stdout",
     "output_type": "stream",
     "text": [
      "-- Extracting map data\n",
      "-- Extracting cover variables\n",
      "-- Extracting additional variables (this may take a few minutes)\n"
     ]
    },
    {
     "name": "stderr",
     "output_type": "stream",
     "text": [
      "\n",
      "Listening on http://127.0.0.1:5882\n",
      "\n"
     ]
    }
   ],
   "source": [
    "# Initial Conditions\n",
    "\n",
    "nc.file <- 'init_conditions.nc'\n",
    "obj <- make.sh.init.object(bgm.file, nc.file)\n",
    "sh.init(obj)"
   ]
  }
 ],
 "metadata": {
  "kernelspec": {
   "display_name": "R",
   "language": "R",
   "name": "ir"
  },
  "language_info": {
   "codemirror_mode": "r",
   "file_extension": ".r",
   "mimetype": "text/x-r-source",
   "name": "R",
   "pygments_lexer": "r",
   "version": "4.1.1"
  },
  "orig_nbformat": 4
 },
 "nbformat": 4,
 "nbformat_minor": 2
}
