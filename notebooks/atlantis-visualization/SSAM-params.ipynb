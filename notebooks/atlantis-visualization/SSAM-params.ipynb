{
 "cells": [
  {
   "cell_type": "code",
   "execution_count": 1,
   "metadata": {
    "vscode": {
     "languageId": "r"
    }
   },
   "outputs": [
    {
     "name": "stderr",
     "output_type": "stream",
     "text": [
      "Warning message:\n",
      "“package ‘shiny’ was built under R version 4.1.3”\n",
      "\n",
      "Attaching package: ‘dplyr’\n",
      "\n",
      "\n",
      "The following objects are masked from ‘package:stats’:\n",
      "\n",
      "    filter, lag\n",
      "\n",
      "\n",
      "The following objects are masked from ‘package:base’:\n",
      "\n",
      "    intersect, setdiff, setequal, union\n",
      "\n",
      "\n",
      "\n",
      "Attaching package: ‘DT’\n",
      "\n",
      "\n",
      "The following objects are masked from ‘package:shiny’:\n",
      "\n",
      "    dataTableOutput, renderDataTable\n",
      "\n",
      "\n"
     ]
    }
   ],
   "source": [
    "# Load required libraries and set working directory\n",
    "\n",
    "library(\"shiny\")\n",
    "library(\"dplyr\")\n",
    "library(\"DT\")\n",
    "library(\"ggplot2\")\n",
    "library(\"ncdf4\")\n",
    "library(\"stringr\")\n",
    "\n",
    "library(shinyrAtlantis)"
   ]
  },
  {
   "cell_type": "code",
   "execution_count": 2,
   "metadata": {
    "vscode": {
     "languageId": "r"
    }
   },
   "outputs": [],
   "source": [
    "setwd(\"/ocean/rlovindeer/MOAD/analysis-raisha/SSmodel_outputs/LivingLabs/climate_RCP85_3/\")"
   ]
  },
  {
   "cell_type": "code",
   "execution_count": 3,
   "metadata": {
    "vscode": {
     "languageId": "r"
    }
   },
   "outputs": [],
   "source": [
    "# Assign variables\n",
    "\n",
    "bgm.file <- 'SS_xy.bgm'\n",
    "grp.file <- 'groups.csv'\n",
    "prm.file <- 'biology.prm'\n",
    "nc.file <- 'init_conditions.nc'"
   ]
  },
  {
   "cell_type": "code",
   "execution_count": 3,
   "metadata": {
    "vscode": {
     "languageId": "r"
    }
   },
   "outputs": [
    {
     "name": "stderr",
     "output_type": "stream",
     "text": [
      "\n",
      "Listening on http://127.0.0.1:4280\n",
      "\n"
     ]
    }
   ],
   "source": [
    "# Model boxes\n",
    "obj <- make.sh.dist.object(bgm.file)\n",
    "sh.dist(obj)"
   ]
  },
  {
   "cell_type": "code",
   "execution_count": null,
   "metadata": {
    "vscode": {
     "languageId": "r"
    }
   },
   "outputs": [],
   "source": [
    "# Biology parameters\n",
    "\n",
    "obj <- make.sh.prm.object(bgm.file, grp.file, prm.file)\n",
    "sh.prm(obj)"
   ]
  },
  {
   "cell_type": "code",
   "execution_count": 4,
   "metadata": {
    "vscode": {
     "languageId": "r"
    }
   },
   "outputs": [
    {
     "name": "stdout",
     "output_type": "stream",
     "text": [
      "-- Extracting map data\n",
      "-- Extracting cover variables\n",
      "-- Extracting additional variables (this may take a few minutes)\n"
     ]
    },
    {
     "name": "stderr",
     "output_type": "stream",
     "text": [
      "\n",
      "Listening on http://127.0.0.1:4985\n",
      "\n"
     ]
    }
   ],
   "source": [
    "# Initial Conditions\n",
    "\n",
    "obj <- make.sh.init.object(bgm.file, nc.file)\n",
    "sh.init(obj)"
   ]
  }
 ],
 "metadata": {
  "kernelspec": {
   "display_name": "R",
   "language": "R",
   "name": "ir"
  },
  "language_info": {
   "codemirror_mode": "r",
   "file_extension": ".r",
   "mimetype": "text/x-r-source",
   "name": "R",
   "pygments_lexer": "r",
   "version": "4.1.1"
  },
  "orig_nbformat": 4
 },
 "nbformat": 4,
 "nbformat_minor": 2
}
