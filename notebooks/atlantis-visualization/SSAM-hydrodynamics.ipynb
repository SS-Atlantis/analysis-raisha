{
 "cells": [
  {
   "attachments": {},
   "cell_type": "markdown",
   "id": "fd0fe609-b67e-4e9e-b341-5d855bda0d54",
   "metadata": {},
   "source": [
    "Code scripts in R for exploring hydrodynamic forcing files (vertical transport, salinity and temperature) required for forcing the Salish Sea Atlantis Model. Code uses the [shinyrAtlantis](https://github.com/Atlantis-Ecosystem-Model/shinyrAtlantis) library. Output for each cell is displayed in a shiny app web browser."
   ]
  },
  {
   "cell_type": "code",
   "execution_count": 1,
   "id": "855e9cdf-f2b1-4bea-8dd6-dfbb171fdf4b",
   "metadata": {
    "vscode": {
     "languageId": "r"
    }
   },
   "outputs": [
    {
     "name": "stderr",
     "output_type": "stream",
     "text": [
      "Loading required package: shiny\n",
      "\n",
      "Warning message:\n",
      "“package ‘shiny’ was built under R version 4.1.3”\n",
      "\n",
      "Attaching package: ‘dplyr’\n",
      "\n",
      "\n",
      "The following objects are masked from ‘package:stats’:\n",
      "\n",
      "    filter, lag\n",
      "\n",
      "\n",
      "The following objects are masked from ‘package:base’:\n",
      "\n",
      "    intersect, setdiff, setequal, union\n",
      "\n",
      "\n",
      "\n",
      "Attaching package: ‘DT’\n",
      "\n",
      "\n",
      "The following objects are masked from ‘package:shiny’:\n",
      "\n",
      "    dataTableOutput, renderDataTable\n",
      "\n",
      "\n"
     ]
    }
   ],
   "source": [
    "# load required libraries and assign universal variables\n",
    "\n",
    "library(shinyrAtlantis)\n",
    "library(dplyr)\n",
    "library(DT)\n",
    "library(ggplot2)\n",
    "library(ncdf4)\n",
    "library(stringr)\n",
    "\n",
    "bgm.file <- '/ocean/rlovindeer/Atlantis/salish-sea-atlantis-model/SS_xy.bgm'\n",
    "cum.depth <- c(0, 25, 50, 100, 250, 400, 700)"
   ]
  },
  {
   "cell_type": "code",
   "execution_count": 2,
   "id": "893fd32b-d5e1-496d-b5ee-b738b935ef59",
   "metadata": {
    "vscode": {
     "languageId": "r"
    }
   },
   "outputs": [
    {
     "name": "stdout",
     "output_type": "stream",
     "text": [
      "-- Extracting map data\n",
      "-- Extracting data (this may take a while)\n",
      "-- Extracting temperature data\n",
      "-- Extracting salinity data\n"
     ]
    },
    {
     "name": "stderr",
     "output_type": "stream",
     "text": [
      "\n",
      "Listening on http://127.0.0.1:4814\n",
      "\n",
      "Warning message:\n",
      "“Error in if: argument is of length zero”\n",
      "Warning message:\n",
      "“Error in if: argument is of length zero”\n"
     ]
    }
   ],
   "source": [
    "# 14-year time series hydrodynamics\n",
    "exchange.file <- '/ocean/rlovindeer/Atlantis/Physics/Final/SS_hydro_07-21.nc'\n",
    "salinity.file <- '/ocean/rlovindeer/Atlantis/Physics/Final/SS_salt_07-21.nc'\n",
    "temperature.file <- '/ocean/rlovindeer/Atlantis/Physics/Final/SS_temp_07-21.nc'\n",
    "\n",
    "input.object <- make.sh.forcings.object(\n",
    "  bgm.file = bgm.file,\n",
    "  exchange.file = exchange.file,\n",
    "  cum.depth = cum.depth,\n",
    "  temperature.file = temperature.file,\n",
    "  salinity.file = salinity.file\n",
    ")\n",
    "sh.forcings(input.object)"
   ]
  },
  {
   "cell_type": "code",
   "execution_count": null,
   "id": "db6f3c0d-9be2-4ab9-ad6e-0f6e2cf06ecc",
   "metadata": {
    "vscode": {
     "languageId": "r"
    }
   },
   "outputs": [],
   "source": [
    "# Original 2-year hydrodynamics (for comparison)\n",
    "\n",
    "exchange.file <- '/ocean/rlovindeer/Atlantis/salish-sea-atlantis-model/inputs/SS_hydro.nc'\n",
    "salinity.file <- '/ocean/rlovindeer/Atlantis/salish-sea-atlantis-model/inputs/SS_salt.nc'\n",
    "temperature.file <- '/ocean/rlovindeer/Atlantis/salish-sea-atlantis-model/inputs/SS_temp.nc'\n",
    "\n",
    "input.object <- make.sh.forcings.object(\n",
    "  bgm.file = bgm.file,\n",
    "  exchange.file = exchange.file,\n",
    "  cum.depth = cum.depth,\n",
    "  temperature.file = temperature.file,\n",
    "  salinity.file = salinity.file\n",
    ")\n",
    "sh.forcings(input.object)"
   ]
  }
 ],
 "metadata": {
  "kernelspec": {
   "display_name": "R",
   "language": "R",
   "name": "ir"
  },
  "language_info": {
   "codemirror_mode": "r",
   "file_extension": ".r",
   "mimetype": "text/x-r-source",
   "name": "R",
   "pygments_lexer": "r",
   "version": "4.1.1"
  }
 },
 "nbformat": 4,
 "nbformat_minor": 5
}
