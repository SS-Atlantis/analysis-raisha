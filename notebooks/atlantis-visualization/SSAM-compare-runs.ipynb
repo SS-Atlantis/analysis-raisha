{
 "cells": [
  {
   "attachments": {},
   "cell_type": "markdown",
   "id": "476a0ae3-a905-471a-b4b6-d723a2069801",
   "metadata": {},
   "source": [
    "Code scripts in R for comparing output of the Salish Sea Atlantis Model simulations using the [ReactiveAtlantis](https://github.com/Atlantis-Ecosystem-Model/ReactiveAtlantis) library. Output is displayed in a shiny app web browser."
   ]
  },
  {
   "cell_type": "code",
   "execution_count": 1,
   "id": "d3d53257-bf35-43cc-8713-b276634f1433",
   "metadata": {
    "vscode": {
     "languageId": "r"
    }
   },
   "outputs": [
    {
     "name": "stderr",
     "output_type": "stream",
     "text": [
      "Warning message:\n",
      "“package ‘shiny’ was built under R version 4.1.3”\n"
     ]
    }
   ],
   "source": [
    "# Load required libraries and set working directory\n",
    "\n",
    "library(ReactiveAtlantis)\n",
    "library(shiny)\n",
    "setwd(\"/ocean/rlovindeer/MOAD/analysis-raisha/SSmodel_outputs/\")"
   ]
  },
  {
   "cell_type": "markdown",
   "id": "acc40ba3",
   "metadata": {},
   "source": [
    "# Calibration"
   ]
  },
  {
   "cell_type": "code",
   "execution_count": 2,
   "id": "54f035e9",
   "metadata": {
    "vscode": {
     "languageId": "r"
    }
   },
   "outputs": [
    {
     "name": "stderr",
     "output_type": "stream",
     "text": [
      "\n",
      "Listening on http://127.0.0.1:5975\n",
      "\n"
     ]
    }
   ],
   "source": [
    "# COMPARING CONTROL RUNS FOR CALIBRATION\n",
    "# Compare two sets of runs [opens new shiny web app]\n",
    "\n",
    "nc.current <- 'Tests/v6719_50y_VBITBUCKET-ddmove0-2-ZGppreyWS-1-PL-fishing/outputSalishSea.nc'\n",
    "nc.old <- 'Tests/v6719_50y_VBITBUCKET-ddmove0-2-ZGppreyWS-1-PL/outputSalishSea.nc'\n",
    "grps.csv <- '/ocean/rlovindeer/Atlantis/salish-sea-atlantis-model/SS_grps.csv'\n",
    "bgm.file <- '/ocean/rlovindeer/Atlantis/salish-sea-atlantis-model/SS_xy.bgm'\n",
    "cum.depths <- c(0, 25, 50, 100, 250, 400, 700)\n",
    "compare(nc.current, nc.old, grps.csv, bgm.file, cum.depths)"
   ]
  },
  {
   "cell_type": "markdown",
   "id": "bd45ffa8",
   "metadata": {},
   "source": [
    "The best calibration for both diatom and zooplankton spatial distribution and biomass is\n",
    "- v6719_50y_VBITBUCKET-mumVERT-ddmove0-2-ZGppreyW_Sharks1\n",
    "\n",
    "This could be used for the Turn Point spill in the event that other calibrations do not work. This calibration is missing long-term biomass for the following:\n",
    "- small pelagic fish (FDS)\n",
    "- small demersal fish (FDL)\n",
    "- prawns (PWN)\n",
    "- carniv zoo (ZL)\n",
    "- squid (CEP)\n",
    "\n",
    "Turning on ddepend_move for FDS, FDL, CEP and ZL leads to improvements in all their biomass and distribution, but brings down the biomass for diatoms, making it effectively 0 in certain boxes. This is evident in run:\n",
    "- v6719_50y_VBITBUCKET-ddmove0-2-ZGppreyWS-1\n",
    "\n",
    "Turning on ddepend_move for PWN leads to exceedingly high PWN biomass, which crashes the model after a short time with a Ref_Det flux error. \n"
   ]
  },
  {
   "cell_type": "markdown",
   "id": "d7ba90e5",
   "metadata": {},
   "source": [
    "Reducing predation on diatoms results in their increased biomass when ddepend_move is on for FDS, FDL, CEP and ZL, as seen in the results of this run. \n",
    "- v6719_50y_VBITBUCKET-ddmove0-2-ZGppreyWS-1-PL\n",
    "\n",
    "In this run, once fishing has been turned on, only large flatfish (FFL), PWN, CEP and ZL do not maintain biomass for a 50-year run. See\n",
    "- v6719_50y_VBITBUCKET-ddmove0-2-ZGppreyWS-1-PL-fishing"
   ]
  },
  {
   "cell_type": "code",
   "execution_count": null,
   "id": "f296ebd2",
   "metadata": {
    "vscode": {
     "languageId": "r"
    }
   },
   "outputs": [],
   "source": [
    "# COMPARING CONTROL RUNS FOR CALIBRATION\n",
    "# Compare two sets of runs [opens new shiny web app]\n",
    "\n",
    "nc.current <- 'Tests/v6719_50y_VBITBUCKET-ddmove0-2-ZGppreyWS-2a-pwn-fishing/outputSalishSea.nc'\n",
    "nc.old <- 'Tests/v6719_50y_VBITBUCKET-ddmove0-2-ZGppreyWS-2a-pwn/outputSalishSea.nc'\n",
    "grps.csv <- '/ocean/rlovindeer/Atlantis/salish-sea-atlantis-model/SS_grps.csv'\n",
    "bgm.file <- '/ocean/rlovindeer/Atlantis/salish-sea-atlantis-model/SS_xy.bgm'\n",
    "cum.depths <- c(0, 25, 50, 100, 250, 400, 700)\n",
    "compare(nc.current, nc.old, grps.csv, bgm.file, cum.depths)"
   ]
  },
  {
   "cell_type": "code",
   "execution_count": null,
   "id": "30459798",
   "metadata": {
    "vscode": {
     "languageId": "r"
    }
   },
   "outputs": [],
   "source": [
    "# COMPARING CONTROL RUNS FOR CALIBRATION\n",
    "# Compare two sets of runs [opens new shiny web app]\n",
    "\n",
    "nc.current <- 'Tests/v6719_50y_VBITBUCKET-ddmove0-2-ZGppreyWS-2/outputSalishSea.nc' #v6719_50y_RL_PL09-mumZmL3\n",
    "nc.old <- 'Tests/v6719_50y_VBITBUCKET-ddmove0-2-ZGppreyWS-1/outputSalishSea.nc'\n",
    "grps.csv <- '/ocean/rlovindeer/Atlantis/salish-sea-atlantis-model/SS_grps.csv'\n",
    "bgm.file <- '/ocean/rlovindeer/Atlantis/salish-sea-atlantis-model/SS_xy.bgm'\n",
    "cum.depths <- c(0, 25, 50, 100, 250, 400, 700)\n",
    "compare(nc.current, nc.old, grps.csv, bgm.file, cum.depths)"
   ]
  },
  {
   "cell_type": "markdown",
   "id": "effb3b3a",
   "metadata": {},
   "source": [
    "### RL-tests"
   ]
  },
  {
   "cell_type": "code",
   "execution_count": null,
   "id": "665af290",
   "metadata": {
    "vscode": {
     "languageId": "r"
    }
   },
   "outputs": [],
   "source": [
    "# COMPARING CONTROL RUNS FOR CALIBRATION\n",
    "# Compare two sets of runs [opens new shiny web app]\n",
    "\n",
    "nc.current <- 'Tests/v6719_50y_RL-pprey5-ddmove0/outputSalishSea.nc'\n",
    "nc.old <- 'Tests/v6719_50y_RL-pprey4-ddmove0/outputSalishSea.nc'\n",
    "grps.csv <- '/ocean/rlovindeer/Atlantis/salish-sea-atlantis-model/SS_grps.csv'\n",
    "bgm.file <- '/ocean/rlovindeer/Atlantis/salish-sea-atlantis-model/SS_xy.bgm'\n",
    "cum.depths <- c(0, 25, 50, 100, 250, 400, 700)\n",
    "compare(nc.current, nc.old, grps.csv, bgm.file, cum.depths)"
   ]
  },
  {
   "cell_type": "markdown",
   "id": "17c10482",
   "metadata": {},
   "source": [
    "# Spills"
   ]
  },
  {
   "cell_type": "code",
   "execution_count": null,
   "id": "5557b35d",
   "metadata": {
    "vscode": {
     "languageId": "r"
    }
   },
   "outputs": [],
   "source": [
    "# OIL SPILLS\n",
    "# Compare two sets of runs [opens new shiny web app]\n",
    "\n",
    "nc.current <- 'Spills/highres_fishery_closed_30d/outputSalishSea.nc'\n",
    "nc.old <- 'Spills/highres_no_closure/outputSalishSea.nc'\n",
    "grps.csv <- '/ocean/rlovindeer/Atlantis/salish-sea-atlantis-model/SS_grps.csv'\n",
    "bgm.file <- '/ocean/rlovindeer/Atlantis/salish-sea-atlantis-model/SS_xy.bgm'\n",
    "cum.depths <- c(0, 25, 50, 100, 250, 400, 700)\n",
    "compare(nc.current, nc.old, grps.csv, bgm.file, cum.depths)"
   ]
  },
  {
   "cell_type": "code",
   "execution_count": null,
   "id": "1b23fea5",
   "metadata": {
    "vscode": {
     "languageId": "r"
    }
   },
   "outputs": [],
   "source": [
    "# COMPARE CATCH\n",
    "\n",
    "nc.current <- 'Spills/highres_2_boxes_closed_365/outputSalishSea.nc'\n",
    "nc.old <- 'Spills/highres_no_closure_365/outputSalishSea.nc'\n",
    "grps.csv <- '/ocean/rlovindeer/Atlantis/salish-sea-atlantis-model/SS_grps.csv'\n",
    "bgm.file <- '/ocean/rlovindeer/Atlantis/salish-sea-atlantis-model/SS_xy.bgm'\n",
    "cum.depths <- c(0, 25, 50, 100, 250, 400, 700)\n",
    "compare(nc.current, nc.old, grps.csv, bgm.file, cum.depths)"
   ]
  },
  {
   "cell_type": "markdown",
   "id": "43867df7",
   "metadata": {},
   "source": [
    "### Results of testing lenght of fisheries closure\n",
    "- old = 5b spill with no closures, current = 5b spill with 180 day fisheries closure (all fisheries) in Box 60"
   ]
  },
  {
   "cell_type": "code",
   "execution_count": 2,
   "id": "aa5d5d87",
   "metadata": {
    "vscode": {
     "languageId": "r"
    }
   },
   "outputs": [],
   "source": [
    "# SHIP SCRUBBER PROJECT \n",
    "# Compare two sets of runs [opens new shiny web app]\n",
    "\n",
    "nc.current <- 'Scrubber/v6699_discharge_100y_control_00SSBioB/outputSalishSea.nc'\n",
    "nc.old <- 'Scrubber/v6699_discharge_100y_control/outputSalishSea.nc'\n",
    "grps.csv <- '/ocean/rlovindeer/Atlantis/salish-sea-atlantis-model/SS_grps.csv'\n",
    "bgm.file <- '/ocean/rlovindeer/Atlantis/salish-sea-atlantis-model/SS_xy.bgm'\n",
    "cum.depths <- c(0, 25, 50, 100, 250, 400, 700)\n",
    "compare(nc.current, nc.old, grps.csv, bgm.file, cum.depths)"
   ]
  },
  {
   "cell_type": "code",
   "execution_count": null,
   "id": "326e15fd",
   "metadata": {
    "vscode": {
     "languageId": "r"
    }
   },
   "outputs": [],
   "source": [
    "# SENSITIVITY - BUTTERFLY EFFECT\n",
    "# Compare two sets of runs [opens new shiny web app]\n",
    "\n",
    "nc.current <- 'Sensitivity/butterflyeffect_PLx2/outputSalishSea.nc'\n",
    "nc.old <- 'Scrubber/Scrubber_discharge_100y_control/outputSalishSea.nc'\n",
    "grps.csv <- '/ocean/rlovindeer/Atlantis/salish-sea-atlantis-model/SS_grps.csv'\n",
    "bgm.file <- '/ocean/rlovindeer/Atlantis/salish-sea-atlantis-model/SS_xy.bgm'\n",
    "cum.depths <- c(0, 25, 50, 100, 250, 400, 700)\n",
    "compare(nc.current, nc.old, grps.csv, bgm.file, cum.depths)"
   ]
  },
  {
   "cell_type": "code",
   "execution_count": null,
   "id": "eba882e8",
   "metadata": {
    "vscode": {
     "languageId": "r"
    }
   },
   "outputs": [],
   "source": [
    "# LIVING LABS PROJECT\n",
    "# Compare two sets of runs [opens new shiny web app]\n",
    "\n",
    "nc.current <- 'LivingLabs/climate_04/outputSalishSea.nc'\n",
    "nc.old <- 'LivingLabs/control_01/outputSalishSea.nc'\n",
    "grps.csv <- '/ocean/rlovindeer/Atlantis/salish-sea-atlantis-model/SS_grps.csv'\n",
    "bgm.file <- '/ocean/rlovindeer/Atlantis/salish-sea-atlantis-model/SS_xy.bgm'\n",
    "cum.depths <- c(0, 25, 50, 100, 250, 400, 700)\n",
    "compare(nc.current, nc.old, grps.csv, bgm.file, cum.depths)"
   ]
  },
  {
   "cell_type": "code",
   "execution_count": null,
   "id": "acfd6f44",
   "metadata": {
    "vscode": {
     "languageId": "r"
    }
   },
   "outputs": [],
   "source": [
    "# Compare two sets of runs [opens new shiny web app]\n",
    "\n",
    "nc.current <- 'Tests/7a_v6699_1000kg_360d_highres_daily/outputSalishSea.nc'\n",
    "nc.old <- 'Tests/7a_v6699_1000kg_360d_highres_daily_control/outputSalishSea.nc'\n",
    "grps.csv <- '/ocean/rlovindeer/Atlantis/salish-sea-atlantis-model/SS_grps.csv'\n",
    "bgm.file <- '/ocean/rlovindeer/Atlantis/salish-sea-atlantis-model/SS_xy.bgm'\n",
    "cum.depths <- c(0, 25, 50, 100, 250, 400, 700)\n",
    "compare(nc.current, nc.old, grps.csv, bgm.file, cum.depths) #nc.out.old = NULL"
   ]
  }
 ],
 "metadata": {
  "interpreter": {
   "hash": "d53ad3117a095ae8054c8109d8bba96b126685eaa545b8e3302aa5785bbc8499"
  },
  "kernelspec": {
   "display_name": "R",
   "language": "R",
   "name": "ir"
  },
  "language_info": {
   "codemirror_mode": "r",
   "file_extension": ".r",
   "mimetype": "text/x-r-source",
   "name": "R",
   "pygments_lexer": "r",
   "version": "4.1.1"
  }
 },
 "nbformat": 4,
 "nbformat_minor": 5
}
