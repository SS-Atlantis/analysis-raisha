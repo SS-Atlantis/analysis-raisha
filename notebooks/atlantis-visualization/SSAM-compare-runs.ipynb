{
 "cells": [
  {
   "cell_type": "markdown",
   "id": "476a0ae3-a905-471a-b4b6-d723a2069801",
   "metadata": {},
   "source": [
    "Code scripts in R for comparing Salish Sea Atlantis runs and exploring input hydrodyanamics files using the [ReactiveAtlantis](https://github.com/Atlantis-Ecosystem-Model/ReactiveAtlantis) and [shinyrAtlantis](https://github.com/Atlantis-Ecosystem-Model/shinyrAtlantis) libraries. \n",
    "Output for each set of scripts are displayed in a shiny app web browser."
   ]
  },
  {
   "cell_type": "code",
   "execution_count": 1,
   "id": "d3d53257-bf35-43cc-8713-b276634f1433",
   "metadata": {},
   "outputs": [],
   "source": [
    "# Load ReactiveAtlantis lib\n",
    "\n",
    "library(ReactiveAtlantis)\n",
    "library(shiny)\n",
    "setwd(\"/ocean/rlovindeer/MOAD/analysis-raisha/SSmodel_outputs/\")"
   ]
  },
  {
   "cell_type": "code",
   "execution_count": null,
   "id": "cdbcc8a0-15ec-4560-958e-5e657d230edb",
   "metadata": {},
   "outputs": [
    {
     "name": "stderr",
     "output_type": "stream",
     "text": [
      "\n",
      "Listening on http://127.0.0.1:6552\n",
      "\n"
     ]
    }
   ],
   "source": [
    "# Compare two sets of runs [opens new shiny web app]\n",
    "\n",
    "nc.current <- '40yRun_10yHydro/outputSalishSea.nc'\n",
    "nc.old <- '40yRun_oldHydro/outputSalishSea.nc'\n",
    "grps.csv <- '/ocean/rlovindeer/Atlantis/salish-sea-atlantis-model/SS_grps.csv'\n",
    "bgm.file <- '/ocean/rlovindeer/Atlantis/salish-sea-atlantis-model/SS_xy.bgm'\n",
    "cum.depths <- c(0, 25, 50, 100, 250, 400, 700)\n",
    "compare(nc.current, nc.old, grps.csv, bgm.file, cum.depths)"
   ]
  },
  {
   "cell_type": "code",
   "execution_count": 4,
   "id": "a9cbe9fe-59ce-4c5c-90fa-4342a4bcfaaa",
   "metadata": {},
   "outputs": [
    {
     "name": "stdout",
     "output_type": "stream",
     "text": [
      "-- Extracting map data\n",
      "-- Extracting data (this may take a while)\n",
      "-- Extracting temperature data\n",
      "-- Extracting salinity data\n"
     ]
    },
    {
     "name": "stderr",
     "output_type": "stream",
     "text": [
      "\n",
      "Listening on http://127.0.0.1:6822\n",
      "\n"
     ]
    }
   ],
   "source": [
    "## ---------------------------- ##\n",
    "## ~  Explore Hydrodynamics   ~ ##\n",
    "## ---------------------------- ##\n",
    "library(dplyr)\n",
    "library(DT)\n",
    "library(ggplot2)\n",
    "library(ncdf4)\n",
    "library(stringr)\n",
    "library(shinyrAtlantis)\n",
    "\n",
    "# 10 year Time Series Hydrodynamics\n",
    "exchange.file <- '/ocean/rlovindeer/Atlantis/Physics/Final/SS_hydro2019.nc'\n",
    "salinity.file <- '/ocean/rlovindeer/Atlantis/Physics/Final/SS_salt2019.nc'\n",
    "temperature.file <- '/ocean/rlovindeer/Atlantis/Physics/Final/SS_temp2019.nc'\n",
    "bgm.file <- '/ocean/rlovindeer/Atlantis/salish-sea-atlantis-model/SS_xy.bgm'\n",
    "cum.depth <- c(0, 25, 50, 100, 250, 400, 700)\n",
    "\n",
    "input.object <- make.sh.forcings.object(\n",
    "  bgm.file = bgm.file,\n",
    "  exchange.file = exchange.file,\n",
    "  cum.depth = cum.depth,\n",
    "  temperature.file = temperature.file,\n",
    "  salinity.file = salinity.file\n",
    ")\n",
    "sh.forcings(input.object)"
   ]
  },
  {
   "cell_type": "code",
   "execution_count": 5,
   "id": "d0ea909f-8862-4635-9dd0-d40eaa71aba2",
   "metadata": {},
   "outputs": [
    {
     "name": "stdout",
     "output_type": "stream",
     "text": [
      "-- Extracting map data\n",
      "-- Extracting data (this may take a while)\n",
      "-- Extracting temperature data\n",
      "-- Extracting salinity data\n"
     ]
    },
    {
     "name": "stderr",
     "output_type": "stream",
     "text": [
      "\n",
      "Listening on http://127.0.0.1:6822\n",
      "\n"
     ]
    }
   ],
   "source": [
    "# Original Hydrodynamics\n",
    "\n",
    "exchange.file <- '/ocean/rlovindeer/Atlantis/salish-sea-atlantis-model/inputs/SS_hydro.nc'\n",
    "salinity.file <- '/ocean/rlovindeer/Atlantis/salish-sea-atlantis-model/inputs/SS_salt.nc'\n",
    "temperature.file <- '/ocean/rlovindeer/Atlantis/salish-sea-atlantis-model/inputs/SS_temp.nc'\n",
    "bgm.file <- '/ocean/rlovindeer/Atlantis/salish-sea-atlantis-model/SS_xy.bgm'\n",
    "cum.depth <- c(0, 25, 50, 100, 250, 400, 700)\n",
    "\n",
    "input.object <- make.sh.forcings.object(\n",
    "  bgm.file = bgm.file,\n",
    "  exchange.file = exchange.file,\n",
    "  cum.depth = cum.depth,\n",
    "  temperature.file = temperature.file,\n",
    "  salinity.file = salinity.file\n",
    ")\n",
    "sh.forcings(input.object)"
   ]
  },
  {
   "cell_type": "code",
   "execution_count": null,
   "id": "d6549c10-36d8-4d26-b219-5d695c1f6423",
   "metadata": {},
   "outputs": [],
   "source": []
  }
 ],
 "metadata": {
  "kernelspec": {
   "display_name": "R",
   "language": "R",
   "name": "ir"
  },
  "language_info": {
   "codemirror_mode": "r",
   "file_extension": ".r",
   "mimetype": "text/x-r-source",
   "name": "R",
   "pygments_lexer": "r",
   "version": "4.1.1"
  }
 },
 "nbformat": 4,
 "nbformat_minor": 5
}
