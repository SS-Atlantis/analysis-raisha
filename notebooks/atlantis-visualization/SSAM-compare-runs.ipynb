{
 "cells": [
  {
   "cell_type": "code",
   "execution_count": 1,
   "id": "19568bc7-c13d-4df7-b892-9a2dfcb19af8",
   "metadata": {},
   "outputs": [],
   "source": [
    "# Load ReactiveAtlantis lib\n",
    "\n",
    "library(ReactiveAtlantis)\n",
    "setwd(\"/ocean/rlovindeer/MOAD/analysis-raisha/SSmodel_outputs/\")"
   ]
  },
  {
   "cell_type": "code",
   "execution_count": null,
   "id": "cdbcc8a0-15ec-4560-958e-5e657d230edb",
   "metadata": {},
   "outputs": [
    {
     "name": "stderr",
     "output_type": "stream",
     "text": [
      "\n",
      "Listening on http://127.0.0.1:6599\n",
      "\n"
     ]
    }
   ],
   "source": [
    "# Compare two sets of runs [opens new shiny web app]\n",
    "\n",
    "nc.current <- 'output-40yr/outputSalishSea.nc'\n",
    "nc.old <- 'output-25yr/outputSalishSea.nc'\n",
    "grps.csv <- '/ocean/rlovindeer/Atlantis/salish-sea-atlantis-model/SS_grps.csv'\n",
    "bgm.file <- '/ocean/rlovindeer/Atlantis/salish-sea-atlantis-model/SS_xy.bgm'\n",
    "cum.depths <- c(0, 25, 50, 100, 250, 400, 700)\n",
    "compare(nc.current, nc.old, grps.csv, bgm.file, cum.depths)"
   ]
  },
  {
   "cell_type": "code",
   "execution_count": null,
   "id": "a9cbe9fe-59ce-4c5c-90fa-4342a4bcfaaa",
   "metadata": {},
   "outputs": [],
   "source": []
  }
 ],
 "metadata": {
  "kernelspec": {
   "display_name": "R",
   "language": "R",
   "name": "ir"
  },
  "language_info": {
   "codemirror_mode": "r",
   "file_extension": ".r",
   "mimetype": "text/x-r-source",
   "name": "R",
   "pygments_lexer": "r",
   "version": "4.0.5"
  }
 },
 "nbformat": 4,
 "nbformat_minor": 5
}
