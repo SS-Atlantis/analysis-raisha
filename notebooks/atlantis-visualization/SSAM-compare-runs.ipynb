{
 "cells": [
  {
   "attachments": {},
   "cell_type": "markdown",
   "id": "476a0ae3-a905-471a-b4b6-d723a2069801",
   "metadata": {},
   "source": [
    "Code scripts in R for comparing output of the Salish Sea Atlantis Model simulations using the [ReactiveAtlantis](https://github.com/Atlantis-Ecosystem-Model/ReactiveAtlantis) library. Output is displayed in a shiny app web browser."
   ]
  },
  {
   "cell_type": "code",
   "execution_count": 1,
   "id": "d3d53257-bf35-43cc-8713-b276634f1433",
   "metadata": {
    "vscode": {
     "languageId": "r"
    }
   },
   "outputs": [
    {
     "name": "stderr",
     "output_type": "stream",
     "text": [
      "Warning message:\n",
      "“package ‘shiny’ was built under R version 4.1.3”\n"
     ]
    }
   ],
   "source": [
    "# Load required libraries and set working directory\n",
    "\n",
    "library(ReactiveAtlantis)\n",
    "library(shiny)\n",
    "setwd(\"/ocean/rlovindeer/MOAD/analysis-raisha/SSmodel_outputs/\")"
   ]
  },
  {
   "cell_type": "code",
   "execution_count": 2,
   "id": "acfd6f44",
   "metadata": {
    "vscode": {
     "languageId": "r"
    }
   },
   "outputs": [
    {
     "name": "stderr",
     "output_type": "stream",
     "text": [
      "\n",
      "Listening on http://127.0.0.1:7080\n",
      "\n"
     ]
    }
   ],
   "source": [
    "# COMPARING CONTROL RUNS FOR CALIBRATION\n",
    "# Compare two sets of runs [opens new shiny web app]\n",
    "\n",
    "nc.current <- 'Control/v6699_50y_20241105/outputSalishSea.nc'\n",
    "nc.old <- 'Control/v6718_50y_20241105/outputSalishSea.nc'#'Control/v6699_50y_20240411/outputSalishSea.nc'\n",
    "grps.csv <- '/ocean/rlovindeer/Atlantis/salish-sea-atlantis-model/SS_grps.csv'\n",
    "bgm.file <- '/ocean/rlovindeer/Atlantis/salish-sea-atlantis-model/SS_xy.bgm'\n",
    "cum.depths <- c(0, 25, 50, 100, 250, 400, 700)\n",
    "compare(nc.current, nc.old, grps.csv, bgm.file, cum.depths)"
   ]
  },
  {
   "cell_type": "markdown",
   "id": "f739569f",
   "metadata": {},
   "source": [
    "New calibration file from Javier PG uploaded to the repository on 5 Nov 2024: \n",
    "- no differences observed between versions 6699 and 6718 when running the calibrated control - Good news!"
   ]
  },
  {
   "cell_type": "code",
   "execution_count": 2,
   "id": "aa5d5d87",
   "metadata": {
    "vscode": {
     "languageId": "r"
    }
   },
   "outputs": [],
   "source": [
    "# SHIP SCRUBBER PROJECT \n",
    "# Compare two sets of runs [opens new shiny web app]\n",
    "\n",
    "nc.current <- 'Scrubber/v6699_discharge_100y_control_00SSBioB/outputSalishSea.nc'\n",
    "nc.old <- 'Scrubber/v6699_discharge_100y_control/outputSalishSea.nc'\n",
    "grps.csv <- '/ocean/rlovindeer/Atlantis/salish-sea-atlantis-model/SS_grps.csv'\n",
    "bgm.file <- '/ocean/rlovindeer/Atlantis/salish-sea-atlantis-model/SS_xy.bgm'\n",
    "cum.depths <- c(0, 25, 50, 100, 250, 400, 700)\n",
    "compare(nc.current, nc.old, grps.csv, bgm.file, cum.depths)"
   ]
  },
  {
   "cell_type": "markdown",
   "id": "71cdab95",
   "metadata": {},
   "source": [
    "Comparing v6699 controls\n",
    "- original: \n",
    "- with newest (May 8) calibration - 12 species not at acceptable biomass [BG, BRL, FCH, FFL, MA, FSO, FPI, FPO, FRO, FDS, FFS, FPS]\n",
    "- with last v6666 calibration but on v6699 code - no Diatoms, micro or mesozooplankton, or prawns."
   ]
  },
  {
   "cell_type": "code",
   "execution_count": null,
   "id": "326e15fd",
   "metadata": {
    "vscode": {
     "languageId": "r"
    }
   },
   "outputs": [],
   "source": [
    "# SENSITIVITY - BUTTERFLY EFFECT\n",
    "# Compare two sets of runs [opens new shiny web app]\n",
    "\n",
    "nc.current <- 'Sensitivity/butterflyeffect_PLx2/outputSalishSea.nc'\n",
    "nc.old <- 'Scrubber/Scrubber_discharge_100y_control/outputSalishSea.nc'\n",
    "grps.csv <- '/ocean/rlovindeer/Atlantis/salish-sea-atlantis-model/SS_grps.csv'\n",
    "bgm.file <- '/ocean/rlovindeer/Atlantis/salish-sea-atlantis-model/SS_xy.bgm'\n",
    "cum.depths <- c(0, 25, 50, 100, 250, 400, 700)\n",
    "compare(nc.current, nc.old, grps.csv, bgm.file, cum.depths)"
   ]
  },
  {
   "cell_type": "code",
   "execution_count": null,
   "id": "eba882e8",
   "metadata": {
    "vscode": {
     "languageId": "r"
    }
   },
   "outputs": [],
   "source": [
    "# LIVING LABS PROJECT\n",
    "# Compare two sets of runs [opens new shiny web app]\n",
    "\n",
    "nc.current <- 'LivingLabs/climate_04/outputSalishSea.nc'\n",
    "nc.old <- 'LivingLabs/control_01/outputSalishSea.nc'\n",
    "grps.csv <- '/ocean/rlovindeer/Atlantis/salish-sea-atlantis-model/SS_grps.csv'\n",
    "bgm.file <- '/ocean/rlovindeer/Atlantis/salish-sea-atlantis-model/SS_xy.bgm'\n",
    "cum.depths <- c(0, 25, 50, 100, 250, 400, 700)\n",
    "compare(nc.current, nc.old, grps.csv, bgm.file, cum.depths)"
   ]
  },
  {
   "cell_type": "code",
   "execution_count": 3,
   "id": "acfd6f44",
   "metadata": {
    "vscode": {
     "languageId": "r"
    }
   },
   "outputs": [
    {
     "name": "stderr",
     "output_type": "stream",
     "text": [
      "\n",
      "Listening on http://127.0.0.1:6329\n",
      "\n"
     ]
    }
   ],
   "source": [
    "# Compare two sets of runs [opens new shiny web app]\n",
    "\n",
    "nc.current <- 'Tests/7a_v6699_1000kg_360d_highres_daily/outputSalishSea.nc'\n",
    "nc.old <- 'Tests/7a_v6699_1000kg_360d_highres_daily_control/outputSalishSea.nc'\n",
    "grps.csv <- '/ocean/rlovindeer/Atlantis/salish-sea-atlantis-model/SS_grps.csv'\n",
    "bgm.file <- '/ocean/rlovindeer/Atlantis/salish-sea-atlantis-model/SS_xy.bgm'\n",
    "cum.depths <- c(0, 25, 50, 100, 250, 400, 700)\n",
    "compare(nc.current, nc.old, grps.csv, bgm.file, cum.depths) #nc.out.old = NULL"
   ]
  },
  {
   "cell_type": "markdown",
   "id": "0a7b5d14",
   "metadata": {},
   "source": [
    "Main impacts observed in the following species:\n",
    "- Benthic carnivores\n",
    "- Carniv Zoo\n",
    "- Deposit feeders\n",
    "- Harbour Porpoises\n",
    "- Harbour seals\n",
    "- Humpback whales\n",
    "- Orcas (resident and transient)\n",
    "- Seabirds\n",
    "- Sealions"
   ]
  }
 ],
 "metadata": {
  "interpreter": {
   "hash": "d53ad3117a095ae8054c8109d8bba96b126685eaa545b8e3302aa5785bbc8499"
  },
  "kernelspec": {
   "display_name": "R",
   "language": "R",
   "name": "ir"
  },
  "language_info": {
   "codemirror_mode": "r",
   "file_extension": ".r",
   "mimetype": "text/x-r-source",
   "name": "R",
   "pygments_lexer": "r",
   "version": "4.1.1"
  }
 },
 "nbformat": 4,
 "nbformat_minor": 5
}
