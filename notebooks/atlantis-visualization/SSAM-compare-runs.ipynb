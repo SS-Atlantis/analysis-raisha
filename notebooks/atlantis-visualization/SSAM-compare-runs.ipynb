{
 "cells": [
  {
   "attachments": {},
   "cell_type": "markdown",
   "id": "476a0ae3-a905-471a-b4b6-d723a2069801",
   "metadata": {},
   "source": [
    "Code scripts in R for comparing output of the Salish Sea Atlantis Model simulations using the [ReactiveAtlantis](https://github.com/Atlantis-Ecosystem-Model/ReactiveAtlantis) library. Output is displayed in a shiny app web browser."
   ]
  },
  {
   "cell_type": "code",
   "execution_count": 1,
   "id": "d3d53257-bf35-43cc-8713-b276634f1433",
   "metadata": {
    "vscode": {
     "languageId": "r"
    }
   },
   "outputs": [
    {
     "name": "stderr",
     "output_type": "stream",
     "text": [
      "Warning message:\n",
      "“package ‘shiny’ was built under R version 4.1.3”\n"
     ]
    }
   ],
   "source": [
    "# Load required libraries and set working directory\n",
    "\n",
    "library(ReactiveAtlantis)\n",
    "library(shiny)\n",
    "setwd(\"/ocean/rlovindeer/MOAD/analysis-raisha/SSmodel_outputs/\")"
   ]
  },
  {
   "cell_type": "code",
   "execution_count": null,
   "id": "acfd6f44",
   "metadata": {
    "vscode": {
     "languageId": "r"
    }
   },
   "outputs": [],
   "source": [
    "# SHIP SCRUBBER PROJECT \n",
    "# Compare two sets of runs [opens new shiny web app]\n",
    "\n",
    "nc.current <- 'Scrubber/Scrubber_discharge_100y_2029/outputSalishSea.nc'\n",
    "nc.old <- 'Scrubber/Scrubber_discharge_100y_2019/outputSalishSea.nc'\n",
    "grps.csv <- '/ocean/rlovindeer/Atlantis/salish-sea-atlantis-model/SS_grps.csv'\n",
    "bgm.file <- '/ocean/rlovindeer/Atlantis/salish-sea-atlantis-model/SS_xy.bgm'\n",
    "cum.depths <- c(0, 25, 50, 100, 250, 400, 700)\n",
    "compare(nc.current, nc.old, grps.csv, bgm.file, cum.depths)"
   ]
  },
  {
   "cell_type": "code",
   "execution_count": 2,
   "id": "a875ae51",
   "metadata": {
    "vscode": {
     "languageId": "r"
    }
   },
   "outputs": [],
   "source": [
    "# SENSITIVITY - BUTTERFLY EFFECT\n",
    "# Compare two sets of runs [opens new shiny web app]\n",
    "\n",
    "nc.current <- 'Sensitivity/butterflyeffect_PLx2/outputSalishSea.nc'\n",
    "nc.old <- 'Scrubber/Scrubber_discharge_100y_control/outputSalishSea.nc'\n",
    "grps.csv <- '/ocean/rlovindeer/Atlantis/salish-sea-atlantis-model/SS_grps.csv'\n",
    "bgm.file <- '/ocean/rlovindeer/Atlantis/salish-sea-atlantis-model/SS_xy.bgm'\n",
    "cum.depths <- c(0, 25, 50, 100, 250, 400, 700)\n",
    "compare(nc.current, nc.old, grps.csv, bgm.file, cum.depths)"
   ]
  },
  {
   "cell_type": "code",
   "execution_count": 4,
   "id": "acfd6f44",
   "metadata": {
    "vscode": {
     "languageId": "r"
    }
   },
   "outputs": [
    {
     "name": "stderr",
     "output_type": "stream",
     "text": [
      "\n",
      "Listening on http://127.0.0.1:3455\n",
      "\n"
     ]
    }
   ],
   "source": [
    "# OIL SPILL SCENARIO PROJECT\n",
    "# Compare two sets of runs [opens new shiny web app]\n",
    "\n",
    "nc.current <- 'Control/v6666mod/outputSalishSea.nc'#'Sensitivity/v6699_control/outputSalishSea.nc'\n",
    "nc.old <- 'Scrubber/Scrubber_discharge_100y_control/outputSalishSea.nc'#'Control/v6666mod/outputSalishSea.nc'\n",
    "#nc.old <- 'Spills/TurnPoint_2020_control_100y/outputSalishSea.nc'\n",
    "grps.csv <- '/ocean/rlovindeer/Atlantis/salish-sea-atlantis-model/SS_grps.csv'\n",
    "bgm.file <- '/ocean/rlovindeer/Atlantis/salish-sea-atlantis-model/SS_xy.bgm'\n",
    "cum.depths <- c(0, 25, 50, 100, 250, 400, 700)\n",
    "compare(nc.current, nc.old, grps.csv, bgm.file, cum.depths)"
   ]
  },
  {
   "cell_type": "markdown",
   "id": "3bf257cf",
   "metadata": {},
   "source": [
    "Control/v6666mod/outputSalishSea.nc had only 7 bio groups that were not acceptable for their output to be used. These were:\n",
    "- benthic filter feeders\n",
    "- chinook salmon\n",
    "- pacific herring\n",
    "- pollock\n",
    "- sandlance\n",
    "- sediment bacteria\n",
    "- small demersal fish\n",
    "\n",
    "Scrubber/Scrubber_discharge_100y_control/outputSalishSea.nc (which also used Atlantis v6666, but aan older biology.prm file) had >7 groups, including the ones listed above. Note that the ones listed above include the main forage fish within the Salish Sea: pacific herring, sandlance, and small demersal fish. Calibration where these species are not represented is therefore not ideal. "
   ]
  },
  {
   "cell_type": "code",
   "execution_count": null,
   "id": "eba882e8",
   "metadata": {
    "vscode": {
     "languageId": "r"
    }
   },
   "outputs": [],
   "source": [
    "# LIVING LABS PROJECT\n",
    "# Compare two sets of runs [opens new shiny web app]\n",
    "\n",
    "nc.current <- 'LivingLabs/climate_adjustedT_01/outputSalishSea.nc'\n",
    "nc.old <- 'LivingLabs/control_adjustedT_01/outputSalishSea.nc'\n",
    "grps.csv <- '/ocean/rlovindeer/Atlantis/salish-sea-atlantis-model/SS_grps.csv'\n",
    "bgm.file <- '/ocean/rlovindeer/Atlantis/salish-sea-atlantis-model/SS_xy.bgm'\n",
    "cum.depths <- c(0, 25, 50, 100, 250, 400, 700)\n",
    "compare(nc.current, nc.old, grps.csv, bgm.file, cum.depths)"
   ]
  },
  {
   "attachments": {},
   "cell_type": "markdown",
   "id": "d0440f4d",
   "metadata": {},
   "source": []
  },
  {
   "cell_type": "code",
   "execution_count": null,
   "id": "acfd6f44",
   "metadata": {
    "vscode": {
     "languageId": "r"
    }
   },
   "outputs": [],
   "source": [
    "# Compare two sets of runs [opens new shiny web app]\n",
    "\n",
    "nc.current <- 'Control_00SS_Oct28_chexkNH/outputSalishSea.nc'\n",
    "nc.old <- 'Control_00SS_Oct28_chexkNH/outputSalishSea.nc'\n",
    "grps.csv <- '/ocean/rlovindeer/Atlantis/salish-sea-atlantis-model/SS_grps.csv'\n",
    "bgm.file <- '/ocean/rlovindeer/Atlantis/salish-sea-atlantis-model/SS_xy.bgm'\n",
    "cum.depths <- c(0, 25, 50, 100, 250, 400, 700)\n",
    "compare(nc.current, nc.out.old = NULL, grps.csv, bgm.file, cum.depths)"
   ]
  },
  {
   "cell_type": "code",
   "execution_count": null,
   "id": "a399404f",
   "metadata": {
    "vscode": {
     "languageId": "r"
    }
   },
   "outputs": [],
   "source": [
    "#' @title plot biomass of ensemble models\n",
    "#' @param ensemblebiomass, a data frame\n",
    "#' @param plotmodels, a list of models to plot\n",
    "#'\n",
    "#' @return models.used, data frame of final models plotted\n",
    "#' @export\n",
    "#'\n",
    "#' @description Code to plot biomass of multiple AMPS versions\n",
    "#' @author Hem Nalini Morzaria-Luna, hmorzarialuna_gmail.com, February 2022\n",
    "#'\n",
    "\n",
    "plot_ensemblebiomass <- function(ensemblebiomass, plotmodels){\n",
    "\n",
    "  plot.biomass <- ensemblebiomass %>%\n",
    "    dplyr::filter(longname!=\"Carrion\") %>%\n",
    "    dplyr::filter(!model_ver%in% plotmodels) %>%\n",
    "    dplyr::mutate(model_ver = as.factor(model_ver))\n",
    "\n",
    "  thisvariabletype <- \"Biomass\"\n",
    "  #library(paletteer)\n",
    "  #paletteer_d(\"ggthemes::qMSOSlp\")\n",
    "\n",
    "\n",
    "  # Calculate the number of pages with 12 panels per page\n",
    "  n_pages <- ceiling(\n",
    "    length(levels(as.factor(plot.biomass$longname)))/ 16\n",
    "  )\n",
    "\n",
    "  print(n_pages)\n",
    "\n",
    "  plot.list <- list()\n",
    "\n",
    "  for (i in seq_len(n_pages)) {\n",
    "\n",
    "    print(i)\n",
    "\n",
    "    biomass.plot <-  ggplot2::ggplot(plot.biomass, ggplot2::aes(x=Year,y=biomass, group = model_ver, colour = model_ver))+\n",
    "      ggplot2::geom_line()+\n",
    "      ggplot2::labs(y= thisvariabletype, x = \"Year\") +\n",
    "   #   ggplot2::scale_color_manual(values=col.pal, name = \"Model version\")+\n",
    "      ggthemes::theme_few() +\n",
    "      ggthemes::scale_colour_few(name = \"Model version\") +\n",
    "      ggplot2::scale_y_continuous(limits = c(0,NA)) +\n",
    "      ggforce::facet_wrap_paginate(~longname, ncol = 4, nrow = 4, page = i, shrink = FALSE, scales = \"free\")+\n",
    "      ggplot2::theme(strip.text = ggplot2::element_text(size = 7),\n",
    "            legend.position=\"bottom\",\n",
    "            axis.text.x = ggplot2::element_text(size =c(8)),\n",
    "            axis.text.y = ggplot2::element_text(size =c(8)))\n",
    "\n",
    "    plot.list[[i]] <- biomass.plot\n",
    "\n",
    "\n",
    "    thisplotname <- paste(thisvariabletype,i,\"model_comparison_plot.png\",sep=\"_\")\n",
    "\n",
    "    ggplot2::ggsave(thisplotname, plot = biomass.plot, device=\"png\",width = 21, height = 29, units = \"cm\")\n",
    "  }\n",
    "\n",
    "  return(plot.list)\n",
    "}"
   ]
  }
 ],
 "metadata": {
  "interpreter": {
   "hash": "d53ad3117a095ae8054c8109d8bba96b126685eaa545b8e3302aa5785bbc8499"
  },
  "kernelspec": {
   "display_name": "R",
   "language": "R",
   "name": "ir"
  },
  "language_info": {
   "codemirror_mode": "r",
   "file_extension": ".r",
   "mimetype": "text/x-r-source",
   "name": "R",
   "pygments_lexer": "r",
   "version": "4.1.1"
  }
 },
 "nbformat": 4,
 "nbformat_minor": 5
}
