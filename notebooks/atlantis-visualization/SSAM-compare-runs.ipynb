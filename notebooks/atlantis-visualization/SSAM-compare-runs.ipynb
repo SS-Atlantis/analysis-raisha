{
 "cells": [
  {
   "cell_type": "markdown",
   "id": "476a0ae3-a905-471a-b4b6-d723a2069801",
   "metadata": {},
   "source": [
    "Code scripts in R for comparing output of the Salish Sea Atlantis Model simulations using the [ReactiveAtlantis](https://github.com/Atlantis-Ecosystem-Model/ReactiveAtlantis) library. Output is displayed in a shiny app web browser."
   ]
  },
  {
   "cell_type": "code",
   "execution_count": 1,
   "id": "d3d53257-bf35-43cc-8713-b276634f1433",
   "metadata": {},
   "outputs": [],
   "source": [
    "# Load required libraries and set working directory\n",
    "\n",
    "library(ReactiveAtlantis)\n",
    "library(shiny)\n",
    "setwd(\"/ocean/rlovindeer/MOAD/analysis-raisha/SSmodel_outputs/\")"
   ]
  },
  {
   "cell_type": "code",
   "execution_count": 3,
   "id": "cdbcc8a0-15ec-4560-958e-5e657d230edb",
   "metadata": {},
   "outputs": [
    {
     "name": "stderr",
     "output_type": "stream",
     "text": [
      "\n",
      "Listening on http://127.0.0.1:5693\n",
      "\n"
     ]
    }
   ],
   "source": [
    "# Compare two sets of runs [opens new shiny web app]\n",
    "\n",
    "nc.current <- 'contam_test_43200_surface/outputSalishSea.nc'\n",
    "nc.old <- 'contam_test_control/outputSalishSea.nc'\n",
    "grps.csv <- '/ocean/rlovindeer/Atlantis/salish-sea-atlantis-model/SS_grps.csv'\n",
    "bgm.file <- '/ocean/rlovindeer/Atlantis/salish-sea-atlantis-model/SS_xy.bgm'\n",
    "cum.depths <- c(0, 25, 50, 100, 250, 400, 700)\n",
    "compare(nc.current, nc.old, grps.csv, bgm.file, cum.depths)"
   ]
  },
  {
   "cell_type": "code",
   "execution_count": null,
   "id": "d6549c10-36d8-4d26-b219-5d695c1f6423",
   "metadata": {},
   "outputs": [],
   "source": []
  }
 ],
 "metadata": {
  "interpreter": {
   "hash": "d53ad3117a095ae8054c8109d8bba96b126685eaa545b8e3302aa5785bbc8499"
  },
  "kernelspec": {
   "display_name": "R",
   "language": "R",
   "name": "python397jvsc74a57bd0d53ad3117a095ae8054c8109d8bba96b126685eaa545b8e3302aa5785bbc8499"
  },
  "language_info": {
   "codemirror_mode": "r",
   "file_extension": ".r",
   "mimetype": "text/x-r-source",
   "name": "R",
   "pygments_lexer": "r",
   "version": "4.1.1"
  }
 },
 "nbformat": 4,
 "nbformat_minor": 5
}
