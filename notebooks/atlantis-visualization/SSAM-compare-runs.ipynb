{
 "cells": [
  {
   "attachments": {},
   "cell_type": "markdown",
   "id": "476a0ae3-a905-471a-b4b6-d723a2069801",
   "metadata": {},
   "source": [
    "Code scripts in R for comparing output of the Salish Sea Atlantis Model simulations using the [ReactiveAtlantis](https://github.com/Atlantis-Ecosystem-Model/ReactiveAtlantis) library. Output is displayed in a shiny app web browser."
   ]
  },
  {
   "cell_type": "code",
   "execution_count": 1,
   "id": "d3d53257-bf35-43cc-8713-b276634f1433",
   "metadata": {
    "vscode": {
     "languageId": "r"
    }
   },
   "outputs": [
    {
     "name": "stderr",
     "output_type": "stream",
     "text": [
      "Warning message:\n",
      "“package ‘shiny’ was built under R version 4.1.3”\n"
     ]
    }
   ],
   "source": [
    "# Load required libraries and set working directory\n",
    "\n",
    "library(ReactiveAtlantis)\n",
    "library(shiny)\n",
    "setwd(\"/ocean/rlovindeer/MOAD/analysis-raisha/SSmodel_outputs/\")"
   ]
  },
  {
   "cell_type": "code",
   "execution_count": 6,
   "id": "eec5dd6e",
   "metadata": {
    "vscode": {
     "languageId": "r"
    }
   },
   "outputs": [
    {
     "name": "stderr",
     "output_type": "stream",
     "text": [
      "\n",
      "Listening on http://127.0.0.1:3455\n",
      "\n"
     ]
    }
   ],
   "source": [
    "# SHIP SCRUBBER PROJECT \n",
    "# Compare two sets of runs [opens new shiny web app]\n",
    "\n",
    "nc.current <- 'Scrubber/v6699_discharge_100y_2029/outputSalishSea.nc'\n",
    "nc.old <- 'Scrubber/v6699_discharge_100y_2019/outputSalishSea.nc'\n",
    "grps.csv <- '/ocean/rlovindeer/Atlantis/salish-sea-atlantis-model/SS_grps.csv'\n",
    "bgm.file <- '/ocean/rlovindeer/Atlantis/salish-sea-atlantis-model/SS_xy.bgm'\n",
    "cum.depths <- c(0, 25, 50, 100, 250, 400, 700)\n",
    "compare(nc.current, nc.old, grps.csv, bgm.file, cum.depths)"
   ]
  },
  {
   "cell_type": "markdown",
   "id": "b8c57327",
   "metadata": {},
   "source": [
    "There seems to be very little difference between the runs for the different scenarios, and any differences that do appear are much later in the run (i.e. after 2060). These differences could be due more to the model's internal variability than the discharge, as Phenanthrene would have been out of the system  by then, and no impacts were observed immediately after the release, or even within 5 years afterwards. "
   ]
  },
  {
   "cell_type": "code",
   "execution_count": null,
   "id": "acfd6f44",
   "metadata": {
    "vscode": {
     "languageId": "r"
    }
   },
   "outputs": [],
   "source": [
    "# COMPARING CONTROL RUNS FOR CALIBRATION\n",
    "# Compare two sets of runs [opens new shiny web app]\n",
    "\n",
    "nc.current <- 'Sensitivity/v6699_control/outputSalishSea.nc'\n",
    "nc.old <- 'Control/v6666mod/outputSalishSea.nc'#'Control/v6666mod/outputSalishSea.nc'\n",
    "#nc.old <- 'Spills/TurnPoint_2020_control_100y/outputSalishSea.nc'\n",
    "grps.csv <- '/ocean/rlovindeer/Atlantis/salish-sea-atlantis-model/SS_grps.csv'\n",
    "bgm.file <- '/ocean/rlovindeer/Atlantis/salish-sea-atlantis-model/SS_xy.bgm'\n",
    "cum.depths <- c(0, 25, 50, 100, 250, 400, 700)\n",
    "compare(nc.current, nc.old, grps.csv, bgm.file, cum.depths)"
   ]
  },
  {
   "cell_type": "code",
   "execution_count": null,
   "id": "60a4bfc8",
   "metadata": {
    "vscode": {
     "languageId": "r"
    }
   },
   "outputs": [],
   "source": [
    "# SENSITIVITY - BUTTERFLY EFFECT\n",
    "# Compare two sets of runs [opens new shiny web app]\n",
    "\n",
    "nc.current <- 'Sensitivity/butterflyeffect_PLx2/outputSalishSea.nc'\n",
    "nc.old <- 'Scrubber/Scrubber_discharge_100y_control/outputSalishSea.nc'\n",
    "grps.csv <- '/ocean/rlovindeer/Atlantis/salish-sea-atlantis-model/SS_grps.csv'\n",
    "bgm.file <- '/ocean/rlovindeer/Atlantis/salish-sea-atlantis-model/SS_xy.bgm'\n",
    "cum.depths <- c(0, 25, 50, 100, 250, 400, 700)\n",
    "compare(nc.current, nc.old, grps.csv, bgm.file, cum.depths)"
   ]
  },
  {
   "cell_type": "code",
   "execution_count": null,
   "id": "aa5d5d87",
   "metadata": {
    "vscode": {
     "languageId": "r"
    }
   },
   "outputs": [],
   "source": []
  },
  {
   "cell_type": "code",
   "execution_count": null,
   "id": "eba882e8",
   "metadata": {
    "vscode": {
     "languageId": "r"
    }
   },
   "outputs": [],
   "source": [
    "# LIVING LABS PROJECT\n",
    "# Compare two sets of runs [opens new shiny web app]\n",
    "\n",
    "nc.current <- 'LivingLabs/climate_adjustedT_01/outputSalishSea.nc'\n",
    "nc.old <- 'LivingLabs/control_adjustedT_01/outputSalishSea.nc'\n",
    "grps.csv <- '/ocean/rlovindeer/Atlantis/salish-sea-atlantis-model/SS_grps.csv'\n",
    "bgm.file <- '/ocean/rlovindeer/Atlantis/salish-sea-atlantis-model/SS_xy.bgm'\n",
    "cum.depths <- c(0, 25, 50, 100, 250, 400, 700)\n",
    "compare(nc.current, nc.old, grps.csv, bgm.file, cum.depths)"
   ]
  },
  {
   "cell_type": "code",
   "execution_count": null,
   "id": "acfd6f44",
   "metadata": {
    "vscode": {
     "languageId": "r"
    }
   },
   "outputs": [],
   "source": [
    "# Compare two sets of runs [opens new shiny web app]\n",
    "\n",
    "nc.current <- 'Control_00SS_Oct28_chexkNH/outputSalishSea.nc'\n",
    "nc.old <- 'Control_00SS_Oct28_chexkNH/outputSalishSea.nc'\n",
    "grps.csv <- '/ocean/rlovindeer/Atlantis/salish-sea-atlantis-model/SS_grps.csv'\n",
    "bgm.file <- '/ocean/rlovindeer/Atlantis/salish-sea-atlantis-model/SS_xy.bgm'\n",
    "cum.depths <- c(0, 25, 50, 100, 250, 400, 700)\n",
    "compare(nc.current, nc.out.old = NULL, grps.csv, bgm.file, cum.depths)"
   ]
  }
 ],
 "metadata": {
  "interpreter": {
   "hash": "d53ad3117a095ae8054c8109d8bba96b126685eaa545b8e3302aa5785bbc8499"
  },
  "kernelspec": {
   "display_name": "R",
   "language": "R",
   "name": "ir"
  },
  "language_info": {
   "codemirror_mode": "r",
   "file_extension": ".r",
   "mimetype": "text/x-r-source",
   "name": "R",
   "pygments_lexer": "r",
   "version": "4.1.1"
  }
 },
 "nbformat": 4,
 "nbformat_minor": 5
}
