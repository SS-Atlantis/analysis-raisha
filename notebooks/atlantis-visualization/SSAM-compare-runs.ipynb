{
 "cells": [
  {
   "cell_type": "markdown",
   "id": "476a0ae3-a905-471a-b4b6-d723a2069801",
   "metadata": {},
   "source": [
    "Code scripts in R for comparing output of the Salish Sea Atlantis Model simulations using the [ReactiveAtlantis](https://github.com/Atlantis-Ecosystem-Model/ReactiveAtlantis) library. Output is displayed in a shiny app web browser."
   ]
  },
  {
   "cell_type": "code",
   "execution_count": 1,
   "id": "d3d53257-bf35-43cc-8713-b276634f1433",
   "metadata": {},
   "outputs": [],
   "source": [
    "# Load required libraries and set working directory\n",
    "\n",
    "library(ReactiveAtlantis)\n",
    "library(shiny)\n",
    "setwd(\"/ocean/rlovindeer/MOAD/analysis-raisha/SSmodel_outputs/\")"
   ]
  },
  {
   "cell_type": "code",
   "execution_count": 2,
   "id": "cdbcc8a0-15ec-4560-958e-5e657d230edb",
   "metadata": {},
   "outputs": [
    {
     "name": "stderr",
     "output_type": "stream",
     "text": [
      "\n",
      "Listening on http://127.0.0.1:5035\n",
      "\n",
      "Warning message:\n",
      "“Removed 129 row(s) containing missing values (geom_path).”\n",
      "Warning message:\n",
      "“Error in xy.coords: 'x' and 'y' lengths differ”\n",
      "Warning message:\n",
      "“Error in xy.coords: 'x' and 'y' lengths differ”\n",
      "Warning message:\n",
      "“Error in legend: 'legend' is of length 0”\n",
      "Warning message:\n",
      "“Error in xy.coords: 'x' and 'y' lengths differ”\n",
      "Warning message:\n",
      "“Error in [: subscript out of bounds”\n",
      "Warning message:\n",
      "“Error in [: subscript out of bounds”\n",
      "Warning message:\n",
      "“Error in [: subscript out of bounds”\n",
      "Warning message:\n",
      "“Error in [: subscript out of bounds”\n",
      "Warning message:\n",
      "“Error in [: subscript out of bounds”\n",
      "Warning message:\n",
      "“Error in [: subscript out of bounds”\n"
     ]
    }
   ],
   "source": [
    "# Compare two sets of runs [opens new shiny web app]\n",
    "\n",
    "nc.current <- '14yHydro_updatedBio/outputSalishSea.nc'\n",
    "nc.old <- '40yRun_new14yHydro/outputSalishSea.nc'\n",
    "grps.csv <- '/ocean/rlovindeer/Atlantis/salish-sea-atlantis-model/SS_grps.csv'\n",
    "bgm.file <- '/ocean/rlovindeer/Atlantis/salish-sea-atlantis-model/SS_xy.bgm'\n",
    "cum.depths <- c(0, 25, 50, 100, 250, 400, 700)\n",
    "compare(nc.current, nc.old, grps.csv, bgm.file, cum.depths)"
   ]
  },
  {
   "cell_type": "code",
   "execution_count": null,
   "id": "d6549c10-36d8-4d26-b219-5d695c1f6423",
   "metadata": {},
   "outputs": [],
   "source": []
  }
 ],
 "metadata": {
  "kernelspec": {
   "display_name": "R",
   "language": "R",
   "name": "python3710jvsc74a57bd03f0da13ba816d78c67ce91c6a93e83d05810da3359142e0c7380ae57dcf77b58"
  },
  "language_info": {
   "codemirror_mode": "r",
   "file_extension": ".r",
   "mimetype": "text/x-r-source",
   "name": "R",
   "pygments_lexer": "r",
   "version": "4.1.1"
  }
 },
 "nbformat": 4,
 "nbformat_minor": 5
}
