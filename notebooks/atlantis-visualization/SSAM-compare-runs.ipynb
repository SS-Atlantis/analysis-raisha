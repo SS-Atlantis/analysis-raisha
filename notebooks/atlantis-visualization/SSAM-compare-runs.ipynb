{
 "cells": [
  {
   "attachments": {},
   "cell_type": "markdown",
   "id": "476a0ae3-a905-471a-b4b6-d723a2069801",
   "metadata": {},
   "source": [
    "Code scripts in R for comparing output of the Salish Sea Atlantis Model simulations using the [ReactiveAtlantis](https://github.com/Atlantis-Ecosystem-Model/ReactiveAtlantis) library. Output is displayed in a shiny app web browser."
   ]
  },
  {
   "cell_type": "code",
   "execution_count": 1,
   "id": "d3d53257-bf35-43cc-8713-b276634f1433",
   "metadata": {
    "vscode": {
     "languageId": "r"
    }
   },
   "outputs": [
    {
     "name": "stderr",
     "output_type": "stream",
     "text": [
      "Warning message:\n",
      "“package ‘shiny’ was built under R version 4.1.3”\n"
     ]
    }
   ],
   "source": [
    "# Load required libraries and set working directory\n",
    "\n",
    "library(ReactiveAtlantis)\n",
    "library(shiny)\n",
    "setwd(\"/ocean/rlovindeer/MOAD/analysis-raisha/SSmodel_outputs/\")"
   ]
  },
  {
   "cell_type": "code",
   "execution_count": 4,
   "id": "acfd6f44",
   "metadata": {
    "vscode": {
     "languageId": "r"
    }
   },
   "outputs": [
    {
     "name": "stderr",
     "output_type": "stream",
     "text": [
      "\n",
      "Listening on http://127.0.0.1:3455\n",
      "\n"
     ]
    }
   ],
   "source": [
    "# COMPARING CONTROL RUNS FOR CALIBRATION\n",
    "# Compare two sets of runs [opens new shiny web app]\n",
    "\n",
    "nc.current <- 'Sensitivity/v6699_control/outputSalishSea.nc'\n",
    "nc.old <- 'Control/v6666mod/outputSalishSea.nc'#'Control/v6666mod/outputSalishSea.nc'\n",
    "#nc.old <- 'Spills/TurnPoint_2020_control_100y/outputSalishSea.nc'\n",
    "grps.csv <- '/ocean/rlovindeer/Atlantis/salish-sea-atlantis-model/SS_grps.csv'\n",
    "bgm.file <- '/ocean/rlovindeer/Atlantis/salish-sea-atlantis-model/SS_xy.bgm'\n",
    "cum.depths <- c(0, 25, 50, 100, 250, 400, 700)\n",
    "compare(nc.current, nc.old, grps.csv, bgm.file, cum.depths)"
   ]
  },
  {
   "cell_type": "markdown",
   "id": "3bf257cf",
   "metadata": {},
   "source": [
    "Calibration for the newer model (version 6699) is on-going, with a much higher number of species (16) not yet calibrated to usefulness. These include all species from v6666 except Pacific Herring, which was fixed. Also requiring better calibration are other important species such as:\n",
    "- macroalgae\n",
    "- crabs\n",
    "- benthic grazers and carnivores\n",
    "- hake, pink salmon\n",
    "- rockfish, dogfish, skates\n",
    "\n",
    "Control/v6666mod/outputSalishSea.nc had only 7 bio groups that were not acceptable for their output to be used. These were:\n",
    "- benthic filter feeders\n",
    "- chinook salmon\n",
    "- pacific herring\n",
    "- pollock\n",
    "- sandlance\n",
    "- sediment bacteria\n",
    "- small demersal fish"
   ]
  },
  {
   "cell_type": "code",
   "execution_count": null,
   "id": "60a4bfc8",
   "metadata": {
    "vscode": {
     "languageId": "r"
    }
   },
   "outputs": [],
   "source": [
    "# SENSITIVITY - BUTTERFLY EFFECT\n",
    "# Compare two sets of runs [opens new shiny web app]\n",
    "\n",
    "nc.current <- 'Sensitivity/butterflyeffect_PLx2/outputSalishSea.nc'\n",
    "nc.old <- 'Scrubber/Scrubber_discharge_100y_control/outputSalishSea.nc'\n",
    "grps.csv <- '/ocean/rlovindeer/Atlantis/salish-sea-atlantis-model/SS_grps.csv'\n",
    "bgm.file <- '/ocean/rlovindeer/Atlantis/salish-sea-atlantis-model/SS_xy.bgm'\n",
    "cum.depths <- c(0, 25, 50, 100, 250, 400, 700)\n",
    "compare(nc.current, nc.old, grps.csv, bgm.file, cum.depths)"
   ]
  },
  {
   "cell_type": "code",
   "execution_count": null,
   "id": "aa5d5d87",
   "metadata": {
    "vscode": {
     "languageId": "r"
    }
   },
   "outputs": [],
   "source": [
    "# SHIP SCRUBBER PROJECT \n",
    "# Compare two sets of runs [opens new shiny web app]\n",
    "\n",
    "nc.current <- 'Scrubber/Scrubber_discharge_100y_2029/outputSalishSea.nc'\n",
    "nc.old <- 'Scrubber/Scrubber_discharge_100y_2019/outputSalishSea.nc'\n",
    "grps.csv <- '/ocean/rlovindeer/Atlantis/salish-sea-atlantis-model/SS_grps.csv'\n",
    "bgm.file <- '/ocean/rlovindeer/Atlantis/salish-sea-atlantis-model/SS_xy.bgm'\n",
    "cum.depths <- c(0, 25, 50, 100, 250, 400, 700)\n",
    "compare(nc.current, nc.old, grps.csv, bgm.file, cum.depths)"
   ]
  },
  {
   "cell_type": "code",
   "execution_count": null,
   "id": "eba882e8",
   "metadata": {
    "vscode": {
     "languageId": "r"
    }
   },
   "outputs": [],
   "source": [
    "# LIVING LABS PROJECT\n",
    "# Compare two sets of runs [opens new shiny web app]\n",
    "\n",
    "nc.current <- 'LivingLabs/climate_adjustedT_01/outputSalishSea.nc'\n",
    "nc.old <- 'LivingLabs/control_adjustedT_01/outputSalishSea.nc'\n",
    "grps.csv <- '/ocean/rlovindeer/Atlantis/salish-sea-atlantis-model/SS_grps.csv'\n",
    "bgm.file <- '/ocean/rlovindeer/Atlantis/salish-sea-atlantis-model/SS_xy.bgm'\n",
    "cum.depths <- c(0, 25, 50, 100, 250, 400, 700)\n",
    "compare(nc.current, nc.old, grps.csv, bgm.file, cum.depths)"
   ]
  },
  {
   "cell_type": "code",
   "execution_count": null,
   "id": "acfd6f44",
   "metadata": {
    "vscode": {
     "languageId": "r"
    }
   },
   "outputs": [],
   "source": [
    "# Compare two sets of runs [opens new shiny web app]\n",
    "\n",
    "nc.current <- 'Control_00SS_Oct28_chexkNH/outputSalishSea.nc'\n",
    "nc.old <- 'Control_00SS_Oct28_chexkNH/outputSalishSea.nc'\n",
    "grps.csv <- '/ocean/rlovindeer/Atlantis/salish-sea-atlantis-model/SS_grps.csv'\n",
    "bgm.file <- '/ocean/rlovindeer/Atlantis/salish-sea-atlantis-model/SS_xy.bgm'\n",
    "cum.depths <- c(0, 25, 50, 100, 250, 400, 700)\n",
    "compare(nc.current, nc.out.old = NULL, grps.csv, bgm.file, cum.depths)"
   ]
  }
 ],
 "metadata": {
  "interpreter": {
   "hash": "d53ad3117a095ae8054c8109d8bba96b126685eaa545b8e3302aa5785bbc8499"
  },
  "kernelspec": {
   "display_name": "R",
   "language": "R",
   "name": "ir"
  },
  "language_info": {
   "codemirror_mode": "r",
   "file_extension": ".r",
   "mimetype": "text/x-r-source",
   "name": "R",
   "pygments_lexer": "r",
   "version": "4.1.1"
  }
 },
 "nbformat": 4,
 "nbformat_minor": 5
}
