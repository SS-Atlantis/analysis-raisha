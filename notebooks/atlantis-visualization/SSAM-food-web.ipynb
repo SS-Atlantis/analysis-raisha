{
 "cells": [
  {
   "cell_type": "markdown",
   "id": "3dfeebc3-6c35-48f3-803d-1af0dc888633",
   "metadata": {},
   "source": [
    "Code scripts in R for examining food web dynamics (including predation, recruitment, and growth of primary producers) from an output file of a Salish Sea Atlantis Model simulation using the [ReactiveAtlantis](https://github.com/Atlantis-Ecosystem-Model/ReactiveAtlantis) library. Output for each cell is displayed in a new shiny app web browser."
   ]
  },
  {
   "cell_type": "code",
   "execution_count": 1,
   "id": "a638b2d8-d3a5-4b8f-9cd6-8947d3bcce20",
   "metadata": {},
   "outputs": [],
   "source": [
    "# Load required libraries and set working directory\n",
    "\n",
    "library(ReactiveAtlantis)\n",
    "setwd(\"/ocean/rlovindeer/MOAD/analysis-raisha/SSmodel_outputs/14yHydro_updatedBio/\")"
   ]
  },
  {
   "cell_type": "code",
   "execution_count": 2,
   "id": "7ba190d6-e35f-46ac-8387-25bbef87f2fd",
   "metadata": {},
   "outputs": [],
   "source": [
    "# Assign variables\n",
    "\n",
    "grps.csv   <- 'groups.csv'\n",
    "nc.initial <- 'init_conditions.nc'\n",
    "prm.file   <- 'biology.prm'\n",
    "nc.current <- 'outputSalishSea.nc'\n",
    "diet.file  <- 'outputSalishSeaDietCheck.txt'\n",
    "bio.age    <- 'outputSalishSeaAgeBiomIndx.txt'\n",
    "biom       <- 'outputSalishSeaBiomIndx.txt'\n",
    "yoy.file   <- 'outputSalishSeaYOY.txt'\n"
   ]
  },
  {
   "cell_type": "code",
   "execution_count": 3,
   "id": "470fd48a-50c1-4f6c-bd4f-e104b119b603",
   "metadata": {},
   "outputs": [
    {
     "name": "stderr",
     "output_type": "stream",
     "text": [
      "Loading required package: shiny\n",
      "\n",
      "\n",
      "Listening on http://127.0.0.1:4535\n",
      "\n"
     ]
    }
   ],
   "source": [
    "# Examine food web structure\n",
    "food.web(diet.file, grps.csv)"
   ]
  },
  {
   "cell_type": "code",
   "execution_count": null,
   "id": "9fc6d031-2549-4f23-bbad-ec3189a7ac8e",
   "metadata": {},
   "outputs": [],
   "source": [
    "# Examine food web by polygon\n",
    "# ONLY IF \"flagdietcheck\" option was ON in Run.prm file to get DetailedDietCheck.txt\n",
    "\n",
    "diet.file.bypol <- 'outputSalishSeaDetailedDietCheck.txt'\n",
    "food.web(diet.file, grps.csv, diet.file.bypol)"
   ]
  },
  {
   "cell_type": "code",
   "execution_count": 5,
   "id": "ad574a10-06dc-40f4-83b5-7c4c5c3f8860",
   "metadata": {},
   "outputs": [
    {
     "name": "stderr",
     "output_type": "stream",
     "text": [
      "Loading required package: shiny\n",
      "\n",
      "\n",
      "Listening on http://127.0.0.1:6840\n",
      "\n",
      "Warning message:\n",
      "“Error in apply: dim(X) must have a positive length”\n",
      "Warning message:\n",
      "“Error in apply: dim(X) must have a positive length”\n"
     ]
    }
   ],
   "source": [
    "## Primary Producers\n",
    "\n",
    "# Growth of primary producers and their limiting factors\n",
    "growth.pp(nc.initial, grps.csv, prm.file, nc.current)"
   ]
  },
  {
   "cell_type": "code",
   "execution_count": 4,
   "metadata": {},
   "outputs": [
    {
     "ename": "ERROR",
     "evalue": "Error in if (grepl(\"#\", tmp[1]) || (!grepl(\"^pPREY\", tmp[1]) && pprey == : missing value where TRUE/FALSE needed\n",
     "output_type": "error",
     "traceback": [
      "Error in if (grepl(\"#\", tmp[1]) || (!grepl(\"^pPREY\", tmp[1]) && pprey == : missing value where TRUE/FALSE needed\nTraceback:\n",
      "1. recruitment.cal(nc.initial, nc.current, yoy.file, grps.csv, prm.file)",
      "2. text2num(prm, paste0(\"\\\\bFSPB_\", sps[fg.r], \"\\\\b\"), FG = sps[fg.r], \n .     Vector = TRUE)"
     ]
    }
   ],
   "source": [
    "## Higher trophic levels\n",
    "\n",
    "# Examine recruitment & primary production\n",
    "recruitment.cal(nc.initial, nc.current, yoy.file, grps.csv, prm.file)"
   ]
  },
  {
   "cell_type": "code",
   "execution_count": 5,
   "id": "baff133c-26a0-4700-aa13-83b40fb87487",
   "metadata": {},
   "outputs": [
    {
     "ename": "ERROR",
     "evalue": "Error in predation(biom, grps.csv, diet.file, bio.age = NULL): unused argument (bio.age = NULL)\n",
     "output_type": "error",
     "traceback": [
      "Error in predation(biom, grps.csv, diet.file, bio.age = NULL): unused argument (bio.age = NULL)\nTraceback:\n"
     ]
    }
   ],
   "source": [
    "# Examine predation without age structure\n",
    "predation(biom, grps.csv, diet.file, bio.age = NULL)"
   ]
  },
  {
   "cell_type": "code",
   "execution_count": 4,
   "id": "506caa2a-0fbe-4ff7-833e-207945b354a3",
   "metadata": {},
   "outputs": [
    {
     "name": "stderr",
     "output_type": "stream",
     "text": [
      "\n",
      "Listening on http://127.0.0.1:4535\n",
      "\n",
      "Warning message:\n",
      "“Error in : id variables not found in data: Time”\n",
      "Warning message:\n",
      "“position_stack requires non-overlapping x intervals”\n",
      "Warning message:\n",
      "“position_stack requires non-overlapping x intervals”\n",
      "Warning message:\n",
      "“position_stack requires non-overlapping x intervals”\n",
      "Warning message:\n",
      "“position_stack requires non-overlapping x intervals”\n",
      "Warning message:\n",
      "“Error in : id variables not found in data: Time”\n",
      "Warning message:\n",
      "“position_stack requires non-overlapping x intervals”\n",
      "Warning message:\n",
      "“position_stack requires non-overlapping x intervals”\n",
      "Warning message:\n",
      "“position_stack requires non-overlapping x intervals”\n",
      "Warning message:\n",
      "“Error in : id variables not found in data: Time”\n",
      "Warning message:\n",
      "“position_stack requires non-overlapping x intervals”\n",
      "Warning message:\n",
      "“Error in : id variables not found in data: Time”\n",
      "Warning message:\n",
      "“Error in : id variables not found in data: Time”\n",
      "Warning message:\n",
      "“position_stack requires non-overlapping x intervals”\n",
      "Warning message:\n",
      "“position_stack requires non-overlapping x intervals”\n",
      "Warning message:\n",
      "“Error in : id variables not found in data: Time”\n",
      "Warning message:\n",
      "“Error in : id variables not found in data: Time”\n",
      "Warning message:\n",
      "“position_stack requires non-overlapping x intervals”\n",
      "Warning message:\n",
      "“Error in : id variables not found in data: Time”\n",
      "Warning message:\n",
      "“position_stack requires non-overlapping x intervals”\n",
      "Warning message:\n",
      "“Error in : id variables not found in data: Time”\n",
      "Warning message:\n",
      "“position_stack requires non-overlapping x intervals”\n",
      "Warning message:\n",
      "“Error in : id variables not found in data: Time”\n",
      "Warning message:\n",
      "“Error in : id variables not found in data: Time”\n",
      "Warning message:\n",
      "“Error in : id variables not found in data: Time”\n",
      "Warning message:\n",
      "“Error in : id variables not found in data: Time”\n",
      "Warning message:\n",
      "“Error in : id variables not found in data: Time”\n"
     ]
    }
   ],
   "source": [
    "# Examine predation by age\n",
    "predation(biom, grps.csv, diet.file, bio.age)"
   ]
  },
  {
   "cell_type": "code",
   "execution_count": null,
   "id": "94f74424-2cde-4d01-880d-1d64ab77131d",
   "metadata": {},
   "outputs": [],
   "source": []
  }
 ],
 "metadata": {
  "kernelspec": {
   "display_name": "R",
   "language": "R",
   "name": "python3710jvsc74a57bd03f0da13ba816d78c67ce91c6a93e83d05810da3359142e0c7380ae57dcf77b58"
  },
  "language_info": {
   "codemirror_mode": "r",
   "file_extension": ".r",
   "mimetype": "text/x-r-source",
   "name": "R",
   "pygments_lexer": "r",
   "version": "4.1.1"
  }
 },
 "nbformat": 4,
 "nbformat_minor": 5
}
