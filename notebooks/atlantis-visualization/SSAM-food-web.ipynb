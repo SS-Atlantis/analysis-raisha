{
 "cells": [
  {
   "attachments": {},
   "cell_type": "markdown",
   "id": "3dfeebc3-6c35-48f3-803d-1af0dc888633",
   "metadata": {},
   "source": [
    "Code scripts in R for examining food web dynamics (including predation, recruitment, and growth of primary producers) from an output file of a Salish Sea Atlantis Model simulation using the [ReactiveAtlantis](https://github.com/Atlantis-Ecosystem-Model/ReactiveAtlantis) library. Output for each cell is displayed in a new shiny app web browser."
   ]
  },
  {
   "cell_type": "code",
   "execution_count": 1,
   "id": "a638b2d8-d3a5-4b8f-9cd6-8947d3bcce20",
   "metadata": {
    "vscode": {
     "languageId": "r"
    }
   },
   "outputs": [],
   "source": [
    "# Load required libraries and set working directory\n",
    "library(ReactiveAtlantis)"
   ]
  },
  {
   "cell_type": "code",
   "execution_count": 2,
   "id": "7ba190d6-e35f-46ac-8387-25bbef87f2fd",
   "metadata": {
    "vscode": {
     "languageId": "r"
    }
   },
   "outputs": [],
   "source": [
    "# Assign variables\n",
    "setwd(\"/ocean/rlovindeer/MOAD/analysis-raisha/SSmodel_outputs/Tests/v6719_50y_VBITBUCKET_mLZS015-ZL015-mumFHE-ORTpprey-ddmove0-2/\")\n",
    "\n",
    "grps.csv   <- 'groups.csv'\n",
    "nc.initial <- 'init_conditions.nc'\n",
    "prm.file   <- 'biology.prm'\n",
    "nc.current <- 'outputSalishSea.nc'\n",
    "diet.file  <- 'outputSalishSeaDietCheck.txt'\n",
    "#diet.file.bypol <- 'outputSalishSeaDetailedDietCheck.txt' \n",
    "bio.age    <- 'outputSalishSeaAgeBiomIndx.txt'\n",
    "biom       <- 'outputSalishSeaBiomIndx.txt'\n",
    "yoy.file   <- 'outputSalishSeaYOY.txt'\n",
    "bgm.file   <- 'SS_xy.bgm'\n",
    "cum.depths <- c(0, 25, 50, 100, 250, 400, 700)\n"
   ]
  },
  {
   "cell_type": "code",
   "execution_count": 2,
   "id": "9ce78aef",
   "metadata": {
    "vscode": {
     "languageId": "r"
    }
   },
   "outputs": [],
   "source": [
    "# Assign variables\n",
    "setwd(\"/ocean/rlovindeer/MOAD/analysis-raisha/SSmodel_outputs/Tests/v6719_50y_RL-pprey2-ddmove0/\")\n",
    "\n",
    "grps.csv   <- 'groups.csv'\n",
    "nc.initial <- 'init_conditions.nc'\n",
    "prm.file   <- 'biology.prm'\n",
    "nc.current <- 'outputSalishSea.nc'\n",
    "diet.file  <- 'outputSalishSeaDietCheck.txt'\n",
    "#diet.file.bypol <- 'outputSalishSeaDetailedDietCheck.txt' \n",
    "bio.age    <- 'outputSalishSeaAgeBiomIndx.txt'\n",
    "biom       <- 'outputSalishSeaBiomIndx.txt'\n",
    "yoy.file   <- 'outputSalishSeaYOY.txt'\n",
    "bgm.file   <- 'SS_xy.bgm'\n",
    "cum.depths <- c(0, 25, 50, 100, 250, 400, 700)"
   ]
  },
  {
   "cell_type": "code",
   "execution_count": 2,
   "id": "4fc2c138",
   "metadata": {
    "vscode": {
     "languageId": "r"
    }
   },
   "outputs": [],
   "source": [
    "# Assign variables\n",
    "setwd(\"/ocean/rlovindeer/MOAD/analysis-raisha/SSmodel_outputs/Tests/v6719_50y_VBITBUCKET_mLZS015-ZL015-mumFHE-ORTpprey2-ddmove0/\")\n",
    "\n",
    "grps.csv   <- 'groups.csv'\n",
    "nc.initial <- 'init_conditions.nc'\n",
    "prm.file   <- 'biology.prm'\n",
    "nc.current <- 'outputSalishSea.nc'\n",
    "diet.file  <- 'outputSalishSeaDietCheck.txt'\n",
    "#diet.file.bypol <- 'outputSalishSeaDetailedDietCheck.txt' \n",
    "bio.age    <- 'outputSalishSeaAgeBiomIndx.txt'\n",
    "biom       <- 'outputSalishSeaBiomIndx.txt'\n",
    "yoy.file   <- 'outputSalishSeaYOY.txt'\n",
    "bgm.file   <- 'SS_xy.bgm'\n",
    "cum.depths <- c(0, 25, 50, 100, 250, 400, 700)"
   ]
  },
  {
   "cell_type": "code",
   "execution_count": 12,
   "id": "7dbb9562",
   "metadata": {
    "vscode": {
     "languageId": "r"
    }
   },
   "outputs": [],
   "source": [
    "# Assign variables\n",
    "setwd(\"/ocean/rlovindeer/MOAD/analysis-raisha/SSmodel_outputs/Tests/v6719_50y_VBITBUCKET/\")\n",
    "\n",
    "grps.csv   <- 'groups.csv'\n",
    "nc.initial <- 'init_conditions.nc'\n",
    "prm.file   <- 'biology.prm'\n",
    "nc.current <- 'outputSalishSea.nc'\n",
    "diet.file  <- 'outputSalishSeaDietCheck.txt'\n",
    "#diet.file.bypol <- 'outputSalishSeaDetailedDietCheck.txt' \n",
    "bio.age    <- 'outputSalishSeaAgeBiomIndx.txt'\n",
    "biom       <- 'outputSalishSeaBiomIndx.txt'\n",
    "yoy.file   <- 'outputSalishSeaYOY.txt'\n",
    "bgm.file   <- 'SS_xy.bgm'\n",
    "cum.depths <- c(0, 25, 50, 100, 250, 400, 700)"
   ]
  },
  {
   "cell_type": "code",
   "execution_count": 3,
   "id": "470fd48a-50c1-4f6c-bd4f-e104b119b603",
   "metadata": {
    "vscode": {
     "languageId": "r"
    }
   },
   "outputs": [
    {
     "name": "stderr",
     "output_type": "stream",
     "text": [
      "Loading required package: shiny\n",
      "\n",
      "Warning message:\n",
      "“package ‘shiny’ was built under R version 4.1.3”\n",
      "\n",
      "Listening on http://127.0.0.1:4229\n",
      "\n"
     ]
    }
   ],
   "source": [
    "# Examine food web structure\n",
    "food.web(diet.file, grps.csv)"
   ]
  },
  {
   "cell_type": "markdown",
   "id": "546edd99",
   "metadata": {},
   "source": [
    "File v6719_50y_VBITBUCKET_mLZS015-ZL015-mumFHE-ORTpprey-ddmove0-2 has Pacific Herring as a keystone species within the food web, as we want and expect for the Salish Sea."
   ]
  },
  {
   "cell_type": "code",
   "execution_count": null,
   "id": "9fc6d031-2549-4f23-bbad-ec3189a7ac8e",
   "metadata": {
    "vscode": {
     "languageId": "r"
    }
   },
   "outputs": [],
   "source": [
    "# Examine food web by polygon\n",
    "# ONLY IF \"flagdietcheck\" option was ON in Run.prm file to get DetailedDietCheck.txt\n",
    "food.web(diet.file, grps.csv, diet.file.bypol)"
   ]
  },
  {
   "cell_type": "code",
   "execution_count": null,
   "id": "ad574a10-06dc-40f4-83b5-7c4c5c3f8860",
   "metadata": {
    "vscode": {
     "languageId": "r"
    }
   },
   "outputs": [],
   "source": [
    "## Primary Producers\n",
    "\n",
    "# Growth of primary producers and their limiting factors\n",
    "growth.pp(nc.initial, grps.csv, prm.file, nc.current)"
   ]
  },
  {
   "cell_type": "code",
   "execution_count": null,
   "id": "fa62bb25",
   "metadata": {
    "vscode": {
     "languageId": "r"
    }
   },
   "outputs": [],
   "source": [
    "## Higher trophic levels\n",
    "\n",
    "# Examine recruitment & primary production\n",
    "recruitment.cal(nc.initial, nc.current, yoy.file, grps.csv, prm.file)"
   ]
  },
  {
   "cell_type": "code",
   "execution_count": null,
   "id": "baff133c-26a0-4700-aa13-83b40fb87487",
   "metadata": {
    "vscode": {
     "languageId": "r"
    }
   },
   "outputs": [],
   "source": [
    "# Examine predation without age structure\n",
    "predation(biom, grps.csv, diet.file)"
   ]
  },
  {
   "cell_type": "code",
   "execution_count": null,
   "id": "506caa2a-0fbe-4ff7-833e-207945b354a3",
   "metadata": {
    "vscode": {
     "languageId": "r"
    }
   },
   "outputs": [],
   "source": [
    "# Examine predation by age\n",
    "predation(biom, grps.csv, diet.file, bio.age)"
   ]
  },
  {
   "cell_type": "code",
   "execution_count": null,
   "id": "de447eec",
   "metadata": {
    "vscode": {
     "languageId": "r"
    }
   },
   "outputs": [],
   "source": [
    "# Pprey matrix\n",
    "\n",
    "feeding.mat(prm.file, grps.csv, nc.initial, bgm.file, cum.depths)"
   ]
  }
 ],
 "metadata": {
  "kernelspec": {
   "display_name": "R",
   "language": "R",
   "name": "ir"
  },
  "language_info": {
   "codemirror_mode": "r",
   "file_extension": ".r",
   "mimetype": "text/x-r-source",
   "name": "R",
   "pygments_lexer": "r",
   "version": "4.1.1"
  },
  "vscode": {
   "interpreter": {
    "hash": "d53ad3117a095ae8054c8109d8bba96b126685eaa545b8e3302aa5785bbc8499"
   }
  }
 },
 "nbformat": 4,
 "nbformat_minor": 5
}
