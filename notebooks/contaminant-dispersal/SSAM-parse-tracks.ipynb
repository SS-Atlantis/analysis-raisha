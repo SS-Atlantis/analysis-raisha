{
 "cells": [
  {
   "cell_type": "markdown",
   "id": "86998645-3900-4149-8e24-87848fcecfed",
   "metadata": {},
   "source": [
    "Mapping particle tracks from Ocean Parcels unto the Salish Sea Atlantis Boxes. \n",
    "Original code written by Bec Gordon & Javier Porobic, CSIRO.\n",
    "Link to the [SSAM Ocean Parcels Repo](https://bitbucket.csiro.au/users/por07g/repos/ssam_oceanparcels/browse)"
   ]
  },
  {
   "cell_type": "code",
   "execution_count": 65,
   "id": "7466c5ef-90a0-41dc-b369-b13499b1e5f3",
   "metadata": {},
   "outputs": [],
   "source": [
    "import os\n",
    "import xarray as xr\n",
    "import numpy as np\n",
    "import geopandas as gpd\n",
    "import pandas as pd\n",
    "import matplotlib.path as mplPath\n",
    "import shapefile\n",
    "from netCDF4 import Dataset\n",
    "import dateutil.parser\n",
    "from shapely.geometry import Polygon, Point"
   ]
  },
  {
   "cell_type": "code",
   "execution_count": 66,
   "id": "b042afee-ffe7-4f27-965b-169a51b1d156",
   "metadata": {},
   "outputs": [],
   "source": [
    "shapefile_name = \"/ocean/rlovindeer/Atlantis/ssam_oceanparcels/SalishSea/SalishSea_July172019_2/SalishSea_July172019.shp\"\n",
    "data_df = gpd.read_file(shapefile_name)"
   ]
  },
  {
   "cell_type": "code",
   "execution_count": 67,
   "id": "287a6be2",
   "metadata": {},
   "outputs": [
    {
     "name": "stdout",
     "output_type": "stream",
     "text": [
      "\n",
      "Scenario running  : 5b_Turn_Point_Diluted_bitumen\n"
     ]
    }
   ],
   "source": [
    "# Oil type properties & spill location selection\n",
    "\n",
    "bitumen = {\n",
    "    \"Weight\": 1.0219,\n",
    "    \"Naphthalene\": 0.024,\n",
    "    \"Phenanthrene\": 0.017,\n",
    "    \"Pyrene\": 0.010,\n",
    "    \"Benzo\": 0.003,\n",
    "}\n",
    "\n",
    "BunkerC = {\n",
    "    \"Weight\": 1.0178,\n",
    "    \"Naphthalene\": 0.680,\n",
    "    \"Phenanthrene\": 0.796,\n",
    "    \"Pyrene\": 0.266,\n",
    "    \"Benzo\": 0.056,\n",
    "}\n",
    "\n",
    "Diesel = {\n",
    "    \"Weight\": 0.8416,\n",
    "    \"Naphthalene\": 3.664,\n",
    "    \"Phenanthrene\": 1.000,\n",
    "    \"Pyrene\": 0.000,\n",
    "    \"Benzo\": 0.000,\n",
    "}\n",
    "\n",
    "Crude = {\n",
    "    \"Weight\": 0.9336,\n",
    "    \"Naphthalene\": 0.654,\n",
    "    \"Phenanthrene\": 0.327,\n",
    "    \"Pyrene\": 0.013,\n",
    "    \"Benzo\": 0.002,\n",
    "}\n",
    "\n",
    "fuel_type = {\n",
    "    \"bitumen\" : bitumen,\n",
    "    \"BunkerC\" : BunkerC,\n",
    "    \"Diesel\" : Diesel,\n",
    "    \"Crude\" : Crude,\n",
    "}\n",
    "\n",
    "file_id = int(input( ))\n",
    "scenario = {1 : \"5b_Turn_Point_Diluted_bitumen\",\n",
    "            2 : \"6a_VancouverHarbour_BunkerC\",\n",
    "            3 : \"7a_JohnsonStrait_BunkerC\",\n",
    "            4 : \"4a_ActivePass_Diesel\",}\n",
    "\n",
    "print(\"\\nScenario running  :\", scenario[file_id], sep = \" \")"
   ]
  },
  {
   "cell_type": "code",
   "execution_count": 68,
   "id": "688d4662",
   "metadata": {},
   "outputs": [],
   "source": [
    "# Spill release times\n",
    "release_start = '2018-01-01'  ## winter starts in December, Summer in Jul - Aug\n",
    "release_end = '2018-01-02'\n",
    "release_YYYYMM = '2018-01'\n",
    "spill_volume = 2e6\n",
    "release_start_time = np.datetime64(release_start)\n",
    "#inputFileName = scenario[file_id] + str(release_start_time) + '_oil_disperse.nc'\n",
    "inputFileName = '5b_Turn_Point_Diluted_bitumen2018-01-01_nodecay.nc'\n"
   ]
  },
  {
   "cell_type": "code",
   "execution_count": 69,
   "id": "2c6fc666-b03b-481c-aed1-cc09da61257d",
   "metadata": {},
   "outputs": [],
   "source": [
    "numLayers = 7;\n",
    "numSites = data_df.shape[0]\n",
    "numTargetSites = numSites\n",
    "\n",
    "#outputDT = 60*60\n",
    "outputDT = 43200\n",
    "\n",
    "stepsPerDay = int(86400.0/ outputDT);\n",
    "#numStepsPerDT = stepsPerDay;\n",
    "numStepsPerDT = int(outputDT/3600.0)\n",
    "\n",
    "debug = False"
   ]
  },
  {
   "cell_type": "code",
   "execution_count": 70,
   "id": "a848de54-4dfa-461b-9ffb-e7560a6039b6",
   "metadata": {},
   "outputs": [],
   "source": [
    "pfile = xr.open_dataset(str(inputFileName), decode_cf=True)"
   ]
  },
  {
   "cell_type": "code",
   "execution_count": 71,
   "id": "34cf01d2-8132-4b31-9a2d-465c009c0b50",
   "metadata": {},
   "outputs": [],
   "source": [
    "lon = np.ma.filled(pfile.variables['lon'], np.nan)\n",
    "lat = np.ma.filled(pfile.variables['lat'], np.nan)\n",
    "time = np.ma.filled(pfile.variables['time'], np.nan)\n",
    "z = np.ma.filled(pfile.variables['z'], np.nan)\n",
    "probs = np.ma.filled(pfile.variables['decay_value'], np.nan)"
   ]
  },
  {
   "cell_type": "code",
   "execution_count": 72,
   "id": "abb8719d-aae0-4077-bbc6-24c23252fa23",
   "metadata": {},
   "outputs": [
    {
     "name": "stdout",
     "output_type": "stream",
     "text": [
      "2018-01-01 00:30:00\n"
     ]
    }
   ],
   "source": [
    "numParticles = lon.shape[0]\n",
    "\n",
    "trackDates = [];\n",
    "\n",
    "for i in range(0,numParticles):\n",
    "    #print(time[i][0])\n",
    "    #trackDates.append( dateutil.parser.parse(time[i][0]))\n",
    "    trackDates.append(time[i][0])\n",
    "\n",
    "RDiff = max(trackDates) - min(trackDates);\n",
    "\n",
    "minDate = np.datetime64(release_start+\"T00:30:00\");\n",
    "ts = pd.to_datetime(str(minDate));\n",
    "d = ts.strftime('%Y-%m-%d %H:%M:%S');\n",
    "print(d)"
   ]
  },
  {
   "cell_type": "code",
   "execution_count": 73,
   "id": "95c6c9ad-dd4d-4bfb-86cf-44507546ed2f",
   "metadata": {},
   "outputs": [
    {
     "name": "stdout",
     "output_type": "stream",
     "text": [
      "2018-01-01 00:30:00\n"
     ]
    }
   ],
   "source": [
    "RDiff = max(trackDates) - min(trackDates)\n",
    "\n",
    "minDate = np.datetime64(release_start+\"T00:30:00\");\n",
    "ts = pd.to_datetime(str(minDate))\n",
    "d = ts.strftime('%Y-%m-%d %H:%M:%S')\n",
    "print(d)"
   ]
  },
  {
   "cell_type": "code",
   "execution_count": 74,
   "id": "7e3f88d0-6920-4299-b5a2-252b45254866",
   "metadata": {},
   "outputs": [
    {
     "name": "stdout",
     "output_type": "stream",
     "text": [
      "trackLength = 145\n",
      "numStepsPerDT = 12\n"
     ]
    }
   ],
   "source": [
    "numReleaseDays = 1;\n",
    "numReleaseSteps = numReleaseDays * stepsPerDay;\n",
    "trackLength = len(lon[0]);\n",
    "\n",
    "print('trackLength = ' + str(trackLength))\n",
    "print('numStepsPerDT = ' + str(numStepsPerDT))\n",
    "\n",
    "numSteps = int(trackLength / numStepsPerDT)\n"
   ]
  },
  {
   "cell_type": "code",
   "execution_count": 79,
   "id": "c24648a1-8ef8-4a61-82cd-ea8fce6a77e7",
   "metadata": {},
   "outputs": [],
   "source": [
    "# Create the netcdf output file\n",
    "\n",
    "#netcdfFileName = \"Atlantis_\" + scenario[file_id] + str(release_start_time) + str(outputDT) + \".nc\"\n",
    "netcdfFileName = \"Atlantis_TurnPoint_20180101_43200_1depth.nc\"\n",
    "try:\n",
    "    os.remove(netcdfFileName)\n",
    "except:\n",
    "    pass\n",
    "\n",
    "ncfile = Dataset(netcdfFileName, \"w\", format=\"NETCDF4\", clobber=True)\n",
    "\n",
    "# Dimensions\n",
    "time = ncfile.createDimension(\"t\", None)\n",
    "b = ncfile.createDimension(\"b\", numTargetSites)\n",
    "z = ncfile.createDimension(\"z\", numLayers)"
   ]
  },
  {
   "cell_type": "code",
   "execution_count": 80,
   "id": "d1fe9a30-69b6-44e8-8030-a8b6d1b6dfa7",
   "metadata": {},
   "outputs": [],
   "source": [
    "# Variables\n",
    "times = ncfile.createVariable(\"t\",np.float64, (\"t\",))\n",
    "oil = ncfile.createVariable(\"oil\",np.float64,(\"t\", \"b\", \"z\"))\n",
    "Naphthalene = ncfile.createVariable(\"Naphthalene\",np.float64,(\"t\", \"b\", \"z\"))\n",
    "Phenanthrene = ncfile.createVariable(\"Phenanthrene\",np.float64,(\"t\", \"b\", \"z\"))\n",
    "Pyrene = ncfile.createVariable(\"Pyrene\",np.float64,(\"t\", \"b\", \"z\"))\n",
    "Benzo = ncfile.createVariable(\"Benzo\",np.float64,(\"t\", \"b\", \"z\"))\n",
    "\n",
    "# Attributes\n",
    "Naphthalene.units = \"mgPAH/m^3\"\n",
    "Naphthalene.long_name = \"Naphthalene\"\n",
    "#Naphthalene._FillValue = 0.0\n",
    "Naphthalene.missing_value = 0.0\n",
    "Naphthalene.valid_min = 0.0\n",
    "Naphthalene.valid_max = 100000000.0\n",
    "\n",
    "Phenanthrene.units = \"mgPAH/m^3\"\n",
    "Phenanthrene.long_name = \"Phenanthrene\"\n",
    "#Phenanthrene._FillValue = 0.0\n",
    "Phenanthrene.missing_value = 0.0\n",
    "Phenanthrene.valid_min = 0.0\n",
    "Phenanthrene.valid_max = 100000000.0\n",
    "\n",
    "Pyrene.units = \"mgPAH/m^3\"\n",
    "Pyrene.long_name = \"Pyrene\"\n",
    "#Pyrene._FillValue = 0.0\n",
    "Pyrene.missing_value = 0.0\n",
    "Pyrene.valid_min = 0.0\n",
    "Pyrene.valid_max = 100000000.0\n",
    "\n",
    "Benzo.units = \"mgPAH/m^3\"\n",
    "Benzo.long_name = \"Benzo\"\n",
    "#Benzo._FillValue = 0.0\n",
    "Benzo.missing_value = 0.0\n",
    "Benzo.valid_min = 0.0\n",
    "Benzo.valid_max = 100000000.0\n",
    "\n",
    "oil.units = \"gOil/m^3\"\n",
    "oil.long_name = \"Oil\"\n",
    "\n",
    "times.units = \"seconds since 1950-01-01 00:00:00 +10\"\n",
    "times.dt = outputDT\n",
    "#t.dt = 43200\n",
    "#t.dt = 3600\n",
    "times.long_name = \"time\"\n",
    "\n",
    "# Populate variables with data\n",
    "timeData = np.arange(0,(numSteps + numReleaseSteps)*outputDT,outputDT)\n",
    "times[:] = timeData;\n",
    "#t[:] = timeData[-1];\n",
    "\n",
    "boxDispersal = np.zeros((numSteps + numReleaseSteps, numTargetSites));\n",
    "\n",
    "print(boxDispersal)"
   ]
  },
  {
   "cell_type": "code",
   "execution_count": 82,
   "id": "7252d1a5-49f2-4472-b58b-150457b79de6",
   "metadata": {},
   "outputs": [],
   "source": [
    "for partIndex in range(0, numParticles):\n",
    "\n",
    "    trackDateDiff = trackDates[partIndex] - minDate;\n",
    "    trackDateDiff = trackDateDiff/ np.timedelta64(1, 's')\n",
    "\n",
    "    timeOffset = int(abs((trackDateDiff /outputDT)));\n",
    "\n",
    "    for stepIndex in range(0, numSteps):\n",
    "        timeValue = stepIndex + timeOffset\n",
    "\n",
    "        partLon = lon[partIndex][stepIndex * numStepsPerDT];\n",
    "        partLat = lat[partIndex][stepIndex * numStepsPerDT];\n",
    "        partProb = probs[partIndex][stepIndex * numStepsPerDT];\n",
    "\n",
    "        matchFound = 0;\n",
    "\n",
    "        for targetIndex in range(0, numTargetSites):\n",
    "\n",
    "            path = data_df.iloc[targetIndex].geometry\n",
    "            checks = path.contains(Point(partLon, partLat));\n",
    "\n",
    "            if checks:\n",
    "                boxDispersal[timeValue][targetIndex] = boxDispersal[timeValue][targetIndex] + partProb;\n",
    "\n",
    "                # uncomment line below to ignore particle decay during debugging.\n",
    "                #boxDispersal[timeValue][targetIndex] = boxDispersal[timeValue][targetIndex] + 1.0\n",
    "\n",
    "                matchFound = 1\n",
    "                if debug:\n",
    "                    print('At time ' + str(timeValue) + ' Particle (' + str(partIndex) + ') in box ' + str(data_df.iloc[targetIndex].BOX_ID))\n",
    "\n",
    "\n",
    "                break;\n",
    "\n",
    "        if matchFound == 0:\n",
    "            if debug:\n",
    "                print('No match for particle')\n",
    "                print(partLon, partLat)\n",
    "\n",
    "\n",
    "        #break\n",
    "\n",
    "oil[:, :, 5] = boxDispersal * fuel_type[scenario[file_id].split(sep = '_')[-1]][\"Weight\"] * spill_volume;\n",
    "Naphthalene[:, :, :] = oil[:, :] * fuel_type[scenario[file_id].split(sep = '_')[-1]][\"Naphthalene\"];\n",
    "Phenanthrene[:, :, :] = oil[:, :] * fuel_type[scenario[file_id].split(sep = '_')[-1]][\"Phenanthrene\"];\n",
    "Pyrene[:, :, :] = oil[:, :] * fuel_type[scenario[file_id].split(sep = '_')[-1]][\"Pyrene\"];\n",
    "Benzo[:, :, :] = oil[:, :] * fuel_type[scenario[file_id].split(sep = '_')[-1]][\"Benzo\"];\n",
    "\n",
    "ncfile.close()"
   ]
  },
  {
   "cell_type": "code",
   "execution_count": null,
   "id": "95ec6ab6-ab30-46d1-b068-626e0dbf3892",
   "metadata": {},
   "outputs": [],
   "source": []
  }
 ],
 "metadata": {
  "interpreter": {
   "hash": "e4d84b090d0c7c6778fa197aacf5543338ee30c87f3fb579a323dc77be78ea57"
  },
  "kernelspec": {
   "display_name": "Python 3.8.10 64-bit ('parcels-dev': conda)",
   "name": "python3"
  },
  "language_info": {
   "codemirror_mode": {
    "name": "ipython",
    "version": 3
   },
   "file_extension": ".py",
   "mimetype": "text/x-python",
   "name": "python",
   "nbconvert_exporter": "python",
   "pygments_lexer": "ipython3",
   "version": "3.8.10"
  }
 },
 "nbformat": 4,
 "nbformat_minor": 5
}
