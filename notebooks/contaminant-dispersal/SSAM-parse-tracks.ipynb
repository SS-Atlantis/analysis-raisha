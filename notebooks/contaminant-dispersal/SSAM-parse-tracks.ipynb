{
 "cells": [
  {
   "attachments": {},
   "cell_type": "markdown",
   "id": "86998645-3900-4149-8e24-87848fcecfed",
   "metadata": {},
   "source": [
    "Mapping particle tracks from Ocean Parcels unto the Salish Sea Atlantis Boxes. \n",
    "Original code written by Bec Gordon & Javier Porobic, CSIRO.\n",
    "Link to the [SSAM Ocean Parcels Repo](https://bitbucket.csiro.au/users/por07g/repos/ssam_oceanparcels/browse)"
   ]
  },
  {
   "cell_type": "code",
   "execution_count": 1,
   "id": "7466c5ef-90a0-41dc-b369-b13499b1e5f3",
   "metadata": {},
   "outputs": [],
   "source": [
    "import os\n",
    "import xarray as xr\n",
    "import numpy as np\n",
    "import geopandas as gpd\n",
    "import pandas as pd\n",
    "from netCDF4 import Dataset\n",
    "from shapely.geometry import Point"
   ]
  },
  {
   "cell_type": "code",
   "execution_count": 2,
   "id": "b042afee-ffe7-4f27-965b-169a51b1d156",
   "metadata": {},
   "outputs": [],
   "source": [
    "shapefile_name = \"/ocean/rlovindeer/Atlantis/ssam_oceanparcels/SalishSea/SalishSea_July172019_2/SalishSea_July172019.shp\"\n",
    "data_df_original = gpd.read_file(shapefile_name)\n",
    "data_df_original = data_df_original.sort_values(by=['BOX_ID'])\n",
    "data_df = data_df_original.set_index('BOX_ID')\n",
    "box_depth = data_df['BOTZ']\n",
    "box_area = data_df['AREA']\n",
    "box_volume = box_area * box_depth\n",
    "surface_volume = box_area * 25\n",
    "\n",
    "#print(box_volume)"
   ]
  },
  {
   "cell_type": "code",
   "execution_count": 12,
   "id": "e7628a9a",
   "metadata": {},
   "outputs": [],
   "source": [
    "# Ocean Parcels Spill File\n",
    "\n",
    "inputFileName = '5b_TurnPoint_Dilbit_2019-01-20_10000'\n",
    "file_path = 'results/' + inputFileName + '_OP_D50_wp3.zarr'\n",
    "num_particles = 10000"
   ]
  },
  {
   "cell_type": "code",
   "execution_count": 13,
   "id": "d78c2cea",
   "metadata": {},
   "outputs": [],
   "source": [
    "scenario = inputFileName.split(sep = '_')"
   ]
  },
  {
   "cell_type": "code",
   "execution_count": 6,
   "id": "287a6be2",
   "metadata": {},
   "outputs": [],
   "source": [
    "# Oil type properties & spill location selection\n",
    "\n",
    "Dilbit = {\n",
    "    \"Density\": 1011.2, #kg/m^3\n",
    "    \"Naphthalene\": 24, #mg/kg oil\n",
    "    \"Phenanthrene\": 17,\n",
    "    \"Pyrene\": 10,\n",
    "    \"Benzo\": 3,\n",
    "}\n",
    "\n",
    "BunkerC = {\n",
    "    \"Density\": 995.3,\n",
    "    \"Naphthalene\": 680,\n",
    "    \"Phenanthrene\": 796,\n",
    "    \"Pyrene\": 266,\n",
    "    \"Benzo\": 56,\n",
    "}\n",
    "\n",
    "Diesel = {\n",
    "    \"Density\": 831.0,\n",
    "    \"Naphthalene\": 3664,\n",
    "    \"Phenanthrene\": 1000,\n",
    "    \"Pyrene\": 0.000,\n",
    "    \"Benzo\": 0.000,\n",
    "}\n",
    "\n",
    "Crude = {\n",
    "    \"Density\": 884.7,\n",
    "    \"Naphthalene\": 654,\n",
    "    \"Phenanthrene\": 327,\n",
    "    \"Pyrene\": 13,\n",
    "    \"Benzo\": 2,\n",
    "}\n",
    "\n",
    "fuel_type = {\n",
    "    \"Dilbit\" : Dilbit,\n",
    "    \"BunkerC\" : BunkerC,\n",
    "    \"Diesel\" : Diesel,\n",
    "    \"Crude\" : Crude,\n",
    "}\n",
    "\n",
    "spill_volume = {\n",
    "    \"5b\" : 2000, #m^3 \n",
    "    \"6a\" : 15,\n",
    "    \"7a\" : 1000,\n",
    "    \"4a\" : 500,\n",
    "}\n",
    "\n",
    "spill_box_surface_volume = {\n",
    "    \"5b\" : (322271112.331102*25), #m^3 area x surface depth\n",
    "    \"6a\" : 15,\n",
    "    \"7a\" : 1000,\n",
    "    \"4a\" : 500,\n",
    "}"
   ]
  },
  {
   "cell_type": "code",
   "execution_count": 7,
   "id": "5ba4185d",
   "metadata": {},
   "outputs": [],
   "source": [
    "# Calculations of oil per particle in mg/m^3/particle\n",
    "release_start = scenario[3]\n",
    "oil_per_particle = (fuel_type[scenario[2]][\"Density\"] * spill_volume[scenario[0]] / spill_box_surface_volume[scenario[0]]) / num_particles #kg/m3\n",
    "naph_per_particle = oil_per_particle * fuel_type[scenario[2]][\"Naphthalene\"] \n",
    "phen_per_particle = oil_per_particle * fuel_type[scenario[2]][\"Phenanthrene\"]\n",
    "pyrene_per_particle = oil_per_particle * fuel_type[scenario[2]][\"Pyrene\"]\n",
    "benzo_per_particle = oil_per_particle * fuel_type[scenario[2]][\"Benzo\"]\n",
    "release_start_time = np.datetime64(release_start)"
   ]
  },
  {
   "cell_type": "code",
   "execution_count": 8,
   "id": "688d4662",
   "metadata": {},
   "outputs": [
    {
     "name": "stdout",
     "output_type": "stream",
     "text": [
      "Dilbit spill mass of 2022400000000.0 in mg\n",
      "Naphthalene spill mass of 48537600.0 in mg\n",
      "Phenanthrene spill mass of 34380800.0 in mg\n",
      "Pyrene spill mass of 20224000.0 in mg\n",
      "Benzo spill mass of 6067200.0 in mg\n"
     ]
    }
   ],
   "source": [
    "# Calculations of oil mass in mg\n",
    "oil_mass_kg = (fuel_type[scenario[2]][\"Density\"] * spill_volume[scenario[0]])\n",
    "naph_mass_mg = oil_mass_kg * fuel_type[scenario[2]][\"Naphthalene\"]\n",
    "phen_mass_mg = oil_mass_kg * fuel_type[scenario[2]][\"Phenanthrene\"]\n",
    "pyrene_mass_mg = oil_mass_kg * fuel_type[scenario[2]][\"Pyrene\"]\n",
    "benzo_mass_mg = oil_mass_kg * fuel_type[scenario[2]][\"Benzo\"]\n",
    "oil_mass_mg = oil_mass_kg * 1e6\n",
    "\n",
    "print(str(scenario[2])+' spill mass of '+str(oil_mass_mg)+' in mg')\n",
    "print('Naphthalene spill mass of '+str(naph_mass_mg)+' in mg')\n",
    "print('Phenanthrene spill mass of '+str(phen_mass_mg)+' in mg')\n",
    "print('Pyrene spill mass of '+str(pyrene_mass_mg)+' in mg')\n",
    "print('Benzo spill mass of '+str(benzo_mass_mg)+' in mg')"
   ]
  },
  {
   "cell_type": "code",
   "execution_count": 9,
   "metadata": {},
   "outputs": [
    {
     "name": "stdout",
     "output_type": "stream",
     "text": [
      "Dilbit spill concentration of 3.115618565968159e-08 in mg/m^3\n",
      "Naphthalene spill concentration of 0.006024443165123948 in mg/m^3\n",
      "Phenanthrene spill concentration of 0.004267313908629464 in mg/m^3\n",
      "Pyrene spill concentration of 0.0025101846521349783 in mg/m^3\n",
      "Benzo spill concentration of 0.0007530553956404935 in mg/m^3\n"
     ]
    }
   ],
   "source": [
    "# Calculating the surface concentration of each contaminant for the entire spill\n",
    "oil_full = oil_per_particle * num_particles * 1e6 / spill_box_surface_volume[scenario[0]]\n",
    "naph_full = naph_per_particle * num_particles\n",
    "phen_full = phen_per_particle * num_particles\n",
    "pyrene_full = pyrene_per_particle * num_particles\n",
    "benzo_full = benzo_per_particle * num_particles\n",
    "\n",
    "print(str(scenario[2])+' spill concentration of '+str(oil_full)+' in mg/m^3')\n",
    "print('Naphthalene spill concentration of '+str(naph_full)+' in mg/m^3')\n",
    "print('Phenanthrene spill concentration of '+str(phen_full)+' in mg/m^3')\n",
    "print('Pyrene spill concentration of '+str(pyrene_full)+' in mg/m^3')\n",
    "print('Benzo spill concentration of '+str(benzo_full)+' in mg/m^3')"
   ]
  },
  {
   "cell_type": "code",
   "execution_count": 10,
   "id": "2c6fc666-b03b-481c-aed1-cc09da61257d",
   "metadata": {},
   "outputs": [],
   "source": [
    "numLayers = 7\n",
    "numSites = data_df.shape[0]\n",
    "numTargetSites = numSites\n",
    "\n",
    "#outputDT = 60*60\n",
    "outputDT = 43100.00\n",
    "\n",
    "stepsPerDay = int(86400.0/ outputDT)\n",
    "numStepsPerDT = int(outputDT/3600.0)\n",
    "\n",
    "debug = False"
   ]
  },
  {
   "cell_type": "code",
   "execution_count": 14,
   "id": "014678c8",
   "metadata": {},
   "outputs": [],
   "source": [
    "# Convert .zarr to .nc \n",
    "new_file_name = inputFileName + '.nc'\n",
    "pfile = xr.open_zarr(file_path).to_netcdf(new_file_name)"
   ]
  },
  {
   "cell_type": "code",
   "execution_count": 15,
   "id": "5dd5d3aa",
   "metadata": {},
   "outputs": [],
   "source": [
    "parcels_file = xr.open_dataset(str(new_file_name), decode_cf=True)\n",
    "\n",
    "lon = np.ma.filled(parcels_file.variables['lon'], np.nan)\n",
    "lat = np.ma.filled(parcels_file.variables['lat'], np.nan)\n",
    "time = np.ma.filled(parcels_file.variables['time'], np.nan)\n",
    "z = np.ma.filled(parcels_file.variables['z'], np.nan)\n",
    "probs = np.ma.filled(parcels_file.variables['decay_value'], np.nan)"
   ]
  },
  {
   "cell_type": "code",
   "execution_count": 16,
   "id": "e9965673",
   "metadata": {},
   "outputs": [
    {
     "name": "stdout",
     "output_type": "stream",
     "text": [
      "2019-01-20 00:30:00\n"
     ]
    }
   ],
   "source": [
    "numParticles = lon.shape[0]\n",
    "trackDates = []\n",
    "\n",
    "for i in range(0,numParticles):\n",
    "    trackDates.append(time[i][0])\n",
    "\n",
    "RDiff = max(trackDates) - min(trackDates)\n",
    "minDate = np.datetime64(release_start+\"T00:30:00\")\n",
    "ts = pd.to_datetime(str(minDate))\n",
    "d = ts.strftime('%Y-%m-%d %H:%M:%S')\n",
    "print(d)"
   ]
  },
  {
   "cell_type": "code",
   "execution_count": 17,
   "id": "7e3f88d0-6920-4299-b5a2-252b45254866",
   "metadata": {},
   "outputs": [
    {
     "name": "stdout",
     "output_type": "stream",
     "text": [
      "trackLength = 238\n",
      "numStepsPerDT = 11\n"
     ]
    }
   ],
   "source": [
    "numReleaseDays = 1\n",
    "numReleaseSteps = numReleaseDays * stepsPerDay\n",
    "\n",
    "trackLength = len(lon[0])\n",
    "\n",
    "print('trackLength = ' + str(trackLength))\n",
    "print('numStepsPerDT = ' + str(numStepsPerDT))\n",
    "numSteps = int(trackLength / numStepsPerDT)\n"
   ]
  },
  {
   "cell_type": "code",
   "execution_count": 18,
   "id": "c24648a1-8ef8-4a61-82cd-ea8fce6a77e7",
   "metadata": {},
   "outputs": [],
   "source": [
    "# Create the netcdf output file\n",
    "\n",
    "netcdfFileName = \"SSAM_Scenario_5b_\" + scenario[3] + \"_\" + str(num_particles) + \"_fromzarr.nc\"\n",
    "try:\n",
    "    os.remove(netcdfFileName)\n",
    "except:\n",
    "    pass\n",
    "ncfile = Dataset(netcdfFileName, \"w\", format=\"NETCDF4\", clobber=True)\n",
    "Dataset.set_fill_on(ncfile)\n",
    "\n",
    "# Dimensions\n",
    "t = ncfile.createDimension(\"t\", None)\n",
    "b = ncfile.createDimension(\"b\", numTargetSites)\n",
    "z = ncfile.createDimension(\"z\", numLayers)"
   ]
  },
  {
   "cell_type": "code",
   "execution_count": 19,
   "id": "d1fe9a30-69b6-44e8-8030-a8b6d1b6dfa7",
   "metadata": {},
   "outputs": [],
   "source": [
    "# Variables\n",
    "times = ncfile.createVariable(\"t\",np.float64, (\"t\",))\n",
    "oil = ncfile.createVariable(\"oil\",np.float64,(\"t\", \"b\"))\n",
    "Naphthalene = ncfile.createVariable(\"Naphthalene\",np.float64, (\"t\", \"b\", \"z\"))\n",
    "Phenanthrene = ncfile.createVariable(\"Phenanthrene\",np.float64,(\"t\", \"b\", \"z\"))\n",
    "Pyrene = ncfile.createVariable(\"Pyrene\",np.float64,(\"t\", \"b\", \"z\"))\n",
    "Benzo = ncfile.createVariable(\"Benzo\",np.float64,(\"t\", \"b\", \"z\"))\n",
    "\n",
    "# Attributes\n",
    "Naphthalene.units = \"mgPAH/m^3\"\n",
    "Naphthalene.long_name = \"Naphthalene\"\n",
    "Naphthalene.missing_value = 0.0000\n",
    "Naphthalene.valid_min = 0.0000\n",
    "Naphthalene.valid_max = 100000000.0\n",
    "\n",
    "Phenanthrene.units = \"mgPAH/m^3\"\n",
    "Phenanthrene.long_name = \"Phenanthrene\"\n",
    "Phenanthrene.missing_value = 0.0000\n",
    "Phenanthrene.valid_min = 0.0000\n",
    "Phenanthrene.valid_max = 100000000.0\n",
    "\n",
    "Pyrene.units = \"mgPAH/m^3\"\n",
    "Pyrene.long_name = \"Pyrene\"\n",
    "Pyrene.missing_value = 0.0000\n",
    "Pyrene.valid_min = 0.0000\n",
    "Pyrene.valid_max = 100000000.0\n",
    "\n",
    "Benzo.units = \"mgPAH/m^3\"\n",
    "Benzo.long_name = \"Benzo(a)pyrene\"\n",
    "Benzo.missing_value = 0.0000\n",
    "Benzo.valid_min = 0.0000\n",
    "Benzo.valid_max = 100000000.0\n",
    "\n",
    "oil.units = \"kgOil/m^3\"\n",
    "oil.long_name = \"Oil\"\n",
    "\n",
    "times.units = \"seconds since \" + d\n",
    "times.dt = outputDT\n",
    "times.long_name = \"time\""
   ]
  },
  {
   "attachments": {},
   "cell_type": "markdown",
   "id": "2448748a",
   "metadata": {},
   "source": [
    "OPTION 1: TO CREATE FORCING FILE WITH ZEROES\n",
    "Creates a contaminant forcing file with no contaminants\n",
    "\n",
    "numSteps = int((70*60*60*24*365)/outputDT)\n",
    "timeData = np.arange(0,(numSteps)*outputDT,outputDT)\n",
    "times[:] = timeData\n",
    "\n",
    "FillerData = np.zeros((numSteps, numTargetSites, numLayers))\n",
    "\n",
    "Naphthalene[:,:,:] = FillerData\n",
    "Phenanthrene[:,:,:] = FillerData\n",
    "Pyrene[:,:,:] = FillerData\n",
    "Benzo[:,:,:] = FillerData\n",
    "\n",
    "ncfile.close()"
   ]
  },
  {
   "cell_type": "code",
   "execution_count": 20,
   "id": "210fd4aa",
   "metadata": {},
   "outputs": [],
   "source": [
    "# OPTION 2: CREATE CONTAMINANT FORCING FILE\n",
    "# Populate variables with contaminant data\n",
    "\n",
    "timeData = np.arange(0,(numSteps + numReleaseSteps)*outputDT,outputDT)\n",
    "times[:] = timeData\n",
    "\n",
    "No_layer_particles = np.zeros((numSteps + numReleaseSteps, numTargetSites))\n",
    "Surface_particles = np.zeros((numSteps + numReleaseSteps, numTargetSites, numLayers))"
   ]
  },
  {
   "cell_type": "code",
   "execution_count": 21,
   "id": "7252d1a5-49f2-4472-b58b-150457b79de6",
   "metadata": {},
   "outputs": [
    {
     "ename": "ValueError",
     "evalue": "cannot convert float NaN to integer",
     "output_type": "error",
     "traceback": [
      "\u001b[0;31m---------------------------------------------------------------------------\u001b[0m",
      "\u001b[0;31mValueError\u001b[0m                                Traceback (most recent call last)",
      "\u001b[0;32m/tmp/ipykernel_4020164/816855249.py\u001b[0m in \u001b[0;36m<cell line: 1>\u001b[0;34m()\u001b[0m\n\u001b[1;32m      4\u001b[0m     \u001b[0mtrackDateDiff\u001b[0m \u001b[0;34m=\u001b[0m \u001b[0mtrackDateDiff\u001b[0m\u001b[0;34m/\u001b[0m \u001b[0mnp\u001b[0m\u001b[0;34m.\u001b[0m\u001b[0mtimedelta64\u001b[0m\u001b[0;34m(\u001b[0m\u001b[0;36m1\u001b[0m\u001b[0;34m,\u001b[0m \u001b[0;34m's'\u001b[0m\u001b[0;34m)\u001b[0m\u001b[0;34m\u001b[0m\u001b[0;34m\u001b[0m\u001b[0m\n\u001b[1;32m      5\u001b[0m \u001b[0;34m\u001b[0m\u001b[0m\n\u001b[0;32m----> 6\u001b[0;31m     \u001b[0mtimeOffset\u001b[0m \u001b[0;34m=\u001b[0m \u001b[0mint\u001b[0m\u001b[0;34m(\u001b[0m\u001b[0mabs\u001b[0m\u001b[0;34m(\u001b[0m\u001b[0;34m(\u001b[0m\u001b[0mtrackDateDiff\u001b[0m \u001b[0;34m/\u001b[0m\u001b[0moutputDT\u001b[0m\u001b[0;34m)\u001b[0m\u001b[0;34m)\u001b[0m\u001b[0;34m)\u001b[0m\u001b[0;34m\u001b[0m\u001b[0;34m\u001b[0m\u001b[0m\n\u001b[0m\u001b[1;32m      7\u001b[0m \u001b[0;34m\u001b[0m\u001b[0m\n\u001b[1;32m      8\u001b[0m     \u001b[0;32mfor\u001b[0m \u001b[0mstepIndex\u001b[0m \u001b[0;32min\u001b[0m \u001b[0mrange\u001b[0m\u001b[0;34m(\u001b[0m\u001b[0;36m0\u001b[0m\u001b[0;34m,\u001b[0m \u001b[0mnumSteps\u001b[0m\u001b[0;34m)\u001b[0m\u001b[0;34m:\u001b[0m\u001b[0;34m\u001b[0m\u001b[0;34m\u001b[0m\u001b[0m\n",
      "\u001b[0;31mValueError\u001b[0m: cannot convert float NaN to integer"
     ]
    }
   ],
   "source": [
    "for partIndex in range(0, numParticles):\n",
    "\n",
    "    trackDateDiff = trackDates[partIndex] - minDate\n",
    "    trackDateDiff = trackDateDiff/ np.timedelta64(1, 's')\n",
    "\n",
    "    timeOffset = int(abs((trackDateDiff /outputDT)))\n",
    "\n",
    "    for stepIndex in range(0, numSteps):\n",
    "        timeValue = stepIndex + timeOffset\n",
    "\n",
    "        partLon = lon[partIndex][stepIndex * numStepsPerDT]\n",
    "        partLat = lat[partIndex][stepIndex * numStepsPerDT]\n",
    "        partProb = probs[partIndex][stepIndex * numStepsPerDT]\n",
    "\n",
    "        matchFound = 0\n",
    "\n",
    "        for targetIndex in range (0, numTargetSites):\n",
    "\n",
    "            box_id = targetIndex\n",
    "            box_coordinates = data_df.iloc[targetIndex].geometry\n",
    "            find_particle = box_coordinates.contains(Point(partLon, partLat))\n",
    "            \n",
    "            if data_df.iloc[targetIndex].BOTZ < 26:\n",
    "                layer = 0\n",
    "            elif data_df.iloc[targetIndex].BOTZ == 50:\n",
    "                layer = 1\n",
    "            elif data_df.iloc[targetIndex].BOTZ == 100:\n",
    "                layer = 2\n",
    "            elif data_df.iloc[targetIndex].BOTZ == 200:\n",
    "                layer = 3\n",
    "            elif data_df.iloc[targetIndex].BOTZ > 200 and box_depth[targetIndex] < 401:\n",
    "                layer = 4\n",
    "            elif data_df.iloc[targetIndex].BOTZ > 400:\n",
    "                layer = 5\n",
    "\n",
    "            if find_particle:\n",
    "                Surface_particles[timeValue][box_id][layer] = Surface_particles[timeValue][box_id][layer] + partProb\n",
    "                No_layer_particles[timeValue][box_id] = No_layer_particles[timeValue][box_id] + partProb\n",
    "                \n",
    "                # uncomment line below to ignore particle decay during debugging.\n",
    "                # Surface_particles[timeValue][box_id] = Surface_particles[timeValue][box_id] + 1.0\n",
    "            \n",
    "                #matchFound = 1\n",
    "                #if debug:\n",
    "                #    print('At time ' + str(timeValue) + ' Particle (' + str(partIndex) + ') in box ' + str(data_df.iloc[targetIndex].BOX_ID))\n",
    "\n",
    "                break\n",
    "\n",
    "        if matchFound == 0:\n",
    "            if debug:\n",
    "                print('No match for particle')\n",
    "                print(partLon, partLat)\n",
    "\n",
    "        #break\n",
    "\n",
    "oil[:,:] = No_layer_particles * oil_per_particle * 1e6\n",
    "Naphthalene[:,:,:] = Surface_particles * naph_per_particle\n",
    "Phenanthrene[:,:,:] = Surface_particles * phen_per_particle\n",
    "Pyrene[:,:,:] = Surface_particles * pyrene_per_particle\n",
    "Benzo[:,:,:] = Surface_particles * benzo_per_particle\n",
    "\n",
    "ncfile.close()\n"
   ]
  },
  {
   "cell_type": "code",
   "execution_count": 39,
   "id": "b6a269c9",
   "metadata": {},
   "outputs": [
    {
     "data": {
      "text/plain": [
       "(array([2167,   17,   18,    3,    1,    2,    1,    0,    0,    1]),\n",
       " array([ 0. ,  7.5, 15. , 22.5, 30. , 37.5, 45. , 52.5, 60. , 67.5, 75. ]))"
      ]
     },
     "execution_count": 39,
     "metadata": {},
     "output_type": "execute_result"
    }
   ],
   "source": [
    "np.histogram(No_layer_particles)"
   ]
  }
 ],
 "metadata": {
  "interpreter": {
   "hash": "e4d84b090d0c7c6778fa197aacf5543338ee30c87f3fb579a323dc77be78ea57"
  },
  "kernelspec": {
   "display_name": "Python 3.8.10 64-bit ('parcels-dev': conda)",
   "name": "python3"
  },
  "language_info": {
   "codemirror_mode": {
    "name": "ipython",
    "version": 3
   },
   "file_extension": ".py",
   "mimetype": "text/x-python",
   "name": "python",
   "nbconvert_exporter": "python",
   "pygments_lexer": "ipython3",
   "version": "3.8.10"
  }
 },
 "nbformat": 4,
 "nbformat_minor": 5
}
