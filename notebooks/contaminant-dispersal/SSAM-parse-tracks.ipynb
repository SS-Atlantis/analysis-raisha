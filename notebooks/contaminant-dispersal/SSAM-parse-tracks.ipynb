{
 "cells": [
  {
   "cell_type": "markdown",
   "id": "86998645-3900-4149-8e24-87848fcecfed",
   "metadata": {},
   "source": [
    "Mapping particle tracks from Ocean Parcels unto the Salish Sea Atlantis Boxes. \n",
    "Original code written by Bec Gordon & Javier Porobic, CSIRO.\n",
    "Link to the [SSAM Ocean Parcels Repo](https://bitbucket.csiro.au/users/por07g/repos/ssam_oceanparcels/browse)"
   ]
  },
  {
   "cell_type": "code",
   "execution_count": 256,
   "id": "7466c5ef-90a0-41dc-b369-b13499b1e5f3",
   "metadata": {},
   "outputs": [],
   "source": [
    "import os\n",
    "import xarray as xr\n",
    "import numpy as np\n",
    "import geopandas as gpd\n",
    "import pandas as pd\n",
    "import matplotlib.path as mplPath\n",
    "import shapefile\n",
    "from netCDF4 import Dataset\n",
    "import dateutil.parser\n",
    "from shapely.geometry import Polygon, Point"
   ]
  },
  {
   "cell_type": "code",
   "execution_count": 296,
   "id": "b042afee-ffe7-4f27-965b-169a51b1d156",
   "metadata": {},
   "outputs": [
    {
     "name": "stdout",
     "output_type": "stream",
     "text": [
      "0                 0\n",
      "1                 0\n",
      "2                 0\n",
      "3                 0\n",
      "4       11621464000\n",
      "           ...     \n",
      "125    123069423000\n",
      "126     94546607000\n",
      "127               0\n",
      "128               0\n",
      "129     45304060750\n",
      "Length: 130, dtype: int64\n"
     ]
    }
   ],
   "source": [
    "shapefile_name = \"/ocean/rlovindeer/Atlantis/ssam_oceanparcels/SalishSea/SalishSea_July172019_2/SalishSea_July172019.shp\"\n",
    "data_df = gpd.read_file(shapefile_name)\n",
    "box_depth = data_df['BOTZ']\n",
    "box_area = data_df['AREA']\n",
    "box_volume = box_area * box_depth\n",
    "\n",
    "#print(box_volume)"
   ]
  },
  {
   "cell_type": "code",
   "execution_count": 299,
   "id": "287a6be2",
   "metadata": {},
   "outputs": [
    {
     "name": "stdout",
     "output_type": "stream",
     "text": [
      "\n",
      "Scenario running  : 5b_Turn_Point_Diluted_bitumen\n"
     ]
    }
   ],
   "source": [
    "# Oil type properties & spill location selection\n",
    "\n",
    "bitumen = {\n",
    "    \"Density\": 1011.2, #kg/m^3\n",
    "    \"Naphthalene\": 24, #mg/kg oil\n",
    "    \"Phenanthrene\": 17,\n",
    "    \"Pyrene\": 10,\n",
    "    \"Benzo\": 3,\n",
    "}\n",
    "\n",
    "BunkerC = {\n",
    "    \"Density\": 995.3,\n",
    "    \"Naphthalene\": 680,\n",
    "    \"Phenanthrene\": 796,\n",
    "    \"Pyrene\": 266,\n",
    "    \"Benzo\": 56,\n",
    "}\n",
    "\n",
    "Diesel = {\n",
    "    \"Density\": 831.0,\n",
    "    \"Naphthalene\": 3664,\n",
    "    \"Phenanthrene\": 1000,\n",
    "    \"Pyrene\": 0.000,\n",
    "    \"Benzo\": 0.000,\n",
    "}\n",
    "\n",
    "Crude = {\n",
    "    \"Density\": 884.7,\n",
    "    \"Naphthalene\": 654,\n",
    "    \"Phenanthrene\": 327,\n",
    "    \"Pyrene\": 13,\n",
    "    \"Benzo\": 2,\n",
    "}\n",
    "\n",
    "fuel_type = {\n",
    "    \"bitumen\" : bitumen,\n",
    "    \"BunkerC\" : BunkerC,\n",
    "    \"Diesel\" : Diesel,\n",
    "    \"Crude\" : Crude,\n",
    "}\n",
    "\n",
    "file_id = int(input( ))\n",
    "scenario = {1 : \"5b_Turn_Point_Diluted_bitumen\",\n",
    "            2 : \"6a_VancouverHarbour_BunkerC\",\n",
    "            3 : \"7a_JohnsonStrait_BunkerC\",\n",
    "            4 : \"4a_ActivePass_Diesel\",}\n",
    "\n",
    "print(\"\\nScenario running  :\", scenario[file_id], sep = \" \")"
   ]
  },
  {
   "cell_type": "code",
   "execution_count": 300,
   "id": "688d4662",
   "metadata": {},
   "outputs": [],
   "source": [
    "# Spill release times\n",
    "release_start = '2020-07-01'  ## winter starts in December, Summer in Jul - Aug\n",
    "release_end = '2020-07-02'\n",
    "release_YYYYMM = '2020-01'\n",
    "spill_volume = 2000 #m^3\n",
    "oil_per_particle = (fuel_type[scenario[file_id].split(sep = '_')[-1]][\"Density\"] * spill_volume) / 100\n",
    "release_start_time = np.datetime64(release_start)\n",
    "#inputFileName = scenario[file_id] + str(release_start_time) + '_oil_disperse.nc'\n",
    "inputFileName = '5b_Turn_Point_Diluted_bitumen2020-07-01_OP.nc'\n"
   ]
  },
  {
   "cell_type": "code",
   "execution_count": 301,
   "id": "2c6fc666-b03b-481c-aed1-cc09da61257d",
   "metadata": {},
   "outputs": [],
   "source": [
    "numLayers = 7;\n",
    "numSites = data_df.shape[0]\n",
    "numTargetSites = numSites\n",
    "\n",
    "#outputDT = 60*60\n",
    "outputDT = 43100.00\n",
    "\n",
    "stepsPerDay = int(86400.0/ outputDT);\n",
    "numStepsPerDT = int(outputDT/3600.0)\n",
    "\n",
    "debug = False"
   ]
  },
  {
   "cell_type": "code",
   "execution_count": 302,
   "id": "a848de54-4dfa-461b-9ffb-e7560a6039b6",
   "metadata": {},
   "outputs": [],
   "source": [
    "pfile = xr.open_dataset(str(inputFileName), decode_cf=True)"
   ]
  },
  {
   "cell_type": "code",
   "execution_count": 303,
   "id": "34cf01d2-8132-4b31-9a2d-465c009c0b50",
   "metadata": {},
   "outputs": [],
   "source": [
    "lon = np.ma.filled(pfile.variables['lon'], np.nan)\n",
    "lat = np.ma.filled(pfile.variables['lat'], np.nan)\n",
    "time = np.ma.filled(pfile.variables['time'], np.nan)\n",
    "z = np.ma.filled(pfile.variables['z'], np.nan)\n",
    "probs = np.ma.filled(pfile.variables['decay_value'], np.nan)"
   ]
  },
  {
   "cell_type": "code",
   "execution_count": 304,
   "id": "abb8719d-aae0-4077-bbc6-24c23252fa23",
   "metadata": {},
   "outputs": [
    {
     "name": "stdout",
     "output_type": "stream",
     "text": [
      "2020-07-01 00:30:00\n"
     ]
    }
   ],
   "source": [
    "numParticles = lon.shape[0]\n",
    "\n",
    "trackDates = [];\n",
    "\n",
    "for i in range(0,numParticles):\n",
    "    #print(time[i][0])\n",
    "    #trackDates.append( dateutil.parser.parse(time[i][0]))\n",
    "    trackDates.append(time[i][0])\n",
    "\n",
    "RDiff = max(trackDates) - min(trackDates);\n",
    "minDate = np.datetime64(release_start+\"T00:30:00\");\n",
    "ts = pd.to_datetime(str(minDate));\n",
    "d = ts.strftime('%Y-%m-%d %H:%M:%S');\n",
    "print(d)"
   ]
  },
  {
   "cell_type": "code",
   "execution_count": 305,
   "id": "7e3f88d0-6920-4299-b5a2-252b45254866",
   "metadata": {},
   "outputs": [
    {
     "name": "stdout",
     "output_type": "stream",
     "text": [
      "trackLength = 145\n",
      "numStepsPerDT = 11\n"
     ]
    }
   ],
   "source": [
    "numReleaseDays = 1;\n",
    "numReleaseSteps = numReleaseDays * stepsPerDay;\n",
    "\n",
    "trackLength = len(lon[0]);\n",
    "\n",
    "print('trackLength = ' + str(trackLength))\n",
    "print('numStepsPerDT = ' + str(numStepsPerDT))\n",
    "numSteps = int(trackLength / numStepsPerDT)\n"
   ]
  },
  {
   "cell_type": "code",
   "execution_count": 312,
   "id": "c24648a1-8ef8-4a61-82cd-ea8fce6a77e7",
   "metadata": {},
   "outputs": [],
   "source": [
    "# Create the netcdf output file\n",
    "\n",
    "netcdfFileName = \"Atlantis_\" + scenario[file_id] + str(release_start_time) + \"_volume2.nc\"\n",
    "try:\n",
    "    os.remove(netcdfFileName)\n",
    "except:\n",
    "    pass\n",
    "ncfile = Dataset(netcdfFileName, \"w\", format=\"NETCDF4\", clobber=True)\n",
    "Dataset.set_fill_on(ncfile)\n",
    "\n",
    "# Dimensions\n",
    "time = ncfile.createDimension(\"t\", None)\n",
    "b = ncfile.createDimension(\"b\", numTargetSites)\n",
    "z = ncfile.createDimension(\"z\", numLayers)"
   ]
  },
  {
   "cell_type": "code",
   "execution_count": 313,
   "id": "d1fe9a30-69b6-44e8-8030-a8b6d1b6dfa7",
   "metadata": {},
   "outputs": [],
   "source": [
    "# Variables\n",
    "times = ncfile.createVariable(\"t\",np.float64, (\"t\",))\n",
    "oil = ncfile.createVariable(\"oil\",np.float64,(\"t\", \"b\"))\n",
    "Naphthalene = ncfile.createVariable(\"Naphthalene\",np.float64, (\"t\", \"b\", \"z\"),fill_value=0.0000,)\n",
    "Phenanthrene = ncfile.createVariable(\"Phenanthrene\",np.float64,(\"t\", \"b\", \"z\"),fill_value=0.0000)\n",
    "Pyrene = ncfile.createVariable(\"Pyrene\",np.float64,(\"t\", \"b\", \"z\"),fill_value=0.0000)\n",
    "Benzo = ncfile.createVariable(\"Benzo\",np.float64,(\"t\", \"b\", \"z\"),fill_value=0.0000)\n",
    "\n",
    "# Attributes\n",
    "Naphthalene.units = \"mgPAH/m^3\"\n",
    "Naphthalene.long_name = \"Naphthalene\"\n",
    "Naphthalene.missing_value = 0.0000\n",
    "Naphthalene.valid_min = 0.0000\n",
    "Naphthalene.valid_max = 100000000.0\n",
    "\n",
    "Phenanthrene.units = \"mgPAH/m^3\"\n",
    "Phenanthrene.long_name = \"Phenanthrene\"\n",
    "Phenanthrene.missing_value = 0.0000\n",
    "Phenanthrene.valid_min = 0.0000\n",
    "Phenanthrene.valid_max = 100000000.0\n",
    "\n",
    "Pyrene.units = \"mgPAH/m^3\"\n",
    "Pyrene.long_name = \"Pyrene\"\n",
    "Pyrene.missing_value = 0.0000\n",
    "Pyrene.valid_min = 0.0000\n",
    "Pyrene.valid_max = 100000000.0\n",
    "\n",
    "Benzo.units = \"mgPAH/m^3\"\n",
    "Benzo.long_name = \"Benzo(a)pyrene\"\n",
    "Benzo.missing_value = 0.0000\n",
    "Benzo.valid_min = 0.0000\n",
    "Benzo.valid_max = 100000000.0\n",
    "\n",
    "oil.units = \"kgOil/m^3\"\n",
    "oil.long_name = \"Oil\"\n",
    "\n",
    "#times.units = \"seconds since \" + d\n",
    "times.units = \"seconds since 1950-01-01 00:00:00 +10\"\n",
    "times.dt = outputDT\n",
    "times.long_name = \"time\"\n",
    "\n",
    "# Populate variables with data\n",
    "timeData = np.arange(0,(numSteps + numReleaseSteps)*outputDT,outputDT)\n",
    "times[:] = timeData;\n",
    "\n",
    "#Surface_particles = np.zeros((numSteps + numReleaseSteps, numTargetSites));\n",
    "Dispersed_particles = np.zeros((numSteps + numReleaseSteps, numTargetSites, numLayers));\n"
   ]
  },
  {
   "cell_type": "code",
   "execution_count": 314,
   "id": "7252d1a5-49f2-4472-b58b-150457b79de6",
   "metadata": {},
   "outputs": [],
   "source": [
    "for partIndex in range(0, numParticles):\n",
    "\n",
    "    trackDateDiff = trackDates[partIndex] - minDate;\n",
    "    trackDateDiff = trackDateDiff/ np.timedelta64(1, 's')\n",
    "\n",
    "    timeOffset = int(abs((trackDateDiff /outputDT)));\n",
    "\n",
    "    for stepIndex in range(0, numSteps):\n",
    "        timeValue = stepIndex + timeOffset\n",
    "\n",
    "        partLon = lon[partIndex][stepIndex * numStepsPerDT];\n",
    "        partLat = lat[partIndex][stepIndex * numStepsPerDT];\n",
    "        partProb = probs[partIndex][stepIndex * numStepsPerDT];\n",
    "\n",
    "        matchFound = 0;\n",
    "\n",
    "        for targetIndex in range (0, numTargetSites):\n",
    "\n",
    "            box_id = data_df.iloc[targetIndex].BOX_ID;\n",
    "            box_coordinates = data_df.iloc[targetIndex].geometry;\n",
    "            checks = box_coordinates.contains(Point(partLon, partLat));\n",
    "            if box_volume[targetIndex] == 0:\n",
    "                target_volume = 0\n",
    "            else :\n",
    "                target_volume = 1 / box_volume[targetIndex];\n",
    "            \n",
    "            if box_depth[targetIndex] < 26:\n",
    "                layer = 0\n",
    "            elif box_depth[targetIndex] == 50:\n",
    "                layer = 1\n",
    "            elif box_depth[targetIndex] == 100:\n",
    "                layer = 2\n",
    "            elif box_depth[targetIndex] == 200:\n",
    "                layer = 3\n",
    "            elif box_depth[targetIndex] > 200 and box_depth[targetIndex] < 401:\n",
    "                layer = 4\n",
    "            elif box_depth[targetIndex] > 400:\n",
    "                layer = 5\n",
    "\n",
    "            if checks:\n",
    "                Dispersed_particles[timeValue][box_id][layer] = Dispersed_particles[timeValue][box_id][layer] + partProb * target_volume;\n",
    "\n",
    "                # uncomment line below to ignore particle decay during debugging.\n",
    "                # Dispersed_particles[timeValue][targetIndex] = Dispersed_particles[timeValue][targetIndex] + 1.0\n",
    "            \n",
    "                matchFound = 1\n",
    "                if debug:\n",
    "                    print('At time ' + str(timeValue) + ' Particle (' + str(partIndex) + ') in box ' + str(data_df.iloc[targetIndex].BOX_ID))\n",
    "\n",
    "                break;\n",
    "\n",
    "        if matchFound == 0:\n",
    "            if debug:\n",
    "                print('No match for particle')\n",
    "                print(partLon, partLat)\n",
    "\n",
    "        #break\n",
    "\n",
    "\n",
    "#oil[:, :] = Dispersed_particles[:][:] * oil_per_particle;\n",
    "Naphthalene[:,:,:] = Dispersed_particles * oil_per_particle * fuel_type[scenario[file_id].split(sep = '_')[-1]][\"Naphthalene\"];\n",
    "Phenanthrene[:,:,:] = Dispersed_particles * oil_per_particle * fuel_type[scenario[file_id].split(sep = '_')[-1]][\"Phenanthrene\"];\n",
    "Pyrene[:,:,:] = Dispersed_particles * oil_per_particle * fuel_type[scenario[file_id].split(sep = '_')[-1]][\"Pyrene\"];\n",
    "Benzo[:,:,:] = Dispersed_particles * oil_per_particle * fuel_type[scenario[file_id].split(sep = '_')[-1]][\"Benzo\"];\n",
    "\n",
    "ncfile.close()\n"
   ]
  },
  {
   "cell_type": "code",
   "execution_count": 233,
   "id": "b6a269c9",
   "metadata": {},
   "outputs": [
    {
     "data": {
      "text/plain": [
       "(array([1799,    5,    4,    2,    1,    2,    0,    1,    1,    5]),\n",
       " array([  0.,  10.,  20.,  30.,  40.,  50.,  60.,  70.,  80.,  90., 100.]))"
      ]
     },
     "execution_count": 233,
     "metadata": {},
     "output_type": "execute_result"
    }
   ],
   "source": [
    "np.histogram(Dispersed_particles)"
   ]
  }
 ],
 "metadata": {
  "interpreter": {
   "hash": "e4d84b090d0c7c6778fa197aacf5543338ee30c87f3fb579a323dc77be78ea57"
  },
  "kernelspec": {
   "display_name": "Python 3.8.10 64-bit ('parcels-dev': conda)",
   "name": "python3"
  },
  "language_info": {
   "codemirror_mode": {
    "name": "ipython",
    "version": 3
   },
   "file_extension": ".py",
   "mimetype": "text/x-python",
   "name": "python",
   "nbconvert_exporter": "python",
   "pygments_lexer": "ipython3",
   "version": "3.8.10"
  }
 },
 "nbformat": 4,
 "nbformat_minor": 5
}
