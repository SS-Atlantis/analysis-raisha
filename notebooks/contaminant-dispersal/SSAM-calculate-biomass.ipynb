{
 "cells": [
  {
   "attachments": {},
   "cell_type": "markdown",
   "id": "86998645-3900-4149-8e24-87848fcecfed",
   "metadata": {},
   "source": [
    "Mapping particle tracks from Ocean Parcels unto the Salish Sea Atlantis Boxes. \n",
    "Original code written by Bec Gordon & Javier Porobic, CSIRO.\n",
    "Link to the [SSAM Ocean Parcels Repo](https://bitbucket.csiro.au/users/por07g/repos/ssam_oceanparcels/browse)"
   ]
  },
  {
   "cell_type": "code",
   "execution_count": 1,
   "id": "7466c5ef-90a0-41dc-b369-b13499b1e5f3",
   "metadata": {},
   "outputs": [],
   "source": [
    "import os\n",
    "import sys\n",
    "import xarray as xr\n",
    "import numpy as np\n",
    "import geopandas as gpd\n",
    "import pandas as pd\n",
    "from netCDF4 import Dataset\n",
    "from shapely.geometry import Point\n",
    "import matplotlib.cm as cm\n",
    "import matplotlib.pyplot as plt\n",
    "from mpl_toolkits.axes_grid1 import make_axes_locatable\n",
    "sys.path.append('/ocean/rlovindeer/MOAD/analysis-raisha/notebooks/')\n",
    "import ssam_groups as groups"
   ]
  },
  {
   "cell_type": "code",
   "execution_count": 2,
   "id": "1f442aa0",
   "metadata": {},
   "outputs": [],
   "source": [
    "initial_conditions_path = \"/ocean/rlovindeer/Atlantis/salish-sea-atlantis-model/SS_init_contam_BF.nc\"\n",
    "initial_conditions = xr.open_dataset(str(initial_conditions_path), decode_cf=True)"
   ]
  },
  {
   "cell_type": "code",
   "execution_count": 3,
   "id": "7f60ee32",
   "metadata": {},
   "outputs": [],
   "source": [
    "initial_conditions2 = initial_conditions.fillna(0)"
   ]
  },
  {
   "cell_type": "code",
   "execution_count": 47,
   "id": "53fa10c6",
   "metadata": {},
   "outputs": [
    {
     "name": "stdout",
     "output_type": "stream",
     "text": [
      "111915486443.67316\n"
     ]
    }
   ],
   "source": [
    "initial_diatom_biomass = np.ma.filled(initial_conditions2.variables['Diatom_N'], np.nan) #mg/m3\n",
    "volume_tbl = np.ma.filled(initial_conditions2.variables['volume'], np.nan) #m3\n",
    "diatom_mass_bl = initial_diatom_biomass * volume_tbl\n",
    "diatom_mass = diatom_mass_bl.sum(axis=1)\n",
    "total_diatom_mass = diatom_mass.sum()\n",
    "print(total_diatom_mass)"
   ]
  },
  {
   "cell_type": "code",
   "execution_count": 5,
   "id": "fe4a2004",
   "metadata": {},
   "outputs": [],
   "source": [
    "def calculate_initial_biomass_pool(group):\n",
    "\n",
    "    volume_tbl = np.ma.filled(initial_conditions2.variables['volume'], np.nan) #m3\n",
    "\n",
    "    for species in group:\n",
    "        initial_biomass = np.ma.filled(initial_conditions2.variables[group[species]+'_N'], np.nan) #mg/m3\n",
    "        biomass_bl = initial_biomass * volume_tbl\n",
    "        biomass = biomass_bl.sum(axis=1)\n",
    "        #avg_biomass = biomass.mean()\n",
    "        #print(species, avg_biomass)\n",
    "        total_biomass = biomass.sum()\n",
    "        print('total biomass:', species, total_biomass)"
   ]
  },
  {
   "cell_type": "code",
   "execution_count": 18,
   "id": "bb6539ee",
   "metadata": {},
   "outputs": [],
   "source": [
    "def calculate_vertebrate_biomass(group, file):\n",
    "\n",
    "    volume_tbl = np.ma.filled(file.variables['volume'][1,:,:], np.nan) #m3\n",
    "\n",
    "    for species in group:\n",
    "        initial_biomass = np.ma.filled(file.variables[group[species]+'_N'][1,:,:], np.nan) #mg/m3\n",
    "        biomass_bl = initial_biomass * volume_tbl\n",
    "        biomass = biomass_bl.sum(axis=1)\n",
    "        #avg_biomass = biomass.mean()\n",
    "        #print(species, avg_biomass)\n",
    "        total_biomass = biomass.sum()\n",
    "        print('total biomass: ',species, total_biomass)"
   ]
  },
  {
   "cell_type": "code",
   "execution_count": 28,
   "id": "72b5c737",
   "metadata": {},
   "outputs": [
    {
     "name": "stdout",
     "output_type": "stream",
     "text": [
      "carnivorous zooplankton 314454057516.9259\n",
      "gelatinous zooplantkon 4183198207074.6753\n",
      "microzooplankton 81026144849.62767\n",
      "mesozooplankton 958137747881.3002\n",
      "diatoms 15987926634.810452\n",
      "picophytoplankton 627247678569.0226\n",
      "pelagic bacteria 2580438835444.833\n"
     ]
    }
   ],
   "source": [
    "calculate_initial_biomass_pool(groups.plankton)"
   ]
  },
  {
   "cell_type": "code",
   "execution_count": 7,
   "id": "0cf4b576",
   "metadata": {},
   "outputs": [
    {
     "name": "stdout",
     "output_type": "stream",
     "text": [
      "total biomass: carnivorous zooplankton 2201178402618.4814\n",
      "total biomass: gelatinous zooplantkon 29282387449522.727\n",
      "total biomass: microzooplankton 567183013947.3937\n",
      "total biomass: mesozooplankton 6706964235169.102\n",
      "total biomass: diatoms 111915486443.67316\n",
      "total biomass: picophytoplankton 4390733749983.158\n",
      "total biomass: pelagic bacteria 18063071848113.832\n"
     ]
    }
   ],
   "source": [
    "calculate_initial_biomass_pool(groups.plankton)"
   ]
  },
  {
   "cell_type": "code",
   "execution_count": 8,
   "id": "ce2bac60",
   "metadata": {},
   "outputs": [
    {
     "name": "stdout",
     "output_type": "stream",
     "text": [
      "total biomass: squid 17972354265.363857\n",
      "total biomass: prawn 1470240654153.3777\n"
     ]
    }
   ],
   "source": [
    "calculate_initial_biomass_pool(groups.pelagic_invertebrates)"
   ]
  },
  {
   "cell_type": "code",
   "execution_count": 14,
   "id": "bd7132e5",
   "metadata": {},
   "outputs": [],
   "source": [
    "output_file_path = '/ocean/rlovindeer/MOAD/analysis-raisha/SSmodel_outputs/Spills/Test_Scenario_5b_v6691_nobiouptake/outputSalishSea.nc'\n",
    "output = xr.open_dataset(str(output_file_path), decode_cf=True)\n",
    "output_nc = output.fillna(0)"
   ]
  },
  {
   "cell_type": "code",
   "execution_count": 19,
   "id": "a656a986",
   "metadata": {},
   "outputs": [
    {
     "name": "stdout",
     "output_type": "stream",
     "text": [
      "total biomass:  Chinook 11531155189.720335\n",
      "total biomass:  Chum 734236972.7399026\n",
      "total biomass:  Coho 17915979226.12793\n",
      "total biomass:  Pink 97974573176.64334\n",
      "total biomass:  Sockeye 408818790579.74475\n",
      "total biomass:  Hatchery Chinook 4412701498.560632\n",
      "total biomass:  Hatchery Coho 16052065632.057384\n",
      "total biomass:  Hatchery Sockeye 2035541085.046322\n"
     ]
    }
   ],
   "source": [
    "calculate_vertebrate_biomass(groups.salmon, output_nc)"
   ]
  },
  {
   "cell_type": "code",
   "execution_count": 20,
   "id": "e10e66c7",
   "metadata": {},
   "outputs": [
    {
     "name": "stdout",
     "output_type": "stream",
     "text": [
      "total biomass:  hake 97437180463.76845\n",
      "total biomass:  lingcod 50034464413.063576\n",
      "total biomass:  pollock 95315863520.84053\n",
      "total biomass:  sandlance 1691641230.4600573\n",
      "total biomass:  rockfish 104401306103.10129\n",
      "total biomass:  pacific herring 440187312379.3749\n"
     ]
    }
   ],
   "source": [
    "calculate_vertebrate_biomass(groups.named_fish, output_nc)"
   ]
  },
  {
   "cell_type": "code",
   "execution_count": 46,
   "id": "41241e77",
   "metadata": {},
   "outputs": [
    {
     "name": "stdout",
     "output_type": "stream",
     "text": [
      "benthopelagic 3445818.4952761917\n",
      "small pelagic 1691170217.2237766\n",
      "small demersal 262117311.00610963\n",
      "large demersal 13025870.395362437\n",
      "small flatfish 2858192585.669463\n",
      "large flatfish 3751737343.923069\n"
     ]
    }
   ],
   "source": [
    "calculate_vertebrate_biomass(groups.other_fish, output_nc)"
   ]
  }
 ],
 "metadata": {
  "interpreter": {
   "hash": "e4d84b090d0c7c6778fa197aacf5543338ee30c87f3fb579a323dc77be78ea57"
  },
  "kernelspec": {
   "display_name": "Python 3.8.10 64-bit ('parcels-dev': conda)",
   "name": "python3"
  },
  "language_info": {
   "codemirror_mode": {
    "name": "ipython",
    "version": 3
   },
   "file_extension": ".py",
   "mimetype": "text/x-python",
   "name": "python",
   "nbconvert_exporter": "python",
   "pygments_lexer": "ipython3",
   "version": "3.8.10"
  }
 },
 "nbformat": 4,
 "nbformat_minor": 5
}
