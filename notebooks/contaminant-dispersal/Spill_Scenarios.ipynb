{
 "cells": [
  {
   "cell_type": "markdown",
   "metadata": {},
   "source": [
    "### Salish Sea Oil Spill Scenarios\n",
    "\n",
    "This notebook describes oil particle tracking for spill scenarios in the Salish Sea developed in conjunction with the Canadian Department of Fisheries and Oceans (DFO). The code is for translating particle tracking from *ocean parcels* using the *Salish Sea Cast* grid into input forcing files for *Atlantis* and resulting in oil dispersal on the *Salish Sea Atlantis Model* box grid."
   ]
  },
  {
   "cell_type": "code",
   "execution_count": 1,
   "metadata": {},
   "outputs": [
    {
     "name": "stderr",
     "output_type": "stream",
     "text": [
      "INFO: Compiled ParcelsRandom ==> /tmp/parcels-2926/libparcels_random_c6d993d7-d734-487d-9db0-c0d7d57573b6.so\n"
     ]
    }
   ],
   "source": [
    "import sys\n",
    "import os\n",
    "import math\n",
    "import xarray as xr\n",
    "import geopandas as gpd\n",
    "import pandas as pd\n",
    "import matplotlib.cm as cm\n",
    "import matplotlib.pyplot as plt\n",
    "import matplotlib.colors as colors\n",
    "from IPython.display import Image\n",
    "from netCDF4 import Dataset\n",
    "from shapely.geometry import Point\n",
    "from pathlib import Path\n",
    "from pprint import pprint\n",
    "from parcels import AdvectionRK4, VectorField, Variable\n",
    "from parcels import FieldSet, plotTrajectoriesFile, Variable, ScipyParticle, Field\n",
    "import numpy as np\n",
    "from datetime import timedelta\n",
    "sys.path.append('/ocean/rlovindeer/Atlantis/ssam_oceanparcels/Parcels_Utils/particle_tracking/parcels/')\n",
    "from util.seed_particles import get_particles, get_release_times"
   ]
  },
  {
   "cell_type": "code",
   "execution_count": 2,
   "id": "d3d5f048",
   "metadata": {},
   "outputs": [],
   "source": [
    "# Data Paths\n",
    "currents = Path('/ocean/rlovindeer/Atlantis/Physics/Raw_Transport_Data/')\n",
    "winds = Path('/ocean/rlovindeer/Atlantis/Physics/Wind/')\n",
    "sea_grid = Path('/ocean/rlovindeer/Atlantis/Physics/Grids/ubcSSnBathymetryV17-02_a29d_efc9_4047.nc')\n",
    "air_grid = Path('/ocean/rlovindeer/Atlantis/Physics/Grids/ubcSSaAtmosphereGridV1_0f03_6268_df4b.nc')\n",
    "fraser_discharge = Path('/data/dlatorne/SOG-projects/SOG-forcing/ECget/Fraser_flow')\n",
    "tides = '/ocean/rlovindeer/MOAD/analysis-raisha/notebooks/contaminant-dispersal/results/Tides/'"
   ]
  },
  {
   "cell_type": "markdown",
   "metadata": {},
   "source": [
    "### Salish Sea Conditions during the scenario run\n",
    "Tide data is taken from [DFO-Pacific website](https://www.pac.dfo-mpo.gc.ca/science/charts-cartes/obs-app/observed-eng.aspx?StationID=07735) at the nearest tide gauge. \n",
    "Surface winds are taken from hourly atmospheric field values from the Environment Canada High Resolution Deterministic Prediction System (HRDPS) atmospheric forcing model, and used to force the surface winds for Ocean Parcels.\n",
    "Discharge from the Fraser River (m^3) is acquired from Salish Sea Cast.\n",
    "\n",
    "### Spill Scenario\n",
    "Scenarios are based on discussion with DFO & Transport Canada. See [this documented](https://docs.google.com/spreadsheets/d/17HgaXoKG5b0zkigri6Vdw7fNviDKVzzTVrbpVVRrCjk/edit?usp=sharing) for full scenario descriptions, including spill locations, and type and volume of spill."
   ]
  },
  {
   "cell_type": "code",
   "execution_count": 3,
   "id": "35006b9e",
   "metadata": {},
   "outputs": [],
   "source": [
    "# Spill release times\n",
    "release_start = '2019-01-13'  ## winter starts in December, Summer in Jul - Aug\n",
    "release_end = '2019-01-14'\n",
    "release_YYYYMM = '2019-01'\n",
    "spill_volume = 2000 # m^3"
   ]
  },
  {
   "cell_type": "code",
   "execution_count": 4,
   "metadata": {},
   "outputs": [
    {
     "name": "stdout",
     "output_type": "stream",
     "text": [
      "\n",
      "Scenario running  : 5b_Turn_Point_Diluted_bitumen\n"
     ]
    }
   ],
   "source": [
    "# Oil type properties & spill location selection\n",
    "\n",
    "bitumen = {\n",
    "    \"Density\": 1011.2,      # kg/m^3\n",
    "    \"Naphthalene\": 24,      # mg/kg oil\n",
    "    \"Phenanthrene\": 17,\n",
    "    \"Pyrene\": 10,\n",
    "    \"Benzo\": 3,\n",
    "}\n",
    "\n",
    "BunkerC = {\n",
    "    \"Density\": 995.3,\n",
    "    \"Naphthalene\": 680,\n",
    "    \"Phenanthrene\": 796,\n",
    "    \"Pyrene\": 266,\n",
    "    \"Benzo\": 56,\n",
    "}\n",
    "\n",
    "Diesel = {\n",
    "    \"Density\": 831.0,\n",
    "    \"Naphthalene\": 3664,\n",
    "    \"Phenanthrene\": 1000,\n",
    "    \"Pyrene\": 0.000,\n",
    "    \"Benzo\": 0.000,\n",
    "}\n",
    "\n",
    "Crude = {\n",
    "    \"Density\": 884.7,\n",
    "    \"Naphthalene\": 654,\n",
    "    \"Phenanthrene\": 327,\n",
    "    \"Pyrene\": 13,\n",
    "    \"Benzo\": 2,\n",
    "}\n",
    "\n",
    "fuel_type = {\n",
    "    \"bitumen\" : bitumen,\n",
    "    \"BunkerC\" : BunkerC,\n",
    "    \"Diesel\" : Diesel,\n",
    "    \"Crude\" : Crude,\n",
    "}\n",
    "\n",
    "file_id = int(input( ))\n",
    "scenario = {1 : \"5b_Turn_Point_Diluted_bitumen\",\n",
    "            2 : \"6a_VancouverHarbour_BunkerC\",\n",
    "            3 : \"7a_JohnsonStrait_BunkerC\",\n",
    "            4 : \"4a_ActivePass_Diesel\",}\n",
    "\n",
    "print(\"\\nScenario running  :\", scenario[file_id], sep = \" \")"
   ]
  },
  {
   "cell_type": "markdown",
   "metadata": {},
   "source": [
    "## Creating particle movement through Ocean Parcels"
   ]
  },
  {
   "cell_type": "code",
   "execution_count": 5,
   "metadata": {},
   "outputs": [],
   "source": [
    "#Kernels\n",
    "def WindAdvectionRK4(particle, fieldset, time):\n",
    "    \"\"\"Advection of particles using fourth-order Runge-Kutta integration.\n",
    "     Function needs to be converted to Kernel object before execution\"\"\"\n",
    "    if particle.beached == 0:\n",
    "        wp = fieldset.wind_percentage ## this needs to be added to the fieldset\n",
    "        \n",
    "        if wp > 0:\n",
    "\n",
    "            (u1, v1) = fieldset.UV[time, particle.depth, particle.lat, particle.lon]\n",
    "            u1 = u1 * wp\n",
    "            v1 = v1 * wp\n",
    "            lon1, lat1 = (particle.lon + u1*.5*particle.dt, particle.lat + v1*.5*particle.dt)\n",
    "            \n",
    "            (u2, v2) = fieldset.UVwind[time + .5 * particle.dt, particle.depth, lat1, lon1]\n",
    "            u2 = u2 * wp\n",
    "            v2 = v2 * wp\n",
    "            lon2, lat2 = (particle.lon + u2*.5*particle.dt, particle.lat + v2*.5*particle.dt)\n",
    "            \n",
    "            (u3, v3) = fieldset.UVwind[time + .5 * particle.dt, particle.depth, lat2, lon2]\n",
    "            u3 = u3 * wp\n",
    "            v3 = v3 * wp\n",
    "            lon3, lat3 = (particle.lon + u3*particle.dt, particle.lat + v3*particle.dt)\n",
    "            \n",
    "            (u4, v4) = fieldset.UVwind[time + particle.dt, particle.depth, lat3, lon3]\n",
    "            u4 = u4 * wp\n",
    "            v4 = v4 * wp            \n",
    "            \n",
    "            u_wind  = (u1 + 2*u2 + 2*u3 + u4) / 6. * particle.dt\n",
    "            v_wind  = (v1 + 2*v2 + 2*v3 + v4) / 6. * particle.dt\n",
    "            \n",
    "            particle.lon += (u1 + 2*u2 + 2*u3 + u4) / 6. * particle.dt\n",
    "            particle.lat += (v1 + 2*v2 + 2*v3 + v4) / 6. * particle.dt\n",
    "            \n",
    "            particle.beached = 2\n",
    "            \n",
    "def BeachTesting(particle, fieldset, time):\n",
    "    \"\"\" Testing if particles are on land. if 'yes' particle will be removed\"\"\"\n",
    "    if particle.beached == 2:\n",
    "        (u, v) = fieldset.UV[time, particle.depth, particle.lat, particle.lon]\n",
    "        #print(u, v)\n",
    "        if u == 0 and v == 0:\n",
    "            particle.beached = 1\n",
    "        else:\n",
    "            particle.beached = 0\n",
    "\n",
    "def DeleteParticle(particle, fieldset, time):\n",
    "    particle.delete()\n",
    "\n",
    "def DecayParticle(particle, fieldset, time):\n",
    "    dt = particle.dt\n",
    "    field_decay_value = fieldset.decay\n",
    "    decay = math.exp(0 * dt/field_decay_value) #math.exp(-1.0 * dt/field_decay_value)\n",
    "    particle.decay_value = particle.decay_value * decay"
   ]
  },
  {
   "cell_type": "code",
   "execution_count": 6,
   "metadata": {},
   "outputs": [
    {
     "name": "stderr",
     "output_type": "stream",
     "text": [
      "WARNING: Casting lon data to np.float32\n",
      "WARNING: Casting lat data to np.float32\n",
      "WARNING: Casting depth data to np.float32\n"
     ]
    },
    {
     "name": "stdout",
     "output_type": "stream",
     "text": [
      "fieldset created from_nemo\n",
      "decay constant added\n"
     ]
    }
   ],
   "source": [
    "# Salish Sea NEMO Model Grid, Geo-location and Bathymetry, v17-02\n",
    "\n",
    "# Currents\n",
    "u_current = sorted([p for p in currents.glob(str(release_YYYYMM) + '*URaw_variables.nc')])\n",
    "v_current = sorted([p for p in currents.glob(str(release_YYYYMM) + '*VRaw_variables.nc')])\n",
    "\n",
    "filenames = {\n",
    "    'U': {'lon': sea_grid,'lat': sea_grid,'data': u_current},\n",
    "    'V': {'lon': sea_grid,'lat': sea_grid,'data': v_current}\n",
    "            }\n",
    "\n",
    "variables = {'U': 'uVelocity','V': 'vVelocity'}\n",
    "dimensions = {'lon': 'longitude', 'lat': 'latitude', 'time': 'time'}\n",
    "fieldset = FieldSet.from_nemo(filenames, variables, dimensions, allow_time_extrapolation=True)\n",
    "print('fieldset created from_nemo')\n",
    "\n",
    "fieldset.add_constant('decay', 1.0 * 3600.0)\n",
    "print('decay constant added')"
   ]
  },
  {
   "cell_type": "code",
   "execution_count": 7,
   "metadata": {},
   "outputs": [
    {
     "name": "stdout",
     "output_type": "stream",
     "text": [
      "{'data': [PosixPath('/ocean/rlovindeer/Atlantis/Physics/Wind/2019-01-01_Wind_variables.nc'),\n",
      "          PosixPath('/ocean/rlovindeer/Atlantis/Physics/Wind/2019-01-07_Wind_variables.nc'),\n",
      "          PosixPath('/ocean/rlovindeer/Atlantis/Physics/Wind/2019-01-13_Wind_variables.nc'),\n",
      "          PosixPath('/ocean/rlovindeer/Atlantis/Physics/Wind/2019-01-19_Wind_variables.nc'),\n",
      "          PosixPath('/ocean/rlovindeer/Atlantis/Physics/Wind/2019-01-25_Wind_variables.nc'),\n",
      "          PosixPath('/ocean/rlovindeer/Atlantis/Physics/Wind/2019-01-31_Wind_variables.nc')],\n",
      " 'lat': '/ocean/rlovindeer/Atlantis/Physics/Grids/ubcSSaAtmosphereGridV1_0f03_6268_df4b.nc',\n",
      " 'lon': '/ocean/rlovindeer/Atlantis/Physics/Grids/ubcSSaAtmosphereGridV1_0f03_6268_df4b.nc'}\n"
     ]
    }
   ],
   "source": [
    "# HRDPS, Salish Sea, Atmospheric Forcing Grid, Geo-location, v1\"\n",
    "\n",
    "wind_paths = sorted([p for p in winds.glob(str(release_YYYYMM) + '*Wind_variables.nc')])\n",
    "wind_filenames = {'lon': os.fspath(air_grid),'lat': os.fspath(air_grid),'data': wind_paths}\n",
    "wind_dimensions = {'lon': 'longitude', 'lat': 'latitude', 'time': 'time'}\n",
    "\n",
    "pprint(wind_filenames)"
   ]
  },
  {
   "cell_type": "code",
   "execution_count": 8,
   "metadata": {},
   "outputs": [
    {
     "name": "stdout",
     "output_type": "stream",
     "text": [
      "wind data loaded\n"
     ]
    }
   ],
   "source": [
    "Uwind_field = Field.from_netcdf(wind_filenames, ('U_wind', 'u_wind'),\n",
    "                                     wind_dimensions,\n",
    "                                     fieldtype='U',\n",
    "                                     allow_time_extrapolation=True,\n",
    "                                     transpose=False,\n",
    "                                     deferred_load=False)\n",
    "Vwind_field = Field.from_netcdf(wind_filenames, ('V_wind', 'v_wind'),\n",
    "                                     wind_dimensions,\n",
    "                                     fieldtype='V',\n",
    "                                     allow_time_extrapolation=True,\n",
    "                                     transpose=False,\n",
    "                                     deferred_load=False)\n",
    "\n",
    "print('wind data loaded')"
   ]
  },
  {
   "cell_type": "code",
   "execution_count": 9,
   "metadata": {},
   "outputs": [],
   "source": [
    "# change longitude for the wind field\n",
    "Uwind_field.grid.lon = Uwind_field.grid.lon - 360\n",
    "Vwind_field.grid.lon = Vwind_field.grid.lon - 360\n",
    "\n",
    "[x_min, x_max, y_min, y_max] = Uwind_field.grid.lonlat_minmax\n",
    "\n",
    "Uwind_field.grid.lonlat_minmax = [x_min - 360, x_max - 360, y_min, y_max]\n",
    "Vwind_field.grid.lonlat_minmax = [x_min - 360, x_max - 360, y_min, y_max]\n",
    "\n",
    "## adding the wind field to the fieldset object\n",
    "fieldset.add_field(Uwind_field)\n",
    "fieldset.add_field(Vwind_field)\n",
    "wind_field = VectorField('UVwind', Uwind_field,  Vwind_field)\n",
    "fieldset.add_vector_field(wind_field)"
   ]
  },
  {
   "cell_type": "code",
   "execution_count": 10,
   "metadata": {},
   "outputs": [],
   "source": [
    "# wind_percentage\n",
    "# We need to do a sensitivity analysis of the percetage of wind to be used here\n",
    "wind_percentage = 1\n",
    "fieldset.add_constant('wind_percentage', wind_percentage/100.0)"
   ]
  },
  {
   "cell_type": "raw",
   "metadata": {},
   "source": [
    "Just in case we want to add a maximum age\n",
    "# fieldset_sum.add_constant('max_age', dispersal_length)"
   ]
  },
  {
   "cell_type": "code",
   "execution_count": 11,
   "metadata": {},
   "outputs": [
    {
     "name": "stdout",
     "output_type": "stream",
     "text": [
      "setting up particles\n"
     ]
    }
   ],
   "source": [
    "class MyParticle(ScipyParticle):\n",
    "    initial_time = -100\n",
    "    decay_value = Variable('decay_value', dtype=np.float32, initial=1.0)\n",
    "    beached = Variable('beached', dtype=np.int32, initial=0.)\n",
    "    age = Variable('age', dtype=np.int32, initial=0.)\n",
    "\n",
    "# Particle Features\n",
    "num_particles_per_day = 100\n",
    "feature_release_index = 0\n",
    "input_shapefile_name = \"/ocean/rlovindeer/Atlantis/ssam_oceanparcels/SalishSea/Shape_Scenarios/\" + scenario[file_id] + \".shp\"\n",
    "release_depth = -0.1\n",
    "release_start_time = np.datetime64(release_start)\n",
    "release_end_time = np.datetime64(release_end)\n",
    "time_origin = fieldset.U.grid.time_origin.time_origin\n",
    "\n",
    "print('setting up particles')\n"
   ]
  },
  {
   "cell_type": "code",
   "execution_count": 12,
   "metadata": {},
   "outputs": [
    {
     "name": "stdout",
     "output_type": "stream",
     "text": [
      "775800.0\n",
      "100\n",
      "100\n",
      "Using shapefile /ocean/rlovindeer/Atlantis/ssam_oceanparcels/SalishSea/Shape_Scenarios/5b_Turn_Point_Diluted_bitumen.shp\n",
      "Number of sites :  1\n",
      "Up to 0 of 1\n",
      "80\n",
      "100\n",
      "Sucessfully seeded particles\n",
      "\n",
      "num_attempts = 2\n",
      "[-123.29342181743614, -123.29308906571126, -123.29331391769186, -123.29342967807801, -123.29367213484532, -123.29322765621787, -123.29364427002147, -123.29273589844243, -123.29375256140635, -123.29293599436784, -123.2934616546045, -123.29338335532181, -123.29266825116741, -123.2943451858446, -123.2928542047529, -123.2929631309421, -123.29277942014751, -123.29292112731557, -123.29359648571949, -123.29295838609143, -123.29428289559226, -123.29323960240134, -123.29263010660989, -123.2934757478005, -123.29369012056402, -123.2939903332198, -123.29297097706512, -123.29360714377957, -123.29338257654626, -123.29448186484314, -123.29328417344985, -123.29329525299856, -123.29328557645024, -123.29263194828697, -123.29315580384579, -123.29380042864285, -123.2936453805364, -123.29312418205214, -123.29318591101311, -123.29317816870477, -123.29409867932186, -123.29388858774216, -123.29337905090317, -123.29364224141707, -123.29431535482252, -123.29410169093181, -123.29419682540824, -123.29321322779307, -123.29401286123893, -123.29358682289829, -123.29420150527672, -123.29429869416168, -123.29320678526507, -123.29378199410269, -123.29432524189242, -123.292843554629, -123.29256652551398, -123.2935821420407, -123.29330975340451, -123.2930409172852, -123.29395383051884, -123.29392716404895, -123.29388347808522, -123.29369091845497, -123.29439114945131, -123.29313450020526, -123.29338624153559, -123.29398866546212, -123.29347294833707, -123.29433156342249, -123.29336755145289, -123.29266085204884, -123.2938823065391, -123.29318462368407, -123.2942558487192, -123.29308679003576, -123.29394063225811, -123.29415306172, -123.29334641857439, -123.29451005349162, -123.29389585268001, -123.29312675746637, -123.29376394076542, -123.29447008698722, -123.29316065889701, -123.29361205075489, -123.29344628602179, -123.29408565047521, -123.2931932880378, -123.29399279969053, -123.29300268713632, -123.29387941014235, -123.29375251665566, -123.2933428102169, -123.29285734753353, -123.29326148075681, -123.29397236037437, -123.29292335077618, -123.2941481725554, -123.29261386113005]\n",
      "5b_Turn_Point_Diluted_bitumen2019-01-13_OP.nc\n"
     ]
    }
   ],
   "source": [
    "\n",
    "[release_times, p, num_particles] = get_release_times(time_origin, num_particles_per_day, release_start_time, release_end_time)\n",
    "pset = get_particles(fieldset, num_particles, input_shapefile_name, MyParticle, feature_release_index, release_times, release_depth)\n",
    "\n",
    "#print(pset)\n",
    "\n",
    "# Building the kernels\n",
    "decay_kernel = pset.Kernel(DecayParticle)\n",
    "beaching_kernel = pset.Kernel(BeachTesting)\n",
    "ForcingWind_kernel = pset.Kernel(WindAdvectionRK4)\n",
    "\n",
    "# Adding to the main kernel\n",
    "my_kernel = AdvectionRK4 + decay_kernel + ForcingWind_kernel + beaching_kernel\n",
    "\n",
    "output_file_name = scenario[file_id] + str(release_start_time) + '_OP.nc'\n",
    "print(output_file_name)"
   ]
  },
  {
   "cell_type": "code",
   "execution_count": 13,
   "metadata": {},
   "outputs": [
    {
     "name": "stdout",
     "output_type": "stream",
     "text": [
      "executing particle kernel\n"
     ]
    },
    {
     "name": "stderr",
     "output_type": "stream",
     "text": [
      "rm: cannot remove '5b_Turn_Point_Diluted_bitumen2019-01-13_OP.nc': No such file or directory\n"
     ]
    }
   ],
   "source": [
    "try:\n",
    "    os.system('rm ' + output_file_name)\n",
    "except:\n",
    "    pass\n",
    "\n",
    "print('executing particle kernel')"
   ]
  },
  {
   "cell_type": "code",
   "execution_count": 14,
   "metadata": {},
   "outputs": [
    {
     "name": "stderr",
     "output_type": "stream",
     "text": [
      "INFO: Temporary output files are stored in out-WOEQQTDO.\n",
      "INFO: You can use \"parcels_convert_npydir_to_netcdf out-WOEQQTDO\" to convert these to a NetCDF file during the run.\n",
      "N/A% (0 of 518400.0) |                   | Elapsed Time: 0:00:00 ETA:  --:--:--\n",
      "  6% (32400.0 of 518400.0) |             | Elapsed Time: 0:00:03 ETA:   0:00:48\n",
      "  6% (36000.0 of 518400.0) |             | Elapsed Time: 0:00:06 ETA:   0:07:25\n",
      "  7% (39600.0 of 518400.0) |             | Elapsed Time: 0:00:10 ETA:   0:08:02\n",
      "  8% (43200.0 of 518400.0) |#            | Elapsed Time: 0:00:13 ETA:   0:08:16\n",
      "  8% (45000.0 of 518400.0) |#            | Elapsed Time: 0:00:16 ETA:   0:11:09\n",
      "  9% (46800.0 of 518400.0) |#            | Elapsed Time: 0:00:18 ETA:   0:08:54\n",
      "  9% (50400.0 of 518400.0) |#            | Elapsed Time: 0:00:23 ETA:   0:11:06\n",
      " 10% (54000.0 of 518400.0) |#            | Elapsed Time: 0:00:28 ETA:   0:11:33\n",
      " 11% (57600.0 of 518400.0) |#            | Elapsed Time: 0:00:33 ETA:   0:11:22\n",
      " 11% (61200.0 of 518400.0) |#            | Elapsed Time: 0:00:39 ETA:   0:12:00\n",
      " 12% (64800.0 of 518400.0) |#            | Elapsed Time: 0:00:45 ETA:   0:12:53\n",
      " 12% (66600.0 of 518400.0) |#            | Elapsed Time: 0:00:50 ETA:   0:19:33\n",
      " 13% (68400.0 of 518400.0) |#            | Elapsed Time: 0:00:52 ETA:   0:10:02\n",
      " 13% (72000.0 of 518400.0) |#            | Elapsed Time: 0:01:00 ETA:   0:15:57\n",
      " 14% (75600.0 of 518400.0) |#            | Elapsed Time: 0:01:08 ETA:   0:16:57\n",
      " 15% (79200.0 of 518400.0) |#            | Elapsed Time: 0:01:16 ETA:   0:16:30\n",
      " 15% (82800.0 of 518400.0) |##           | Elapsed Time: 0:01:25 ETA:   0:17:02\n",
      " 16% (86400.0 of 518400.0) |##           | Elapsed Time: 0:01:34 ETA:   0:17:24\n",
      " 17% (88200.0 of 518400.0) |##           | Elapsed Time: 0:01:39 ETA:   0:19:54\n",
      " 17% (90000.0 of 518400.0) |##           | Elapsed Time: 0:01:42 ETA:   0:12:15\n",
      " 18% (93600.0 of 518400.0) |##           | Elapsed Time: 0:01:51 ETA:   0:19:11\n",
      " 18% (97200.0 of 518400.0) |##           | Elapsed Time: 0:02:02 ETA:   0:20:35\n",
      " 19% (100800.0 of 518400.0) |##          | Elapsed Time: 0:02:12 ETA:   0:19:20\n",
      " 20% (104400.0 of 518400.0) |##          | Elapsed Time: 0:02:22 ETA:   0:19:09\n",
      " 20% (108000.0 of 518400.0) |##          | Elapsed Time: 0:02:32 ETA:   0:19:13\n",
      " 21% (109800.0 of 518400.0) |##          | Elapsed Time: 0:02:37 ETA:   0:20:36\n",
      " 21% (111600.0 of 518400.0) |##          | Elapsed Time: 0:02:41 ETA:   0:12:12\n",
      " 22% (115200.0 of 518400.0) |##          | Elapsed Time: 0:02:51 ETA:   0:19:39\n",
      " 22% (118800.0 of 518400.0) |##          | Elapsed Time: 0:03:02 ETA:   0:20:08\n",
      " 23% (122400.0 of 518400.0) |##          | Elapsed Time: 0:03:13 ETA:   0:19:00\n",
      " 24% (126000.0 of 518400.0) |##          | Elapsed Time: 0:03:23 ETA:   0:18:51\n",
      " 25% (129600.0 of 518400.0) |###         | Elapsed Time: 0:03:33 ETA:   0:18:31\n",
      " 25% (131400.0 of 518400.0) |###         | Elapsed Time: 0:03:39 ETA:   0:19:16\n",
      " 25% (133200.0 of 518400.0) |###         | Elapsed Time: 0:03:42 ETA:   0:12:16\n",
      " 26% (136800.0 of 518400.0) |###         | Elapsed Time: 0:03:52 ETA:   0:18:18\n",
      " 27% (140400.0 of 518400.0) |###         | Elapsed Time: 0:04:03 ETA:   0:18:17\n",
      " 27% (144000.0 of 518400.0) |###         | Elapsed Time: 0:04:13 ETA:   0:18:18\n",
      " 28% (147600.0 of 518400.0) |###         | Elapsed Time: 0:04:24 ETA:   0:18:05\n",
      " 29% (151200.0 of 518400.0) |###         | Elapsed Time: 0:04:34 ETA:   0:16:19\n",
      " 29% (153000.0 of 518400.0) |###         | Elapsed Time: 0:04:38 ETA:   0:15:07\n",
      " 29% (154800.0 of 518400.0) |###         | Elapsed Time: 0:04:41 ETA:   0:09:04\n",
      " 30% (158400.0 of 518400.0) |###         | Elapsed Time: 0:04:49 ETA:   0:13:32\n",
      " 31% (162000.0 of 518400.0) |###         | Elapsed Time: 0:04:57 ETA:   0:12:58\n",
      " 31% (165600.0 of 518400.0) |###         | Elapsed Time: 0:05:05 ETA:   0:12:52\n",
      " 32% (169200.0 of 518400.0) |###         | Elapsed Time: 0:05:12 ETA:   0:12:15\n",
      " 33% (172800.0 of 518400.0) |####        | Elapsed Time: 0:05:20 ETA:   0:12:09\n",
      " 33% (174600.0 of 518400.0) |####        | Elapsed Time: 0:05:24 ETA:   0:12:28\n",
      " 34% (176400.0 of 518400.0) |####        | Elapsed Time: 0:05:26 ETA:   0:07:43\n",
      " 34% (180000.0 of 518400.0) |####        | Elapsed Time: 0:05:34 ETA:   0:11:52\n",
      " 35% (183600.0 of 518400.0) |####        | Elapsed Time: 0:05:42 ETA:   0:12:28\n",
      " 36% (187200.0 of 518400.0) |####        | Elapsed Time: 0:05:50 ETA:   0:12:18\n",
      " 36% (190800.0 of 518400.0) |####        | Elapsed Time: 0:05:57 ETA:   0:11:22\n",
      " 37% (194400.0 of 518400.0) |####        | Elapsed Time: 0:06:05 ETA:   0:10:57\n",
      " 37% (196200.0 of 518400.0) |####        | Elapsed Time: 0:06:08 ETA:   0:11:12\n",
      " 38% (198000.0 of 518400.0) |####        | Elapsed Time: 0:06:11 ETA:   0:06:57\n",
      " 38% (201600.0 of 518400.0) |####        | Elapsed Time: 0:06:18 ETA:   0:10:54\n",
      " 39% (205200.0 of 518400.0) |####        | Elapsed Time: 0:06:25 ETA:   0:10:31\n",
      " 40% (208800.0 of 518400.0) |####        | Elapsed Time: 0:06:33 ETA:   0:10:20\n",
      " 40% (212400.0 of 518400.0) |####        | Elapsed Time: 0:06:40 ETA:   0:10:23\n",
      " 41% (216000.0 of 518400.0) |#####       | Elapsed Time: 0:06:47 ETA:   0:10:18\n",
      " 42% (217800.0 of 518400.0) |#####       | Elapsed Time: 0:06:51 ETA:   0:11:05\n",
      " 42% (219600.0 of 518400.0) |#####       | Elapsed Time: 0:06:54 ETA:   0:07:31\n",
      " 43% (223200.0 of 518400.0) |#####       | Elapsed Time: 0:07:01 ETA:   0:10:01\n",
      " 43% (226800.0 of 518400.0) |#####       | Elapsed Time: 0:07:09 ETA:   0:09:45\n",
      " 44% (230400.0 of 518400.0) |#####       | Elapsed Time: 0:07:16 ETA:   0:09:41\n",
      " 45% (234000.0 of 518400.0) |#####       | Elapsed Time: 0:07:23 ETA:   0:09:37\n",
      " 45% (237600.0 of 518400.0) |#####       | Elapsed Time: 0:07:30 ETA:   0:09:13\n",
      " 46% (239400.0 of 518400.0) |#####       | Elapsed Time: 0:07:34 ETA:   0:09:38\n",
      " 46% (241200.0 of 518400.0) |#####       | Elapsed Time: 0:07:36 ETA:   0:05:50\n",
      " 47% (244800.0 of 518400.0) |#####       | Elapsed Time: 0:07:43 ETA:   0:08:52\n",
      " 47% (248400.0 of 518400.0) |#####       | Elapsed Time: 0:07:50 ETA:   0:08:57\n",
      " 48% (252000.0 of 518400.0) |#####       | Elapsed Time: 0:07:58 ETA:   0:08:56\n",
      " 49% (255600.0 of 518400.0) |#####       | Elapsed Time: 0:08:05 ETA:   0:08:39\n",
      " 50% (259200.0 of 518400.0) |######      | Elapsed Time: 0:08:12 ETA:   0:08:59\n",
      " 50% (261000.0 of 518400.0) |######      | Elapsed Time: 0:08:16 ETA:   0:09:30\n",
      " 50% (262800.0 of 518400.0) |######      | Elapsed Time: 0:08:19 ETA:   0:05:31\n",
      " 51% (266400.0 of 518400.0) |######      | Elapsed Time: 0:08:26 ETA:   0:08:15\n",
      " 52% (270000.0 of 518400.0) |######      | Elapsed Time: 0:08:33 ETA:   0:08:05\n",
      " 52% (273600.0 of 518400.0) |######      | Elapsed Time: 0:08:40 ETA:   0:07:47\n",
      " 53% (277200.0 of 518400.0) |######      | Elapsed Time: 0:08:47 ETA:   0:07:50\n",
      " 54% (280800.0 of 518400.0) |######      | Elapsed Time: 0:08:54 ETA:   0:07:43\n",
      " 54% (282600.0 of 518400.0) |######      | Elapsed Time: 0:08:57 ETA:   0:08:24\n",
      " 54% (284400.0 of 518400.0) |######      | Elapsed Time: 0:09:00 ETA:   0:05:16\n",
      " 55% (288000.0 of 518400.0) |######      | Elapsed Time: 0:09:07 ETA:   0:07:31\n",
      " 56% (291600.0 of 518400.0) |######      | Elapsed Time: 0:09:14 ETA:   0:07:39\n",
      " 56% (295200.0 of 518400.0) |######      | Elapsed Time: 0:09:21 ETA:   0:07:02\n",
      " 57% (298800.0 of 518400.0) |######      | Elapsed Time: 0:09:28 ETA:   0:06:53\n",
      " 58% (302400.0 of 518400.0) |#######     | Elapsed Time: 0:09:35 ETA:   0:06:49\n",
      " 58% (304200.0 of 518400.0) |#######     | Elapsed Time: 0:09:38 ETA:   0:07:06\n",
      " 59% (306000.0 of 518400.0) |#######     | Elapsed Time: 0:09:40 ETA:   0:04:25\n",
      " 59% (309600.0 of 518400.0) |#######     | Elapsed Time: 0:09:47 ETA:   0:06:42\n",
      " 60% (313200.0 of 518400.0) |#######     | Elapsed Time: 0:09:54 ETA:   0:06:32\n",
      " 61% (316800.0 of 518400.0) |#######     | Elapsed Time: 0:10:01 ETA:   0:06:27\n",
      " 61% (320400.0 of 518400.0) |#######     | Elapsed Time: 0:10:08 ETA:   0:06:20\n",
      " 62% (324000.0 of 518400.0) |#######     | Elapsed Time: 0:10:15 ETA:   0:06:11\n",
      " 62% (325800.0 of 518400.0) |#######     | Elapsed Time: 0:10:19 ETA:   0:06:25\n",
      " 63% (327600.0 of 518400.0) |#######     | Elapsed Time: 0:10:21 ETA:   0:03:55\n",
      " 63% (331200.0 of 518400.0) |#######     | Elapsed Time: 0:10:28 ETA:   0:05:58\n",
      " 64% (334800.0 of 518400.0) |#######     | Elapsed Time: 0:10:34 ETA:   0:05:40\n",
      " 65% (338400.0 of 518400.0) |#######     | Elapsed Time: 0:10:41 ETA:   0:05:37\n",
      " 65% (342000.0 of 518400.0) |#######     | Elapsed Time: 0:10:48 ETA:   0:05:27\n",
      " 66% (345600.0 of 518400.0) |########    | Elapsed Time: 0:10:54 ETA:   0:05:16\n",
      " 67% (347400.0 of 518400.0) |########    | Elapsed Time: 0:10:58 ETA:   0:05:32\n",
      " 67% (349200.0 of 518400.0) |########    | Elapsed Time: 0:11:00 ETA:   0:03:41\n",
      " 68% (352800.0 of 518400.0) |########    | Elapsed Time: 0:11:07 ETA:   0:05:00\n",
      " 68% (356400.0 of 518400.0) |########    | Elapsed Time: 0:11:13 ETA:   0:04:50\n",
      " 69% (360000.0 of 518400.0) |########    | Elapsed Time: 0:11:20 ETA:   0:04:42\n",
      " 70% (363600.0 of 518400.0) |########    | Elapsed Time: 0:11:26 ETA:   0:04:37\n",
      " 70% (367200.0 of 518400.0) |########    | Elapsed Time: 0:11:33 ETA:   0:04:31\n",
      " 71% (369000.0 of 518400.0) |########    | Elapsed Time: 0:11:36 ETA:   0:04:40\n",
      " 71% (370800.0 of 518400.0) |########    | Elapsed Time: 0:11:38 ETA:   0:03:09\n",
      " 72% (374400.0 of 518400.0) |########    | Elapsed Time: 0:11:45 ETA:   0:04:14\n",
      " 72% (378000.0 of 518400.0) |########    | Elapsed Time: 0:11:51 ETA:   0:04:04\n",
      " 73% (381600.0 of 518400.0) |########    | Elapsed Time: 0:11:57 ETA:   0:04:00\n",
      " 74% (385200.0 of 518400.0) |########    | Elapsed Time: 0:12:04 ETA:   0:03:52\n",
      " 75% (388800.0 of 518400.0) |#########   | Elapsed Time: 0:12:10 ETA:   0:03:50\n",
      " 75% (390600.0 of 518400.0) |#########   | Elapsed Time: 0:12:13 ETA:   0:03:57\n",
      " 75% (392400.0 of 518400.0) |#########   | Elapsed Time: 0:12:16 ETA:   0:02:41\n",
      " 76% (396000.0 of 518400.0) |#########   | Elapsed Time: 0:12:22 ETA:   0:03:37\n",
      " 77% (399600.0 of 518400.0) |#########   | Elapsed Time: 0:12:28 ETA:   0:03:28\n",
      " 77% (403200.0 of 518400.0) |#########   | Elapsed Time: 0:12:35 ETA:   0:03:22\n",
      " 78% (406800.0 of 518400.0) |#########   | Elapsed Time: 0:12:41 ETA:   0:03:17\n",
      " 79% (410400.0 of 518400.0) |#########   | Elapsed Time: 0:12:47 ETA:   0:03:11\n",
      " 79% (412200.0 of 518400.0) |#########   | Elapsed Time: 0:12:51 ETA:   0:03:17\n",
      " 79% (414000.0 of 518400.0) |#########   | Elapsed Time: 0:12:53 ETA:   0:02:14\n",
      " 80% (417600.0 of 518400.0) |#########   | Elapsed Time: 0:12:59 ETA:   0:02:45\n",
      " 81% (421200.0 of 518400.0) |#########   | Elapsed Time: 0:13:05 ETA:   0:02:29\n",
      " 81% (424800.0 of 518400.0) |#########   | Elapsed Time: 0:13:10 ETA:   0:02:19\n",
      " 82% (428400.0 of 518400.0) |#########   | Elapsed Time: 0:13:15 ETA:   0:02:12\n",
      " 83% (432000.0 of 518400.0) |##########  | Elapsed Time: 0:13:20 ETA:   0:02:06\n",
      " 83% (433800.0 of 518400.0) |##########  | Elapsed Time: 0:13:23 ETA:   0:02:09\n",
      " 84% (435600.0 of 518400.0) |##########  | Elapsed Time: 0:13:25 ETA:   0:01:45\n",
      " 84% (439200.0 of 518400.0) |##########  | Elapsed Time: 0:13:30 ETA:   0:01:48\n",
      " 85% (442800.0 of 518400.0) |##########  | Elapsed Time: 0:13:35 ETA:   0:01:42\n",
      " 86% (446400.0 of 518400.0) |##########  | Elapsed Time: 0:13:40 ETA:   0:01:35\n",
      " 86% (450000.0 of 518400.0) |##########  | Elapsed Time: 0:13:44 ETA:   0:01:30\n",
      " 87% (453600.0 of 518400.0) |##########  | Elapsed Time: 0:13:49 ETA:   0:01:26\n",
      " 87% (455400.0 of 518400.0) |##########  | Elapsed Time: 0:13:52 ETA:   0:01:28\n",
      " 88% (457200.0 of 518400.0) |##########  | Elapsed Time: 0:13:54 ETA:   0:01:14\n",
      " 88% (460800.0 of 518400.0) |##########  | Elapsed Time: 0:13:58 ETA:   0:01:17\n",
      " 89% (464400.0 of 518400.0) |##########  | Elapsed Time: 0:14:03 ETA:   0:01:13\n",
      " 90% (468000.0 of 518400.0) |##########  | Elapsed Time: 0:14:08 ETA:   0:01:07\n",
      " 90% (471600.0 of 518400.0) |##########  | Elapsed Time: 0:14:13 ETA:   0:01:02\n",
      " 91% (475200.0 of 518400.0) |########### | Elapsed Time: 0:14:18 ETA:   0:00:57\n",
      " 92% (477000.0 of 518400.0) |########### | Elapsed Time: 0:14:20 ETA:   0:00:59\n",
      " 92% (478800.0 of 518400.0) |########### | Elapsed Time: 0:14:22 ETA:   0:00:48\n",
      " 93% (482400.0 of 518400.0) |########### | Elapsed Time: 0:14:27 ETA:   0:00:48\n",
      " 93% (486000.0 of 518400.0) |########### | Elapsed Time: 0:14:32 ETA:   0:00:43\n",
      " 94% (489600.0 of 518400.0) |########### | Elapsed Time: 0:14:37 ETA:   0:00:38\n",
      " 95% (493200.0 of 518400.0) |########### | Elapsed Time: 0:14:42 ETA:   0:00:33\n",
      " 95% (496800.0 of 518400.0) |########### | Elapsed Time: 0:14:46 ETA:   0:00:29\n",
      " 96% (498600.0 of 518400.0) |########### | Elapsed Time: 0:14:49 ETA:   0:00:28\n",
      " 96% (500400.0 of 518400.0) |########### | Elapsed Time: 0:14:51 ETA:   0:00:22\n",
      " 97% (504000.0 of 518400.0) |########### | Elapsed Time: 0:14:56 ETA:   0:00:19\n",
      " 97% (507600.0 of 518400.0) |########### | Elapsed Time: 0:15:01 ETA:   0:00:14\n",
      " 98% (511200.0 of 518400.0) |########### | Elapsed Time: 0:15:05 ETA:   0:00:09\n",
      " 99% (514800.0 of 518400.0) |########### | Elapsed Time: 0:15:10 ETA:   0:00:04\n",
      "100% (518400.0 of 518400.0) |############| Elapsed Time: 0:15:15 ETA:  00:00:00\n",
      "100% (518400.0 of 518400.0) |############| Elapsed Time: 0:15:15 Time:  0:15:15\n"
     ]
    },
    {
     "data": {
      "image/png": "[encoded data removed]",
      "text/plain": [
       "<Figure size 432x288 with 1 Axes>"
      ]
     },
     "metadata": {
      "needs_background": "light"
     },
     "output_type": "display_data"
    },
    {
     "name": "stdout",
     "output_type": "stream",
     "text": [
      "particle trajectories completed\n"
     ]
    }
   ],
   "source": [
    "## Output properties\n",
    "output_file = pset.ParticleFile(name= output_file_name, outputdt = timedelta(minutes = 60))\n",
    "pset.execute(my_kernel,                 # the kernel (which defines how particles move)\n",
    "             runtime=timedelta(hours = 24*6),   # total length of the run\n",
    "             dt = timedelta(minutes = 60),      # timestep of the kernel\n",
    "             output_file = output_file)         # file name and the time step of the outputs\n",
    "output_file.close()\n",
    "\n",
    "plotTrajectoriesFile(output_file_name)\n",
    "\n",
    "print('particle trajectories completed')"
   ]
  },
  {
   "cell_type": "markdown",
   "metadata": {},
   "source": [
    "## Parcing Ocean Parcels output into Atlantis input files\n"
   ]
  },
  {
   "cell_type": "code",
   "execution_count": 15,
   "metadata": {},
   "outputs": [],
   "source": [
    "SalishSea_shapefile = \"/ocean/rlovindeer/Atlantis/ssam_oceanparcels/SalishSea/SalishSea_July172019_2/SalishSea_July172019.shp\"\n",
    "data_df = gpd.read_file(SalishSea_shapefile)\n",
    "box_depth = data_df['BOTZ']\n",
    "box_area = data_df['AREA']\n",
    "box_volume = box_area * box_depth"
   ]
  },
  {
   "cell_type": "code",
   "execution_count": 16,
   "metadata": {},
   "outputs": [],
   "source": [
    "numLayers = 7\n",
    "numSites = data_df.shape[0]\n",
    "numTargetSites = numSites\n",
    "\n",
    "outputDT = 43100.00\n",
    "\n",
    "stepsPerDay = int(86400.0/ outputDT)\n",
    "numStepsPerDT = int(outputDT/3600.0)\n",
    "\n",
    "debug = False\n",
    "\n",
    "inputFileName = output_file_name\n",
    "pfile = xr.open_dataset(str(inputFileName), decode_cf=True)"
   ]
  },
  {
   "cell_type": "code",
   "execution_count": 17,
   "metadata": {},
   "outputs": [
    {
     "name": "stdout",
     "output_type": "stream",
     "text": [
      "2019-01-13 00:30:00\n"
     ]
    }
   ],
   "source": [
    "lon = np.ma.filled(pfile.variables['lon'], np.nan)\n",
    "lat = np.ma.filled(pfile.variables['lat'], np.nan)\n",
    "time = np.ma.filled(pfile.variables['time'], np.nan)\n",
    "z = np.ma.filled(pfile.variables['z'], np.nan)\n",
    "probs = np.ma.filled(pfile.variables['decay_value'], np.nan)\n",
    "\n",
    "numParticles = lon.shape[0]\n",
    "oil_per_particle = (fuel_type[scenario[file_id].split(sep = '_')[-1]][\"Density\"] * spill_volume) / numParticles\n",
    "\n",
    "trackDates = []\n",
    "\n",
    "for i in range(0,numParticles):\n",
    "    #print(time[i][0])\n",
    "    trackDates.append(time[i][0])\n",
    "\n",
    "RDiff = max(trackDates) - min(trackDates)\n",
    "\n",
    "minDate = np.datetime64(release_start+\"T00:30:00\")\n",
    "ts = pd.to_datetime(str(minDate))\n",
    "d = ts.strftime('%Y-%m-%d %H:%M:%S')\n",
    "print(d)"
   ]
  },
  {
   "cell_type": "code",
   "execution_count": 18,
   "metadata": {},
   "outputs": [
    {
     "name": "stdout",
     "output_type": "stream",
     "text": [
      "trackLength = 145\n",
      "numStepsPerDT = 11\n"
     ]
    }
   ],
   "source": [
    "numReleaseDays = 1\n",
    "numReleaseSteps = numReleaseDays * stepsPerDay\n",
    "trackLength = len(lon[0])\n",
    "\n",
    "print('trackLength = ' + str(trackLength))\n",
    "print('numStepsPerDT = ' + str(numStepsPerDT))\n",
    "\n",
    "numSteps = int(trackLength / numStepsPerDT)"
   ]
  },
  {
   "cell_type": "code",
   "execution_count": 19,
   "metadata": {},
   "outputs": [],
   "source": [
    "# Create the netcdf output file for Atlantis\n",
    "\n",
    "netcdfFileName = \"Atlantis_\" + scenario[file_id] + '_' + str(release_start_time) + \".nc\"\n",
    "try:\n",
    "    os.remove(netcdfFileName)\n",
    "except: \n",
    "    pass\n",
    "ncfile = Dataset(netcdfFileName, \"w\", format=\"NETCDF4\", clobber=True)\n",
    "Dataset.set_fill_on(ncfile)\n",
    "\n",
    "# Dimensions\n",
    "time = ncfile.createDimension(\"t\", None)\n",
    "b = ncfile.createDimension(\"b\", numTargetSites)\n",
    "z = ncfile.createDimension(\"z\", numLayers)\n",
    "\n",
    "# Variables\n",
    "times = ncfile.createVariable(\"t\",np.float64, (\"t\",))\n",
    "oil = ncfile.createVariable(\"oil\",np.float64,(\"t\", \"b\"))\n",
    "Naphthalene = ncfile.createVariable(\"Naphthalene\",np.float64, (\"t\", \"b\", \"z\"),fill_value=0.0000,)\n",
    "Phenanthrene = ncfile.createVariable(\"Phenanthrene\",np.float64,(\"t\", \"b\", \"z\"),fill_value=0.0000)\n",
    "Pyrene = ncfile.createVariable(\"Pyrene\",np.float64,(\"t\", \"b\", \"z\"),fill_value=0.0000)\n",
    "Benzo = ncfile.createVariable(\"Benzo\",np.float64,(\"t\", \"b\", \"z\"),fill_value=0.0000)\n",
    "\n",
    "# Attributes\n",
    "Naphthalene.units = \"mgPAH/m^3\"\n",
    "Naphthalene.long_name = \"Naphthalene\"\n",
    "Naphthalene.missing_value = 0.0000\n",
    "Naphthalene.valid_min = 0.0000\n",
    "Naphthalene.valid_max = 100000000.0\n",
    "\n",
    "Phenanthrene.units = \"mgPAH/m^3\"\n",
    "Phenanthrene.long_name = \"Phenanthrene\"\n",
    "Phenanthrene.missing_value = 0.0000\n",
    "Phenanthrene.valid_min = 0.0000\n",
    "Phenanthrene.valid_max = 100000000.0\n",
    "\n",
    "Pyrene.units = \"mgPAH/m^3\"\n",
    "Pyrene.long_name = \"Pyrene\"\n",
    "Pyrene.missing_value = 0.0000\n",
    "Pyrene.valid_min = 0.0000\n",
    "Pyrene.valid_max = 100000000.0\n",
    "\n",
    "Benzo.units = \"mgPAH/m^3\"\n",
    "Benzo.long_name = \"Benzo(a)pyrene\"\n",
    "Benzo.missing_value = 0.0000\n",
    "Benzo.valid_min = 0.0000\n",
    "Benzo.valid_max = 100000000.0\n",
    "\n",
    "oil.units = \"kgOil/m^3\"\n",
    "oil.long_name = \"Oil\"\n",
    "\n",
    "times.units = \"seconds since \" + d\n",
    "#times.units = \"seconds since 1950-01-01 00:00:00 +10\"\n",
    "times.dt = outputDT\n",
    "times.long_name = \"time\"\n",
    "\n",
    "# Populate variables with data\n",
    "timeData = np.arange(0,(numSteps + numReleaseSteps)*outputDT,outputDT)\n",
    "times[:] = timeData\n",
    "\n",
    "Surface_particles = np.zeros((numSteps + numReleaseSteps, numTargetSites))\n",
    "boxDispersal = np.zeros((numSteps + numReleaseSteps, numTargetSites, numLayers))\n"
   ]
  },
  {
   "cell_type": "code",
   "execution_count": 20,
   "metadata": {},
   "outputs": [],
   "source": [
    "for partIndex in range(0, numParticles):\n",
    "\n",
    "    trackDateDiff = trackDates[partIndex] - minDate\n",
    "    trackDateDiff = trackDateDiff/ np.timedelta64(1, 's')\n",
    "\n",
    "    timeOffset = int(abs((trackDateDiff /outputDT)))\n",
    "\n",
    "    for stepIndex in range(0, numSteps):\n",
    "        timeValue = stepIndex + timeOffset\n",
    "\n",
    "        partLon = lon[partIndex][stepIndex * numStepsPerDT]\n",
    "        partLat = lat[partIndex][stepIndex * numStepsPerDT]\n",
    "        partProb = probs[partIndex][stepIndex * numStepsPerDT]\n",
    "\n",
    "        matchFound = 0\n",
    "\n",
    "        for targetIndex in range(0, numTargetSites):\n",
    "\n",
    "            box_id = data_df.iloc[targetIndex].BOX_ID\n",
    "            box_coordinates = data_df.iloc[targetIndex].geometry\n",
    "            checks = box_coordinates.contains(Point(partLon, partLat))\n",
    "            if box_volume[targetIndex] == 0:\n",
    "                target_volume = 0\n",
    "            else :\n",
    "                target_volume = 1 / box_volume[targetIndex]\n",
    "            \n",
    "            if box_depth[targetIndex] < 26:\n",
    "                layer = 0\n",
    "            elif box_depth[targetIndex] == 50:\n",
    "                layer = 1\n",
    "            elif box_depth[targetIndex] == 100:\n",
    "                layer = 2\n",
    "            elif box_depth[targetIndex] == 200:\n",
    "                layer = 3\n",
    "            elif box_depth[targetIndex] > 200 and box_depth[targetIndex] < 401:\n",
    "                layer = 4\n",
    "            elif box_depth[targetIndex] > 400:\n",
    "                layer = 5\n",
    "\n",
    "            if checks:\n",
    "                boxDispersal[timeValue][box_id][layer] = boxDispersal[timeValue][box_id][layer] + partProb * target_volume\n",
    "\n",
    "                # uncomment line below to ignore particle decay during debugging.\n",
    "                #boxDispersal[timeValue][targetIndex] = boxDispersal[timeValue][targetIndex] + 1.0\n",
    "\n",
    "                matchFound = 1\n",
    "                if debug:\n",
    "                    print('At time ' + str(timeValue) + ' Particle (' + str(partIndex) + ') in box ' + str(data_df.iloc[targetIndex].BOX_ID))\n",
    "\n",
    "                break\n",
    "\n",
    "        if matchFound == 0:\n",
    "            if debug:\n",
    "                print('No match for particle')\n",
    "                print(partLon, partLat)\n",
    "\n",
    "        #break\n",
    "\n",
    "oil[:,:] = Surface_particles * oil_per_particle\n",
    "Naphthalene[:,:,:] = boxDispersal * oil_per_particle * fuel_type[scenario[file_id].split(sep = '_')[-1]][\"Naphthalene\"]\n",
    "Phenanthrene[:,:,:] = boxDispersal * oil_per_particle * fuel_type[scenario[file_id].split(sep = '_')[-1]][\"Phenanthrene\"]\n",
    "Pyrene[:,:,:] = boxDispersal * oil_per_particle * fuel_type[scenario[file_id].split(sep = '_')[-1]][\"Pyrene\"]\n",
    "Benzo[:,:,:] = boxDispersal * oil_per_particle * fuel_type[scenario[file_id].split(sep = '_')[-1]][\"Benzo\"]\n",
    "\n",
    "ncfile.close()"
   ]
  },
  {
   "cell_type": "code",
   "execution_count": 28,
   "id": "baa74f4c",
   "metadata": {},
   "outputs": [
    {
     "data": {
      "text/plain": [
       "(array([   0,    0,    0,    0,    0, 1950,    0,    0,    0,    0]),\n",
       " array([-0.5, -0.4, -0.3, -0.2, -0.1,  0. ,  0.1,  0.2,  0.3,  0.4,  0.5]))"
      ]
     },
     "execution_count": 28,
     "metadata": {},
     "output_type": "execute_result"
    }
   ],
   "source": [
    "np.histogram(Surface_particles)"
   ]
  },
  {
   "cell_type": "markdown",
   "metadata": {},
   "source": [
    "## Animating Oil Dispersal Scenario in the Salish Sea Atlantis Model"
   ]
  },
  {
   "cell_type": "code",
   "execution_count": 21,
   "metadata": {},
   "outputs": [
    {
     "name": "stdout",
     "output_type": "stream",
     "text": [
      "numReleaseDays = 86400000000000 nanoseconds\n",
      "totalNumOfTS = 169\n",
      "trackLength = 145\n",
      "100\n"
     ]
    }
   ],
   "source": [
    "data_df = data_df.sort_values(by=['BOX_ID'])\n",
    "boxes = data_df['BOTZ']\n",
    "land_boxes = boxes==0\n",
    "land_boxes = data_df.index[land_boxes]\n",
    "\n",
    "numReleaseDays = RDiff\n",
    "print('numReleaseDays = ' + str(numReleaseDays))\n",
    "\n",
    "numReleaseDTS = int(abs(numReleaseDays/np.timedelta64(1, 'h')))\n",
    "totalNumOfTS = int(numReleaseDTS + trackLength)\n",
    "print('totalNumOfTS = ' + str(totalNumOfTS))\n",
    "print('trackLength = ' + str(trackLength))\n",
    "print(numParticles)"
   ]
  },
  {
   "cell_type": "code",
   "execution_count": 22,
   "metadata": {},
   "outputs": [],
   "source": [
    "trackLonsPadded = np.zeros((int(numParticles), totalNumOfTS))\n",
    "trackLatsPadded = np.zeros((int(numParticles), totalNumOfTS))\n",
    "particlesAge = np.zeros((int(numParticles), totalNumOfTS))\n",
    "\n",
    "for trackIndex in range(0,numParticles):\n",
    "    trackDateDiff = trackDates[trackIndex] - minDate\n",
    "\n",
    "    trackNumsToPad = int(trackDateDiff/np.timedelta64(1, 'h'))\n",
    "\n",
    "    trackLonsPadded[trackIndex][0:trackNumsToPad] = 0\n",
    "    trackLatsPadded[trackIndex][0:trackNumsToPad] = 0\n",
    "\n",
    "    trackLonsPadded[trackIndex][trackNumsToPad:trackNumsToPad + trackLength] = lon[:][trackIndex];\n",
    "    trackLatsPadded[trackIndex][trackNumsToPad:trackNumsToPad + trackLength] = lat[:][trackIndex];\n",
    "\n",
    "numSteps = int(trackLength / numStepsPerDT)"
   ]
  },
  {
   "cell_type": "code",
   "execution_count": 24,
   "metadata": {},
   "outputs": [
    {
     "name": "stdout",
     "output_type": "stream",
     "text": [
      "15\n"
     ]
    }
   ],
   "source": [
    "savefile_prefix = 'boxes'\n",
    "\n",
    "afile = xr.open_dataset(str(netcdfFileName), decode_cf=True)\n",
    "\n",
    "time = np.ma.filled(afile.variables['t'], np.nan)\n",
    "oil = np.ma.filled(afile.variables['oil'], np.nan)\n",
    "num_steps = time.shape[0]\n",
    "print(num_steps)"
   ]
  },
  {
   "cell_type": "code",
   "execution_count": 25,
   "metadata": {},
   "outputs": [],
   "source": [
    "# Uncomment below ff adding a log scale so the boxes show the proportion of contamination\n",
    "# import matplotlib.colors as colors\n",
    "\n",
    "_cmap = cm.coolwarm\n",
    "file_names = []\n",
    "\n",
    "land_df = data_df.loc[land_boxes]\n",
    "\n",
    "for time_index in range(0, num_steps):\n",
    "\n",
    "    plon = trackLonsPadded[:, time_index]\n",
    "    plat = trackLatsPadded[:, time_index]\n",
    "\n",
    "    plon = plon[plon<0]\n",
    "    plat = plat[plat>0]\n",
    "    time_oil = oil[time_index]\n",
    "\n",
    "    data_df['oil'] = time_oil\n",
    "    data_df.loc[land_boxes, 'oil'] = 0\n",
    "\n",
    "    ax = data_df.plot(figsize=(9, 15), column = 'oil', cmap = _cmap, \n",
    "        vmin=-0.0000002, vmax=0.000001,\n",
    "        legend=True, legend_kwds={'label': \"Relative Oil Concentration\"\n",
    "        },)\n",
    "\n",
    "    land_df.plot(ax=ax, color='white')\n",
    "    ax.scatter(plon, plat, s=0.0001, color='lightgrey', zorder=20)\n",
    "\n",
    "    ax.set_title(time[time_index])\n",
    "\n",
    "    plot_name = savefile_prefix + '_time_' + str(time_index).zfill(3) + '.png'\n",
    "    plt.savefig(plot_name)\n",
    "    file_names.append(plot_name)\n",
    "    plt.close()"
   ]
  },
  {
   "cell_type": "code",
   "execution_count": 26,
   "metadata": {},
   "outputs": [
    {
     "data": {
      "text/plain": [
       "0"
      ]
     },
     "execution_count": 26,
     "metadata": {},
     "output_type": "execute_result"
    }
   ],
   "source": [
    "from PIL import Image\n",
    "import glob\n",
    " \n",
    "# Create the frames\n",
    "frames = []\n",
    "imgs = glob.glob(\"*.png\")\n",
    "imgs.sort() \n",
    "for i in imgs:\n",
    "    new_frame = Image.open(i)\n",
    "    frames.append(new_frame)\n",
    "\n",
    "# Save into loop\n",
    "anim_name = 'Oil_Scenario_' + scenario[file_id] + '_' + str(release_start_time) +'.gif'\n",
    "frames[0].save(anim_name, format='GIF',\n",
    "               append_images=frames[1:],\n",
    "               save_all=True,\n",
    "               duration=600, loop=0)\n",
    "\n",
    "file_name_str = ' '.join(file_names)\n",
    "os.system('rm ' + file_name_str)"
   ]
  },
  {
   "cell_type": "code",
   "execution_count": null,
   "metadata": {},
   "outputs": [],
   "source": [
    "from IPython.display import Image\n",
    "with open(anim_name,'rb') as anim:\n",
    "    display(Image(anim.read()))"
   ]
  }
 ],
 "metadata": {
  "interpreter": {
   "hash": "e4d84b090d0c7c6778fa197aacf5543338ee30c87f3fb579a323dc77be78ea57"
  },
  "kernelspec": {
   "display_name": "Python 3.8.10 64-bit ('parcels-dev': conda)",
   "name": "python3"
  },
  "language_info": {
   "codemirror_mode": {
    "name": "ipython",
    "version": 3
   },
   "file_extension": ".py",
   "mimetype": "text/x-python",
   "name": "python",
   "nbconvert_exporter": "python",
   "pygments_lexer": "ipython3",
   "version": "3.8.10"
  }
 },
 "nbformat": 4,
 "nbformat_minor": 5
}
