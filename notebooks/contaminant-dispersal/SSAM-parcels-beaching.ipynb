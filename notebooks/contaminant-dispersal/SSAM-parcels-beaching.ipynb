{
 "cells": [
  {
   "cell_type": "markdown",
   "id": "0b8d036b-e362-4a3f-a7cd-79fe1b26aa08",
   "metadata": {},
   "source": [
    "Testing surface oil beaching using [Parcels](https://oceanparcels.org)"
   ]
  },
  {
   "cell_type": "code",
   "execution_count": 1,
   "id": "14e85ecd-0b24-4ae4-81a6-d9de3b6d88ef",
   "metadata": {},
   "outputs": [
    {
     "name": "stderr",
     "output_type": "stream",
     "text": [
      "INFO: Compiled ParcelsRandom ==> /tmp/parcels-2926/libparcels_random_30cab7be-db47-4bba-a1af-0fc93b93d433.so\n"
     ]
    }
   ],
   "source": [
    "import sys\n",
    "import os\n",
    "import math\n",
    "import xarray as xr\n",
    "import matplotlib.pyplot as plt\n",
    "from pathlib import Path\n",
    "from pprint import pprint\n",
    "from parcels import VectorField, Variable #AdvectionRK4\n",
    "from parcels import FieldSet, plotTrajectoriesFile, Variable, ScipyParticle, Field, ParcelsRandom\n",
    "import numpy as np\n",
    "from datetime import timedelta\n",
    "sys.path.append('/ocean/rlovindeer/Atlantis/ssam_oceanparcels/Parcels_Utils/particle_tracking/parcels/')\n",
    "from util.seed_particles import get_particles, get_release_times\n",
    "# from util.parse_wildcards import parse_wildcards"
   ]
  },
  {
   "cell_type": "code",
   "execution_count": 28,
   "id": "2125a154",
   "metadata": {},
   "outputs": [],
   "source": [
    "# Spill release times\n",
    "release_start_time = '2020-06-23'  ## winter start on December, Summer Jul - Aug  ## ask Susan about when to do simulation\n",
    "release_end_time = '2020-06-24'\n",
    "release_YYYY = '2020-06'"
   ]
  },
  {
   "cell_type": "markdown",
   "id": "d10cbc8d-88bf-42b7-a270-2d523e1a02fa",
   "metadata": {},
   "source": [
    "Select the location of interest, which is specified by a shapefile."
   ]
  },
  {
   "cell_type": "code",
   "execution_count": 29,
   "id": "e7a25536-1e75-4dc0-8679-d4b81889f2c1",
   "metadata": {},
   "outputs": [
    {
     "name": "stdout",
     "output_type": "stream",
     "text": [
      "\n",
      "Scenario running  : SandHeads\n"
     ]
    }
   ],
   "source": [
    "file_id = int(input( ))\n",
    "scenario = {1 : \"5b_Turn_Point_Diluted_bitumen\",\n",
    "            2 : \"6a_VancouverHarbour_BunkerC\",\n",
    "            3 : \"7a_JohnsonStrait_BunkerC\",\n",
    "            4 : \"4a_ActivePass_Diesel\",\n",
    "            5 : \"SandHeads\"}\n",
    "print(\"\\nScenario running  :\", scenario[file_id], sep = \" \")"
   ]
  },
  {
   "cell_type": "code",
   "execution_count": 30,
   "id": "34fdf25b-955c-4553-ac0c-930a86217905",
   "metadata": {},
   "outputs": [],
   "source": [
    "#Kernels\n",
    "\n",
    "def AdvectionRK4(particle, fieldset, time):\n",
    "    \"\"\"Advection of particles using fourth-order Runge-Kutta integration.\n",
    "    Function needs to be converted to Kernel object before execution\"\"\"\n",
    "    if particle.beached == 0:\n",
    "        (u1, v1) = fieldset.UV[particle]\n",
    "        lon1, lat1 = (particle.lon + u1*.5*particle.dt, particle.lat + v1*.5*particle.dt)\n",
    "        (u2, v2) = fieldset.UV[time + .5 * particle.dt, particle.depth, lat1, lon1, particle]\n",
    "        lon2, lat2 = (particle.lon + u2*.5*particle.dt, particle.lat + v2*.5*particle.dt)\n",
    "        (u3, v3) = fieldset.UV[time + .5 * particle.dt, particle.depth, lat2, lon2, particle]\n",
    "        lon3, lat3 = (particle.lon + u3*particle.dt, particle.lat + v3*particle.dt)\n",
    "        (u4, v4) = fieldset.UV[time + particle.dt, particle.depth, lat3, lon3, particle]\n",
    "        particle.lon += (u1 + 2*u2 + 2*u3 + u4) / 6. * particle.dt\n",
    "        particle.lat += (v1 + 2*v2 + 2*v3 + v4) / 6. * particle.dt\n",
    "    \n",
    "def WindAdvectionRK4(particle, fieldset, time):\n",
    "    \"\"\"Advection of particles using fourth-order Runge-Kutta integration.\n",
    "     Function needs to be converted to Kernel object before execution\"\"\"\n",
    "    if particle.beached == 0:\n",
    "        wp = fieldset.wind_percentage ## this need to be add to the fieldset\n",
    "        \n",
    "        if wp > 0:\n",
    "\n",
    "            (u1, v1) = fieldset.UV[time, particle.depth, particle.lat, particle.lon]\n",
    "            u1 = u1 * wp\n",
    "            v1 = v1 * wp\n",
    "            lon1, lat1 = (particle.lon + u1*.5*particle.dt, particle.lat + v1*.5*particle.dt)\n",
    "            \n",
    "            (u2, v2) = fieldset.UVwind[time + .5 * particle.dt, particle.depth, lat1, lon1]\n",
    "            u2 = u2 * wp\n",
    "            v2 = v2 * wp\n",
    "            lon2, lat2 = (particle.lon + u2*.5*particle.dt, particle.lat + v2*.5*particle.dt)\n",
    "            \n",
    "            (u3, v3) = fieldset.UVwind[time + .5 * particle.dt, particle.depth, lat2, lon2]\n",
    "            u3 = u3 * wp\n",
    "            v3 = v3 * wp\n",
    "            lon3, lat3 = (particle.lon + u3*particle.dt, particle.lat + v3*particle.dt)\n",
    "            \n",
    "            (u4, v4) = fieldset.UVwind[time + particle.dt, particle.depth, lat3, lon3]\n",
    "            u4 = u4 * wp\n",
    "            v4 = v4 * wp            \n",
    "            \n",
    "            u_wind  = (u1 + 2*u2 + 2*u3 + u4) / 6. * particle.dt\n",
    "            v_wind  = (v1 + 2*v2 + 2*v3 + v4) / 6. * particle.dt\n",
    "            \n",
    "            particle.lon += (u1 + 2*u2 + 2*u3 + u4) / 6. * particle.dt\n",
    "            particle.lat += (v1 + 2*v2 + 2*v3 + v4) / 6. * particle.dt\n",
    "            \n",
    "            particle.beached = 2\n",
    "\n",
    "def beaching(particle, fieldset, time):\n",
    "    \n",
    "    if particle.beached == 2:\n",
    "        \n",
    "        # Parameters\n",
    "        deg2m = 111000     # [m/deg]\n",
    "        D = 5000      # maximum beaching distance [m]\n",
    "        \n",
    "        # Grounding probability over radius D\n",
    "        offset_lon = random.uniform(-1., 1.) * D / deg2m\n",
    "        offset_lat = random.uniform(-1., 1.) * D / deg2m\n",
    "\n",
    "        # Evaluate if chosen point is over land\n",
    "        (u, v) = fieldset.UV[time, particle.depth, particle.lat + offset_lat, particle.lon + offset_lon]\n",
    "        if u == 0 and v == 0: \n",
    "            particle.beached = 1\n",
    "        else:\n",
    "            particle.beached = 0\n",
    "\n",
    "def DeleteParticle(particle, fieldset, time):\n",
    "    particle.delete()\n",
    "\n",
    "def DecayParticle(particle, fieldset, time):\n",
    "    dt = particle.dt\n",
    "    field_decay_value = fieldset.decay\n",
    "    decay = math.exp(0 * dt/field_decay_value) # -0.099 for diesel, 0 for other oils\n",
    "    particle.decay_value = particle.decay_value * decay"
   ]
  },
  {
   "cell_type": "code",
   "execution_count": 31,
   "id": "e3c19fb9-3acc-442e-b1ea-62bcf5a3fb3b",
   "metadata": {},
   "outputs": [],
   "source": [
    "# Data Paths\n",
    "currents = Path('/ocean/rlovindeer/Atlantis/Physics/Raw_Transport_Data/')\n",
    "winds = Path('/ocean/rlovindeer/Atlantis/Physics/Wind/')\n",
    "sea_grid = Path('/ocean/rlovindeer/Atlantis/Physics/Grids/ubcSSnBathymetryV17-02_a29d_efc9_4047.nc')\n",
    "air_grid = Path('/ocean/rlovindeer/Atlantis/Physics/Grids/ubcSSaAtmosphereGridV1_0f03_6268_df4b.nc')"
   ]
  },
  {
   "cell_type": "code",
   "execution_count": 32,
   "id": "62049698-848c-46a5-a4da-4fb6de91df61",
   "metadata": {},
   "outputs": [
    {
     "name": "stdout",
     "output_type": "stream",
     "text": [
      "creating from_nemo\n",
      "creating from_nemo done\n",
      "add_constant decay\n"
     ]
    }
   ],
   "source": [
    "# Salish Sea NEMO Model Grid, Geo-location and Bathymetry, v17-02\n",
    "\n",
    "# Currents\n",
    "# u_data_path = currents + '2018-01*URaw_variables.nc'\n",
    "# v_data_path = currents + '2018-01*VRaw_variables.nc'\n",
    "# u_current = parse_wildcards(u_data_path, 'u')\n",
    "# v_current = parse_wildcards(v_data_path, 'v')\n",
    "\n",
    "u_current = sorted([p for p in currents.glob(str(release_YYYY) + '*URaw_variables.nc')])\n",
    "v_current = sorted([p for p in currents.glob(str(release_YYYY) + '*VRaw_variables.nc')])\n",
    "\n",
    "filenames = {\n",
    "    'U': {'lon': sea_grid,'lat': sea_grid,'data': u_current},\n",
    "    'V': {'lon': sea_grid,'lat': sea_grid,'data': v_current}\n",
    "            }\n",
    "\n",
    "variables = {'U': 'uVelocity','V': 'vVelocity'}\n",
    "dimensions = {'lon': 'longitude', 'lat': 'latitude', 'time': 'time'}\n",
    "print('creating from_nemo')\n",
    "fieldset = FieldSet.from_nemo(filenames, variables, dimensions, allow_time_extrapolation=True)\n",
    "print('creating from_nemo done')\n",
    "\n",
    "fieldset.add_constant('decay', 1.0 * 3600.0)\n",
    "print('add_constant decay')"
   ]
  },
  {
   "cell_type": "code",
   "execution_count": 33,
   "id": "10d71250-4e60-47bd-8cbb-12c2b538d61b",
   "metadata": {},
   "outputs": [
    {
     "name": "stdout",
     "output_type": "stream",
     "text": [
      "{'data': [PosixPath('/ocean/rlovindeer/Atlantis/Physics/Wind/2020-06-06_Wind_variables.nc'),\n",
      "          PosixPath('/ocean/rlovindeer/Atlantis/Physics/Wind/2020-06-12_Wind_variables.nc'),\n",
      "          PosixPath('/ocean/rlovindeer/Atlantis/Physics/Wind/2020-06-18_Wind_variables.nc'),\n",
      "          PosixPath('/ocean/rlovindeer/Atlantis/Physics/Wind/2020-06-24_Wind_variables.nc'),\n",
      "          PosixPath('/ocean/rlovindeer/Atlantis/Physics/Wind/2020-06-30_Wind_variables.nc')],\n",
      " 'lat': '/ocean/rlovindeer/Atlantis/Physics/Grids/ubcSSaAtmosphereGridV1_0f03_6268_df4b.nc',\n",
      " 'lon': '/ocean/rlovindeer/Atlantis/Physics/Grids/ubcSSaAtmosphereGridV1_0f03_6268_df4b.nc'}\n"
     ]
    }
   ],
   "source": [
    "# HRDPS, Salish Sea, Atmospheric Forcing Grid, Geo-location, v1\"\n",
    "\n",
    "wind_paths = sorted([p for p in winds.glob(str(release_YYYY) + '*Wind_variables.nc')])\n",
    "wind_filenames = {'lon': os.fspath(air_grid),'lat': os.fspath(air_grid),'data': wind_paths}\n",
    "wind_dimensions = {'lon': 'longitude', 'lat': 'latitude', 'time': 'time'}\n",
    "\n",
    "pprint(wind_filenames)"
   ]
  },
  {
   "cell_type": "code",
   "execution_count": 34,
   "id": "c7a4b014-1f05-4dc8-9f4c-2a65f51d0df4",
   "metadata": {},
   "outputs": [
    {
     "name": "stdout",
     "output_type": "stream",
     "text": [
      "wind data loaded\n"
     ]
    }
   ],
   "source": [
    "Uwind_field = Field.from_netcdf(wind_filenames, ('U_wind', 'u_wind'),\n",
    "                                     wind_dimensions,\n",
    "                                     fieldtype='U',\n",
    "                                     allow_time_extrapolation=True,\n",
    "                                     transpose=False,\n",
    "                                     deferred_load=False)\n",
    "Vwind_field = Field.from_netcdf(wind_filenames, ('V_wind', 'v_wind'),\n",
    "                                     wind_dimensions,\n",
    "                                     fieldtype='V',\n",
    "                                     allow_time_extrapolation=True,\n",
    "                                     transpose=False,\n",
    "                                     deferred_load=False)\n",
    "\n",
    "print('wind data loaded')"
   ]
  },
  {
   "cell_type": "code",
   "execution_count": 35,
   "id": "37823b69-6440-49f1-a693-4b75a263b7cd",
   "metadata": {},
   "outputs": [],
   "source": [
    "# change longitude for the wind field\n",
    "Uwind_field.grid.lon = Uwind_field.grid.lon - 360\n",
    "Vwind_field.grid.lon = Vwind_field.grid.lon - 360\n",
    "\n",
    "[x_min, x_max, y_min, y_max] = Uwind_field.grid.lonlat_minmax\n",
    "\n",
    "Uwind_field.grid.lonlat_minmax = [x_min - 360, x_max - 360, y_min, y_max]\n",
    "Vwind_field.grid.lonlat_minmax = [x_min - 360, x_max - 360, y_min, y_max]\n",
    "\n",
    "## adding the wind field to the fieldset object\n",
    "fieldset.add_field(Uwind_field)\n",
    "fieldset.add_field(Vwind_field)\n",
    "wind_field = VectorField('UVwind', Uwind_field,  Vwind_field)\n",
    "fieldset.add_vector_field(wind_field)"
   ]
  },
  {
   "cell_type": "code",
   "execution_count": 36,
   "id": "b661e048-885d-492e-97c0-64fe19327be1",
   "metadata": {},
   "outputs": [],
   "source": [
    "# wind_percentage\n",
    "# We need to do a sensitivity analysis of the percetage of wind to be used here\n",
    "wind_percentage = 1\n",
    "fieldset.add_constant('wind_percentage', wind_percentage/100.0)"
   ]
  },
  {
   "cell_type": "raw",
   "id": "3f50b40f-3404-4c6e-abfb-0406dbb85b25",
   "metadata": {},
   "source": [
    "Just in case we want to add a maximum age\n",
    "# fieldset_sum.add_constant('max_age', dispersal_length)"
   ]
  },
  {
   "cell_type": "code",
   "execution_count": 37,
   "id": "927c988b-bba4-4231-812b-6948bb407bf6",
   "metadata": {},
   "outputs": [
    {
     "name": "stdout",
     "output_type": "stream",
     "text": [
      "setting up particles\n",
      "1812600.0\n",
      "100\n",
      "100\n",
      "Using shapefile /ocean/rlovindeer/Atlantis/ssam_oceanparcels/SalishSea/Shape_Scenarios/SandHeads.shp\n",
      "Number of sites :  1\n",
      "Up to 0 of 1\n",
      "80\n",
      "100\n",
      "Sucessfully seeded particles\n",
      "\n",
      "num_attempts = 2\n",
      "[-123.30000432049512, -123.29995172398498, -123.29998726528677, -123.30000556299005, -123.30004388699821, -123.2999736303387, -123.30003948253572, -123.29989590048521, -123.30005659964887, -123.29992752871306, -123.30001061737016, -123.29999824096845, -123.29988520779656, -123.30015027302439, -123.29991460061083, -123.29993181806454, -123.29990277975774, -123.29992517874757, -123.30003192949442, -123.29993106806816, -123.3001404270953, -123.2999755186161, -123.29987917846462, -123.30001284501579, -123.30004672991672, -123.30009418312827, -123.29993305826453, -123.30003361416416, -123.29999811787104, -123.30017187723496, -123.29998256375345, -123.29998431504593, -123.29998278551916, -123.2998794695699, -123.29996227297002, -123.30006416579926, -123.30003965806964, -123.29995727466087, -123.29996703186927, -123.29996580807877, -123.30011130889031, -123.3000781006961, -123.2999975605891, -123.30003916188372, -123.30014555777413, -123.30011178492141, -123.30012682238353, -123.29997134970502, -123.30009774402698, -123.30003040213742, -123.30012756210847, -123.30014292430133, -123.29997033136472, -123.30006125193763, -123.30014712057707, -123.29991291719551, -123.29986912849792, -123.30002966225614, -123.29998660705733, -123.29994411338828, -123.30008841331691, -123.30008419827264, -123.30007729303651, -123.30004685603562, -123.3001575382769, -123.29995890560312, -123.29999869717878, -123.30009391951361, -123.3000124025177, -123.30014811979179, -123.29999574292475, -123.29988403825247, -123.30007710785569, -123.29996682838718, -123.30013615192246, -123.29995136427958, -123.30008632712952, -123.30011990486184, -123.29999240254939, -123.3001763328829, -123.30007924903087, -123.29995768174457, -123.30005839833098, -123.30017001556432, -123.29996304038528, -123.30003438978683, -123.3000081881301, -123.30010924948141, -123.29996819792109, -123.30009457299178, -123.2999380705273, -123.30007665003579, -123.30005659257533, -123.29999183219319, -123.29991509737548, -123.2999789768255, -123.30009134224458, -123.2999255301996, -123.30011913205443, -123.29987661061753]\n",
      "SandHeads2020-06-23_OP_D700.nc\n"
     ]
    }
   ],
   "source": [
    "class MyParticle(ScipyParticle):\n",
    "    initial_time = -100\n",
    "    decay_value = Variable('decay_value', dtype=np.float32, initial=1.0)\n",
    "    beached = Variable('beached', dtype=np.int32, initial=0.)\n",
    "    age = Variable('age', dtype=np.int32, initial=0.)\n",
    "\n",
    "# Particle Features\n",
    "num_particles_per_day = 100\n",
    "feature_release_index = 0\n",
    "input_shapefile_name = \"/ocean/rlovindeer/Atlantis/ssam_oceanparcels/SalishSea/Shape_Scenarios/\" + scenario[file_id] + \".shp\"\n",
    "release_depth = -0.1\n",
    "release_start_time = np.datetime64(release_start_time)\n",
    "release_end_time = np.datetime64(release_end_time)\n",
    "time_origin = fieldset.U.grid.time_origin.time_origin\n",
    "\n",
    "print('setting up particles')\n",
    "\n",
    "[release_times, p, num_particles] = get_release_times(time_origin, num_particles_per_day, release_start_time, release_end_time)\n",
    "pset = get_particles(fieldset, num_particles, input_shapefile_name, MyParticle, feature_release_index, release_times, release_depth)\n",
    "\n",
    "#print(pset)\n",
    "\n",
    "# Building the kernels\n",
    "decay_kernel = pset.Kernel(DecayParticle)\n",
    "beaching_kernel = pset.Kernel(beaching)\n",
    "ForcingWind_kernel = pset.Kernel(WindAdvectionRK4)\n",
    "Advection_kernel = pset.Kernel(AdvectionRK4)\n",
    "\n",
    "# Adding to the main kernel\n",
    "my_kernel = Advection_kernel + decay_kernel + ForcingWind_kernel + beaching_kernel\n",
    "\n",
    "output_file_name = scenario[file_id] + str(release_start_time) +  '_OP_D5000.nc'\n",
    "print(output_file_name)"
   ]
  },
  {
   "cell_type": "code",
   "execution_count": 38,
   "id": "95d50dee-2c5a-496c-ab9c-798b1e31f8fc",
   "metadata": {},
   "outputs": [
    {
     "name": "stdout",
     "output_type": "stream",
     "text": [
      "executing particle kernel\n"
     ]
    },
    {
     "name": "stderr",
     "output_type": "stream",
     "text": [
      "rm: cannot remove 'SandHeads2020-06-23_OP_D700.nc': No such file or directory\n"
     ]
    }
   ],
   "source": [
    "try:\n",
    "    os.system('rm ' + output_file_name)\n",
    "except:\n",
    "    pass\n",
    "\n",
    "print('executing particle kernel')"
   ]
  },
  {
   "cell_type": "code",
   "execution_count": 39,
   "id": "ca91b311-7297-479d-b17e-484906a1b675",
   "metadata": {},
   "outputs": [
    {
     "name": "stderr",
     "output_type": "stream",
     "text": [
      "INFO: Temporary output files are stored in out-URGHHZIF.\n",
      "INFO: You can use \"parcels_convert_npydir_to_netcdf out-URGHHZIF\" to convert these to a NetCDF file during the run.\n",
      "N/A% (0 of 604800.0) |                   | Elapsed Time: 0:00:00 ETA:  --:--:--\n",
      "  5% (32400.0 of 604800.0) |             | Elapsed Time: 0:00:02 ETA:   0:00:44\n",
      "  5% (36000.0 of 604800.0) |             | Elapsed Time: 0:00:05 ETA:   0:06:45\n",
      "  6% (39600.0 of 604800.0) |             | Elapsed Time: 0:00:07 ETA:   0:07:23\n",
      "  7% (43200.0 of 604800.0) |             | Elapsed Time: 0:00:11 ETA:   0:08:08\n",
      "  7% (45000.0 of 604800.0) |             | Elapsed Time: 0:00:13 ETA:   0:13:59\n",
      "  7% (46800.0 of 604800.0) |#            | Elapsed Time: 0:00:15 ETA:   0:11:27\n",
      "  8% (50400.0 of 604800.0) |#            | Elapsed Time: 0:00:20 ETA:   0:13:09\n",
      "  8% (54000.0 of 604800.0) |#            | Elapsed Time: 0:00:25 ETA:   0:13:07\n",
      "  9% (57600.0 of 604800.0) |#            | Elapsed Time: 0:00:31 ETA:   0:14:05\n",
      " 10% (61200.0 of 604800.0) |#            | Elapsed Time: 0:00:36 ETA:   0:14:09\n",
      " 10% (64800.0 of 604800.0) |#            | Elapsed Time: 0:00:42 ETA:   0:14:33\n",
      " 11% (66600.0 of 604800.0) |#            | Elapsed Time: 0:00:46 ETA:   0:17:43\n",
      " 11% (68400.0 of 604800.0) |#            | Elapsed Time: 0:00:48 ETA:   0:12:06\n",
      " 11% (72000.0 of 604800.0) |#            | Elapsed Time: 0:00:55 ETA:   0:16:26\n",
      " 12% (75600.0 of 604800.0) |#            | Elapsed Time: 0:01:02 ETA:   0:17:11\n",
      " 13% (79200.0 of 604800.0) |#            | Elapsed Time: 0:01:09 ETA:   0:17:43\n",
      " 13% (82800.0 of 604800.0) |#            | Elapsed Time: 0:01:16 ETA:   0:17:10\n",
      " 14% (86400.0 of 604800.0) |#            | Elapsed Time: 0:01:24 ETA:   0:17:52\n",
      " 14% (88200.0 of 604800.0) |#            | Elapsed Time: 0:01:28 ETA:   0:20:44\n",
      " 14% (90000.0 of 604800.0) |#            | Elapsed Time: 0:01:31 ETA:   0:13:28\n",
      " 15% (93600.0 of 604800.0) |##           | Elapsed Time: 0:01:39 ETA:   0:19:38\n",
      " 16% (97200.0 of 604800.0) |##           | Elapsed Time: 0:01:48 ETA:   0:19:31\n",
      " 16% (100800.0 of 604800.0) |##          | Elapsed Time: 0:01:56 ETA:   0:18:49\n",
      " 17% (104400.0 of 604800.0) |##          | Elapsed Time: 0:02:04 ETA:   0:18:18\n",
      " 17% (108000.0 of 604800.0) |##          | Elapsed Time: 0:02:11 ETA:   0:17:26\n",
      " 18% (109800.0 of 604800.0) |##          | Elapsed Time: 0:02:15 ETA:   0:17:24\n",
      " 18% (111600.0 of 604800.0) |##          | Elapsed Time: 0:02:17 ETA:   0:11:10\n",
      " 19% (115200.0 of 604800.0) |##          | Elapsed Time: 0:02:25 ETA:   0:16:23\n",
      " 19% (118800.0 of 604800.0) |##          | Elapsed Time: 0:02:32 ETA:   0:16:17\n",
      " 20% (122400.0 of 604800.0) |##          | Elapsed Time: 0:02:39 ETA:   0:16:05\n",
      " 20% (126000.0 of 604800.0) |##          | Elapsed Time: 0:02:46 ETA:   0:15:40\n",
      " 21% (129600.0 of 604800.0) |##          | Elapsed Time: 0:02:53 ETA:   0:15:21\n",
      " 21% (131400.0 of 604800.0) |##          | Elapsed Time: 0:02:57 ETA:   0:15:43\n",
      " 22% (133200.0 of 604800.0) |##          | Elapsed Time: 0:02:59 ETA:   0:10:06\n",
      " 22% (136800.0 of 604800.0) |##          | Elapsed Time: 0:03:06 ETA:   0:14:46\n",
      " 23% (140400.0 of 604800.0) |##          | Elapsed Time: 0:03:13 ETA:   0:14:30\n",
      " 23% (144000.0 of 604800.0) |##          | Elapsed Time: 0:03:19 ETA:   0:14:13\n",
      " 24% (147600.0 of 604800.0) |##          | Elapsed Time: 0:03:26 ETA:   0:14:02\n",
      " 25% (151200.0 of 604800.0) |###         | Elapsed Time: 0:03:32 ETA:   0:13:53\n",
      " 25% (153000.0 of 604800.0) |###         | Elapsed Time: 0:03:36 ETA:   0:14:32\n",
      " 25% (154800.0 of 604800.0) |###         | Elapsed Time: 0:03:38 ETA:   0:09:25\n",
      " 26% (158400.0 of 604800.0) |###         | Elapsed Time: 0:03:45 ETA:   0:13:30\n",
      " 26% (162000.0 of 604800.0) |###         | Elapsed Time: 0:03:51 ETA:   0:12:55\n",
      " 27% (165600.0 of 604800.0) |###         | Elapsed Time: 0:03:57 ETA:   0:12:25\n",
      " 27% (169200.0 of 604800.0) |###         | Elapsed Time: 0:04:03 ETA:   0:11:58\n",
      " 28% (172800.0 of 604800.0) |###         | Elapsed Time: 0:04:09 ETA:   0:11:22\n",
      " 28% (174600.0 of 604800.0) |###         | Elapsed Time: 0:04:12 ETA:   0:11:19\n",
      " 29% (176400.0 of 604800.0) |###         | Elapsed Time: 0:04:13 ETA:   0:09:11\n",
      " 29% (180000.0 of 604800.0) |###         | Elapsed Time: 0:04:18 ETA:   0:09:55\n",
      " 30% (183600.0 of 604800.0) |###         | Elapsed Time: 0:04:23 ETA:   0:09:35\n",
      " 30% (187200.0 of 604800.0) |###         | Elapsed Time: 0:04:28 ETA:   0:08:58\n",
      " 31% (190800.0 of 604800.0) |###         | Elapsed Time: 0:04:32 ETA:   0:07:37\n",
      " 32% (194400.0 of 604800.0) |###         | Elapsed Time: 0:04:36 ETA:   0:07:05\n",
      " 32% (196200.0 of 604800.0) |###         | Elapsed Time: 0:04:38 ETA:   0:06:57\n",
      " 32% (198000.0 of 604800.0) |###         | Elapsed Time: 0:04:39 ETA:   0:05:28\n",
      " 33% (201600.0 of 604800.0) |####        | Elapsed Time: 0:04:42 ETA:   0:05:43\n",
      " 33% (205200.0 of 604800.0) |####        | Elapsed Time: 0:04:45 ETA:   0:05:28\n",
      " 34% (208800.0 of 604800.0) |####        | Elapsed Time: 0:04:48 ETA:   0:05:23\n",
      " 35% (212400.0 of 604800.0) |####        | Elapsed Time: 0:04:50 ETA:   0:05:02\n",
      " 35% (216000.0 of 604800.0) |####        | Elapsed Time: 0:04:53 ETA:   0:04:47\n",
      " 36% (217800.0 of 604800.0) |####        | Elapsed Time: 0:04:55 ETA:   0:04:55\n",
      " 36% (219600.0 of 604800.0) |####        | Elapsed Time: 0:04:55 ETA:   0:04:02\n",
      " 36% (223200.0 of 604800.0) |####        | Elapsed Time: 0:04:57 ETA:   0:03:10\n",
      " 37% (226800.0 of 604800.0) |####        | Elapsed Time: 0:04:59 ETA:   0:03:10\n",
      " 38% (230400.0 of 604800.0) |####        | Elapsed Time: 0:05:01 ETA:   0:02:52\n",
      " 38% (234000.0 of 604800.0) |####        | Elapsed Time: 0:05:02 ETA:   0:02:25\n",
      " 39% (237600.0 of 604800.0) |####        | Elapsed Time: 0:05:03 ETA:   0:01:55\n",
      " 39% (239400.0 of 604800.0) |####        | Elapsed Time: 0:05:03 ETA:   0:01:56\n",
      " 39% (241200.0 of 604800.0) |####        | Elapsed Time: 0:05:04 ETA:   0:01:47\n",
      " 40% (244800.0 of 604800.0) |####        | Elapsed Time: 0:05:05 ETA:   0:01:34\n",
      " 41% (248400.0 of 604800.0) |####        | Elapsed Time: 0:05:05 ETA:   0:01:20\n",
      " 41% (252000.0 of 604800.0) |#####       | Elapsed Time: 0:05:06 ETA:   0:01:24\n",
      " 42% (255600.0 of 604800.0) |#####       | Elapsed Time: 0:05:07 ETA:   0:01:23\n",
      " 42% (259200.0 of 604800.0) |#####       | Elapsed Time: 0:05:08 ETA:   0:01:24\n",
      " 43% (261000.0 of 604800.0) |#####       | Elapsed Time: 0:05:09 ETA:   0:01:29\n",
      " 43% (262800.0 of 604800.0) |#####       | Elapsed Time: 0:05:09 ETA:   0:01:24\n",
      " 44% (266400.0 of 604800.0) |#####       | Elapsed Time: 0:05:10 ETA:   0:01:23\n",
      " 44% (270000.0 of 604800.0) |#####       | Elapsed Time: 0:05:11 ETA:   0:01:16\n",
      " 45% (273600.0 of 604800.0) |#####       | Elapsed Time: 0:05:12 ETA:   0:01:20\n",
      " 45% (277200.0 of 604800.0) |#####       | Elapsed Time: 0:05:12 ETA:   0:01:19\n",
      " 46% (280800.0 of 604800.0) |#####       | Elapsed Time: 0:05:13 ETA:   0:01:19\n",
      " 46% (282600.0 of 604800.0) |#####       | Elapsed Time: 0:05:14 ETA:   0:01:26\n",
      " 47% (284400.0 of 604800.0) |#####       | Elapsed Time: 0:05:14 ETA:   0:01:21\n",
      " 47% (288000.0 of 604800.0) |#####       | Elapsed Time: 0:05:15 ETA:   0:01:20\n",
      " 48% (291600.0 of 604800.0) |#####       | Elapsed Time: 0:05:16 ETA:   0:01:13\n",
      " 48% (295200.0 of 604800.0) |#####       | Elapsed Time: 0:05:17 ETA:   0:01:16\n",
      " 49% (298800.0 of 604800.0) |#####       | Elapsed Time: 0:05:18 ETA:   0:01:16\n",
      " 50% (302400.0 of 604800.0) |######      | Elapsed Time: 0:05:19 ETA:   0:01:17\n",
      " 50% (304200.0 of 604800.0) |######      | Elapsed Time: 0:05:20 ETA:   0:01:25\n",
      " 50% (306000.0 of 604800.0) |######      | Elapsed Time: 0:05:20 ETA:   0:01:20\n",
      " 51% (309600.0 of 604800.0) |######      | Elapsed Time: 0:05:21 ETA:   0:01:20\n",
      " 51% (313200.0 of 604800.0) |######      | Elapsed Time: 0:05:22 ETA:   0:01:14\n",
      " 52% (316800.0 of 604800.0) |######      | Elapsed Time: 0:05:23 ETA:   0:01:15\n",
      " 52% (320400.0 of 604800.0) |######      | Elapsed Time: 0:05:24 ETA:   0:01:11\n",
      " 53% (324000.0 of 604800.0) |######      | Elapsed Time: 0:05:24 ETA:   0:01:04\n",
      " 53% (325800.0 of 604800.0) |######      | Elapsed Time: 0:05:25 ETA:   0:01:05\n",
      " 54% (327600.0 of 604800.0) |######      | Elapsed Time: 0:05:25 ETA:   0:01:00\n",
      " 54% (331200.0 of 604800.0) |######      | Elapsed Time: 0:05:26 ETA:   0:00:53\n",
      " 55% (334800.0 of 604800.0) |######      | Elapsed Time: 0:05:26 ETA:   0:00:50\n",
      " 55% (338400.0 of 604800.0) |######      | Elapsed Time: 0:05:27 ETA:   0:00:44\n",
      " 56% (342000.0 of 604800.0) |######      | Elapsed Time: 0:05:27 ETA:   0:00:40\n",
      " 57% (345600.0 of 604800.0) |######      | Elapsed Time: 0:05:28 ETA:   0:00:37\n",
      " 57% (347400.0 of 604800.0) |######      | Elapsed Time: 0:05:28 ETA:   0:00:40\n",
      " 57% (349200.0 of 604800.0) |######      | Elapsed Time: 0:05:28 ETA:   0:00:38\n",
      " 58% (352800.0 of 604800.0) |#######     | Elapsed Time: 0:05:29 ETA:   0:00:38\n",
      " 58% (356400.0 of 604800.0) |#######     | Elapsed Time: 0:05:29 ETA:   0:00:37\n",
      " 59% (360000.0 of 604800.0) |#######     | Elapsed Time: 0:05:30 ETA:   0:00:37\n",
      " 60% (363600.0 of 604800.0) |#######     | Elapsed Time: 0:05:30 ETA:   0:00:32\n",
      " 60% (367200.0 of 604800.0) |#######     | Elapsed Time: 0:05:31 ETA:   0:00:30\n",
      " 61% (369000.0 of 604800.0) |#######     | Elapsed Time: 0:05:31 ETA:   0:00:30\n",
      " 61% (370800.0 of 604800.0) |#######     | Elapsed Time: 0:05:31 ETA:   0:00:28\n",
      " 61% (374400.0 of 604800.0) |#######     | Elapsed Time: 0:05:31 ETA:   0:00:25\n",
      " 62% (378000.0 of 604800.0) |#######     | Elapsed Time: 0:05:32 ETA:   0:00:24\n",
      " 63% (381600.0 of 604800.0) |#######     | Elapsed Time: 0:05:32 ETA:   0:00:21\n",
      " 63% (385200.0 of 604800.0) |#######     | Elapsed Time: 0:05:32 ETA:   0:00:20\n",
      " 64% (388800.0 of 604800.0) |#######     | Elapsed Time: 0:05:33 ETA:   0:00:19\n",
      " 64% (390600.0 of 604800.0) |#######     | Elapsed Time: 0:05:33 ETA:   0:00:20\n",
      " 64% (392400.0 of 604800.0) |#######     | Elapsed Time: 0:05:33 ETA:   0:00:19\n",
      " 65% (396000.0 of 604800.0) |#######     | Elapsed Time: 0:05:33 ETA:   0:00:18\n",
      " 66% (399600.0 of 604800.0) |#######     | Elapsed Time: 0:05:34 ETA:   0:00:18\n",
      " 66% (403200.0 of 604800.0) |########    | Elapsed Time: 0:05:34 ETA:   0:00:18\n",
      " 67% (406800.0 of 604800.0) |########    | Elapsed Time: 0:05:34 ETA:   0:00:17\n",
      " 67% (410400.0 of 604800.0) |########    | Elapsed Time: 0:05:35 ETA:   0:00:17\n",
      " 68% (412200.0 of 604800.0) |########    | Elapsed Time: 0:05:35 ETA:   0:00:17\n",
      " 68% (414000.0 of 604800.0) |########    | Elapsed Time: 0:05:35 ETA:   0:00:17\n",
      " 69% (417600.0 of 604800.0) |########    | Elapsed Time: 0:05:35 ETA:   0:00:14\n",
      " 69% (421200.0 of 604800.0) |########    | Elapsed Time: 0:05:35 ETA:   0:00:14\n",
      " 70% (424800.0 of 604800.0) |########    | Elapsed Time: 0:05:36 ETA:   0:00:13\n",
      " 70% (428400.0 of 604800.0) |########    | Elapsed Time: 0:05:36 ETA:   0:00:12\n",
      " 71% (432000.0 of 604800.0) |########    | Elapsed Time: 0:05:36 ETA:   0:00:11\n",
      " 71% (433800.0 of 604800.0) |########    | Elapsed Time: 0:05:36 ETA:   0:00:11\n",
      " 72% (439200.0 of 604800.0) |########    | Elapsed Time: 0:05:36 ETA:   0:00:09\n",
      " 73% (446400.0 of 604800.0) |########    | Elapsed Time: 0:05:36 ETA:   0:00:08\n",
      " 75% (453600.0 of 604800.0) |#########   | Elapsed Time: 0:05:36 ETA:   0:00:06\n",
      " 75% (455400.0 of 604800.0) |#########   | Elapsed Time: 0:05:37 ETA:   0:00:06\n",
      " 76% (460800.0 of 604800.0) |#########   | Elapsed Time: 0:05:37 ETA:   0:00:06\n",
      " 77% (468000.0 of 604800.0) |#########   | Elapsed Time: 0:05:37 ETA:   0:00:04\n",
      " 78% (475200.0 of 604800.0) |#########   | Elapsed Time: 0:05:37 ETA:   0:00:04\n",
      " 78% (477000.0 of 604800.0) |#########   | Elapsed Time: 0:05:37 ETA:   0:00:04\n",
      " 79% (482400.0 of 604800.0) |#########   | Elapsed Time: 0:05:37 ETA:   0:00:04\n",
      " 80% (489600.0 of 604800.0) |#########   | Elapsed Time: 0:05:37 ETA:   0:00:03\n",
      " 81% (493200.0 of 604800.0) |#########   | Elapsed Time: 0:05:38 ETA:   0:00:03\n",
      " 82% (498600.0 of 604800.0) |#########   | Elapsed Time: 0:05:38 ETA:   0:00:03\n",
      " 83% (504000.0 of 604800.0) |##########  | Elapsed Time: 0:05:38 ETA:   0:00:02\n",
      " 83% (507600.0 of 604800.0) |##########  | Elapsed Time: 0:05:38 ETA:   0:00:02\n",
      " 85% (514800.0 of 604800.0) |##########  | Elapsed Time: 0:05:38 ETA:   0:00:02\n",
      " 86% (520200.0 of 604800.0) |##########  | Elapsed Time: 0:05:38 ETA:   0:00:02\n",
      " 86% (525600.0 of 604800.0) |##########  | Elapsed Time: 0:05:38 ETA:   0:00:02\n",
      " 87% (529200.0 of 604800.0) |##########  | Elapsed Time: 0:05:39 ETA:   0:00:02\n",
      " 88% (536400.0 of 604800.0) |##########  | Elapsed Time: 0:05:39 ETA:   0:00:01\n",
      " 89% (541800.0 of 604800.0) |##########  | Elapsed Time: 0:05:39 ETA:   0:00:01\n",
      " 90% (547200.0 of 604800.0) |##########  | Elapsed Time: 0:05:39 ETA:   0:00:01\n",
      " 91% (554400.0 of 604800.0) |########### | Elapsed Time: 0:05:39 ETA:   0:00:01\n",
      " 92% (561600.0 of 604800.0) |########### | Elapsed Time: 0:05:39 ETA:   0:00:01\n",
      " 93% (563400.0 of 604800.0) |########### | Elapsed Time: 0:05:40 ETA:   0:00:01\n",
      " 94% (568800.0 of 604800.0) |########### | Elapsed Time: 0:05:40 ETA:   0:00:00\n",
      " 94% (572400.0 of 604800.0) |########### | Elapsed Time: 0:05:40 ETA:   0:00:00\n",
      " 95% (576000.0 of 604800.0) |########### | Elapsed Time: 0:05:40 ETA:   0:00:00\n",
      " 96% (583200.0 of 604800.0) |########### | Elapsed Time: 0:05:40 ETA:   0:00:00\n",
      " 96% (585000.0 of 604800.0) |########### | Elapsed Time: 0:05:40 ETA:   0:00:00\n",
      " 97% (590400.0 of 604800.0) |########### | Elapsed Time: 0:05:40 ETA:   0:00:00\n",
      " 98% (597600.0 of 604800.0) |########### | Elapsed Time: 0:05:40 ETA:   0:00:00\n",
      "100% (604800.0 of 604800.0) |############| Elapsed Time: 0:05:41 ETA:  00:00:00\n",
      "100% (604800.0 of 604800.0) |############| Elapsed Time: 0:05:41 Time:  0:05:41\n"
     ]
    },
    {
     "data": {
      "image/png": "[encoded data removed]",
      "text/plain": [
       "<Figure size 432x288 with 1 Axes>"
      ]
     },
     "metadata": {
      "needs_background": "light"
     },
     "output_type": "display_data"
    },
    {
     "name": "stdout",
     "output_type": "stream",
     "text": [
      "particle trajectories completed\n"
     ]
    }
   ],
   "source": [
    "## Output properties\n",
    "output_file = pset.ParticleFile(name= output_file_name, outputdt = timedelta(minutes = 60))\n",
    "pset.execute(my_kernel,                 # the kernel (which defines how particles move)\n",
    "             runtime=timedelta(hours = 24*7),   # the total length of the run\n",
    "             dt = timedelta(minutes = 60),      # the timestep of the kernel\n",
    "             output_file = output_file)  # the file name and the time step of the outputs\n",
    "output_file.close()\n",
    "\n",
    "plotTrajectoriesFile(output_file_name);\n",
    "\n",
    "print('particle trajectories completed')"
   ]
  },
  {
   "cell_type": "code",
   "execution_count": 43,
   "id": "56cc90d2",
   "metadata": {},
   "outputs": [],
   "source": [
    "pfile = xr.open_dataset(str(output_file_name), decode_cf=True)\n",
    "\n",
    "beached = np.ma.filled(pfile.variables['beached'], np.nan)\n",
    "time = np.ma.filled(pfile.variables['time'], np.nan)\n",
    "beach_time = beached.sum(axis=0)\n",
    "particles_beached = np.diff(beach_time)\n",
    "t1 = (time[1,:] - time[1,0])/(3600000000000)\n",
    "t = t1[0:len(particles_beached)]"
   ]
  },
  {
   "cell_type": "code",
   "execution_count": 41,
   "id": "4b4aa75a",
   "metadata": {},
   "outputs": [
    {
     "data": {
      "image/png": "[encoded data removed]",
      "text/plain": [
       "<Figure size 648x216 with 1 Axes>"
      ]
     },
     "metadata": {
      "needs_background": "light"
     },
     "output_type": "display_data"
    }
   ],
   "source": [
    "import matplotlib.pyplot as plt\n",
    "\n",
    "fig, ax = plt.subplots(figsize = (9,3))\n",
    "\n",
    "ax.plot(t, particles_beached)\n",
    "ax.set_xlabel('hours')\n",
    "ax.set_ylabel('count of particles beached');\n",
    "#np.histogram(beach_time)"
   ]
  },
  {
   "cell_type": "code",
   "execution_count": 46,
   "id": "af3b4b90",
   "metadata": {},
   "outputs": [
    {
     "data": {
      "image/png": "[encoded data removed]",
      "text/plain": [
       "<Figure size 648x216 with 1 Axes>"
      ]
     },
     "metadata": {
      "needs_background": "light"
     },
     "output_type": "display_data"
    }
   ],
   "source": [
    "fig, ax = plt.subplots(figsize = (9,3))\n",
    "\n",
    "ax.plot(t1, beach_time)\n",
    "ax.set_xlabel('hours')\n",
    "ax.set_ylabel('beached particles');"
   ]
  }
 ],
 "metadata": {
  "kernelspec": {
   "display_name": "Python 3.8.10 ('parcels-dev')",
   "language": "python",
   "name": "python3"
  },
  "language_info": {
   "codemirror_mode": {
    "name": "ipython",
    "version": 3
   },
   "file_extension": ".py",
   "mimetype": "text/x-python",
   "name": "python",
   "nbconvert_exporter": "python",
   "pygments_lexer": "ipython3",
   "version": "3.8.10"
  },
  "vscode": {
   "interpreter": {
    "hash": "e4d84b090d0c7c6778fa197aacf5543338ee30c87f3fb579a323dc77be78ea57"
   }
  }
 },
 "nbformat": 4,
 "nbformat_minor": 5
}
