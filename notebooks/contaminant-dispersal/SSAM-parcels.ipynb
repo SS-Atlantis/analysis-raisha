{
 "cells": [
  {
   "attachments": {},
   "cell_type": "markdown",
   "id": "0b8d036b-e362-4a3f-a7cd-79fe1b26aa08",
   "metadata": {},
   "source": [
    "Using [Ocean Parcels](https://oceanparcels.org) to determine the surface movement of a point pollution oil spill.\n",
    "Original code written by Bec Gordon & Javier Porobic, CSIRO. Code requires additional python libraries stored in /Parcel_Utils/ within the [SSAM Ocean Parcels Repo](https://bitbucket.csiro.au/users/por07g/repos/ssam_oceanparcels/browse)"
   ]
  },
  {
   "cell_type": "code",
   "execution_count": 1,
   "id": "14e85ecd-0b24-4ae4-81a6-d9de3b6d88ef",
   "metadata": {},
   "outputs": [
    {
     "name": "stderr",
     "output_type": "stream",
     "text": [
      "INFO: Compiled ParcelsRandom ==> /tmp/parcels-2926/libparcels_random_8fb42be8-4172-4019-8298-3bf9efc82ad4.so\n"
     ]
    }
   ],
   "source": [
    "import sys\n",
    "import os\n",
    "import math\n",
    "import xarray as xr\n",
    "import matplotlib.pyplot as plt\n",
    "from pathlib import Path\n",
    "from pprint import pprint\n",
    "from parcels import VectorField, Variable, AdvectionRK4\n",
    "from parcels import FieldSet, plotTrajectoriesFile, Variable, ScipyParticle, Field, ParcelsRandom\n",
    "import numpy as np\n",
    "from datetime import timedelta\n",
    "sys.path.append('/ocean/rlovindeer/Atlantis/ssam_oceanparcels/Parcels_Utils/particle_tracking/parcels/')\n",
    "from util.seed_particles import get_particles, get_release_times\n",
    "# from util.parse_wildcards import parse_wildcards"
   ]
  },
  {
   "attachments": {},
   "cell_type": "markdown",
   "id": "e3895b9f",
   "metadata": {},
   "source": [
    "| **spill ID**  | **oil** | **spill size (m^3)** | **season** | **location** |\n",
    "|---------|---------|--------------------|------------|--------------|\n",
    "| 4a | Diesel | 500 | summer, ebb tide | Active Pass |\n",
    "| 5b | Dilbit | 2000 | winter, ebb tide | Turn Point, Arachne Reef |\n",
    "| 6a | Bunker C| 15 | summer, flood tide | leaving Vancouver Harbour, at Anchorage|\n",
    "| 7a | Bunker C| 1000 | winter storm, flood tide | Strait of Juan de Fuca |\n"
   ]
  },
  {
   "cell_type": "code",
   "execution_count": 135,
   "id": "2125a154",
   "metadata": {},
   "outputs": [],
   "source": [
    "# Spill release times (years 2019 and 2020 only)\n",
    "release_start_time = '2020-07-21'  # Winter Jan - 5b: 19, 26 | 7a: 19, 26 |Summer Jul - 6a: 16, 23 | 4a: 15, 22\n",
    "release_end_time = '2020-07-22'\n",
    "release_YYYY = '2020-07'"
   ]
  },
  {
   "attachments": {},
   "cell_type": "markdown",
   "id": "d10cbc8d-88bf-42b7-a270-2d523e1a02fa",
   "metadata": {},
   "source": [
    "Select the location of interest, which is specified by a shapefile."
   ]
  },
  {
   "cell_type": "code",
   "execution_count": 136,
   "id": "e7a25536-1e75-4dc0-8679-d4b81889f2c1",
   "metadata": {},
   "outputs": [
    {
     "name": "stdout",
     "output_type": "stream",
     "text": [
      "\n",
      "Scenario running  : 6a_VancouverHarbour_BunkerC\n"
     ]
    }
   ],
   "source": [
    "file_id = int(input( ))\n",
    "scenario = {1 : \"5b_Turn_Point_Diluted_bitumen\",\n",
    "            2 : \"6a_VancouverHarbour_BunkerC\",\n",
    "            3 : \"7a_JStrait_BunkerC\",\n",
    "            4 : \"4a_ActivePass_Diesel\",\n",
    "            5 : \"SandHeads\"}\n",
    "print(\"\\nScenario running  :\", scenario[file_id], sep = \" \")"
   ]
  },
  {
   "cell_type": "code",
   "execution_count": 137,
   "id": "34fdf25b-955c-4553-ac0c-930a86217905",
   "metadata": {},
   "outputs": [],
   "source": [
    "#Kernels\n",
    "def WindAdvectionRK4(particle, fieldset, time):\n",
    "    \"\"\"Advection of particles using fourth-order Runge-Kutta integration.\n",
    "     Function needs to be converted to Kernel object before execution\"\"\"\n",
    "    if particle.beached == 0:\n",
    "        wp = fieldset.wind_percentage ## this need to be add to the fieldset\n",
    "        \n",
    "        if wp > 0:\n",
    "\n",
    "            (u1, v1) = fieldset.UVwind[time, particle.depth, particle.lat, particle.lon]\n",
    "            u1 = u1 * wp\n",
    "            v1 = v1 * wp\n",
    "            lon1, lat1 = (particle.lon + u1*.5*particle.dt, particle.lat + v1*.5*particle.dt)\n",
    "            \n",
    "            (u2, v2) = fieldset.UVwind[time + .5 * particle.dt, particle.depth, lat1, lon1]\n",
    "            u2 = u2 * wp\n",
    "            v2 = v2 * wp\n",
    "            lon2, lat2 = (particle.lon + u2*.5*particle.dt, particle.lat + v2*.5*particle.dt)\n",
    "            \n",
    "            (u3, v3) = fieldset.UVwind[time + .5 * particle.dt, particle.depth, lat2, lon2]\n",
    "            u3 = u3 * wp\n",
    "            v3 = v3 * wp\n",
    "            lon3, lat3 = (particle.lon + u3*particle.dt, particle.lat + v3*particle.dt)\n",
    "            \n",
    "            (u4, v4) = fieldset.UVwind[time + particle.dt, particle.depth, lat3, lon3]\n",
    "            u4 = u4 * wp\n",
    "            v4 = v4 * wp            \n",
    "            \n",
    "            u_wind  = (u1 + 2*u2 + 2*u3 + u4) / 6. * particle.dt\n",
    "            v_wind  = (v1 + 2*v2 + 2*v3 + v4) / 6. * particle.dt\n",
    "            \n",
    "            particle.lon += (u1 + 2*u2 + 2*u3 + u4) / 6. * particle.dt\n",
    "            particle.lat += (v1 + 2*v2 + 2*v3 + v4) / 6. * particle.dt\n",
    "            \n",
    "            particle.beached = 2\n",
    "            \n",
    "def beaching(particle, fieldset, time):\n",
    "    \n",
    "    if particle.beached == 2:\n",
    "        \n",
    "        # Parameters\n",
    "        deg2m = 111000     # [m/deg]\n",
    "        D = 50   # maximum beaching distance [m]\n",
    "        \n",
    "        # Grounding probability over radius D\n",
    "        offset_lon = random.uniform(-1., 1.) * D / deg2m\n",
    "        offset_lat = random.uniform(-1., 1.) * D / deg2m\n",
    "\n",
    "        # Evaluate if chosen point is over land\n",
    "        (u, v) = fieldset.UV[time, particle.depth, particle.lat + offset_lat, particle.lon + offset_lon]\n",
    "        if u == 0 and v == 0: \n",
    "            particle.beached = 1\n",
    "        else:\n",
    "            particle.beached = 0\n",
    "\n",
    "def DeleteParticle(particle, fieldset, time):\n",
    "    particle.delete()\n",
    "\n",
    "def DecayParticle(particle, fieldset, time):\n",
    "    dt = particle.dt\n",
    "    field_decay_value = fieldset.decay\n",
    "    decay = math.exp(0 * dt/field_decay_value) # -0.099 for diesel, 0 for other oils\n",
    "    particle.decay_value = particle.decay_value * decay"
   ]
  },
  {
   "cell_type": "code",
   "execution_count": 138,
   "id": "e3c19fb9-3acc-442e-b1ea-62bcf5a3fb3b",
   "metadata": {},
   "outputs": [],
   "source": [
    "# Data Paths\n",
    "currents = Path('/ocean/rlovindeer/Atlantis/Physics/Raw_Transport_Data/')\n",
    "winds = Path('/ocean/rlovindeer/Atlantis/Physics/Wind/')\n",
    "sea_grid = Path('/ocean/rlovindeer/Atlantis/Physics/Grids/ubcSSnBathymetryV17-02_a29d_efc9_4047.nc')\n",
    "air_grid = Path('/ocean/rlovindeer/Atlantis/Physics/Grids/ubcSSaAtmosphereGridV1_0f03_6268_df4b.nc')"
   ]
  },
  {
   "cell_type": "code",
   "execution_count": 139,
   "id": "62049698-848c-46a5-a4da-4fb6de91df61",
   "metadata": {},
   "outputs": [
    {
     "name": "stdout",
     "output_type": "stream",
     "text": [
      "creating from_nemo\n",
      "creating from_nemo done\n",
      "add_constant decay\n"
     ]
    }
   ],
   "source": [
    "# Salish Sea NEMO Model Grid, Geo-location and Bathymetry, v17-02\n",
    "\n",
    "# Currents\n",
    "# u_data_path = currents + '2018-01*URaw_variables.nc'\n",
    "# v_data_path = currents + '2018-01*VRaw_variables.nc'\n",
    "# u_current = parse_wildcards(u_data_path, 'u')\n",
    "# v_current = parse_wildcards(v_data_path, 'v')\n",
    "\n",
    "u_current = sorted([p for p in currents.glob(str(release_YYYY) + '*URaw_variables.nc')])\n",
    "v_current = sorted([p for p in currents.glob(str(release_YYYY) + '*VRaw_variables.nc')])\n",
    "\n",
    "filenames = {\n",
    "    'U': {'lon': sea_grid,'lat': sea_grid,'data': u_current},\n",
    "    'V': {'lon': sea_grid,'lat': sea_grid,'data': v_current}\n",
    "            }\n",
    "\n",
    "variables = {'U': 'uVelocity','V': 'vVelocity'}\n",
    "dimensions = {'lon': 'longitude', 'lat': 'latitude', 'time': 'time'}\n",
    "print('creating from_nemo')\n",
    "fieldset = FieldSet.from_nemo(filenames, variables, dimensions, allow_time_extrapolation=True)\n",
    "print('creating from_nemo done')\n",
    "\n",
    "fieldset.add_constant('decay', 1.0 * 3600.0)\n",
    "print('add_constant decay')"
   ]
  },
  {
   "cell_type": "code",
   "execution_count": 140,
   "id": "10d71250-4e60-47bd-8cbb-12c2b538d61b",
   "metadata": {},
   "outputs": [
    {
     "name": "stdout",
     "output_type": "stream",
     "text": [
      "{'data': [PosixPath('/ocean/rlovindeer/Atlantis/Physics/Wind/2020-07-06_Wind_variables.nc'),\n",
      "          PosixPath('/ocean/rlovindeer/Atlantis/Physics/Wind/2020-07-12_Wind_variables.nc'),\n",
      "          PosixPath('/ocean/rlovindeer/Atlantis/Physics/Wind/2020-07-18_Wind_variables.nc'),\n",
      "          PosixPath('/ocean/rlovindeer/Atlantis/Physics/Wind/2020-07-24_Wind_variables.nc'),\n",
      "          PosixPath('/ocean/rlovindeer/Atlantis/Physics/Wind/2020-07-30_Wind_variables.nc')],\n",
      " 'lat': '/ocean/rlovindeer/Atlantis/Physics/Grids/ubcSSaAtmosphereGridV1_0f03_6268_df4b.nc',\n",
      " 'lon': '/ocean/rlovindeer/Atlantis/Physics/Grids/ubcSSaAtmosphereGridV1_0f03_6268_df4b.nc'}\n"
     ]
    }
   ],
   "source": [
    "# HRDPS, Salish Sea, Atmospheric Forcing Grid, Geo-location, v1\"\n",
    "\n",
    "wind_paths = sorted([p for p in winds.glob(str(release_YYYY) + '*Wind_variables.nc')])\n",
    "wind_filenames = {'lon': os.fspath(air_grid),'lat': os.fspath(air_grid),'data': wind_paths}\n",
    "wind_dimensions = {'lon': 'longitude', 'lat': 'latitude', 'time': 'time'}\n",
    "\n",
    "pprint(wind_filenames)"
   ]
  },
  {
   "cell_type": "code",
   "execution_count": 141,
   "id": "c7a4b014-1f05-4dc8-9f4c-2a65f51d0df4",
   "metadata": {},
   "outputs": [
    {
     "name": "stdout",
     "output_type": "stream",
     "text": [
      "wind data loaded\n"
     ]
    }
   ],
   "source": [
    "Uwind_field = Field.from_netcdf(wind_filenames, ('U_wind', 'u_wind'),\n",
    "                                     wind_dimensions,\n",
    "                                     fieldtype='U',\n",
    "                                     allow_time_extrapolation=True,\n",
    "                                     transpose=False,\n",
    "                                     deferred_load=False)\n",
    "Vwind_field = Field.from_netcdf(wind_filenames, ('V_wind', 'v_wind'),\n",
    "                                     wind_dimensions,\n",
    "                                     fieldtype='V',\n",
    "                                     allow_time_extrapolation=True,\n",
    "                                     transpose=False,\n",
    "                                     deferred_load=False)\n",
    "\n",
    "print('wind data loaded')"
   ]
  },
  {
   "cell_type": "code",
   "execution_count": 142,
   "id": "37823b69-6440-49f1-a693-4b75a263b7cd",
   "metadata": {},
   "outputs": [],
   "source": [
    "# change longitude for the wind field\n",
    "Uwind_field.grid.lon = Uwind_field.grid.lon - 360\n",
    "Vwind_field.grid.lon = Vwind_field.grid.lon - 360\n",
    "\n",
    "[x_min, x_max, y_min, y_max] = Uwind_field.grid.lonlat_minmax\n",
    "\n",
    "Uwind_field.grid.lonlat_minmax = [x_min - 360, x_max - 360, y_min, y_max]\n",
    "Vwind_field.grid.lonlat_minmax = [x_min - 360, x_max - 360, y_min, y_max]\n",
    "\n",
    "## adding the wind field to the fieldset object\n",
    "fieldset.add_field(Uwind_field)\n",
    "fieldset.add_field(Vwind_field)\n",
    "wind_field = VectorField('UVwind', Uwind_field,  Vwind_field)\n",
    "fieldset.add_vector_field(wind_field)"
   ]
  },
  {
   "cell_type": "code",
   "execution_count": 143,
   "id": "b661e048-885d-492e-97c0-64fe19327be1",
   "metadata": {},
   "outputs": [],
   "source": [
    "# wind_percentage\n",
    "# We need to do a sensitivity analysis of the percetage of wind to be used here\n",
    "wind_percentage = 3\n",
    "fieldset.add_constant('wind_percentage', wind_percentage/100.0)"
   ]
  },
  {
   "cell_type": "raw",
   "id": "3f50b40f-3404-4c6e-abfb-0406dbb85b25",
   "metadata": {},
   "source": [
    "Just in case we want to add a maximum age\n",
    "# fieldset_sum.add_constant('max_age', dispersal_length)"
   ]
  },
  {
   "cell_type": "code",
   "execution_count": 144,
   "id": "927c988b-bba4-4231-812b-6948bb407bf6",
   "metadata": {},
   "outputs": [
    {
     "name": "stdout",
     "output_type": "stream",
     "text": [
      "setting up particles\n",
      "1467000.0\n",
      "100\n",
      "100\n",
      "Using shapefile /ocean/rlovindeer/Atlantis/ssam_oceanparcels/SalishSea/Shape_Scenarios/6a_VancouverHarbour_BunkerC.shp\n",
      "Number of sites :  1\n",
      "Up to 0 of 1\n",
      "81\n",
      "100\n",
      "Sucessfully seeded particles\n",
      "\n",
      "num_attempts = 2\n",
      "[-123.18123928126776, -123.18057787454389, -123.1810248102041, -123.18125490577394, -123.18173683426343, -123.180853349278, -123.18168144767796, -123.17987588808137, -123.18189669720107, -123.18027361641929, -123.18131846514281, -123.18116283057155, -123.17974142638154, -123.18307464988733, -123.18011104415531, -123.18032755547155, -123.1799623956671, -123.18024406535284, -123.18158646737805, -123.1803181241872, -123.18295083627903, -123.1808770945676, -123.1796656068893, -123.1813464780242, -123.18177258426678, -123.18236931346236, -123.18034315111882, -123.1816076522798, -123.18116128260847, -123.18334632513911, -123.18096568792105, -123.18098771061084, -123.18096847664859, -123.17966926756934, -123.18071052915577, -123.18199184234896, -123.18168365503553, -123.18064767488524, -123.18077037282121, -123.18075498352519, -123.18258467174618, -123.18216707516275, -123.18115427472878, -123.18167741544465, -123.18301535511252, -123.18259065788818, -123.18277975557776, -123.18082467006624, -123.18241409214333, -123.181567260701, -123.18244933787487, -123.18278905769776, -123.18298223891124, -123.18081186432846, -123.18195520022839, -123.1830350075261, -123.1800898750282, -123.17953922748625, -123.18155795661495, -123.18101653289868, -123.1804821704788, -123.1822967574693, -123.182243752838, -123.18215691875723, -123.18177417022532, -123.18316601121246, -123.18066818415788, -123.18116856746502, -123.1823659984799, -123.18134091356337, -123.18304757275772, -123.18113141740555, -123.17972671923982, -123.18215459008867, -123.1807678140123, -123.18289707552478, -123.18057335121024, -123.18227052344031, -123.18269276700488, -123.18108941182933, -123.18340235538705, -123.18218151559503, -123.18065279400606, -123.18191931582041, -123.18332291443224, -123.18072017948445, -123.18161740581742, -123.18128791719015, -123.18255877445961, -123.18078503604718, -123.18237421603749, -123.18040618085762, -123.18214883295464, -123.18189660825064, -123.18108223953924, -123.1801172910237, -123.1809205819197, -123.18233358904708, -123.18024848489956, -123.18268304886942]\n",
      "6a_VancouverHarbour_BunkerC2020-07-21_OP_D50_wp3.nc\n"
     ]
    }
   ],
   "source": [
    "class MyParticle(ScipyParticle):\n",
    "    initial_time = -100\n",
    "    decay_value = Variable('decay_value', dtype=np.float32, initial=1.0)\n",
    "    beached = Variable('beached', dtype=np.int32, initial=0.)\n",
    "    age = Variable('age', dtype=np.int32, initial=0.)\n",
    "\n",
    "# Particle Features\n",
    "num_particles_per_day = 100\n",
    "feature_release_index = 0\n",
    "input_shapefile_name = \"/ocean/rlovindeer/Atlantis/ssam_oceanparcels/SalishSea/Shape_Scenarios/\" + scenario[file_id] + \".shp\"\n",
    "release_depth = -0.1\n",
    "release_start_time = np.datetime64(release_start_time)\n",
    "release_end_time = np.datetime64(release_end_time)\n",
    "time_origin = fieldset.U.grid.time_origin.time_origin\n",
    "\n",
    "print('setting up particles')\n",
    "\n",
    "[release_times, p, num_particles] = get_release_times(time_origin, num_particles_per_day, release_start_time, release_end_time)\n",
    "pset = get_particles(fieldset, num_particles, input_shapefile_name, MyParticle, feature_release_index, release_times, release_depth)\n",
    "\n",
    "#print(pset)\n",
    "\n",
    "# Building the kernels\n",
    "decay_kernel = pset.Kernel(DecayParticle)\n",
    "beaching_kernel = pset.Kernel(beaching)\n",
    "ForcingWind_kernel = pset.Kernel(WindAdvectionRK4)\n",
    "\n",
    "# Adding to the main kernel\n",
    "my_kernel =  AdvectionRK4 + decay_kernel + ForcingWind_kernel + beaching_kernel\n",
    "\n",
    "output_file_name = scenario[file_id] + str(release_start_time) +  '_OP_D50_wp3.nc'\n",
    "print(output_file_name)"
   ]
  },
  {
   "cell_type": "code",
   "execution_count": 145,
   "id": "95d50dee-2c5a-496c-ab9c-798b1e31f8fc",
   "metadata": {},
   "outputs": [
    {
     "name": "stdout",
     "output_type": "stream",
     "text": [
      "executing particle kernel\n"
     ]
    },
    {
     "name": "stderr",
     "output_type": "stream",
     "text": [
      "rm: cannot remove '6a_VancouverHarbour_BunkerC2020-07-21_OP_D50_wp3.nc': No such file or directory\n"
     ]
    }
   ],
   "source": [
    "try:\n",
    "    os.system('rm ' + output_file_name)\n",
    "except:\n",
    "    pass\n",
    "\n",
    "print('executing particle kernel')"
   ]
  },
  {
   "cell_type": "code",
   "execution_count": 146,
   "id": "ca91b311-7297-479d-b17e-484906a1b675",
   "metadata": {},
   "outputs": [
    {
     "name": "stderr",
     "output_type": "stream",
     "text": [
      "INFO: Temporary output files are stored in out-WYLUGOIO.\n",
      "INFO: You can use \"parcels_convert_npydir_to_netcdf out-WYLUGOIO\" to convert these to a NetCDF file during the run.\n",
      "N/A% (0 of 604800.0) |                   | Elapsed Time: 0:00:00 ETA:  --:--:--\n",
      "  5% (32400.0 of 604800.0) |             | Elapsed Time: 0:00:03 ETA:   0:01:07\n",
      "  5% (36000.0 of 604800.0) |             | Elapsed Time: 0:00:07 ETA:   0:10:16\n",
      "  6% (39600.0 of 604800.0) |             | Elapsed Time: 0:00:12 ETA:   0:11:31\n",
      "  7% (43200.0 of 604800.0) |             | Elapsed Time: 0:00:16 ETA:   0:11:51\n",
      "  7% (45000.0 of 604800.0) |             | Elapsed Time: 0:00:20 ETA:   0:19:03\n",
      "  7% (46800.0 of 604800.0) |#            | Elapsed Time: 0:00:22 ETA:   0:12:54\n",
      "  8% (50400.0 of 604800.0) |#            | Elapsed Time: 0:00:29 ETA:   0:17:12\n",
      "  8% (54000.0 of 604800.0) |#            | Elapsed Time: 0:00:36 ETA:   0:17:54\n",
      "  9% (57600.0 of 604800.0) |#            | Elapsed Time: 0:00:44 ETA:   0:19:15\n",
      " 10% (61200.0 of 604800.0) |#            | Elapsed Time: 0:00:51 ETA:   0:19:27\n",
      " 10% (64800.0 of 604800.0) |#            | Elapsed Time: 0:01:00 ETA:   0:20:24\n",
      " 11% (66600.0 of 604800.0) |#            | Elapsed Time: 0:01:04 ETA:   0:22:56\n",
      " 11% (68400.0 of 604800.0) |#            | Elapsed Time: 0:01:08 ETA:   0:16:38\n",
      " 11% (72000.0 of 604800.0) |#            | Elapsed Time: 0:01:15 ETA:   0:19:19\n",
      " 12% (75600.0 of 604800.0) |#            | Elapsed Time: 0:01:24 ETA:   0:20:13\n",
      " 13% (79200.0 of 604800.0) |#            | Elapsed Time: 0:01:32 ETA:   0:19:54\n",
      " 13% (82800.0 of 604800.0) |#            | Elapsed Time: 0:01:40 ETA:   0:18:39\n",
      " 14% (86400.0 of 604800.0) |#            | Elapsed Time: 0:01:47 ETA:   0:17:07\n",
      " 14% (88200.0 of 604800.0) |#            | Elapsed Time: 0:01:50 ETA:   0:18:13\n",
      " 14% (90000.0 of 604800.0) |#            | Elapsed Time: 0:01:53 ETA:   0:14:20\n",
      " 15% (93600.0 of 604800.0) |##           | Elapsed Time: 0:02:00 ETA:   0:15:10\n",
      " 16% (97200.0 of 604800.0) |##           | Elapsed Time: 0:02:06 ETA:   0:14:03\n",
      " 16% (100800.0 of 604800.0) |##          | Elapsed Time: 0:02:12 ETA:   0:14:08\n",
      " 17% (104400.0 of 604800.0) |##          | Elapsed Time: 0:02:18 ETA:   0:13:34\n",
      " 17% (108000.0 of 604800.0) |##          | Elapsed Time: 0:02:23 ETA:   0:12:45\n",
      " 18% (109800.0 of 604800.0) |##          | Elapsed Time: 0:02:26 ETA:   0:12:03\n",
      " 18% (111600.0 of 604800.0) |##          | Elapsed Time: 0:02:28 ETA:   0:10:01\n",
      " 19% (115200.0 of 604800.0) |##          | Elapsed Time: 0:02:33 ETA:   0:11:24\n",
      " 19% (118800.0 of 604800.0) |##          | Elapsed Time: 0:02:38 ETA:   0:11:13\n",
      " 20% (122400.0 of 604800.0) |##          | Elapsed Time: 0:02:43 ETA:   0:10:54\n",
      " 20% (126000.0 of 604800.0) |##          | Elapsed Time: 0:02:48 ETA:   0:10:39\n",
      " 21% (129600.0 of 604800.0) |##          | Elapsed Time: 0:02:52 ETA:   0:10:02\n",
      " 21% (131400.0 of 604800.0) |##          | Elapsed Time: 0:02:55 ETA:   0:09:34\n",
      " 22% (133200.0 of 604800.0) |##          | Elapsed Time: 0:02:56 ETA:   0:08:49\n",
      " 22% (136800.0 of 604800.0) |##          | Elapsed Time: 0:03:01 ETA:   0:09:06\n",
      " 23% (140400.0 of 604800.0) |##          | Elapsed Time: 0:03:05 ETA:   0:08:44\n",
      " 23% (144000.0 of 604800.0) |##          | Elapsed Time: 0:03:08 ETA:   0:07:57\n",
      " 24% (147600.0 of 604800.0) |##          | Elapsed Time: 0:03:12 ETA:   0:06:58\n",
      " 25% (151200.0 of 604800.0) |###         | Elapsed Time: 0:03:15 ETA:   0:07:01\n",
      " 25% (153000.0 of 604800.0) |###         | Elapsed Time: 0:03:17 ETA:   0:06:56\n",
      " 25% (154800.0 of 604800.0) |###         | Elapsed Time: 0:03:18 ETA:   0:06:10\n",
      " 26% (158400.0 of 604800.0) |###         | Elapsed Time: 0:03:21 ETA:   0:05:58\n",
      " 26% (162000.0 of 604800.0) |###         | Elapsed Time: 0:03:24 ETA:   0:05:54\n",
      " 27% (165600.0 of 604800.0) |###         | Elapsed Time: 0:03:27 ETA:   0:05:53\n",
      " 27% (169200.0 of 604800.0) |###         | Elapsed Time: 0:03:30 ETA:   0:05:55\n",
      " 28% (172800.0 of 604800.0) |###         | Elapsed Time: 0:03:33 ETA:   0:05:49\n",
      " 28% (174600.0 of 604800.0) |###         | Elapsed Time: 0:03:34 ETA:   0:05:49\n",
      " 29% (176400.0 of 604800.0) |###         | Elapsed Time: 0:03:35 ETA:   0:05:11\n",
      " 29% (180000.0 of 604800.0) |###         | Elapsed Time: 0:03:38 ETA:   0:05:11\n",
      " 30% (183600.0 of 604800.0) |###         | Elapsed Time: 0:03:40 ETA:   0:05:08\n",
      " 30% (187200.0 of 604800.0) |###         | Elapsed Time: 0:03:43 ETA:   0:05:09\n",
      " 31% (190800.0 of 604800.0) |###         | Elapsed Time: 0:03:45 ETA:   0:04:22\n",
      " 32% (194400.0 of 604800.0) |###         | Elapsed Time: 0:03:48 ETA:   0:04:13\n",
      " 32% (196200.0 of 604800.0) |###         | Elapsed Time: 0:03:49 ETA:   0:04:13\n",
      " 32% (198000.0 of 604800.0) |###         | Elapsed Time: 0:03:50 ETA:   0:03:55\n",
      " 33% (201600.0 of 604800.0) |####        | Elapsed Time: 0:03:52 ETA:   0:03:56\n",
      " 33% (205200.0 of 604800.0) |####        | Elapsed Time: 0:03:54 ETA:   0:03:55\n",
      " 34% (208800.0 of 604800.0) |####        | Elapsed Time: 0:03:56 ETA:   0:03:53\n",
      " 35% (212400.0 of 604800.0) |####        | Elapsed Time: 0:03:58 ETA:   0:03:51\n",
      " 35% (216000.0 of 604800.0) |####        | Elapsed Time: 0:04:00 ETA:   0:03:39\n",
      " 36% (217800.0 of 604800.0) |####        | Elapsed Time: 0:04:01 ETA:   0:03:38\n",
      " 36% (219600.0 of 604800.0) |####        | Elapsed Time: 0:04:02 ETA:   0:03:28\n",
      " 36% (223200.0 of 604800.0) |####        | Elapsed Time: 0:04:04 ETA:   0:03:14\n",
      " 37% (226800.0 of 604800.0) |####        | Elapsed Time: 0:04:06 ETA:   0:03:05\n",
      " 38% (230400.0 of 604800.0) |####        | Elapsed Time: 0:04:07 ETA:   0:02:48\n",
      " 38% (234000.0 of 604800.0) |####        | Elapsed Time: 0:04:09 ETA:   0:02:38\n",
      " 39% (237600.0 of 604800.0) |####        | Elapsed Time: 0:04:10 ETA:   0:02:18\n",
      " 39% (239400.0 of 604800.0) |####        | Elapsed Time: 0:04:11 ETA:   0:02:16\n",
      " 39% (241200.0 of 604800.0) |####        | Elapsed Time: 0:04:11 ETA:   0:02:12\n",
      " 40% (244800.0 of 604800.0) |####        | Elapsed Time: 0:04:13 ETA:   0:02:10\n",
      " 41% (248400.0 of 604800.0) |####        | Elapsed Time: 0:04:14 ETA:   0:02:01\n",
      " 41% (252000.0 of 604800.0) |#####       | Elapsed Time: 0:04:15 ETA:   0:01:54\n",
      " 42% (255600.0 of 604800.0) |#####       | Elapsed Time: 0:04:16 ETA:   0:01:48\n",
      " 42% (259200.0 of 604800.0) |#####       | Elapsed Time: 0:04:17 ETA:   0:01:49\n",
      " 43% (261000.0 of 604800.0) |#####       | Elapsed Time: 0:04:18 ETA:   0:01:48\n",
      " 43% (262800.0 of 604800.0) |#####       | Elapsed Time: 0:04:18 ETA:   0:01:45\n",
      " 44% (266400.0 of 604800.0) |#####       | Elapsed Time: 0:04:19 ETA:   0:01:43\n",
      " 44% (270000.0 of 604800.0) |#####       | Elapsed Time: 0:04:21 ETA:   0:01:44\n",
      " 45% (273600.0 of 604800.0) |#####       | Elapsed Time: 0:04:22 ETA:   0:01:42\n",
      " 45% (277200.0 of 604800.0) |#####       | Elapsed Time: 0:04:23 ETA:   0:01:36\n",
      " 46% (280800.0 of 604800.0) |#####       | Elapsed Time: 0:04:24 ETA:   0:01:32\n",
      " 46% (282600.0 of 604800.0) |#####       | Elapsed Time: 0:04:24 ETA:   0:01:32\n",
      " 47% (284400.0 of 604800.0) |#####       | Elapsed Time: 0:04:25 ETA:   0:01:29\n",
      " 47% (288000.0 of 604800.0) |#####       | Elapsed Time: 0:04:26 ETA:   0:01:27\n",
      " 48% (291600.0 of 604800.0) |#####       | Elapsed Time: 0:04:27 ETA:   0:01:29\n",
      " 48% (295200.0 of 604800.0) |#####       | Elapsed Time: 0:04:28 ETA:   0:01:28\n",
      " 49% (298800.0 of 604800.0) |#####       | Elapsed Time: 0:04:29 ETA:   0:01:26\n",
      " 50% (302400.0 of 604800.0) |######      | Elapsed Time: 0:04:30 ETA:   0:01:26\n",
      " 50% (304200.0 of 604800.0) |######      | Elapsed Time: 0:04:30 ETA:   0:01:26\n",
      " 50% (306000.0 of 604800.0) |######      | Elapsed Time: 0:04:31 ETA:   0:01:23\n",
      " 51% (309600.0 of 604800.0) |######      | Elapsed Time: 0:04:32 ETA:   0:01:21\n",
      " 51% (313200.0 of 604800.0) |######      | Elapsed Time: 0:04:33 ETA:   0:01:22\n",
      " 52% (316800.0 of 604800.0) |######      | Elapsed Time: 0:04:34 ETA:   0:01:22\n",
      " 52% (320400.0 of 604800.0) |######      | Elapsed Time: 0:04:35 ETA:   0:01:20\n",
      " 53% (324000.0 of 604800.0) |######      | Elapsed Time: 0:04:36 ETA:   0:01:19\n",
      " 53% (325800.0 of 604800.0) |######      | Elapsed Time: 0:04:36 ETA:   0:01:19\n",
      " 54% (327600.0 of 604800.0) |######      | Elapsed Time: 0:04:37 ETA:   0:01:17\n",
      " 54% (331200.0 of 604800.0) |######      | Elapsed Time: 0:04:38 ETA:   0:01:16\n",
      " 55% (334800.0 of 604800.0) |######      | Elapsed Time: 0:04:39 ETA:   0:01:16\n",
      " 55% (338400.0 of 604800.0) |######      | Elapsed Time: 0:04:40 ETA:   0:01:15\n",
      " 56% (342000.0 of 604800.0) |######      | Elapsed Time: 0:04:41 ETA:   0:01:14\n",
      " 57% (345600.0 of 604800.0) |######      | Elapsed Time: 0:04:42 ETA:   0:01:14\n",
      " 57% (347400.0 of 604800.0) |######      | Elapsed Time: 0:04:42 ETA:   0:01:13\n",
      " 57% (349200.0 of 604800.0) |######      | Elapsed Time: 0:04:43 ETA:   0:01:11\n",
      " 58% (352800.0 of 604800.0) |#######     | Elapsed Time: 0:04:44 ETA:   0:01:10\n",
      " 58% (356400.0 of 604800.0) |#######     | Elapsed Time: 0:04:45 ETA:   0:01:11\n",
      " 59% (360000.0 of 604800.0) |#######     | Elapsed Time: 0:04:46 ETA:   0:01:09\n",
      " 60% (363600.0 of 604800.0) |#######     | Elapsed Time: 0:04:47 ETA:   0:01:08\n",
      " 60% (367200.0 of 604800.0) |#######     | Elapsed Time: 0:04:48 ETA:   0:01:07\n",
      " 61% (369000.0 of 604800.0) |#######     | Elapsed Time: 0:04:49 ETA:   0:01:07\n",
      " 61% (370800.0 of 604800.0) |#######     | Elapsed Time: 0:04:49 ETA:   0:01:05\n",
      " 61% (374400.0 of 604800.0) |#######     | Elapsed Time: 0:04:50 ETA:   0:01:04\n",
      " 62% (378000.0 of 604800.0) |#######     | Elapsed Time: 0:04:51 ETA:   0:01:04\n",
      " 63% (381600.0 of 604800.0) |#######     | Elapsed Time: 0:04:52 ETA:   0:01:03\n",
      " 63% (385200.0 of 604800.0) |#######     | Elapsed Time: 0:04:53 ETA:   0:01:02\n",
      " 64% (388800.0 of 604800.0) |#######     | Elapsed Time: 0:04:54 ETA:   0:01:00\n",
      " 64% (390600.0 of 604800.0) |#######     | Elapsed Time: 0:04:55 ETA:   0:01:01\n",
      " 64% (392400.0 of 604800.0) |#######     | Elapsed Time: 0:04:55 ETA:   0:00:59\n",
      " 65% (396000.0 of 604800.0) |#######     | Elapsed Time: 0:04:56 ETA:   0:00:58\n",
      " 66% (399600.0 of 604800.0) |#######     | Elapsed Time: 0:04:57 ETA:   0:00:57\n",
      " 66% (403200.0 of 604800.0) |########    | Elapsed Time: 0:04:58 ETA:   0:00:56\n",
      " 67% (406800.0 of 604800.0) |########    | Elapsed Time: 0:04:59 ETA:   0:00:57\n",
      " 67% (410400.0 of 604800.0) |########    | Elapsed Time: 0:05:00 ETA:   0:00:55\n",
      " 68% (412200.0 of 604800.0) |########    | Elapsed Time: 0:05:01 ETA:   0:00:55\n",
      " 68% (414000.0 of 604800.0) |########    | Elapsed Time: 0:05:01 ETA:   0:00:53\n",
      " 69% (417600.0 of 604800.0) |########    | Elapsed Time: 0:05:03 ETA:   0:01:12\n",
      " 69% (421200.0 of 604800.0) |########    | Elapsed Time: 0:05:05 ETA:   0:01:30\n",
      " 70% (424800.0 of 604800.0) |########    | Elapsed Time: 0:05:07 ETA:   0:01:32\n",
      " 70% (428400.0 of 604800.0) |########    | Elapsed Time: 0:05:09 ETA:   0:01:39\n",
      " 71% (432000.0 of 604800.0) |########    | Elapsed Time: 0:05:11 ETA:   0:01:39\n",
      " 71% (433800.0 of 604800.0) |########    | Elapsed Time: 0:05:12 ETA:   0:01:40\n",
      " 72% (435600.0 of 604800.0) |########    | Elapsed Time: 0:05:13 ETA:   0:01:41\n",
      " 72% (439200.0 of 604800.0) |########    | Elapsed Time: 0:05:15 ETA:   0:01:48\n",
      " 73% (442800.0 of 604800.0) |########    | Elapsed Time: 0:05:17 ETA:   0:01:32\n",
      " 73% (446400.0 of 604800.0) |########    | Elapsed Time: 0:05:19 ETA:   0:01:38\n",
      " 74% (450000.0 of 604800.0) |########    | Elapsed Time: 0:05:21 ETA:   0:01:26\n",
      " 75% (453600.0 of 604800.0) |#########   | Elapsed Time: 0:05:23 ETA:   0:01:10\n",
      " 75% (455400.0 of 604800.0) |#########   | Elapsed Time: 0:05:24 ETA:   0:01:03\n",
      " 75% (457200.0 of 604800.0) |#########   | Elapsed Time: 0:05:25 ETA:   0:01:23\n",
      " 76% (460800.0 of 604800.0) |#########   | Elapsed Time: 0:05:27 ETA:   0:01:31\n",
      " 76% (464400.0 of 604800.0) |#########   | Elapsed Time: 0:05:29 ETA:   0:01:23\n",
      " 77% (468000.0 of 604800.0) |#########   | Elapsed Time: 0:05:32 ETA:   0:01:35\n",
      " 77% (471600.0 of 604800.0) |#########   | Elapsed Time: 0:05:34 ETA:   0:01:34\n",
      " 78% (475200.0 of 604800.0) |#########   | Elapsed Time: 0:05:36 ETA:   0:01:12\n",
      " 78% (477000.0 of 604800.0) |#########   | Elapsed Time: 0:05:38 ETA:   0:01:15\n",
      " 79% (478800.0 of 604800.0) |#########   | Elapsed Time: 0:05:38 ETA:   0:01:09\n",
      " 79% (482400.0 of 604800.0) |#########   | Elapsed Time: 0:05:41 ETA:   0:01:29\n",
      " 80% (486000.0 of 604800.0) |#########   | Elapsed Time: 0:05:43 ETA:   0:01:12\n",
      " 80% (489600.0 of 604800.0) |#########   | Elapsed Time: 0:05:45 ETA:   0:01:03\n",
      " 81% (493200.0 of 604800.0) |#########   | Elapsed Time: 0:05:47 ETA:   0:00:55\n",
      " 82% (496800.0 of 604800.0) |#########   | Elapsed Time: 0:05:48 ETA:   0:00:44\n",
      " 82% (498600.0 of 604800.0) |#########   | Elapsed Time: 0:05:48 ETA:   0:00:40\n",
      " 82% (500400.0 of 604800.0) |#########   | Elapsed Time: 0:05:49 ETA:   0:00:29\n",
      " 83% (504000.0 of 604800.0) |##########  | Elapsed Time: 0:05:50 ETA:   0:00:26\n",
      " 83% (507600.0 of 604800.0) |##########  | Elapsed Time: 0:05:50 ETA:   0:00:21\n",
      " 84% (511200.0 of 604800.0) |##########  | Elapsed Time: 0:05:51 ETA:   0:00:21\n",
      " 85% (514800.0 of 604800.0) |##########  | Elapsed Time: 0:05:52 ETA:   0:00:19\n",
      " 85% (518400.0 of 604800.0) |##########  | Elapsed Time: 0:05:53 ETA:   0:00:18\n",
      " 86% (520200.0 of 604800.0) |##########  | Elapsed Time: 0:05:53 ETA:   0:00:20\n",
      " 86% (522000.0 of 604800.0) |##########  | Elapsed Time: 0:05:54 ETA:   0:00:19\n",
      " 86% (525600.0 of 604800.0) |##########  | Elapsed Time: 0:05:55 ETA:   0:00:24\n",
      " 87% (529200.0 of 604800.0) |##########  | Elapsed Time: 0:05:57 ETA:   0:00:33\n",
      " 88% (532800.0 of 604800.0) |##########  | Elapsed Time: 0:05:59 ETA:   0:00:45\n",
      " 88% (536400.0 of 604800.0) |##########  | Elapsed Time: 0:06:01 ETA:   0:00:37\n",
      " 89% (540000.0 of 604800.0) |##########  | Elapsed Time: 0:06:03 ETA:   0:00:39\n",
      " 89% (541800.0 of 604800.0) |##########  | Elapsed Time: 0:06:04 ETA:   0:00:37\n",
      " 89% (543600.0 of 604800.0) |##########  | Elapsed Time: 0:06:05 ETA:   0:00:35\n",
      " 90% (547200.0 of 604800.0) |##########  | Elapsed Time: 0:06:07 ETA:   0:00:29\n",
      " 91% (550800.0 of 604800.0) |##########  | Elapsed Time: 0:06:09 ETA:   0:00:25\n",
      " 91% (554400.0 of 604800.0) |########### | Elapsed Time: 0:06:10 ETA:   0:00:24\n",
      " 92% (558000.0 of 604800.0) |########### | Elapsed Time: 0:06:12 ETA:   0:00:26\n",
      " 92% (561600.0 of 604800.0) |########### | Elapsed Time: 0:06:14 ETA:   0:00:23\n",
      " 93% (563400.0 of 604800.0) |########### | Elapsed Time: 0:06:15 ETA:   0:00:22\n",
      " 93% (565200.0 of 604800.0) |########### | Elapsed Time: 0:06:16 ETA:   0:00:20\n",
      " 94% (568800.0 of 604800.0) |########### | Elapsed Time: 0:06:18 ETA:   0:00:17\n",
      " 94% (572400.0 of 604800.0) |########### | Elapsed Time: 0:06:20 ETA:   0:00:16\n",
      " 95% (576000.0 of 604800.0) |########### | Elapsed Time: 0:06:22 ETA:   0:00:17\n",
      " 95% (579600.0 of 604800.0) |########### | Elapsed Time: 0:06:23 ETA:   0:00:12\n",
      " 96% (583200.0 of 604800.0) |########### | Elapsed Time: 0:06:25 ETA:   0:00:07\n",
      " 96% (585000.0 of 604800.0) |########### | Elapsed Time: 0:06:26 ETA:   0:00:07\n",
      " 97% (586800.0 of 604800.0) |########### | Elapsed Time: 0:06:26 ETA:   0:00:07\n",
      " 97% (590400.0 of 604800.0) |########### | Elapsed Time: 0:06:28 ETA:   0:00:07\n",
      " 98% (594000.0 of 604800.0) |########### | Elapsed Time: 0:06:30 ETA:   0:00:06\n",
      " 98% (597600.0 of 604800.0) |########### | Elapsed Time: 0:06:32 ETA:   0:00:04\n",
      " 99% (601200.0 of 604800.0) |########### | Elapsed Time: 0:06:34 ETA:   0:00:01\n",
      "100% (604800.0 of 604800.0) |############| Elapsed Time: 0:06:36 ETA:  00:00:00\n",
      "100% (604800.0 of 604800.0) |############| Elapsed Time: 0:06:36 Time:  0:06:36\n"
     ]
    },
    {
     "data": {
      "image/png": "[encoded data removed]",
      "text/plain": [
       "<Figure size 432x288 with 1 Axes>"
      ]
     },
     "metadata": {
      "needs_background": "light"
     },
     "output_type": "display_data"
    },
    {
     "name": "stdout",
     "output_type": "stream",
     "text": [
      "particle trajectories completed\n"
     ]
    }
   ],
   "source": [
    "## Output properties\n",
    "output_file = pset.ParticleFile(name= output_file_name, outputdt = timedelta(minutes = 60))\n",
    "pset.execute(my_kernel,                 # the kernel (which defines how particles move)\n",
    "             runtime=timedelta(hours = 24*7),   # the total length of the run\n",
    "             dt = timedelta(minutes = 60),      # the timestep of the kernel\n",
    "             output_file = output_file)  # the file name and the time step of the outputs\n",
    "output_file.close()\n",
    "\n",
    "plotTrajectoriesFile(output_file_name);\n",
    "\n",
    "print('particle trajectories completed')"
   ]
  },
  {
   "cell_type": "code",
   "execution_count": 147,
   "id": "618b0ac1",
   "metadata": {},
   "outputs": [
    {
     "data": {
      "image/png": "[encoded data removed]",
      "text/plain": [
       "<Figure size 1224x576 with 1 Axes>"
      ]
     },
     "metadata": {
      "needs_background": "light"
     },
     "output_type": "display_data"
    }
   ],
   "source": [
    "pfile = xr.open_dataset(str(output_file_name), decode_cf=True)\n",
    "fig, ax = plt.subplots(figsize=(17, 8))\n",
    "ax.pcolormesh(pfile.beached)\n",
    "ax.set_xlabel('Hours since deployment')\n",
    "ax.set_ylabel('Particle number')\n",
    "ax.set_title('Yellow = beached')\n",
    "plt.show()"
   ]
  }
 ],
 "metadata": {
  "kernelspec": {
   "display_name": "parcels-dev",
   "language": "python",
   "name": "python3"
  },
  "language_info": {
   "codemirror_mode": {
    "name": "ipython",
    "version": 3
   },
   "file_extension": ".py",
   "mimetype": "text/x-python",
   "name": "python",
   "nbconvert_exporter": "python",
   "pygments_lexer": "ipython3",
   "version": "3.8.10"
  }
 },
 "nbformat": 4,
 "nbformat_minor": 5
}
