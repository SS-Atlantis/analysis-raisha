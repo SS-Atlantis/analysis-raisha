{
 "cells": [
  {
   "cell_type": "markdown",
   "id": "0b8d036b-e362-4a3f-a7cd-79fe1b26aa08",
   "metadata": {},
   "source": [
    "Using [Ocean Parcels](https://oceanparcels.org) to track the surface movement of contaminants. \n",
    "Original code written by Bec Gordon & Javier Porobic, CSIRO, and code requires additional python libraries stored in /Parcel_Utils/ within the [SSAM Ocean Parcels Repo](https://bitbucket.csiro.au/users/por07g/repos/ssam_oceanparcels/browse)"
   ]
  },
  {
   "cell_type": "code",
   "execution_count": 1,
   "id": "14e85ecd-0b24-4ae4-81a6-d9de3b6d88ef",
   "metadata": {},
   "outputs": [
    {
     "name": "stderr",
     "output_type": "stream",
     "text": [
      "INFO: Compiled ParcelsRandom ==> /tmp/parcels-2926/libparcels_random_c0a8b1c7-3a85-485c-a82e-d62c35d63a61.so\n"
     ]
    }
   ],
   "source": [
    "import sys\n",
    "import os\n",
    "import math\n",
    "from pathlib import Path\n",
    "from pprint import pprint\n",
    "from parcels import AdvectionRK4, VectorField, Variable\n",
    "from parcels import FieldSet, plotTrajectoriesFile, Variable, ScipyParticle, Field\n",
    "import numpy as np\n",
    "from datetime import timedelta\n",
    "sys.path.append('/ocean/rlovindeer/Atlantis/ssam_oceanparcels/Parcels_Utils/particle_tracking/parcels/')\n",
    "from util.seed_particles import get_particles, get_release_times\n",
    "# from util.parse_wildcards import parse_wildcards"
   ]
  },
  {
   "cell_type": "markdown",
   "id": "d10cbc8d-88bf-42b7-a270-2d523e1a02fa",
   "metadata": {},
   "source": [
    "Select the location of interest, which is specified by a shapefile."
   ]
  },
  {
   "cell_type": "code",
   "execution_count": 2,
   "id": "e7a25536-1e75-4dc0-8679-d4b81889f2c1",
   "metadata": {},
   "outputs": [
    {
     "name": "stdout",
     "output_type": "stream",
     "text": [
      "\n",
      "Scenario running  : 6a_VancouverHarbour_BunkerC\n"
     ]
    }
   ],
   "source": [
    "file_id = int(input( ))\n",
    "scenario = {1 : \"5b_Turn_Point_Diluted_bitumen\",\n",
    "            2 : \"6a_VancouverHarbour_BunkerC\",\n",
    "            3 : \"7a_JohnsonStrait_BunkerC\",}\n",
    "print(\"\\nScenario running  :\", scenario[file_id], sep = \" \")"
   ]
  },
  {
   "cell_type": "code",
   "execution_count": 3,
   "id": "34fdf25b-955c-4553-ac0c-930a86217905",
   "metadata": {},
   "outputs": [],
   "source": [
    "#Kernels\n",
    "def WindAdvectionRK4(particle, fieldset, time):\n",
    "    \"\"\"Advection of particles using fourth-order Runge-Kutta integration.\n",
    "     Function needs to be converted to Kernel object before execution\"\"\"\n",
    "    if particle.beached == 0:\n",
    "        wp = fieldset.wind_percentage ## this need to be add to the fieldset\n",
    "        \n",
    "        if wp > 0:\n",
    "\n",
    "            (u1, v1) = fieldset.UV[time, particle.depth, particle.lat, particle.lon]\n",
    "            u1 = u1 * wp\n",
    "            v1 = v1 * wp\n",
    "            lon1, lat1 = (particle.lon + u1*.5*particle.dt, particle.lat + v1*.5*particle.dt)\n",
    "            \n",
    "            (u2, v2) = fieldset.UVwind[time + .5 * particle.dt, particle.depth, lat1, lon1]\n",
    "            u2 = u2 * wp\n",
    "            v2 = v2 * wp\n",
    "            lon2, lat2 = (particle.lon + u2*.5*particle.dt, particle.lat + v2*.5*particle.dt)\n",
    "            \n",
    "            (u3, v3) = fieldset.UVwind[time + .5 * particle.dt, particle.depth, lat2, lon2]\n",
    "            u3 = u3 * wp\n",
    "            v3 = v3 * wp\n",
    "            lon3, lat3 = (particle.lon + u3*particle.dt, particle.lat + v3*particle.dt)\n",
    "            \n",
    "            (u4, v4) = fieldset.UVwind[time + particle.dt, particle.depth, lat3, lon3]\n",
    "            u4 = u4 * wp\n",
    "            v4 = v4 * wp            \n",
    "            \n",
    "            u_wind  = (u1 + 2*u2 + 2*u3 + u4) / 6. * particle.dt\n",
    "            v_wind  = (v1 + 2*v2 + 2*v3 + v4) / 6. * particle.dt\n",
    "            \n",
    "            particle.lon += (u1 + 2*u2 + 2*u3 + u4) / 6. * particle.dt\n",
    "            particle.lat += (v1 + 2*v2 + 2*v3 + v4) / 6. * particle.dt\n",
    "            \n",
    "            particle.beached = 2\n",
    "            \n",
    "def BeachTesting(particle, fieldset, time):\n",
    "    \"\"\" Testing if particles are on land. if 'yes' particle will be removed\"\"\"\n",
    "    if particle.beached == 2:\n",
    "        (u, v) = fieldset.UV[time, particle.depth, particle.lat, particle.lon]\n",
    "        #print(u, v)\n",
    "        if u == 0 and v == 0:\n",
    "            particle.beached = 1\n",
    "        else:\n",
    "            particle.beached = 0\n",
    "\n",
    "def DeleteParticle(particle, fieldset, time):\n",
    "    particle.delete()\n",
    "\n",
    "def DecayParticle(particle, fieldset, time):\n",
    "    dt = particle.dt\n",
    "    field_decay_value = fieldset.decay\n",
    "    decay = math.exp(0 * dt/field_decay_value) #math.exp(-1.0 * dt/field_decay_value) \n",
    "    particle.decay_value = particle.decay_value * decay"
   ]
  },
  {
   "cell_type": "code",
   "execution_count": 4,
   "id": "e3c19fb9-3acc-442e-b1ea-62bcf5a3fb3b",
   "metadata": {},
   "outputs": [],
   "source": [
    "# Data Paths\n",
    "currents = Path('/ocean/rlovindeer/Atlantis/Physics/Raw_Transport_Data/')\n",
    "winds = Path('/ocean/rlovindeer/Atlantis/Physics/Wind/')\n",
    "sea_grid = Path('/ocean/rlovindeer/Atlantis/Physics/Grids/ubcSSnBathymetryV17-02_a29d_efc9_4047.nc')\n",
    "air_grid = Path('/ocean/rlovindeer/Atlantis/Physics/Grids/ubcSSaAtmosphereGridV1_0f03_6268_df4b.nc')"
   ]
  },
  {
   "cell_type": "code",
   "execution_count": 5,
   "id": "62049698-848c-46a5-a4da-4fb6de91df61",
   "metadata": {},
   "outputs": [
    {
     "name": "stdout",
     "output_type": "stream",
     "text": [
      "creating from_nemo\n"
     ]
    },
    {
     "name": "stderr",
     "output_type": "stream",
     "text": [
      "WARNING: Casting lon data to np.float32\n",
      "WARNING: Casting lat data to np.float32\n",
      "WARNING: Casting depth data to np.float32\n"
     ]
    },
    {
     "name": "stdout",
     "output_type": "stream",
     "text": [
      "creating from_nemo done\n",
      "add_constant decay\n"
     ]
    }
   ],
   "source": [
    "# Salish Sea NEMO Model Grid, Geo-location and Bathymetry, v17-02\n",
    "\n",
    "# Currents\n",
    "# u_data_path = currents + '2018-01*URaw_variables.nc'\n",
    "# v_data_path = currents + '2018-01*VRaw_variables.nc'\n",
    "# u_current = parse_wildcards(u_data_path, 'u')\n",
    "# v_current = parse_wildcards(v_data_path, 'v')\n",
    "\n",
    "u_current = sorted([p for p in currents.glob('2018-01*URaw_variables.nc')])\n",
    "v_current = sorted([p for p in currents.glob('2018-01*VRaw_variables.nc')])\n",
    "\n",
    "filenames = {\n",
    "    'U': {'lon': sea_grid,'lat': sea_grid,'data': u_current},\n",
    "    'V': {'lon': sea_grid,'lat': sea_grid,'data': v_current}\n",
    "            }\n",
    "\n",
    "variables = {'U': 'uVelocity','V': 'vVelocity'}\n",
    "dimensions = {'lon': 'longitude', 'lat': 'latitude', 'time': 'time'}\n",
    "print('creating from_nemo')\n",
    "fieldset = FieldSet.from_nemo(filenames, variables, dimensions, allow_time_extrapolation=True)\n",
    "print('creating from_nemo done')\n",
    "\n",
    "fieldset.add_constant('decay', 1.0 * 3600.0)\n",
    "print('add_constant decay')"
   ]
  },
  {
   "cell_type": "code",
   "execution_count": 6,
   "id": "10d71250-4e60-47bd-8cbb-12c2b538d61b",
   "metadata": {},
   "outputs": [
    {
     "name": "stdout",
     "output_type": "stream",
     "text": [
      "{'data': [PosixPath('/ocean/rlovindeer/Atlantis/Physics/Wind/2018-01-01_Wind_variables.nc'),\n",
      "          PosixPath('/ocean/rlovindeer/Atlantis/Physics/Wind/2018-01-03_Wind_variables.nc'),\n",
      "          PosixPath('/ocean/rlovindeer/Atlantis/Physics/Wind/2018-01-05_Wind_variables.nc'),\n",
      "          PosixPath('/ocean/rlovindeer/Atlantis/Physics/Wind/2018-01-07_Wind_variables.nc'),\n",
      "          PosixPath('/ocean/rlovindeer/Atlantis/Physics/Wind/2018-01-09_Wind_variables.nc'),\n",
      "          PosixPath('/ocean/rlovindeer/Atlantis/Physics/Wind/2018-01-11_Wind_variables.nc'),\n",
      "          PosixPath('/ocean/rlovindeer/Atlantis/Physics/Wind/2018-01-13_Wind_variables.nc'),\n",
      "          PosixPath('/ocean/rlovindeer/Atlantis/Physics/Wind/2018-01-15_Wind_variables.nc'),\n",
      "          PosixPath('/ocean/rlovindeer/Atlantis/Physics/Wind/2018-01-17_Wind_variables.nc'),\n",
      "          PosixPath('/ocean/rlovindeer/Atlantis/Physics/Wind/2018-01-19_Wind_variables.nc'),\n",
      "          PosixPath('/ocean/rlovindeer/Atlantis/Physics/Wind/2018-01-21_Wind_variables.nc'),\n",
      "          PosixPath('/ocean/rlovindeer/Atlantis/Physics/Wind/2018-01-23_Wind_variables.nc'),\n",
      "          PosixPath('/ocean/rlovindeer/Atlantis/Physics/Wind/2018-01-25_Wind_variables.nc'),\n",
      "          PosixPath('/ocean/rlovindeer/Atlantis/Physics/Wind/2018-01-27_Wind_variables.nc'),\n",
      "          PosixPath('/ocean/rlovindeer/Atlantis/Physics/Wind/2018-01-29_Wind_variables.nc')],\n",
      " 'lat': '/ocean/rlovindeer/Atlantis/Physics/Grids/ubcSSaAtmosphereGridV1_0f03_6268_df4b.nc',\n",
      " 'lon': '/ocean/rlovindeer/Atlantis/Physics/Grids/ubcSSaAtmosphereGridV1_0f03_6268_df4b.nc'}\n"
     ]
    }
   ],
   "source": [
    "# HRDPS, Salish Sea, Atmospheric Forcing Grid, Geo-location, v1\"\n",
    "\n",
    "# wind_data_path = winds + '*_Wind_variables.nc'\n",
    "# wind_paths = parse_wildcards(wind_data_path, 'u')\n",
    "wind_paths = sorted([p for p in winds.glob('*_Wind_variables.nc')])\n",
    "wind_filenames = {'lon': os.fspath(air_grid),'lat': os.fspath(air_grid),'data': wind_paths}\n",
    "wind_dimensions = {'lon': 'longitude', 'lat': 'latitude', 'time': 'time'}\n",
    "\n",
    "pprint(wind_filenames)"
   ]
  },
  {
   "cell_type": "code",
   "execution_count": 7,
   "id": "c7a4b014-1f05-4dc8-9f4c-2a65f51d0df4",
   "metadata": {},
   "outputs": [
    {
     "name": "stdout",
     "output_type": "stream",
     "text": [
      "wind data loaded\n"
     ]
    }
   ],
   "source": [
    "Uwind_field = Field.from_netcdf(wind_filenames, ('U_wind', 'u_wind'),\n",
    "                                     wind_dimensions,\n",
    "                                     fieldtype='U',\n",
    "                                     allow_time_extrapolation=True,\n",
    "                                     transpose=False,\n",
    "                                     deferred_load=False)\n",
    "Vwind_field = Field.from_netcdf(wind_filenames, ('V_wind', 'v_wind'),\n",
    "                                     wind_dimensions,\n",
    "                                     fieldtype='V',\n",
    "                                     allow_time_extrapolation=True,\n",
    "                                     transpose=False,\n",
    "                                     deferred_load=False)\n",
    "\n",
    "print('wind data loaded')"
   ]
  },
  {
   "cell_type": "code",
   "execution_count": 8,
   "id": "37823b69-6440-49f1-a693-4b75a263b7cd",
   "metadata": {},
   "outputs": [],
   "source": [
    "# change longitude for the wind field\n",
    "Uwind_field.grid.lon = Uwind_field.grid.lon - 360\n",
    "Vwind_field.grid.lon = Vwind_field.grid.lon - 360\n",
    "\n",
    "[x_min, x_max, y_min, y_max] = Uwind_field.grid.lonlat_minmax\n",
    "\n",
    "Uwind_field.grid.lonlat_minmax = [x_min - 360, x_max - 360, y_min, y_max]\n",
    "Vwind_field.grid.lonlat_minmax = [x_min - 360, x_max - 360, y_min, y_max]\n",
    "\n",
    "## adding the wind field to the fieldset object\n",
    "fieldset.add_field(Uwind_field)\n",
    "fieldset.add_field(Vwind_field)\n",
    "wind_field = VectorField('UVwind', Uwind_field,  Vwind_field)\n",
    "fieldset.add_vector_field(wind_field)"
   ]
  },
  {
   "cell_type": "code",
   "execution_count": 9,
   "id": "b661e048-885d-492e-97c0-64fe19327be1",
   "metadata": {},
   "outputs": [],
   "source": [
    "# wind_percentage\n",
    "# We need to do a sensitivity analysis of the percetage of wind to be used here\n",
    "wind_percentage = 1\n",
    "fieldset.add_constant('wind_percentage', wind_percentage/100.0)"
   ]
  },
  {
   "cell_type": "raw",
   "id": "3f50b40f-3404-4c6e-abfb-0406dbb85b25",
   "metadata": {},
   "source": [
    "Just in case we want to add a maximum age\n",
    "# fieldset_sum.add_constant('max_age', dispersal_length)"
   ]
  },
  {
   "cell_type": "code",
   "execution_count": 10,
   "id": "927c988b-bba4-4231-812b-6948bb407bf6",
   "metadata": {},
   "outputs": [
    {
     "name": "stdout",
     "output_type": "stream",
     "text": [
      "setting up particles\n",
      "-1800.0\n",
      "100\n",
      "100\n",
      "Using shapefile /ocean/rlovindeer/Atlantis/ssam_oceanparcels/SalishSea/Shape_Scenarios/6a_VancouverHarbour_BunkerC.shp\n",
      "Number of sites :  1\n",
      "Up to 0 of 1\n",
      "81\n",
      "100\n",
      "Sucessfully seeded particles\n",
      "\n",
      "num_attempts = 2\n",
      "[-123.18123928126776, -123.18057787454389, -123.1810248102041, -123.18125490577394, -123.18173683426343, -123.180853349278, -123.18168144767796, -123.17987588808137, -123.18189669720107, -123.18027361641929, -123.18131846514281, -123.18116283057155, -123.17974142638154, -123.18307464988733, -123.18011104415531, -123.18032755547155, -123.1799623956671, -123.18024406535284, -123.18158646737805, -123.1803181241872, -123.18295083627903, -123.1808770945676, -123.1796656068893, -123.1813464780242, -123.18177258426678, -123.18236931346236, -123.18034315111882, -123.1816076522798, -123.18116128260847, -123.18334632513911, -123.18096568792105, -123.18098771061084, -123.18096847664859, -123.17966926756934, -123.18071052915577, -123.18199184234896, -123.18168365503553, -123.18064767488524, -123.18077037282121, -123.18075498352519, -123.18258467174618, -123.18216707516275, -123.18115427472878, -123.18167741544465, -123.18301535511252, -123.18259065788818, -123.18277975557776, -123.18082467006624, -123.18241409214333, -123.181567260701, -123.18244933787487, -123.18278905769776, -123.18298223891124, -123.18081186432846, -123.18195520022839, -123.1830350075261, -123.1800898750282, -123.17953922748625, -123.18155795661495, -123.18101653289868, -123.1804821704788, -123.1822967574693, -123.182243752838, -123.18215691875723, -123.18177417022532, -123.18316601121246, -123.18066818415788, -123.18116856746502, -123.1823659984799, -123.18134091356337, -123.18304757275772, -123.18113141740555, -123.17972671923982, -123.18215459008867, -123.1807678140123, -123.18289707552478, -123.18057335121024, -123.18227052344031, -123.18269276700488, -123.18108941182933, -123.18340235538705, -123.18218151559503, -123.18065279400606, -123.18191931582041, -123.18332291443224, -123.18072017948445, -123.18161740581742, -123.18128791719015, -123.18255877445961, -123.18078503604718, -123.18237421603749, -123.18040618085762, -123.18214883295464, -123.18189660825064, -123.18108223953924, -123.1801172910237, -123.1809205819197, -123.18233358904708, -123.18024848489956, -123.18268304886942]\n",
      "P[0](lon=-123.181239, lat=49.301004, depth=0.000000, decay_value=1.000000, beached=0.000000, age=0.000000, time=19800.000000)\n",
      "P[1](lon=-123.180578, lat=49.299383, depth=0.000000, decay_value=1.000000, beached=0.000000, age=0.000000, time=9000.000000)\n",
      "P[2](lon=-123.181025, lat=49.301232, depth=0.000000, decay_value=1.000000, beached=0.000000, age=0.000000, time=34200.000000)\n",
      "P[3](lon=-123.181255, lat=49.302135, depth=0.000000, decay_value=1.000000, beached=0.000000, age=0.000000, time=-1800.000000)\n",
      "P[4](lon=-123.181737, lat=49.299298, depth=0.000000, decay_value=1.000000, beached=0.000000, age=0.000000, time=19800.000000)\n",
      "P[5](lon=-123.180853, lat=49.300600, depth=0.000000, decay_value=1.000000, beached=0.000000, age=0.000000, time=16200.000000)\n",
      "P[6](lon=-123.181681, lat=49.300663, depth=0.000000, decay_value=1.000000, beached=0.000000, age=0.000000, time=63000.000000)\n",
      "P[7](lon=-123.179876, lat=49.300584, depth=0.000000, decay_value=1.000000, beached=0.000000, age=0.000000, time=1800.000000)\n",
      "P[8](lon=-123.181897, lat=49.302097, depth=0.000000, decay_value=1.000000, beached=0.000000, age=0.000000, time=52200.000000)\n",
      "P[9](lon=-123.180274, lat=49.300087, depth=0.000000, decay_value=1.000000, beached=0.000000, age=0.000000, time=84600.000000)\n",
      "P[10](lon=-123.181318, lat=49.301674, depth=0.000000, decay_value=1.000000, beached=0.000000, age=0.000000, time=63000.000000)\n",
      "P[11](lon=-123.181163, lat=49.301090, depth=0.000000, decay_value=1.000000, beached=0.000000, age=0.000000, time=19800.000000)\n",
      "P[12](lon=-123.179741, lat=49.299492, depth=0.000000, decay_value=1.000000, beached=0.000000, age=0.000000, time=37800.000000)\n",
      "P[13](lon=-123.183075, lat=49.299886, depth=0.000000, decay_value=1.000000, beached=0.000000, age=0.000000, time=34200.000000)\n",
      "P[14](lon=-123.180111, lat=49.300620, depth=0.000000, decay_value=1.000000, beached=0.000000, age=0.000000, time=59400.000000)\n",
      "P[15](lon=-123.180328, lat=49.301815, depth=0.000000, decay_value=1.000000, beached=0.000000, age=0.000000, time=30600.000000)\n",
      "P[16](lon=-123.179962, lat=49.301063, depth=0.000000, decay_value=1.000000, beached=0.000000, age=0.000000, time=73800.000000)\n",
      "P[17](lon=-123.180244, lat=49.300302, depth=0.000000, decay_value=1.000000, beached=0.000000, age=0.000000, time=41400.000000)\n",
      "P[18](lon=-123.181586, lat=49.302110, depth=0.000000, decay_value=1.000000, beached=0.000000, age=0.000000, time=30600.000000)\n",
      "P[19](lon=-123.180318, lat=49.300870, depth=0.000000, decay_value=1.000000, beached=0.000000, age=0.000000, time=84600.000000)\n",
      "P[20](lon=-123.182951, lat=49.299995, depth=0.000000, decay_value=1.000000, beached=0.000000, age=0.000000, time=19800.000000)\n",
      "P[21](lon=-123.180877, lat=49.300720, depth=0.000000, decay_value=1.000000, beached=0.000000, age=0.000000, time=5400.000000)\n",
      "P[22](lon=-123.179666, lat=49.299508, depth=0.000000, decay_value=1.000000, beached=0.000000, age=0.000000, time=73800.000000)\n",
      "P[23](lon=-123.181346, lat=49.300934, depth=0.000000, decay_value=1.000000, beached=0.000000, age=0.000000, time=41400.000000)\n",
      "P[24](lon=-123.181773, lat=49.299463, depth=0.000000, decay_value=1.000000, beached=0.000000, age=0.000000, time=27000.000000)\n",
      "P[25](lon=-123.182369, lat=49.300766, depth=0.000000, decay_value=1.000000, beached=0.000000, age=0.000000, time=59400.000000)\n",
      "P[26](lon=-123.180343, lat=49.300014, depth=0.000000, decay_value=1.000000, beached=0.000000, age=0.000000, time=41400.000000)\n",
      "P[27](lon=-123.181608, lat=49.298848, depth=0.000000, decay_value=1.000000, beached=0.000000, age=0.000000, time=48600.000000)\n",
      "P[28](lon=-123.181161, lat=49.299495, depth=0.000000, decay_value=1.000000, beached=0.000000, age=0.000000, time=48600.000000)\n",
      "P[29](lon=-123.183346, lat=49.300575, depth=0.000000, decay_value=1.000000, beached=0.000000, age=0.000000, time=34200.000000)\n",
      "P[30](lon=-123.180966, lat=49.300658, depth=0.000000, decay_value=1.000000, beached=0.000000, age=0.000000, time=63000.000000)\n",
      "P[31](lon=-123.180988, lat=49.300593, depth=0.000000, decay_value=1.000000, beached=0.000000, age=0.000000, time=45000.000000)\n",
      "P[32](lon=-123.180968, lat=49.300906, depth=0.000000, decay_value=1.000000, beached=0.000000, age=0.000000, time=45000.000000)\n",
      "P[33](lon=-123.179669, lat=49.300902, depth=0.000000, decay_value=1.000000, beached=0.000000, age=0.000000, time=81000.000000)\n",
      "P[34](lon=-123.180711, lat=49.300025, depth=0.000000, decay_value=1.000000, beached=0.000000, age=0.000000, time=59400.000000)\n",
      "P[35](lon=-123.181992, lat=49.301874, depth=0.000000, decay_value=1.000000, beached=0.000000, age=0.000000, time=73800.000000)\n",
      "P[36](lon=-123.181684, lat=49.299771, depth=0.000000, decay_value=1.000000, beached=0.000000, age=0.000000, time=16200.000000)\n",
      "P[37](lon=-123.180648, lat=49.300042, depth=0.000000, decay_value=1.000000, beached=0.000000, age=0.000000, time=1800.000000)\n",
      "P[38](lon=-123.180770, lat=49.301514, depth=0.000000, decay_value=1.000000, beached=0.000000, age=0.000000, time=19800.000000)\n",
      "P[39](lon=-123.180755, lat=49.301108, depth=0.000000, decay_value=1.000000, beached=0.000000, age=0.000000, time=70200.000000)\n",
      "P[40](lon=-123.182585, lat=49.298708, depth=0.000000, decay_value=1.000000, beached=0.000000, age=0.000000, time=73800.000000)\n",
      "P[41](lon=-123.182167, lat=49.301149, depth=0.000000, decay_value=1.000000, beached=0.000000, age=0.000000, time=34200.000000)\n",
      "P[42](lon=-123.181154, lat=49.298904, depth=0.000000, decay_value=1.000000, beached=0.000000, age=0.000000, time=77400.000000)\n",
      "P[43](lon=-123.181677, lat=49.301761, depth=0.000000, decay_value=1.000000, beached=0.000000, age=0.000000, time=45000.000000)\n",
      "P[44](lon=-123.183015, lat=49.300757, depth=0.000000, decay_value=1.000000, beached=0.000000, age=0.000000, time=23400.000000)\n",
      "P[45](lon=-123.182591, lat=49.298802, depth=0.000000, decay_value=1.000000, beached=0.000000, age=0.000000, time=70200.000000)\n",
      "P[46](lon=-123.182780, lat=49.301681, depth=0.000000, decay_value=1.000000, beached=0.000000, age=0.000000, time=16200.000000)\n",
      "P[47](lon=-123.180825, lat=49.301519, depth=0.000000, decay_value=1.000000, beached=0.000000, age=0.000000, time=66600.000000)\n",
      "P[48](lon=-123.182414, lat=49.300572, depth=0.000000, decay_value=1.000000, beached=0.000000, age=0.000000, time=12600.000000)\n",
      "P[49](lon=-123.181567, lat=49.299928, depth=0.000000, decay_value=1.000000, beached=0.000000, age=0.000000, time=70200.000000)\n",
      "P[50](lon=-123.182449, lat=49.298584, depth=0.000000, decay_value=1.000000, beached=0.000000, age=0.000000, time=73800.000000)\n",
      "P[51](lon=-123.182789, lat=49.301082, depth=0.000000, decay_value=1.000000, beached=0.000000, age=0.000000, time=30600.000000)\n",
      "P[52](lon=-123.182982, lat=49.300113, depth=0.000000, decay_value=1.000000, beached=0.000000, age=0.000000, time=45000.000000)\n",
      "P[53](lon=-123.180812, lat=49.301180, depth=0.000000, decay_value=1.000000, beached=0.000000, age=0.000000, time=19800.000000)\n",
      "P[54](lon=-123.181955, lat=49.301712, depth=0.000000, decay_value=1.000000, beached=0.000000, age=0.000000, time=81000.000000)\n",
      "P[55](lon=-123.183035, lat=49.299741, depth=0.000000, decay_value=1.000000, beached=0.000000, age=0.000000, time=77400.000000)\n",
      "P[56](lon=-123.180090, lat=49.301212, depth=0.000000, decay_value=1.000000, beached=0.000000, age=0.000000, time=5400.000000)\n",
      "P[57](lon=-123.179539, lat=49.300381, depth=0.000000, decay_value=1.000000, beached=0.000000, age=0.000000, time=1800.000000)\n",
      "P[58](lon=-123.181558, lat=49.298526, depth=0.000000, decay_value=1.000000, beached=0.000000, age=0.000000, time=59400.000000)\n",
      "P[59](lon=-123.181017, lat=49.298383, depth=0.000000, decay_value=1.000000, beached=0.000000, age=0.000000, time=23400.000000)\n",
      "P[60](lon=-123.180482, lat=49.301465, depth=0.000000, decay_value=1.000000, beached=0.000000, age=0.000000, time=59400.000000)\n",
      "P[61](lon=-123.182297, lat=49.299682, depth=0.000000, decay_value=1.000000, beached=0.000000, age=0.000000, time=19800.000000)\n",
      "P[62](lon=-123.182244, lat=49.301110, depth=0.000000, decay_value=1.000000, beached=0.000000, age=0.000000, time=63000.000000)\n",
      "P[63](lon=-123.182157, lat=49.298964, depth=0.000000, decay_value=1.000000, beached=0.000000, age=0.000000, time=30600.000000)\n",
      "P[64](lon=-123.181774, lat=49.300780, depth=0.000000, decay_value=1.000000, beached=0.000000, age=0.000000, time=37800.000000)\n",
      "P[65](lon=-123.183166, lat=49.300604, depth=0.000000, decay_value=1.000000, beached=0.000000, age=0.000000, time=52200.000000)\n",
      "P[66](lon=-123.180668, lat=49.299255, depth=0.000000, decay_value=1.000000, beached=0.000000, age=0.000000, time=48600.000000)\n",
      "P[67](lon=-123.181169, lat=49.302023, depth=0.000000, decay_value=1.000000, beached=0.000000, age=0.000000, time=19800.000000)\n",
      "P[68](lon=-123.182366, lat=49.300750, depth=0.000000, decay_value=1.000000, beached=0.000000, age=0.000000, time=63000.000000)\n",
      "P[69](lon=-123.181341, lat=49.300439, depth=0.000000, decay_value=1.000000, beached=0.000000, age=0.000000, time=55800.000000)\n",
      "P[70](lon=-123.183048, lat=49.300655, depth=0.000000, decay_value=1.000000, beached=0.000000, age=0.000000, time=63000.000000)\n",
      "P[71](lon=-123.181131, lat=49.301212, depth=0.000000, decay_value=1.000000, beached=0.000000, age=0.000000, time=81000.000000)\n",
      "P[72](lon=-123.179727, lat=49.299550, depth=0.000000, decay_value=1.000000, beached=0.000000, age=0.000000, time=37800.000000)\n",
      "P[73](lon=-123.182155, lat=49.299893, depth=0.000000, decay_value=1.000000, beached=0.000000, age=0.000000, time=45000.000000)\n",
      "P[74](lon=-123.180768, lat=49.299144, depth=0.000000, decay_value=1.000000, beached=0.000000, age=0.000000, time=70200.000000)\n",
      "P[75](lon=-123.182897, lat=49.299050, depth=0.000000, decay_value=1.000000, beached=0.000000, age=0.000000, time=16200.000000)\n",
      "P[76](lon=-123.180573, lat=49.302064, depth=0.000000, decay_value=1.000000, beached=0.000000, age=0.000000, time=70200.000000)\n",
      "P[77](lon=-123.182271, lat=49.301250, depth=0.000000, decay_value=1.000000, beached=0.000000, age=0.000000, time=45000.000000)\n",
      "P[78](lon=-123.182693, lat=49.300259, depth=0.000000, decay_value=1.000000, beached=0.000000, age=0.000000, time=48600.000000)\n",
      "P[79](lon=-123.181089, lat=49.299214, depth=0.000000, decay_value=1.000000, beached=0.000000, age=0.000000, time=9000.000000)\n",
      "P[80](lon=-123.183402, lat=49.300037, depth=0.000000, decay_value=1.000000, beached=0.000000, age=0.000000, time=63000.000000)\n",
      "P[81](lon=-123.182182, lat=49.301913, depth=0.000000, decay_value=1.000000, beached=0.000000, age=0.000000, time=52200.000000)\n",
      "P[82](lon=-123.180653, lat=49.301387, depth=0.000000, decay_value=1.000000, beached=0.000000, age=0.000000, time=70200.000000)\n",
      "P[83](lon=-123.181919, lat=49.299634, depth=0.000000, decay_value=1.000000, beached=0.000000, age=0.000000, time=27000.000000)\n",
      "P[84](lon=-123.183323, lat=49.299928, depth=0.000000, decay_value=1.000000, beached=0.000000, age=0.000000, time=1800.000000)\n",
      "P[85](lon=-123.180720, lat=49.298836, depth=0.000000, decay_value=1.000000, beached=0.000000, age=0.000000, time=59400.000000)\n",
      "P[86](lon=-123.181617, lat=49.298522, depth=0.000000, decay_value=1.000000, beached=0.000000, age=0.000000, time=55800.000000)\n",
      "P[87](lon=-123.181288, lat=49.301194, depth=0.000000, decay_value=1.000000, beached=0.000000, age=0.000000, time=1800.000000)\n",
      "P[88](lon=-123.182559, lat=49.298894, depth=0.000000, decay_value=1.000000, beached=0.000000, age=0.000000, time=5400.000000)\n",
      "P[89](lon=-123.180785, lat=49.298626, depth=0.000000, decay_value=1.000000, beached=0.000000, age=0.000000, time=30600.000000)\n",
      "P[90](lon=-123.182374, lat=49.298666, depth=0.000000, decay_value=1.000000, beached=0.000000, age=0.000000, time=34200.000000)\n",
      "P[91](lon=-123.180406, lat=49.299285, depth=0.000000, decay_value=1.000000, beached=0.000000, age=0.000000, time=23400.000000)\n",
      "P[92](lon=-123.182149, lat=49.299981, depth=0.000000, decay_value=1.000000, beached=0.000000, age=0.000000, time=16200.000000)\n",
      "P[93](lon=-123.181897, lat=49.300525, depth=0.000000, decay_value=1.000000, beached=0.000000, age=0.000000, time=55800.000000)\n",
      "P[94](lon=-123.181082, lat=49.301731, depth=0.000000, decay_value=1.000000, beached=0.000000, age=0.000000, time=48600.000000)\n",
      "P[95](lon=-123.180117, lat=49.301200, depth=0.000000, decay_value=1.000000, beached=0.000000, age=0.000000, time=34200.000000)\n",
      "P[96](lon=-123.180921, lat=49.299384, depth=0.000000, decay_value=1.000000, beached=0.000000, age=0.000000, time=30600.000000)\n",
      "P[97](lon=-123.182334, lat=49.298530, depth=0.000000, decay_value=1.000000, beached=0.000000, age=0.000000, time=41400.000000)\n",
      "P[98](lon=-123.180248, lat=49.299509, depth=0.000000, decay_value=1.000000, beached=0.000000, age=0.000000, time=66600.000000)\n",
      "P[99](lon=-123.182683, lat=49.299352, depth=0.000000, decay_value=1.000000, beached=0.000000, age=0.000000, time=1800.000000)\n",
      "6a_VancouverHarbour_BunkerC_oil_disperse.nc\n"
     ]
    }
   ],
   "source": [
    "class MyParticle(ScipyParticle):\n",
    "    initial_time = -100\n",
    "    decay_value = Variable('decay_value', dtype=np.float32, initial=1.0)\n",
    "    beached = Variable('beached', dtype=np.int32, initial=0.)\n",
    "    age = Variable('age', dtype=np.int32, initial=0.)\n",
    "\n",
    "# Particle Features\n",
    "num_particles_per_day = 100\n",
    "feature_release_index = 0\n",
    "input_shapefile_name = \"/ocean/rlovindeer/Atlantis/ssam_oceanparcels/SalishSea/Shape_Scenarios/\" + scenario[file_id] + \".shp\"\n",
    "release_depth = -0.1\n",
    "release_start_time = '2018-01-01'  ## winter start on December, Summer Jul - Aug  ## ask Susan about when to do simulation\n",
    "release_end_time = '2018-01-02'\n",
    "release_start_time = np.datetime64(release_start_time)\n",
    "release_end_time = np.datetime64(release_end_time)\n",
    "time_origin = fieldset.U.grid.time_origin.time_origin\n",
    "\n",
    "print('setting up particles')\n",
    "\n",
    "[release_times, p, num_particles] = get_release_times(time_origin, num_particles_per_day, release_start_time, release_end_time)\n",
    "pset = get_particles(fieldset, num_particles, input_shapefile_name, MyParticle, feature_release_index, release_times, release_depth)\n",
    "\n",
    "print(pset)\n",
    "\n",
    "# Building the kernels\n",
    "decay_kernel = pset.Kernel(DecayParticle)\n",
    "beaching_kernel = pset.Kernel(BeachTesting)\n",
    "ForcingWind_kernel = pset.Kernel(WindAdvectionRK4)\n",
    "\n",
    "# Adding to the main kernel\n",
    "my_kernel = AdvectionRK4 + decay_kernel + ForcingWind_kernel + beaching_kernel\n",
    "\n",
    "output_file_name = scenario[file_id] + '_decay_test1.nc'\n",
    "print(output_file_name)"
   ]
  },
  {
   "cell_type": "code",
   "execution_count": 11,
   "id": "95d50dee-2c5a-496c-ab9c-798b1e31f8fc",
   "metadata": {},
   "outputs": [
    {
     "name": "stdout",
     "output_type": "stream",
     "text": [
      "executing particle kernel\n"
     ]
    },
    {
     "name": "stderr",
     "output_type": "stream",
     "text": [
      "rm: cannot remove '6a_VancouverHarbour_BunkerC_oil_disperse.nc': No such file or directory\n"
     ]
    }
   ],
   "source": [
    "try:\n",
    "    os.system('rm ' + output_file_name)\n",
    "except:\n",
    "    pass\n",
    "\n",
    "print('executing particle kernel')"
   ]
  },
  {
   "cell_type": "code",
   "execution_count": 12,
   "id": "ca91b311-7297-479d-b17e-484906a1b675",
   "metadata": {},
   "outputs": [
    {
     "name": "stderr",
     "output_type": "stream",
     "text": [
      "INFO: Temporary output files are stored in out-HZJPOJXC.\n",
      "INFO: You can use \"parcels_convert_npydir_to_netcdf out-HZJPOJXC\" to convert these to a NetCDF file during the run.\n",
      "100% (518400.0 of 518400.0) |############| Elapsed Time: 0:15:17 Time:  0:15:17\n"
     ]
    },
    {
     "data": {
      "image/png": "[encoded data removed]",
      "text/plain": [
       "<Figure size 432x288 with 1 Axes>"
      ]
     },
     "metadata": {
      "needs_background": "light"
     },
     "output_type": "display_data"
    },
    {
     "name": "stdout",
     "output_type": "stream",
     "text": [
      "particle trajectories completed\n"
     ]
    }
   ],
   "source": [
    "## Output properties\n",
    "output_file = pset.ParticleFile(name= output_file_name, outputdt = timedelta(minutes = 60))\n",
    "pset.execute(my_kernel,                 # the kernel (which defines how particles move)\n",
    "             runtime=timedelta(hours = 24*6),   # the total length of the run\n",
    "             dt = timedelta(minutes = 60),      # the timestep of the kernel\n",
    "             output_file = output_file)  # the file name and the time step of the outputs\n",
    "output_file.close()\n",
    "\n",
    "plotTrajectoriesFile(output_file_name);\n",
    "\n",
    "print('particle trajectories completed')"
   ]
  },
  {
   "cell_type": "code",
   "execution_count": null,
   "id": "c7cf24d8-fd0a-4c14-b371-9ce1e53e3d55",
   "metadata": {},
   "outputs": [],
   "source": []
  }
 ],
 "metadata": {
  "interpreter": {
   "hash": "e4d84b090d0c7c6778fa197aacf5543338ee30c87f3fb579a323dc77be78ea57"
  },
  "kernelspec": {
   "display_name": "Python 3.8.10 64-bit ('parcels-dev': conda)",
   "name": "python3"
  },
  "language_info": {
   "codemirror_mode": {
    "name": "ipython",
    "version": 3
   },
   "file_extension": ".py",
   "mimetype": "text/x-python",
   "name": "python",
   "nbconvert_exporter": "python",
   "pygments_lexer": "ipython3",
   "version": "3.8.10"
  }
 },
 "nbformat": 4,
 "nbformat_minor": 5
}
