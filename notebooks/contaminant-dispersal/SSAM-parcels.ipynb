{
 "cells": [
  {
   "attachments": {},
   "cell_type": "markdown",
   "id": "0b8d036b-e362-4a3f-a7cd-79fe1b26aa08",
   "metadata": {},
   "source": [
    "Using [Ocean Parcels](https://oceanparcels.org) to determine the surface movement of a point pollution oil spill.\n",
    "Original code written by Bec Gordon & Javier Porobic, CSIRO. Code requires additional python libraries stored in /Parcel_Utils/ within the [SSAM Ocean Parcels Repo](https://bitbucket.csiro.au/users/por07g/repos/ssam_oceanparcels/browse)"
   ]
  },
  {
   "cell_type": "code",
   "execution_count": 1,
   "id": "14e85ecd-0b24-4ae4-81a6-d9de3b6d88ef",
   "metadata": {},
   "outputs": [
    {
     "name": "stderr",
     "output_type": "stream",
     "text": [
      "INFO: Compiled ParcelsRandom ==> /tmp/parcels-2926/libparcels_random_00f25e17-3b49-45af-9adb-096276cabe94.so\n"
     ]
    }
   ],
   "source": [
    "import sys\n",
    "import os\n",
    "import math\n",
    "from pathlib import Path\n",
    "from pprint import pprint\n",
    "from parcels import VectorField, Variable, AdvectionRK4\n",
    "from parcels import FieldSet, plotTrajectoriesFile, Variable, ScipyParticle, Field, ParcelsRandom\n",
    "import numpy as np\n",
    "from datetime import timedelta\n",
    "sys.path.append('/ocean/rlovindeer/Atlantis/ssam_oceanparcels/Parcels_Utils/particle_tracking/parcels/')\n",
    "from util.seed_particles import get_particles, get_release_times\n",
    "# from util.parse_wildcards import parse_wildcards"
   ]
  },
  {
   "attachments": {},
   "cell_type": "markdown",
   "id": "e3895b9f",
   "metadata": {},
   "source": [
    "| **spill ID**  | **oil** | **spill size (m^3)** | **season** | **location** |\n",
    "|---------|---------|--------------------|------------|--------------|\n",
    "| 4a | Diesel | 500 | summer, ebb tide | Active Pass |\n",
    "| 5b | Dilbit | 2000 | winter, ebb tide | Turn Point, Arachne Reef |\n",
    "| 6a | Bunker C| 15 | summer, flood tide | leaving Vancouver Harbour, at Anchorage|\n",
    "| 7a | Bunker C| 1000 | winter storm, flood tide | Strait of Juan de Fuca |\n"
   ]
  },
  {
   "cell_type": "code",
   "execution_count": 2,
   "id": "2125a154",
   "metadata": {},
   "outputs": [],
   "source": [
    "# Spill release times (years 2019 and 2020 only)\n",
    "release_start_time = '2020-01-26'  # Winter Jan - 5b: 19, 26 | 7a: 19, 26 |Summer Jul - 6a: 16, 23 | 4a: 15, 22\n",
    "release_end_time = '2020-01-27'\n",
    "release_YYYY = '2020-01'"
   ]
  },
  {
   "attachments": {},
   "cell_type": "markdown",
   "id": "d10cbc8d-88bf-42b7-a270-2d523e1a02fa",
   "metadata": {},
   "source": [
    "Select the location of interest, which is specified by a shapefile."
   ]
  },
  {
   "cell_type": "code",
   "execution_count": 3,
   "id": "e7a25536-1e75-4dc0-8679-d4b81889f2c1",
   "metadata": {},
   "outputs": [
    {
     "name": "stdout",
     "output_type": "stream",
     "text": [
      "\n",
      "Scenario running  : 7a_JStrait_BunkerC\n"
     ]
    }
   ],
   "source": [
    "file_id = int(input( ))\n",
    "scenario = {1 : \"5b_Turn_Point_Diluted_bitumen\",\n",
    "            2 : \"6a_VancouverHarbour_BunkerC\",\n",
    "            3 : \"7a_JStrait_BunkerC\",\n",
    "            4 : \"4a_ActivePass_Diesel\",\n",
    "            5 : \"SandHeads\"}\n",
    "print(\"\\nScenario running  :\", scenario[file_id], sep = \" \")"
   ]
  },
  {
   "cell_type": "code",
   "execution_count": 4,
   "id": "34fdf25b-955c-4553-ac0c-930a86217905",
   "metadata": {},
   "outputs": [],
   "source": [
    "#Kernels\n",
    "# def AdvectionRK4(particle, fieldset, time):\n",
    "#     \"\"\"Advection of particles using fourth-order Runge-Kutta integration.\n",
    "#     Function needs to be converted to Kernel object before execution\"\"\"\n",
    "#     if particle.beached == 0:\n",
    "#         (u1, v1) = fieldset.UV[particle]\n",
    "#         lon1, lat1 = (particle.lon + u1*.5*particle.dt, particle.lat + v1*.5*particle.dt)\n",
    "#         (u2, v2) = fieldset.UV[time + .5 * particle.dt, particle.depth, lat1, lon1, particle]\n",
    "#         lon2, lat2 = (particle.lon + u2*.5*particle.dt, particle.lat + v2*.5*particle.dt)\n",
    "#         (u3, v3) = fieldset.UV[time + .5 * particle.dt, particle.depth, lat2, lon2, particle]\n",
    "#         lon3, lat3 = (particle.lon + u3*particle.dt, particle.lat + v3*particle.dt)\n",
    "#         (u4, v4) = fieldset.UV[time + particle.dt, particle.depth, lat3, lon3, particle]\n",
    "#         particle.lon += (u1 + 2*u2 + 2*u3 + u4) / 6. * particle.dt\n",
    "#         particle.lat += (v1 + 2*v2 + 2*v3 + v4) / 6. * particle.dt\n",
    "\n",
    "def WindAdvectionRK4(particle, fieldset, time):\n",
    "    \"\"\"Advection of particles using fourth-order Runge-Kutta integration.\n",
    "     Function needs to be converted to Kernel object before execution\"\"\"\n",
    "    if particle.beached == 0:\n",
    "        wp = fieldset.wind_percentage ## this need to be add to the fieldset\n",
    "        \n",
    "        if wp > 0:\n",
    "\n",
    "            (u1, v1) = fieldset.UVwind[time, particle.depth, particle.lat, particle.lon]\n",
    "            u1 = u1 * wp\n",
    "            v1 = v1 * wp\n",
    "            lon1, lat1 = (particle.lon + u1*.5*particle.dt, particle.lat + v1*.5*particle.dt)\n",
    "            \n",
    "            (u2, v2) = fieldset.UVwind[time + .5 * particle.dt, particle.depth, lat1, lon1]\n",
    "            u2 = u2 * wp\n",
    "            v2 = v2 * wp\n",
    "            lon2, lat2 = (particle.lon + u2*.5*particle.dt, particle.lat + v2*.5*particle.dt)\n",
    "            \n",
    "            (u3, v3) = fieldset.UVwind[time + .5 * particle.dt, particle.depth, lat2, lon2]\n",
    "            u3 = u3 * wp\n",
    "            v3 = v3 * wp\n",
    "            lon3, lat3 = (particle.lon + u3*particle.dt, particle.lat + v3*particle.dt)\n",
    "            \n",
    "            (u4, v4) = fieldset.UVwind[time + particle.dt, particle.depth, lat3, lon3]\n",
    "            u4 = u4 * wp\n",
    "            v4 = v4 * wp            \n",
    "            \n",
    "            u_wind  = (u1 + 2*u2 + 2*u3 + u4) / 6. * particle.dt\n",
    "            v_wind  = (v1 + 2*v2 + 2*v3 + v4) / 6. * particle.dt\n",
    "            \n",
    "            particle.lon += (u1 + 2*u2 + 2*u3 + u4) / 6. * particle.dt\n",
    "            particle.lat += (v1 + 2*v2 + 2*v3 + v4) / 6. * particle.dt\n",
    "            \n",
    "            particle.beached = 2\n",
    "            \n",
    "def beaching(particle, fieldset, time):\n",
    "    \n",
    "    if particle.beached == 2:\n",
    "        \n",
    "        # Parameters\n",
    "        deg2m = 111000     # [m/deg]\n",
    "        D = 50   # maximum beaching distance [m]\n",
    "        \n",
    "        # Grounding probability over radius D\n",
    "        offset_lon = random.uniform(-1., 1.) * D / deg2m\n",
    "        offset_lat = random.uniform(-1., 1.) * D / deg2m\n",
    "\n",
    "        # Evaluate if chosen point is over land\n",
    "        (u, v) = fieldset.UV[time, particle.depth, particle.lat + offset_lat, particle.lon + offset_lon]\n",
    "        if u == 0 and v == 0: \n",
    "            particle.beached = 1\n",
    "        else:\n",
    "            particle.beached = 0\n",
    "\n",
    "def DeleteParticle(particle, fieldset, time):\n",
    "    particle.delete()\n",
    "\n",
    "def DecayParticle(particle, fieldset, time):\n",
    "    dt = particle.dt\n",
    "    field_decay_value = fieldset.decay\n",
    "    decay = math.exp(0 * dt/field_decay_value) # -0.099 for diesel, 0 for other oils\n",
    "    particle.decay_value = particle.decay_value * decay"
   ]
  },
  {
   "cell_type": "code",
   "execution_count": 5,
   "id": "e3c19fb9-3acc-442e-b1ea-62bcf5a3fb3b",
   "metadata": {},
   "outputs": [],
   "source": [
    "# Data Paths\n",
    "currents = Path('/ocean/rlovindeer/Atlantis/Physics/Raw_Transport_Data/')\n",
    "winds = Path('/ocean/rlovindeer/Atlantis/Physics/Wind/')\n",
    "sea_grid = Path('/ocean/rlovindeer/Atlantis/Physics/Grids/ubcSSnBathymetryV17-02_a29d_efc9_4047.nc')\n",
    "air_grid = Path('/ocean/rlovindeer/Atlantis/Physics/Grids/ubcSSaAtmosphereGridV1_0f03_6268_df4b.nc')"
   ]
  },
  {
   "cell_type": "code",
   "execution_count": 6,
   "id": "62049698-848c-46a5-a4da-4fb6de91df61",
   "metadata": {},
   "outputs": [
    {
     "name": "stdout",
     "output_type": "stream",
     "text": [
      "creating from_nemo\n"
     ]
    },
    {
     "name": "stderr",
     "output_type": "stream",
     "text": [
      "WARNING: Casting lon data to np.float32\n",
      "WARNING: Casting lat data to np.float32\n",
      "WARNING: Casting depth data to np.float32\n"
     ]
    },
    {
     "name": "stdout",
     "output_type": "stream",
     "text": [
      "creating from_nemo done\n",
      "add_constant decay\n"
     ]
    }
   ],
   "source": [
    "# Salish Sea NEMO Model Grid, Geo-location and Bathymetry, v17-02\n",
    "\n",
    "# Currents\n",
    "# u_data_path = currents + '2018-01*URaw_variables.nc'\n",
    "# v_data_path = currents + '2018-01*VRaw_variables.nc'\n",
    "# u_current = parse_wildcards(u_data_path, 'u')\n",
    "# v_current = parse_wildcards(v_data_path, 'v')\n",
    "\n",
    "u_current = sorted([p for p in currents.glob(str(release_YYYY) + '*URaw_variables.nc')])\n",
    "v_current = sorted([p for p in currents.glob(str(release_YYYY) + '*VRaw_variables.nc')])\n",
    "\n",
    "filenames = {\n",
    "    'U': {'lon': sea_grid,'lat': sea_grid,'data': u_current},\n",
    "    'V': {'lon': sea_grid,'lat': sea_grid,'data': v_current}\n",
    "            }\n",
    "\n",
    "variables = {'U': 'uVelocity','V': 'vVelocity'}\n",
    "dimensions = {'lon': 'longitude', 'lat': 'latitude', 'time': 'time'}\n",
    "print('creating from_nemo')\n",
    "fieldset = FieldSet.from_nemo(filenames, variables, dimensions, allow_time_extrapolation=True)\n",
    "print('creating from_nemo done')\n",
    "\n",
    "fieldset.add_constant('decay', 1.0 * 3600.0)\n",
    "print('add_constant decay')"
   ]
  },
  {
   "cell_type": "code",
   "execution_count": 7,
   "id": "10d71250-4e60-47bd-8cbb-12c2b538d61b",
   "metadata": {},
   "outputs": [
    {
     "name": "stdout",
     "output_type": "stream",
     "text": [
      "{'data': [PosixPath('/ocean/rlovindeer/Atlantis/Physics/Wind/2020-01-02_Wind_variables.nc'),\n",
      "          PosixPath('/ocean/rlovindeer/Atlantis/Physics/Wind/2020-01-08_Wind_variables.nc'),\n",
      "          PosixPath('/ocean/rlovindeer/Atlantis/Physics/Wind/2020-01-14_Wind_variables.nc'),\n",
      "          PosixPath('/ocean/rlovindeer/Atlantis/Physics/Wind/2020-01-20_Wind_variables.nc'),\n",
      "          PosixPath('/ocean/rlovindeer/Atlantis/Physics/Wind/2020-01-26_Wind_variables.nc')],\n",
      " 'lat': '/ocean/rlovindeer/Atlantis/Physics/Grids/ubcSSaAtmosphereGridV1_0f03_6268_df4b.nc',\n",
      " 'lon': '/ocean/rlovindeer/Atlantis/Physics/Grids/ubcSSaAtmosphereGridV1_0f03_6268_df4b.nc'}\n"
     ]
    }
   ],
   "source": [
    "# HRDPS, Salish Sea, Atmospheric Forcing Grid, Geo-location, v1\"\n",
    "\n",
    "wind_paths = sorted([p for p in winds.glob(str(release_YYYY) + '*Wind_variables.nc')])\n",
    "wind_filenames = {'lon': os.fspath(air_grid),'lat': os.fspath(air_grid),'data': wind_paths}\n",
    "wind_dimensions = {'lon': 'longitude', 'lat': 'latitude', 'time': 'time'}\n",
    "\n",
    "pprint(wind_filenames)"
   ]
  },
  {
   "cell_type": "code",
   "execution_count": 8,
   "id": "c7a4b014-1f05-4dc8-9f4c-2a65f51d0df4",
   "metadata": {},
   "outputs": [
    {
     "name": "stdout",
     "output_type": "stream",
     "text": [
      "wind data loaded\n"
     ]
    }
   ],
   "source": [
    "Uwind_field = Field.from_netcdf(wind_filenames, ('U_wind', 'u_wind'),\n",
    "                                     wind_dimensions,\n",
    "                                     fieldtype='U',\n",
    "                                     allow_time_extrapolation=True,\n",
    "                                     transpose=False,\n",
    "                                     deferred_load=False)\n",
    "Vwind_field = Field.from_netcdf(wind_filenames, ('V_wind', 'v_wind'),\n",
    "                                     wind_dimensions,\n",
    "                                     fieldtype='V',\n",
    "                                     allow_time_extrapolation=True,\n",
    "                                     transpose=False,\n",
    "                                     deferred_load=False)\n",
    "\n",
    "print('wind data loaded')"
   ]
  },
  {
   "cell_type": "code",
   "execution_count": 9,
   "id": "37823b69-6440-49f1-a693-4b75a263b7cd",
   "metadata": {},
   "outputs": [],
   "source": [
    "# change longitude for the wind field\n",
    "Uwind_field.grid.lon = Uwind_field.grid.lon - 360\n",
    "Vwind_field.grid.lon = Vwind_field.grid.lon - 360\n",
    "\n",
    "[x_min, x_max, y_min, y_max] = Uwind_field.grid.lonlat_minmax\n",
    "\n",
    "Uwind_field.grid.lonlat_minmax = [x_min - 360, x_max - 360, y_min, y_max]\n",
    "Vwind_field.grid.lonlat_minmax = [x_min - 360, x_max - 360, y_min, y_max]\n",
    "\n",
    "## adding the wind field to the fieldset object\n",
    "fieldset.add_field(Uwind_field)\n",
    "fieldset.add_field(Vwind_field)\n",
    "wind_field = VectorField('UVwind', Uwind_field,  Vwind_field)\n",
    "fieldset.add_vector_field(wind_field)"
   ]
  },
  {
   "cell_type": "code",
   "execution_count": 10,
   "id": "b661e048-885d-492e-97c0-64fe19327be1",
   "metadata": {},
   "outputs": [],
   "source": [
    "# wind_percentage\n",
    "# We need to do a sensitivity analysis of the percetage of wind to be used here\n",
    "wind_percentage = 3\n",
    "fieldset.add_constant('wind_percentage', wind_percentage/100.0)"
   ]
  },
  {
   "cell_type": "raw",
   "id": "3f50b40f-3404-4c6e-abfb-0406dbb85b25",
   "metadata": {},
   "source": [
    "Just in case we want to add a maximum age\n",
    "# fieldset_sum.add_constant('max_age', dispersal_length)"
   ]
  },
  {
   "cell_type": "code",
   "execution_count": 11,
   "id": "927c988b-bba4-4231-812b-6948bb407bf6",
   "metadata": {},
   "outputs": [
    {
     "name": "stdout",
     "output_type": "stream",
     "text": [
      "setting up particles\n",
      "2071800.0\n",
      "100\n",
      "100\n",
      "Using shapefile /ocean/rlovindeer/Atlantis/ssam_oceanparcels/SalishSea/Shape_Scenarios/7a_JStrait_BunkerC.shp\n",
      "Number of sites :  1\n",
      "Up to 0 of 1\n",
      "80\n",
      "100\n",
      "Sucessfully seeded particles\n",
      "\n",
      "num_attempts = 2\n",
      "[-124.48220237299213, -124.48186962126725, -124.48209447324786, -124.482210233634, -124.48245269040132, -124.48200821177386, -124.48242482557747, -124.48151645399842, -124.48253311696234, -124.48171654992383, -124.48224221016049, -124.4821639108778, -124.4814488067234, -124.4831257414006, -124.48163476030889, -124.48174368649809, -124.4815599757035, -124.48170168287156, -124.48237704127548, -124.48173894164742, -124.48306345114825, -124.48202015795734, -124.48141066216589, -124.4822563033565, -124.48247067612002, -124.48277088877579, -124.48175153262112, -124.48238769933556, -124.48216313210226, -124.48326242039913, -124.48206472900584, -124.48207580855455, -124.48206613200624, -124.48141250384296, -124.48193635940179, -124.48258098419885, -124.4824259360924, -124.48190473760813, -124.4819664665691, -124.48195872426076, -124.48287923487786, -124.48266914329815, -124.48215960645916, -124.48242279697307, -124.48309591037851, -124.4828822464878, -124.48297738096423, -124.48199378334907, -124.48279341679492, -124.48236737845428, -124.48298206083271, -124.48307924971768, -124.48198734082106, -124.48256254965868, -124.48310579744842, -124.481624110185, -124.48134708106997, -124.4823626975967, -124.48209030896051, -124.48182147284119, -124.48273438607484, -124.48270771960495, -124.48266403364121, -124.48247147401096, -124.48317170500731, -124.48191505576125, -124.48216679709158, -124.48276922101812, -124.48225350389306, -124.48311211897848, -124.48214810700888, -124.48144140760483, -124.4826628620951, -124.48196517924006, -124.4830364042752, -124.48186734559175, -124.48272118781411, -124.48293361727599, -124.48212697413038, -124.48329060904761, -124.482676408236, -124.48190731302236, -124.48254449632141, -124.48325064254321, -124.481941214453, -124.48239260631088, -124.48222684157778, -124.4828662060312, -124.48197384359379, -124.48277335524652, -124.48178324269232, -124.48265996569835, -124.48253307221165, -124.48212336577289, -124.48163790308952, -124.4820420363128, -124.48275291593036, -124.48170390633217, -124.48292872811139, -124.48139441668604]\n",
      "7a_JStrait_BunkerC2020-01-26_OP_D50_wp3.nc\n"
     ]
    }
   ],
   "source": [
    "class MyParticle(ScipyParticle):\n",
    "    initial_time = -100\n",
    "    decay_value = Variable('decay_value', dtype=np.float32, initial=1.0)\n",
    "    beached = Variable('beached', dtype=np.int32, initial=0.)\n",
    "    age = Variable('age', dtype=np.int32, initial=0.)\n",
    "\n",
    "# Particle Features\n",
    "num_particles_per_day = 100\n",
    "feature_release_index = 0\n",
    "input_shapefile_name = \"/ocean/rlovindeer/Atlantis/ssam_oceanparcels/SalishSea/Shape_Scenarios/\" + scenario[file_id] + \".shp\"\n",
    "release_depth = -0.1\n",
    "release_start_time = np.datetime64(release_start_time)\n",
    "release_end_time = np.datetime64(release_end_time)\n",
    "time_origin = fieldset.U.grid.time_origin.time_origin\n",
    "\n",
    "print('setting up particles')\n",
    "\n",
    "[release_times, p, num_particles] = get_release_times(time_origin, num_particles_per_day, release_start_time, release_end_time)\n",
    "pset = get_particles(fieldset, num_particles, input_shapefile_name, MyParticle, feature_release_index, release_times, release_depth)\n",
    "\n",
    "#print(pset)\n",
    "\n",
    "# Building the kernels\n",
    "decay_kernel = pset.Kernel(DecayParticle)\n",
    "beaching_kernel = pset.Kernel(beaching)\n",
    "ForcingWind_kernel = pset.Kernel(WindAdvectionRK4)\n",
    "#Advection_kernel = pset.Kernel(AdvectionRK4)\n",
    "\n",
    "# Adding to the main kernel\n",
    "my_kernel =  decay_kernel + ForcingWind_kernel + beaching_kernel #+ Advection_kernel\n",
    "\n",
    "output_file_name = scenario[file_id] + str(release_start_time) +  '_OP_D50_wp3.nc'\n",
    "print(output_file_name)"
   ]
  },
  {
   "cell_type": "code",
   "execution_count": 12,
   "id": "95d50dee-2c5a-496c-ab9c-798b1e31f8fc",
   "metadata": {},
   "outputs": [
    {
     "name": "stdout",
     "output_type": "stream",
     "text": [
      "executing particle kernel\n"
     ]
    },
    {
     "name": "stderr",
     "output_type": "stream",
     "text": [
      "rm: cannot remove '7a_JStrait_BunkerC2020-01-26_OP_D50_wp3.nc': No such file or directory\n"
     ]
    }
   ],
   "source": [
    "try:\n",
    "    os.system('rm ' + output_file_name)\n",
    "except:\n",
    "    pass\n",
    "\n",
    "print('executing particle kernel')"
   ]
  },
  {
   "cell_type": "code",
   "execution_count": 13,
   "id": "ca91b311-7297-479d-b17e-484906a1b675",
   "metadata": {},
   "outputs": [
    {
     "name": "stderr",
     "output_type": "stream",
     "text": [
      "INFO: Temporary output files are stored in out-YDYODBQQ.\n",
      "INFO: You can use \"parcels_convert_npydir_to_netcdf out-YDYODBQQ\" to convert these to a NetCDF file during the run.\n",
      "N/A% (0 of 864000.0) |                   | Elapsed Time: 0:00:00 ETA:  --:--:--\n",
      "  4% (36000.0 of 864000.0) |             | Elapsed Time: 0:00:02 ETA:   0:01:05\n",
      "  4% (39600.0 of 864000.0) |             | Elapsed Time: 0:00:05 ETA:   0:11:44\n",
      "  5% (43200.0 of 864000.0) |             | Elapsed Time: 0:00:09 ETA:   0:12:32\n",
      "  5% (45000.0 of 864000.0) |             | Elapsed Time: 0:00:11 ETA:   0:19:36\n",
      "  5% (46800.0 of 864000.0) |             | Elapsed Time: 0:00:13 ETA:   0:16:02\n",
      "  5% (50400.0 of 864000.0) |             | Elapsed Time: 0:00:18 ETA:   0:17:54\n",
      "  6% (54000.0 of 864000.0) |             | Elapsed Time: 0:00:23 ETA:   0:19:07\n",
      "  6% (57600.0 of 864000.0) |             | Elapsed Time: 0:00:28 ETA:   0:19:26\n",
      "  7% (61200.0 of 864000.0) |             | Elapsed Time: 0:00:33 ETA:   0:19:21\n",
      "  7% (64800.0 of 864000.0) |             | Elapsed Time: 0:00:37 ETA:   0:15:19\n",
      "  7% (66600.0 of 864000.0) |#            | Elapsed Time: 0:00:39 ETA:   0:14:12\n",
      "  7% (68400.0 of 864000.0) |#            | Elapsed Time: 0:00:40 ETA:   0:08:18\n",
      "  8% (72000.0 of 864000.0) |#            | Elapsed Time: 0:00:41 ETA:   0:06:34\n",
      "  8% (75600.0 of 864000.0) |#            | Elapsed Time: 0:00:42 ETA:   0:04:56\n",
      "  9% (79200.0 of 864000.0) |#            | Elapsed Time: 0:00:44 ETA:   0:04:44\n",
      "  9% (82800.0 of 864000.0) |#            | Elapsed Time: 0:00:45 ETA:   0:04:02\n",
      " 10% (86400.0 of 864000.0) |#            | Elapsed Time: 0:00:45 ETA:   0:03:45\n",
      " 10% (88200.0 of 864000.0) |#            | Elapsed Time: 0:00:46 ETA:   0:04:08\n",
      " 10% (90000.0 of 864000.0) |#            | Elapsed Time: 0:00:47 ETA:   0:04:24\n",
      " 10% (93600.0 of 864000.0) |#            | Elapsed Time: 0:00:48 ETA:   0:04:59\n",
      " 11% (97200.0 of 864000.0) |#            | Elapsed Time: 0:00:49 ETA:   0:04:00\n",
      " 11% (100800.0 of 864000.0) |#           | Elapsed Time: 0:00:50 ETA:   0:03:44\n",
      " 12% (104400.0 of 864000.0) |#           | Elapsed Time: 0:00:51 ETA:   0:03:14\n",
      " 12% (108000.0 of 864000.0) |#           | Elapsed Time: 0:00:52 ETA:   0:02:54\n",
      " 12% (109800.0 of 864000.0) |#           | Elapsed Time: 0:00:52 ETA:   0:03:00\n",
      " 12% (111600.0 of 864000.0) |#           | Elapsed Time: 0:00:53 ETA:   0:02:50\n",
      " 13% (115200.0 of 864000.0) |#           | Elapsed Time: 0:00:53 ETA:   0:02:42\n",
      " 13% (118800.0 of 864000.0) |#           | Elapsed Time: 0:00:54 ETA:   0:02:41\n",
      " 14% (122400.0 of 864000.0) |#           | Elapsed Time: 0:00:55 ETA:   0:02:31\n",
      " 14% (126000.0 of 864000.0) |#           | Elapsed Time: 0:00:56 ETA:   0:02:30\n",
      " 15% (129600.0 of 864000.0) |#           | Elapsed Time: 0:00:56 ETA:   0:02:28\n",
      " 15% (131400.0 of 864000.0) |#           | Elapsed Time: 0:00:57 ETA:   0:02:37\n",
      " 15% (133200.0 of 864000.0) |#           | Elapsed Time: 0:00:57 ETA:   0:02:32\n",
      " 15% (136800.0 of 864000.0) |#           | Elapsed Time: 0:00:58 ETA:   0:02:29\n",
      " 16% (140400.0 of 864000.0) |#           | Elapsed Time: 0:00:58 ETA:   0:02:25\n",
      " 16% (144000.0 of 864000.0) |##          | Elapsed Time: 0:00:59 ETA:   0:02:03\n",
      " 17% (147600.0 of 864000.0) |##          | Elapsed Time: 0:00:59 ETA:   0:01:55\n",
      " 17% (151200.0 of 864000.0) |##          | Elapsed Time: 0:01:00 ETA:   0:01:44\n",
      " 17% (153000.0 of 864000.0) |##          | Elapsed Time: 0:01:00 ETA:   0:01:37\n",
      " 17% (154800.0 of 864000.0) |##          | Elapsed Time: 0:01:00 ETA:   0:01:37\n",
      " 18% (162000.0 of 864000.0) |##          | Elapsed Time: 0:01:00 ETA:   0:01:07\n",
      " 19% (165600.0 of 864000.0) |##          | Elapsed Time: 0:01:00 ETA:   0:01:06\n",
      " 20% (172800.0 of 864000.0) |##          | Elapsed Time: 0:01:00 ETA:   0:00:50\n",
      " 20% (174600.0 of 864000.0) |##          | Elapsed Time: 0:01:01 ETA:   0:00:43\n",
      " 20% (176400.0 of 864000.0) |##          | Elapsed Time: 0:01:01 ETA:   0:00:43\n",
      " 21% (183600.0 of 864000.0) |##          | Elapsed Time: 0:01:01 ETA:   0:00:36\n",
      " 21% (187200.0 of 864000.0) |##          | Elapsed Time: 0:01:01 ETA:   0:00:36\n",
      " 22% (194400.0 of 864000.0) |##          | Elapsed Time: 0:01:01 ETA:   0:00:27\n",
      " 22% (196200.0 of 864000.0) |##          | Elapsed Time: 0:01:01 ETA:   0:00:28\n",
      " 22% (198000.0 of 864000.0) |##          | Elapsed Time: 0:01:01 ETA:   0:00:28\n",
      " 23% (205200.0 of 864000.0) |##          | Elapsed Time: 0:01:01 ETA:   0:00:23\n",
      " 24% (208800.0 of 864000.0) |##          | Elapsed Time: 0:01:02 ETA:   0:00:23\n",
      " 25% (216000.0 of 864000.0) |###         | Elapsed Time: 0:01:02 ETA:   0:00:21\n",
      " 25% (217800.0 of 864000.0) |###         | Elapsed Time: 0:01:02 ETA:   0:00:20\n",
      " 25% (219600.0 of 864000.0) |###         | Elapsed Time: 0:01:02 ETA:   0:00:20\n",
      " 26% (226800.0 of 864000.0) |###         | Elapsed Time: 0:01:02 ETA:   0:00:17\n",
      " 26% (230400.0 of 864000.0) |###         | Elapsed Time: 0:01:02 ETA:   0:00:17\n",
      " 27% (237600.0 of 864000.0) |###         | Elapsed Time: 0:01:02 ETA:   0:00:17\n",
      " 27% (239400.0 of 864000.0) |###         | Elapsed Time: 0:01:02 ETA:   0:00:19\n",
      " 27% (241200.0 of 864000.0) |###         | Elapsed Time: 0:01:03 ETA:   0:00:19\n",
      " 28% (248400.0 of 864000.0) |###         | Elapsed Time: 0:01:03 ETA:   0:00:16\n",
      " 29% (252000.0 of 864000.0) |###         | Elapsed Time: 0:01:03 ETA:   0:00:16\n",
      " 30% (259200.0 of 864000.0) |###         | Elapsed Time: 0:01:03 ETA:   0:00:16\n",
      " 30% (261000.0 of 864000.0) |###         | Elapsed Time: 0:01:03 ETA:   0:00:18\n",
      " 30% (262800.0 of 864000.0) |###         | Elapsed Time: 0:01:03 ETA:   0:00:18\n",
      " 31% (270000.0 of 864000.0) |###         | Elapsed Time: 0:01:03 ETA:   0:00:16\n",
      " 31% (273600.0 of 864000.0) |###         | Elapsed Time: 0:01:03 ETA:   0:00:16\n",
      " 32% (280800.0 of 864000.0) |###         | Elapsed Time: 0:01:03 ETA:   0:00:15\n",
      " 32% (282600.0 of 864000.0) |###         | Elapsed Time: 0:01:04 ETA:   0:00:16\n",
      " 32% (284400.0 of 864000.0) |###         | Elapsed Time: 0:01:04 ETA:   0:00:16\n",
      " 33% (291600.0 of 864000.0) |####        | Elapsed Time: 0:01:04 ETA:   0:00:16\n",
      " 34% (298800.0 of 864000.0) |####        | Elapsed Time: 0:01:04 ETA:   0:00:14\n",
      " 35% (304200.0 of 864000.0) |####        | Elapsed Time: 0:01:04 ETA:   0:00:15\n",
      " 35% (309600.0 of 864000.0) |####        | Elapsed Time: 0:01:04 ETA:   0:00:16\n",
      " 36% (316800.0 of 864000.0) |####        | Elapsed Time: 0:01:05 ETA:   0:00:14\n",
      " 37% (320400.0 of 864000.0) |####        | Elapsed Time: 0:01:05 ETA:   0:00:14\n",
      " 37% (325800.0 of 864000.0) |####        | Elapsed Time: 0:01:05 ETA:   0:00:16\n",
      " 38% (331200.0 of 864000.0) |####        | Elapsed Time: 0:01:05 ETA:   0:00:15\n",
      " 39% (338400.0 of 864000.0) |####        | Elapsed Time: 0:01:05 ETA:   0:00:14\n",
      " 39% (342000.0 of 864000.0) |####        | Elapsed Time: 0:01:05 ETA:   0:00:14\n",
      " 40% (347400.0 of 864000.0) |####        | Elapsed Time: 0:01:05 ETA:   0:00:15\n",
      " 40% (352800.0 of 864000.0) |####        | Elapsed Time: 0:01:06 ETA:   0:00:15\n",
      " 41% (360000.0 of 864000.0) |#####       | Elapsed Time: 0:01:06 ETA:   0:00:13\n",
      " 42% (363600.0 of 864000.0) |#####       | Elapsed Time: 0:01:06 ETA:   0:00:13\n",
      " 42% (369000.0 of 864000.0) |#####       | Elapsed Time: 0:01:06 ETA:   0:00:14\n",
      " 43% (374400.0 of 864000.0) |#####       | Elapsed Time: 0:01:06 ETA:   0:00:14\n",
      " 44% (381600.0 of 864000.0) |#####       | Elapsed Time: 0:01:06 ETA:   0:00:13\n",
      " 44% (385200.0 of 864000.0) |#####       | Elapsed Time: 0:01:06 ETA:   0:00:13\n",
      " 45% (390600.0 of 864000.0) |#####       | Elapsed Time: 0:01:07 ETA:   0:00:13\n",
      " 45% (396000.0 of 864000.0) |#####       | Elapsed Time: 0:01:07 ETA:   0:00:13\n",
      " 46% (403200.0 of 864000.0) |#####       | Elapsed Time: 0:01:07 ETA:   0:00:12\n",
      " 47% (406800.0 of 864000.0) |#####       | Elapsed Time: 0:01:07 ETA:   0:00:12\n",
      " 47% (412200.0 of 864000.0) |#####       | Elapsed Time: 0:01:07 ETA:   0:00:13\n",
      " 48% (417600.0 of 864000.0) |#####       | Elapsed Time: 0:01:07 ETA:   0:00:12\n",
      " 49% (424800.0 of 864000.0) |#####       | Elapsed Time: 0:01:08 ETA:   0:00:11\n",
      " 49% (428400.0 of 864000.0) |#####       | Elapsed Time: 0:01:08 ETA:   0:00:11\n",
      " 50% (433800.0 of 864000.0) |######      | Elapsed Time: 0:01:08 ETA:   0:00:12\n",
      " 50% (439200.0 of 864000.0) |######      | Elapsed Time: 0:01:08 ETA:   0:00:12\n",
      " 51% (446400.0 of 864000.0) |######      | Elapsed Time: 0:01:08 ETA:   0:00:11\n",
      " 52% (450000.0 of 864000.0) |######      | Elapsed Time: 0:01:08 ETA:   0:00:10\n",
      " 52% (455400.0 of 864000.0) |######      | Elapsed Time: 0:01:08 ETA:   0:00:11\n",
      " 53% (460800.0 of 864000.0) |######      | Elapsed Time: 0:01:09 ETA:   0:00:11\n",
      " 54% (468000.0 of 864000.0) |######      | Elapsed Time: 0:01:09 ETA:   0:00:10\n",
      " 54% (471600.0 of 864000.0) |######      | Elapsed Time: 0:01:09 ETA:   0:00:10\n",
      " 55% (477000.0 of 864000.0) |######      | Elapsed Time: 0:01:09 ETA:   0:00:10\n",
      " 55% (482400.0 of 864000.0) |######      | Elapsed Time: 0:01:09 ETA:   0:00:10\n",
      " 56% (489600.0 of 864000.0) |######      | Elapsed Time: 0:01:09 ETA:   0:00:09\n",
      " 57% (493200.0 of 864000.0) |######      | Elapsed Time: 0:01:09 ETA:   0:00:09\n",
      " 57% (498600.0 of 864000.0) |######      | Elapsed Time: 0:01:10 ETA:   0:00:10\n",
      " 58% (504000.0 of 864000.0) |#######     | Elapsed Time: 0:01:10 ETA:   0:00:10\n",
      " 59% (511200.0 of 864000.0) |#######     | Elapsed Time: 0:01:10 ETA:   0:00:09\n",
      " 59% (514800.0 of 864000.0) |#######     | Elapsed Time: 0:01:10 ETA:   0:00:09\n",
      " 60% (520200.0 of 864000.0) |#######     | Elapsed Time: 0:01:10 ETA:   0:00:09\n",
      " 60% (525600.0 of 864000.0) |#######     | Elapsed Time: 0:01:10 ETA:   0:00:09\n",
      " 61% (532800.0 of 864000.0) |#######     | Elapsed Time: 0:01:11 ETA:   0:00:08\n",
      " 62% (536400.0 of 864000.0) |#######     | Elapsed Time: 0:01:11 ETA:   0:00:08\n",
      " 62% (541800.0 of 864000.0) |#######     | Elapsed Time: 0:01:11 ETA:   0:00:09\n",
      " 63% (547200.0 of 864000.0) |#######     | Elapsed Time: 0:01:11 ETA:   0:00:09\n",
      " 64% (554400.0 of 864000.0) |#######     | Elapsed Time: 0:01:11 ETA:   0:00:08\n",
      " 64% (558000.0 of 864000.0) |#######     | Elapsed Time: 0:01:11 ETA:   0:00:08\n",
      " 65% (563400.0 of 864000.0) |#######     | Elapsed Time: 0:01:11 ETA:   0:00:08\n",
      " 65% (568800.0 of 864000.0) |#######     | Elapsed Time: 0:01:12 ETA:   0:00:08\n",
      " 66% (576000.0 of 864000.0) |########    | Elapsed Time: 0:01:12 ETA:   0:00:07\n",
      " 67% (583200.0 of 864000.0) |########    | Elapsed Time: 0:01:12 ETA:   0:00:07\n",
      " 67% (585000.0 of 864000.0) |########    | Elapsed Time: 0:01:12 ETA:   0:00:08\n",
      " 68% (590400.0 of 864000.0) |########    | Elapsed Time: 0:01:12 ETA:   0:00:07\n",
      " 68% (594000.0 of 864000.0) |########    | Elapsed Time: 0:01:12 ETA:   0:00:07\n",
      " 69% (601200.0 of 864000.0) |########    | Elapsed Time: 0:01:12 ETA:   0:00:07\n",
      " 70% (604800.0 of 864000.0) |########    | Elapsed Time: 0:01:13 ETA:   0:00:07\n",
      " 70% (606600.0 of 864000.0) |########    | Elapsed Time: 0:01:13 ETA:   0:00:07\n",
      " 70% (612000.0 of 864000.0) |########    | Elapsed Time: 0:01:13 ETA:   0:00:07\n",
      " 71% (615600.0 of 864000.0) |########    | Elapsed Time: 0:01:13 ETA:   0:00:07\n",
      " 72% (622800.0 of 864000.0) |########    | Elapsed Time: 0:01:13 ETA:   0:00:06\n",
      " 72% (626400.0 of 864000.0) |########    | Elapsed Time: 0:01:13 ETA:   0:00:06\n",
      " 72% (628200.0 of 864000.0) |########    | Elapsed Time: 0:01:13 ETA:   0:00:06\n",
      " 73% (633600.0 of 864000.0) |########    | Elapsed Time: 0:01:13 ETA:   0:00:06\n",
      " 73% (637200.0 of 864000.0) |########    | Elapsed Time: 0:01:14 ETA:   0:00:06\n",
      " 74% (644400.0 of 864000.0) |########    | Elapsed Time: 0:01:14 ETA:   0:00:05\n",
      " 75% (648000.0 of 864000.0) |#########   | Elapsed Time: 0:01:14 ETA:   0:00:05\n",
      " 75% (649800.0 of 864000.0) |#########   | Elapsed Time: 0:01:14 ETA:   0:00:06\n",
      " 75% (655200.0 of 864000.0) |#########   | Elapsed Time: 0:01:14 ETA:   0:00:06\n",
      " 76% (658800.0 of 864000.0) |#########   | Elapsed Time: 0:01:14 ETA:   0:00:06\n",
      " 77% (666000.0 of 864000.0) |#########   | Elapsed Time: 0:01:14 ETA:   0:00:05\n",
      " 77% (669600.0 of 864000.0) |#########   | Elapsed Time: 0:01:14 ETA:   0:00:05\n",
      " 78% (676800.0 of 864000.0) |#########   | Elapsed Time: 0:01:14 ETA:   0:00:05\n",
      " 78% (680400.0 of 864000.0) |#########   | Elapsed Time: 0:01:15 ETA:   0:00:04\n",
      " 79% (687600.0 of 864000.0) |#########   | Elapsed Time: 0:01:15 ETA:   0:00:04\n",
      " 80% (691200.0 of 864000.0) |#########   | Elapsed Time: 0:01:15 ETA:   0:00:04\n",
      " 80% (698400.0 of 864000.0) |#########   | Elapsed Time: 0:01:15 ETA:   0:00:03\n",
      " 81% (702000.0 of 864000.0) |#########   | Elapsed Time: 0:01:15 ETA:   0:00:03\n",
      " 82% (709200.0 of 864000.0) |#########   | Elapsed Time: 0:01:15 ETA:   0:00:03\n",
      " 82% (712800.0 of 864000.0) |#########   | Elapsed Time: 0:01:15 ETA:   0:00:03\n",
      " 83% (720000.0 of 864000.0) |##########  | Elapsed Time: 0:01:15 ETA:   0:00:03\n",
      " 83% (723600.0 of 864000.0) |##########  | Elapsed Time: 0:01:15 ETA:   0:00:03\n",
      " 84% (730800.0 of 864000.0) |##########  | Elapsed Time: 0:01:16 ETA:   0:00:02\n",
      " 85% (734400.0 of 864000.0) |##########  | Elapsed Time: 0:01:16 ETA:   0:00:02\n",
      " 85% (741600.0 of 864000.0) |##########  | Elapsed Time: 0:01:16 ETA:   0:00:02\n",
      " 86% (745200.0 of 864000.0) |##########  | Elapsed Time: 0:01:16 ETA:   0:00:02\n",
      " 87% (752400.0 of 864000.0) |##########  | Elapsed Time: 0:01:16 ETA:   0:00:02\n",
      " 87% (756000.0 of 864000.0) |##########  | Elapsed Time: 0:01:16 ETA:   0:00:02\n",
      " 88% (763200.0 of 864000.0) |##########  | Elapsed Time: 0:01:16 ETA:   0:00:01\n",
      " 88% (766800.0 of 864000.0) |##########  | Elapsed Time: 0:01:16 ETA:   0:00:01\n",
      " 89% (774000.0 of 864000.0) |##########  | Elapsed Time: 0:01:16 ETA:   0:00:01\n",
      " 90% (777600.0 of 864000.0) |##########  | Elapsed Time: 0:01:16 ETA:   0:00:01\n",
      " 90% (784800.0 of 864000.0) |##########  | Elapsed Time: 0:01:17 ETA:   0:00:01\n",
      " 91% (788400.0 of 864000.0) |##########  | Elapsed Time: 0:01:17 ETA:   0:00:01\n",
      " 92% (795600.0 of 864000.0) |########### | Elapsed Time: 0:01:17 ETA:   0:00:01\n",
      " 92% (799200.0 of 864000.0) |########### | Elapsed Time: 0:01:17 ETA:   0:00:01\n",
      " 93% (806400.0 of 864000.0) |########### | Elapsed Time: 0:01:17 ETA:   0:00:01\n",
      " 93% (810000.0 of 864000.0) |########### | Elapsed Time: 0:01:17 ETA:   0:00:01\n",
      " 94% (817200.0 of 864000.0) |########### | Elapsed Time: 0:01:17 ETA:   0:00:00\n",
      " 95% (820800.0 of 864000.0) |########### | Elapsed Time: 0:01:17 ETA:   0:00:00\n",
      " 95% (828000.0 of 864000.0) |########### | Elapsed Time: 0:01:17 ETA:   0:00:00\n",
      " 96% (831600.0 of 864000.0) |########### | Elapsed Time: 0:01:18 ETA:   0:00:00\n",
      " 97% (838800.0 of 864000.0) |########### | Elapsed Time: 0:01:18 ETA:   0:00:00\n",
      " 97% (842400.0 of 864000.0) |########### | Elapsed Time: 0:01:18 ETA:   0:00:00\n",
      " 98% (849600.0 of 864000.0) |########### | Elapsed Time: 0:01:18 ETA:   0:00:00\n",
      " 98% (853200.0 of 864000.0) |########### | Elapsed Time: 0:01:18 ETA:   0:00:00\n",
      " 99% (860400.0 of 864000.0) |########### | Elapsed Time: 0:01:18 ETA:   0:00:00\n",
      "100% (864000.0 of 864000.0) |############| Elapsed Time: 0:01:18 Time:  0:01:18\n"
     ]
    },
    {
     "data": {
      "image/png": "[encoded data removed]",
      "text/plain": [
       "<Figure size 432x288 with 1 Axes>"
      ]
     },
     "metadata": {
      "needs_background": "light"
     },
     "output_type": "display_data"
    },
    {
     "name": "stdout",
     "output_type": "stream",
     "text": [
      "particle trajectories completed\n"
     ]
    }
   ],
   "source": [
    "## Output properties\n",
    "output_file = pset.ParticleFile(name= output_file_name, outputdt = timedelta(minutes = 60))\n",
    "pset.execute(my_kernel,                 # the kernel (which defines how particles move)\n",
    "             runtime=timedelta(hours = 24*10),   # the total length of the run\n",
    "             dt = timedelta(minutes = 60),      # the timestep of the kernel\n",
    "             output_file = output_file)  # the file name and the time step of the outputs\n",
    "output_file.close()\n",
    "\n",
    "plotTrajectoriesFile(output_file_name);\n",
    "\n",
    "print('particle trajectories completed')"
   ]
  },
  {
   "attachments": {},
   "cell_type": "markdown",
   "id": "71702295",
   "metadata": {},
   "source": [
    "plotTrajectoriesFile('results/5b_Turn_Point_Diluted_bitumen2019-01-05_OP_D50_wp3.nc')"
   ]
  }
 ],
 "metadata": {
  "kernelspec": {
   "display_name": "parcels-dev",
   "language": "python",
   "name": "python3"
  },
  "language_info": {
   "codemirror_mode": {
    "name": "ipython",
    "version": 3
   },
   "file_extension": ".py",
   "mimetype": "text/x-python",
   "name": "python",
   "nbconvert_exporter": "python",
   "pygments_lexer": "ipython3",
   "version": "3.8.10"
  }
 },
 "nbformat": 4,
 "nbformat_minor": 5
}
