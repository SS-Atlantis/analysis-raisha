{
 "cells": [
  {
   "attachments": {},
   "cell_type": "markdown",
   "id": "0b8d036b-e362-4a3f-a7cd-79fe1b26aa08",
   "metadata": {},
   "source": [
    "Using [Ocean Parcels](https://oceanparcels.org) to determine the surface movement of a point pollution oil spill.\n",
    "Original code written by Bec Gordon & Javier Porobic, CSIRO. Code requires additional python libraries stored in /Parcel_Utils/ within the [SSAM Ocean Parcels Repo](https://bitbucket.csiro.au/users/por07g/repos/ssam_oceanparcels/browse)"
   ]
  },
  {
   "cell_type": "code",
   "execution_count": 1,
   "id": "14e85ecd-0b24-4ae4-81a6-d9de3b6d88ef",
   "metadata": {},
   "outputs": [
    {
     "name": "stderr",
     "output_type": "stream",
     "text": [
      "INFO: Compiled ParcelsRandom ==> /tmp/parcels-2926/libparcels_random_8fb42be8-4172-4019-8298-3bf9efc82ad4.so\n"
     ]
    }
   ],
   "source": [
    "import sys\n",
    "import os\n",
    "import math\n",
    "import xarray as xr\n",
    "import matplotlib.pyplot as plt\n",
    "from pathlib import Path\n",
    "from pprint import pprint\n",
    "from parcels import VectorField, Variable, AdvectionRK4\n",
    "from parcels import FieldSet, plotTrajectoriesFile, Variable, ScipyParticle, Field, ParcelsRandom\n",
    "import numpy as np\n",
    "from datetime import timedelta\n",
    "sys.path.append('/ocean/rlovindeer/Atlantis/ssam_oceanparcels/Parcels_Utils/particle_tracking/parcels/')\n",
    "from util.seed_particles import get_particles, get_release_times\n",
    "# from util.parse_wildcards import parse_wildcards"
   ]
  },
  {
   "attachments": {},
   "cell_type": "markdown",
   "id": "e3895b9f",
   "metadata": {},
   "source": [
    "| **spill ID**  | **oil** | **spill size (m^3)** | **season** | **location** |\n",
    "|---------|---------|--------------------|------------|--------------|\n",
    "| 4a | Diesel | 500 | summer, ebb tide | Active Pass |\n",
    "| 5b | Dilbit | 2000 | winter, ebb tide | Turn Point, Arachne Reef |\n",
    "| 6a | Bunker C| 15 | summer, flood tide | leaving Vancouver Harbour, at Anchorage|\n",
    "| 7a | Bunker C| 1000 | winter storm, flood tide | Strait of Juan de Fuca |\n"
   ]
  },
  {
   "cell_type": "code",
   "execution_count": 70,
   "id": "2125a154",
   "metadata": {},
   "outputs": [],
   "source": [
    "# Spill release times (years 2019 and 2020 only)\n",
    "release_start_time = '2019-07-10'  # Winter Jan - 5b: 19, 26 | 7a: 19, 26 |Summer Jul - 6a: 16, 23 | 4a: 15, 22\n",
    "release_end_time = '2019-07-11'\n",
    "release_YYYY = '2019-07'"
   ]
  },
  {
   "attachments": {},
   "cell_type": "markdown",
   "id": "d10cbc8d-88bf-42b7-a270-2d523e1a02fa",
   "metadata": {},
   "source": [
    "Select the location of interest, which is specified by a shapefile."
   ]
  },
  {
   "cell_type": "code",
   "execution_count": 71,
   "id": "e7a25536-1e75-4dc0-8679-d4b81889f2c1",
   "metadata": {},
   "outputs": [
    {
     "name": "stdout",
     "output_type": "stream",
     "text": [
      "\n",
      "Scenario running  : 4a_ActivePass_Diesel\n"
     ]
    }
   ],
   "source": [
    "file_id = int(input( ))\n",
    "scenario = {1 : \"5b_Turn_Point_Diluted_bitumen\",\n",
    "            2 : \"6a_VancouverHarbour_BunkerC\",\n",
    "            3 : \"7a_JStrait_BunkerC\",\n",
    "            4 : \"4a_ActivePass_Diesel\",\n",
    "            5 : \"SandHeads\"}\n",
    "print(\"\\nScenario running  :\", scenario[file_id], sep = \" \")"
   ]
  },
  {
   "cell_type": "code",
   "execution_count": 72,
   "id": "34fdf25b-955c-4553-ac0c-930a86217905",
   "metadata": {},
   "outputs": [],
   "source": [
    "#Kernels\n",
    "def WindAdvectionRK4(particle, fieldset, time):\n",
    "    \"\"\"Advection of particles using fourth-order Runge-Kutta integration.\n",
    "     Function needs to be converted to Kernel object before execution\"\"\"\n",
    "    if particle.beached == 0:\n",
    "        wp = fieldset.wind_percentage ## this need to be add to the fieldset\n",
    "        \n",
    "        if wp > 0:\n",
    "\n",
    "            (u1, v1) = fieldset.UVwind[time, particle.depth, particle.lat, particle.lon]\n",
    "            u1 = u1 * wp\n",
    "            v1 = v1 * wp\n",
    "            lon1, lat1 = (particle.lon + u1*.5*particle.dt, particle.lat + v1*.5*particle.dt)\n",
    "            \n",
    "            (u2, v2) = fieldset.UVwind[time + .5 * particle.dt, particle.depth, lat1, lon1]\n",
    "            u2 = u2 * wp\n",
    "            v2 = v2 * wp\n",
    "            lon2, lat2 = (particle.lon + u2*.5*particle.dt, particle.lat + v2*.5*particle.dt)\n",
    "            \n",
    "            (u3, v3) = fieldset.UVwind[time + .5 * particle.dt, particle.depth, lat2, lon2]\n",
    "            u3 = u3 * wp\n",
    "            v3 = v3 * wp\n",
    "            lon3, lat3 = (particle.lon + u3*particle.dt, particle.lat + v3*particle.dt)\n",
    "            \n",
    "            (u4, v4) = fieldset.UVwind[time + particle.dt, particle.depth, lat3, lon3]\n",
    "            u4 = u4 * wp\n",
    "            v4 = v4 * wp            \n",
    "            \n",
    "            u_wind  = (u1 + 2*u2 + 2*u3 + u4) / 6. * particle.dt\n",
    "            v_wind  = (v1 + 2*v2 + 2*v3 + v4) / 6. * particle.dt\n",
    "            \n",
    "            particle.lon += (u1 + 2*u2 + 2*u3 + u4) / 6. * particle.dt\n",
    "            particle.lat += (v1 + 2*v2 + 2*v3 + v4) / 6. * particle.dt\n",
    "            \n",
    "            particle.beached = 2\n",
    "            \n",
    "def beaching(particle, fieldset, time):\n",
    "    \n",
    "    if particle.beached == 2:\n",
    "        \n",
    "        # Parameters\n",
    "        deg2m = 111000     # [m/deg]\n",
    "        D = 50   # maximum beaching distance [m]\n",
    "        \n",
    "        # Grounding probability over radius D\n",
    "        offset_lon = random.uniform(-1., 1.) * D / deg2m\n",
    "        offset_lat = random.uniform(-1., 1.) * D / deg2m\n",
    "\n",
    "        # Evaluate if chosen point is over land\n",
    "        (u, v) = fieldset.UV[time, particle.depth, particle.lat + offset_lat, particle.lon + offset_lon]\n",
    "        if u == 0 and v == 0: \n",
    "            particle.beached = 1\n",
    "        else:\n",
    "            particle.beached = 0\n",
    "\n",
    "def DeleteParticle(particle, fieldset, time):\n",
    "    particle.delete()\n",
    "\n",
    "def DecayParticle(particle, fieldset, time):\n",
    "    dt = particle.dt\n",
    "    field_decay_value = fieldset.decay\n",
    "    decay = math.exp(0 * dt/field_decay_value) # -0.099 for diesel, 0 for other oils\n",
    "    particle.decay_value = particle.decay_value * decay"
   ]
  },
  {
   "cell_type": "code",
   "execution_count": 73,
   "id": "e3c19fb9-3acc-442e-b1ea-62bcf5a3fb3b",
   "metadata": {},
   "outputs": [],
   "source": [
    "# Data Paths\n",
    "currents = Path('/ocean/rlovindeer/Atlantis/Physics/Raw_Transport_Data/')\n",
    "winds = Path('/ocean/rlovindeer/Atlantis/Physics/Wind/')\n",
    "sea_grid = Path('/ocean/rlovindeer/Atlantis/Physics/Grids/ubcSSnBathymetryV17-02_a29d_efc9_4047.nc')\n",
    "air_grid = Path('/ocean/rlovindeer/Atlantis/Physics/Grids/ubcSSaAtmosphereGridV1_0f03_6268_df4b.nc')"
   ]
  },
  {
   "cell_type": "code",
   "execution_count": 74,
   "id": "62049698-848c-46a5-a4da-4fb6de91df61",
   "metadata": {},
   "outputs": [
    {
     "name": "stdout",
     "output_type": "stream",
     "text": [
      "creating from_nemo\n",
      "creating from_nemo done\n",
      "add_constant decay\n"
     ]
    }
   ],
   "source": [
    "# Salish Sea NEMO Model Grid, Geo-location and Bathymetry, v17-02\n",
    "\n",
    "# Currents\n",
    "# u_data_path = currents + '2018-01*URaw_variables.nc'\n",
    "# v_data_path = currents + '2018-01*VRaw_variables.nc'\n",
    "# u_current = parse_wildcards(u_data_path, 'u')\n",
    "# v_current = parse_wildcards(v_data_path, 'v')\n",
    "\n",
    "u_current = sorted([p for p in currents.glob(str(release_YYYY) + '*URaw_variables.nc')])\n",
    "v_current = sorted([p for p in currents.glob(str(release_YYYY) + '*VRaw_variables.nc')])\n",
    "\n",
    "filenames = {\n",
    "    'U': {'lon': sea_grid,'lat': sea_grid,'data': u_current},\n",
    "    'V': {'lon': sea_grid,'lat': sea_grid,'data': v_current}\n",
    "            }\n",
    "\n",
    "variables = {'U': 'uVelocity','V': 'vVelocity'}\n",
    "dimensions = {'lon': 'longitude', 'lat': 'latitude', 'time': 'time'}\n",
    "print('creating from_nemo')\n",
    "fieldset = FieldSet.from_nemo(filenames, variables, dimensions, allow_time_extrapolation=True)\n",
    "print('creating from_nemo done')\n",
    "\n",
    "fieldset.add_constant('decay', 1.0 * 3600.0)\n",
    "print('add_constant decay')"
   ]
  },
  {
   "cell_type": "code",
   "execution_count": 75,
   "id": "10d71250-4e60-47bd-8cbb-12c2b538d61b",
   "metadata": {},
   "outputs": [
    {
     "name": "stdout",
     "output_type": "stream",
     "text": [
      "{'data': [PosixPath('/ocean/rlovindeer/Atlantis/Physics/Wind/2019-07-06_Wind_variables.nc'),\n",
      "          PosixPath('/ocean/rlovindeer/Atlantis/Physics/Wind/2019-07-12_Wind_variables.nc'),\n",
      "          PosixPath('/ocean/rlovindeer/Atlantis/Physics/Wind/2019-07-18_Wind_variables.nc'),\n",
      "          PosixPath('/ocean/rlovindeer/Atlantis/Physics/Wind/2019-07-24_Wind_variables.nc'),\n",
      "          PosixPath('/ocean/rlovindeer/Atlantis/Physics/Wind/2019-07-30_Wind_variables.nc')],\n",
      " 'lat': '/ocean/rlovindeer/Atlantis/Physics/Grids/ubcSSaAtmosphereGridV1_0f03_6268_df4b.nc',\n",
      " 'lon': '/ocean/rlovindeer/Atlantis/Physics/Grids/ubcSSaAtmosphereGridV1_0f03_6268_df4b.nc'}\n"
     ]
    }
   ],
   "source": [
    "# HRDPS, Salish Sea, Atmospheric Forcing Grid, Geo-location, v1\"\n",
    "\n",
    "wind_paths = sorted([p for p in winds.glob(str(release_YYYY) + '*Wind_variables.nc')])\n",
    "wind_filenames = {'lon': os.fspath(air_grid),'lat': os.fspath(air_grid),'data': wind_paths}\n",
    "wind_dimensions = {'lon': 'longitude', 'lat': 'latitude', 'time': 'time'}\n",
    "\n",
    "pprint(wind_filenames)"
   ]
  },
  {
   "cell_type": "code",
   "execution_count": 76,
   "id": "c7a4b014-1f05-4dc8-9f4c-2a65f51d0df4",
   "metadata": {},
   "outputs": [
    {
     "name": "stdout",
     "output_type": "stream",
     "text": [
      "wind data loaded\n"
     ]
    }
   ],
   "source": [
    "Uwind_field = Field.from_netcdf(wind_filenames, ('U_wind', 'u_wind'),\n",
    "                                     wind_dimensions,\n",
    "                                     fieldtype='U',\n",
    "                                     allow_time_extrapolation=True,\n",
    "                                     transpose=False,\n",
    "                                     deferred_load=False)\n",
    "Vwind_field = Field.from_netcdf(wind_filenames, ('V_wind', 'v_wind'),\n",
    "                                     wind_dimensions,\n",
    "                                     fieldtype='V',\n",
    "                                     allow_time_extrapolation=True,\n",
    "                                     transpose=False,\n",
    "                                     deferred_load=False)\n",
    "\n",
    "print('wind data loaded')"
   ]
  },
  {
   "cell_type": "code",
   "execution_count": 77,
   "id": "37823b69-6440-49f1-a693-4b75a263b7cd",
   "metadata": {},
   "outputs": [],
   "source": [
    "# change longitude for the wind field\n",
    "Uwind_field.grid.lon = Uwind_field.grid.lon - 360\n",
    "Vwind_field.grid.lon = Vwind_field.grid.lon - 360\n",
    "\n",
    "[x_min, x_max, y_min, y_max] = Uwind_field.grid.lonlat_minmax\n",
    "\n",
    "Uwind_field.grid.lonlat_minmax = [x_min - 360, x_max - 360, y_min, y_max]\n",
    "Vwind_field.grid.lonlat_minmax = [x_min - 360, x_max - 360, y_min, y_max]\n",
    "\n",
    "## adding the wind field to the fieldset object\n",
    "fieldset.add_field(Uwind_field)\n",
    "fieldset.add_field(Vwind_field)\n",
    "wind_field = VectorField('UVwind', Uwind_field,  Vwind_field)\n",
    "fieldset.add_vector_field(wind_field)"
   ]
  },
  {
   "cell_type": "code",
   "execution_count": 78,
   "id": "b661e048-885d-492e-97c0-64fe19327be1",
   "metadata": {},
   "outputs": [],
   "source": [
    "# wind_percentage\n",
    "# We need to do a sensitivity analysis of the percetage of wind to be used here\n",
    "wind_percentage = 3\n",
    "fieldset.add_constant('wind_percentage', wind_percentage/100.0)"
   ]
  },
  {
   "cell_type": "raw",
   "id": "3f50b40f-3404-4c6e-abfb-0406dbb85b25",
   "metadata": {},
   "source": [
    "Just in case we want to add a maximum age\n",
    "# fieldset_sum.add_constant('max_age', dispersal_length)"
   ]
  },
  {
   "cell_type": "code",
   "execution_count": 79,
   "id": "927c988b-bba4-4231-812b-6948bb407bf6",
   "metadata": {},
   "outputs": [
    {
     "name": "stdout",
     "output_type": "stream",
     "text": [
      "setting up particles\n",
      "689400.0\n",
      "100\n",
      "100\n",
      "Using shapefile /ocean/rlovindeer/Atlantis/ssam_oceanparcels/SalishSea/Shape_Scenarios/4a_ActivePass_Diesel.shp\n",
      "Number of sites :  1\n",
      "Up to 0 of 1\n",
      "80\n",
      "100\n",
      "Sucessfully seeded particles\n",
      "\n",
      "num_attempts = 2\n",
      "[-123.32403064543979, -123.32363758365186, -123.32390318925178, -123.32403993079495, -123.32432633198637, -123.32380129319337, -123.32429341676261, -123.32322040607549, -123.32442133557467, -123.32345676867352, -123.32407770295279, -123.32398521220445, -123.3231404979732, -123.32512137107815, -123.32336015498268, -123.32348882365507, -123.32327181593435, -123.32343920702107, -123.32423697172636, -123.32348321881713, -123.3250477909398, -123.32381540457999, -123.32309543985072, -123.32409435049028, -123.32434757755242, -123.32470220268104, -123.3234980918599, -123.32424956152181, -123.32398429227861, -123.32528282265757, -123.32386805397202, -123.32388114164941, -123.32386971126124, -123.3230976153252, -123.3237164178352, -123.32447787857701, -123.3242947285544, -123.32367906470425, -123.32375198181917, -123.32374283624506, -123.32483018612757, -123.32458201619856, -123.32398012762528, -123.3242910204809, -123.32508613328973, -123.3248337435811, -123.32494612084197, -123.32378424966805, -123.32472881382327, -123.32422555755329, -123.32495164891992, -123.32506645294356, -123.32377663945483, -123.3244561028422, -123.32509781235579, -123.32334757456181, -123.32302033490798, -123.32422002830697, -123.3238982702022, -123.32358070849536, -123.32465908399577, -123.32462758432335, -123.32457598043453, -123.32434852005827, -123.3251756654246, -123.32369125298581, -123.32398862153417, -123.32470023264824, -123.3240910436341, -123.32510527964062, -123.32396654394066, -123.32313175779079, -123.32457459654985, -123.32375046116634, -123.32501584191748, -123.3236348955183, -123.32464349359736, -123.32489442514137, -123.32394158080332, -123.32531612039803, -123.32459059788049, -123.32368210690312, -123.32443477740196, -123.32526891010728, -123.32372215284711, -123.32425535786889, -123.32405954886929, -123.32481479584895, -123.32376069590327, -123.3247051161908, -123.32353554926839, -123.32457117519154, -123.32442128271308, -123.32393731844391, -123.32336386738108, -123.32384124830934, -123.3246809723215, -123.32344183347598, -123.32488864983313, -123.32307624993561]\n",
      "4a_ActivePass_Diesel2019-07-10_OP_D50_wp3.nc\n"
     ]
    }
   ],
   "source": [
    "class MyParticle(ScipyParticle):\n",
    "    initial_time = -100\n",
    "    decay_value = Variable('decay_value', dtype=np.float32, initial=1.0)\n",
    "    beached = Variable('beached', dtype=np.int32, initial=0.)\n",
    "    age = Variable('age', dtype=np.int32, initial=0.)\n",
    "\n",
    "# Particle Features\n",
    "num_particles_per_day = 100\n",
    "feature_release_index = 0\n",
    "input_shapefile_name = \"/ocean/rlovindeer/Atlantis/ssam_oceanparcels/SalishSea/Shape_Scenarios/\" + scenario[file_id] + \".shp\"\n",
    "release_depth = -0.1\n",
    "release_start_time = np.datetime64(release_start_time)\n",
    "release_end_time = np.datetime64(release_end_time)\n",
    "time_origin = fieldset.U.grid.time_origin.time_origin\n",
    "\n",
    "print('setting up particles')\n",
    "\n",
    "[release_times, p, num_particles] = get_release_times(time_origin, num_particles_per_day, release_start_time, release_end_time)\n",
    "pset = get_particles(fieldset, num_particles, input_shapefile_name, MyParticle, feature_release_index, release_times, release_depth)\n",
    "\n",
    "#print(pset)\n",
    "\n",
    "# Building the kernels\n",
    "decay_kernel = pset.Kernel(DecayParticle)\n",
    "beaching_kernel = pset.Kernel(beaching)\n",
    "ForcingWind_kernel = pset.Kernel(WindAdvectionRK4)\n",
    "\n",
    "# Adding to the main kernel\n",
    "my_kernel =  AdvectionRK4 + decay_kernel + ForcingWind_kernel + beaching_kernel\n",
    "\n",
    "output_file_name = scenario[file_id] + str(release_start_time) +  '_OP_D50_wp3.nc'\n",
    "print(output_file_name)"
   ]
  },
  {
   "cell_type": "code",
   "execution_count": 80,
   "id": "95d50dee-2c5a-496c-ab9c-798b1e31f8fc",
   "metadata": {},
   "outputs": [
    {
     "name": "stdout",
     "output_type": "stream",
     "text": [
      "executing particle kernel\n"
     ]
    },
    {
     "name": "stderr",
     "output_type": "stream",
     "text": [
      "rm: cannot remove '4a_ActivePass_Diesel2019-07-10_OP_D50_wp3.nc': No such file or directory\n"
     ]
    }
   ],
   "source": [
    "try:\n",
    "    os.system('rm ' + output_file_name)\n",
    "except:\n",
    "    pass\n",
    "\n",
    "print('executing particle kernel')"
   ]
  },
  {
   "cell_type": "code",
   "execution_count": 81,
   "id": "ca91b311-7297-479d-b17e-484906a1b675",
   "metadata": {},
   "outputs": [
    {
     "name": "stderr",
     "output_type": "stream",
     "text": [
      "INFO: Temporary output files are stored in out-YCRDEIBW.\n",
      "INFO: You can use \"parcels_convert_npydir_to_netcdf out-YCRDEIBW\" to convert these to a NetCDF file during the run.\n",
      "N/A% (0 of 604800.0) |                   | Elapsed Time: 0:00:00 ETA:  --:--:--\n",
      "  6% (39600.0 of 604800.0) |             | Elapsed Time: 0:00:02 ETA:   0:00:30\n",
      "  7% (43200.0 of 604800.0) |             | Elapsed Time: 0:00:04 ETA:   0:06:07\n",
      "  7% (45000.0 of 604800.0) |             | Elapsed Time: 0:00:06 ETA:   0:10:52\n",
      "  7% (46800.0 of 604800.0) |#            | Elapsed Time: 0:00:08 ETA:   0:09:22\n",
      "  8% (50400.0 of 604800.0) |#            | Elapsed Time: 0:00:11 ETA:   0:08:03\n",
      "  8% (54000.0 of 604800.0) |#            | Elapsed Time: 0:00:13 ETA:   0:05:37\n",
      "  9% (57600.0 of 604800.0) |#            | Elapsed Time: 0:00:14 ETA:   0:04:41\n",
      " 10% (61200.0 of 604800.0) |#            | Elapsed Time: 0:00:16 ETA:   0:03:34\n",
      " 10% (64800.0 of 604800.0) |#            | Elapsed Time: 0:00:17 ETA:   0:03:32\n",
      " 11% (66600.0 of 604800.0) |#            | Elapsed Time: 0:00:19 ETA:   0:04:40\n",
      " 11% (68400.0 of 604800.0) |#            | Elapsed Time: 0:00:20 ETA:   0:05:44\n",
      " 11% (72000.0 of 604800.0) |#            | Elapsed Time: 0:00:22 ETA:   0:05:27\n",
      " 12% (75600.0 of 604800.0) |#            | Elapsed Time: 0:00:24 ETA:   0:05:38\n",
      " 13% (79200.0 of 604800.0) |#            | Elapsed Time: 0:00:27 ETA:   0:05:52\n",
      " 13% (82800.0 of 604800.0) |#            | Elapsed Time: 0:00:29 ETA:   0:05:36\n",
      " 14% (86400.0 of 604800.0) |#            | Elapsed Time: 0:00:31 ETA:   0:05:07\n",
      " 14% (88200.0 of 604800.0) |#            | Elapsed Time: 0:00:32 ETA:   0:05:37\n",
      " 14% (90000.0 of 604800.0) |#            | Elapsed Time: 0:00:33 ETA:   0:05:50\n",
      " 15% (93600.0 of 604800.0) |##           | Elapsed Time: 0:00:36 ETA:   0:04:54\n",
      " 16% (97200.0 of 604800.0) |##           | Elapsed Time: 0:00:37 ETA:   0:04:14\n",
      " 16% (100800.0 of 604800.0) |##          | Elapsed Time: 0:00:38 ETA:   0:03:11\n",
      " 17% (104400.0 of 604800.0) |##          | Elapsed Time: 0:00:39 ETA:   0:02:42\n",
      " 17% (108000.0 of 604800.0) |##          | Elapsed Time: 0:00:41 ETA:   0:02:36\n",
      " 18% (109800.0 of 604800.0) |##          | Elapsed Time: 0:00:41 ETA:   0:02:34\n",
      " 18% (111600.0 of 604800.0) |##          | Elapsed Time: 0:00:41 ETA:   0:02:23\n",
      " 19% (115200.0 of 604800.0) |##          | Elapsed Time: 0:00:42 ETA:   0:02:00\n",
      " 19% (118800.0 of 604800.0) |##          | Elapsed Time: 0:00:43 ETA:   0:01:38\n",
      " 20% (122400.0 of 604800.0) |##          | Elapsed Time: 0:00:43 ETA:   0:01:29\n",
      " 20% (126000.0 of 604800.0) |##          | Elapsed Time: 0:00:44 ETA:   0:01:28\n",
      " 21% (129600.0 of 604800.0) |##          | Elapsed Time: 0:00:45 ETA:   0:01:28\n",
      " 21% (131400.0 of 604800.0) |##          | Elapsed Time: 0:00:45 ETA:   0:01:32\n",
      " 22% (133200.0 of 604800.0) |##          | Elapsed Time: 0:00:46 ETA:   0:01:35\n",
      " 22% (136800.0 of 604800.0) |##          | Elapsed Time: 0:00:46 ETA:   0:01:42\n",
      " 23% (140400.0 of 604800.0) |##          | Elapsed Time: 0:00:47 ETA:   0:01:48\n",
      " 23% (144000.0 of 604800.0) |##          | Elapsed Time: 0:00:48 ETA:   0:01:48\n",
      " 24% (147600.0 of 604800.0) |##          | Elapsed Time: 0:00:49 ETA:   0:01:43\n",
      " 25% (151200.0 of 604800.0) |###         | Elapsed Time: 0:00:50 ETA:   0:01:34\n",
      " 25% (153000.0 of 604800.0) |###         | Elapsed Time: 0:00:50 ETA:   0:01:38\n",
      " 25% (154800.0 of 604800.0) |###         | Elapsed Time: 0:00:50 ETA:   0:01:31\n",
      " 26% (158400.0 of 604800.0) |###         | Elapsed Time: 0:00:51 ETA:   0:01:28\n",
      " 26% (162000.0 of 604800.0) |###         | Elapsed Time: 0:00:52 ETA:   0:01:27\n",
      " 27% (165600.0 of 604800.0) |###         | Elapsed Time: 0:00:52 ETA:   0:01:22\n",
      " 27% (169200.0 of 604800.0) |###         | Elapsed Time: 0:00:53 ETA:   0:01:21\n",
      " 28% (172800.0 of 604800.0) |###         | Elapsed Time: 0:00:54 ETA:   0:01:20\n",
      " 28% (174600.0 of 604800.0) |###         | Elapsed Time: 0:00:54 ETA:   0:01:24\n",
      " 29% (176400.0 of 604800.0) |###         | Elapsed Time: 0:00:54 ETA:   0:01:23\n",
      " 29% (180000.0 of 604800.0) |###         | Elapsed Time: 0:00:55 ETA:   0:01:23\n",
      " 30% (183600.0 of 604800.0) |###         | Elapsed Time: 0:00:56 ETA:   0:01:22\n",
      " 30% (187200.0 of 604800.0) |###         | Elapsed Time: 0:00:56 ETA:   0:01:17\n",
      " 31% (190800.0 of 604800.0) |###         | Elapsed Time: 0:00:57 ETA:   0:01:16\n",
      " 32% (194400.0 of 604800.0) |###         | Elapsed Time: 0:00:58 ETA:   0:01:16\n",
      " 32% (196200.0 of 604800.0) |###         | Elapsed Time: 0:00:58 ETA:   0:01:21\n",
      " 32% (198000.0 of 604800.0) |###         | Elapsed Time: 0:00:59 ETA:   0:01:21\n",
      " 33% (201600.0 of 604800.0) |####        | Elapsed Time: 0:00:59 ETA:   0:01:20\n",
      " 33% (205200.0 of 604800.0) |####        | Elapsed Time: 0:01:00 ETA:   0:01:19\n",
      " 34% (208800.0 of 604800.0) |####        | Elapsed Time: 0:01:01 ETA:   0:01:13\n",
      " 35% (212400.0 of 604800.0) |####        | Elapsed Time: 0:01:01 ETA:   0:01:12\n",
      " 35% (216000.0 of 604800.0) |####        | Elapsed Time: 0:01:02 ETA:   0:01:12\n",
      " 36% (217800.0 of 604800.0) |####        | Elapsed Time: 0:01:02 ETA:   0:01:16\n",
      " 36% (219600.0 of 604800.0) |####        | Elapsed Time: 0:01:03 ETA:   0:01:16\n",
      " 36% (223200.0 of 604800.0) |####        | Elapsed Time: 0:01:03 ETA:   0:01:15\n",
      " 37% (226800.0 of 604800.0) |####        | Elapsed Time: 0:01:04 ETA:   0:01:14\n",
      " 38% (230400.0 of 604800.0) |####        | Elapsed Time: 0:01:05 ETA:   0:01:09\n",
      " 38% (234000.0 of 604800.0) |####        | Elapsed Time: 0:01:05 ETA:   0:01:08\n",
      " 39% (237600.0 of 604800.0) |####        | Elapsed Time: 0:01:06 ETA:   0:01:07\n",
      " 39% (239400.0 of 604800.0) |####        | Elapsed Time: 0:01:07 ETA:   0:01:11\n",
      " 39% (241200.0 of 604800.0) |####        | Elapsed Time: 0:01:07 ETA:   0:01:11\n",
      " 40% (244800.0 of 604800.0) |####        | Elapsed Time: 0:01:08 ETA:   0:01:10\n",
      " 41% (248400.0 of 604800.0) |####        | Elapsed Time: 0:01:08 ETA:   0:01:09\n",
      " 41% (252000.0 of 604800.0) |#####       | Elapsed Time: 0:01:09 ETA:   0:01:04\n",
      " 42% (255600.0 of 604800.0) |#####       | Elapsed Time: 0:01:10 ETA:   0:01:04\n",
      " 42% (259200.0 of 604800.0) |#####       | Elapsed Time: 0:01:10 ETA:   0:01:04\n",
      " 43% (261000.0 of 604800.0) |#####       | Elapsed Time: 0:01:11 ETA:   0:01:07\n",
      " 43% (262800.0 of 604800.0) |#####       | Elapsed Time: 0:01:11 ETA:   0:01:07\n",
      " 44% (266400.0 of 604800.0) |#####       | Elapsed Time: 0:01:12 ETA:   0:01:06\n",
      " 44% (270000.0 of 604800.0) |#####       | Elapsed Time: 0:01:12 ETA:   0:01:06\n",
      " 45% (273600.0 of 604800.0) |#####       | Elapsed Time: 0:01:13 ETA:   0:01:02\n",
      " 45% (277200.0 of 604800.0) |#####       | Elapsed Time: 0:01:14 ETA:   0:01:01\n",
      " 46% (280800.0 of 604800.0) |#####       | Elapsed Time: 0:01:14 ETA:   0:01:00\n",
      " 46% (282600.0 of 604800.0) |#####       | Elapsed Time: 0:01:15 ETA:   0:01:03\n",
      " 47% (284400.0 of 604800.0) |#####       | Elapsed Time: 0:01:15 ETA:   0:01:03\n",
      " 47% (288000.0 of 604800.0) |#####       | Elapsed Time: 0:01:16 ETA:   0:01:02\n",
      " 48% (291600.0 of 604800.0) |#####       | Elapsed Time: 0:01:17 ETA:   0:01:01\n",
      " 48% (295200.0 of 604800.0) |#####       | Elapsed Time: 0:01:17 ETA:   0:00:58\n",
      " 49% (298800.0 of 604800.0) |#####       | Elapsed Time: 0:01:18 ETA:   0:00:57\n",
      " 50% (302400.0 of 604800.0) |######      | Elapsed Time: 0:01:19 ETA:   0:00:56\n",
      " 50% (304200.0 of 604800.0) |######      | Elapsed Time: 0:01:19 ETA:   0:01:00\n",
      " 50% (306000.0 of 604800.0) |######      | Elapsed Time: 0:01:19 ETA:   0:01:00\n",
      " 51% (309600.0 of 604800.0) |######      | Elapsed Time: 0:01:20 ETA:   0:00:59\n",
      " 51% (313200.0 of 604800.0) |######      | Elapsed Time: 0:01:21 ETA:   0:00:58\n",
      " 52% (316800.0 of 604800.0) |######      | Elapsed Time: 0:01:21 ETA:   0:00:54\n",
      " 52% (320400.0 of 604800.0) |######      | Elapsed Time: 0:01:22 ETA:   0:00:53\n",
      " 53% (324000.0 of 604800.0) |######      | Elapsed Time: 0:01:23 ETA:   0:00:52\n",
      " 53% (325800.0 of 604800.0) |######      | Elapsed Time: 0:01:23 ETA:   0:00:55\n",
      " 54% (327600.0 of 604800.0) |######      | Elapsed Time: 0:01:24 ETA:   0:00:54\n",
      " 54% (331200.0 of 604800.0) |######      | Elapsed Time: 0:01:24 ETA:   0:00:54\n",
      " 55% (334800.0 of 604800.0) |######      | Elapsed Time: 0:01:25 ETA:   0:00:53\n",
      " 55% (338400.0 of 604800.0) |######      | Elapsed Time: 0:01:26 ETA:   0:00:50\n",
      " 56% (342000.0 of 604800.0) |######      | Elapsed Time: 0:01:26 ETA:   0:00:49\n",
      " 57% (345600.0 of 604800.0) |######      | Elapsed Time: 0:01:27 ETA:   0:00:48\n",
      " 57% (347400.0 of 604800.0) |######      | Elapsed Time: 0:01:27 ETA:   0:00:51\n",
      " 57% (349200.0 of 604800.0) |######      | Elapsed Time: 0:01:28 ETA:   0:00:50\n",
      " 58% (352800.0 of 604800.0) |#######     | Elapsed Time: 0:01:28 ETA:   0:00:50\n",
      " 58% (356400.0 of 604800.0) |#######     | Elapsed Time: 0:01:29 ETA:   0:00:49\n",
      " 59% (360000.0 of 604800.0) |#######     | Elapsed Time: 0:01:30 ETA:   0:00:46\n",
      " 60% (363600.0 of 604800.0) |#######     | Elapsed Time: 0:01:30 ETA:   0:00:45\n",
      " 60% (367200.0 of 604800.0) |#######     | Elapsed Time: 0:01:31 ETA:   0:00:44\n",
      " 61% (369000.0 of 604800.0) |#######     | Elapsed Time: 0:01:32 ETA:   0:00:46\n",
      " 61% (370800.0 of 604800.0) |#######     | Elapsed Time: 0:01:32 ETA:   0:00:46\n",
      " 61% (374400.0 of 604800.0) |#######     | Elapsed Time: 0:01:33 ETA:   0:00:45\n",
      " 62% (378000.0 of 604800.0) |#######     | Elapsed Time: 0:01:33 ETA:   0:00:45\n",
      " 63% (381600.0 of 604800.0) |#######     | Elapsed Time: 0:01:34 ETA:   0:00:42\n",
      " 63% (385200.0 of 604800.0) |#######     | Elapsed Time: 0:01:35 ETA:   0:00:41\n",
      " 64% (388800.0 of 604800.0) |#######     | Elapsed Time: 0:01:35 ETA:   0:00:40\n",
      " 64% (390600.0 of 604800.0) |#######     | Elapsed Time: 0:01:36 ETA:   0:00:42\n",
      " 64% (392400.0 of 604800.0) |#######     | Elapsed Time: 0:01:36 ETA:   0:00:42\n",
      " 65% (396000.0 of 604800.0) |#######     | Elapsed Time: 0:01:37 ETA:   0:00:41\n",
      " 66% (399600.0 of 604800.0) |#######     | Elapsed Time: 0:01:37 ETA:   0:00:40\n",
      " 66% (403200.0 of 604800.0) |########    | Elapsed Time: 0:01:38 ETA:   0:00:37\n",
      " 67% (406800.0 of 604800.0) |########    | Elapsed Time: 0:01:39 ETA:   0:00:37\n",
      " 67% (410400.0 of 604800.0) |########    | Elapsed Time: 0:01:39 ETA:   0:00:36\n",
      " 68% (412200.0 of 604800.0) |########    | Elapsed Time: 0:01:40 ETA:   0:00:38\n",
      " 68% (414000.0 of 604800.0) |########    | Elapsed Time: 0:01:40 ETA:   0:00:38\n",
      " 69% (417600.0 of 604800.0) |########    | Elapsed Time: 0:01:41 ETA:   0:00:37\n",
      " 69% (421200.0 of 604800.0) |########    | Elapsed Time: 0:01:42 ETA:   0:00:37\n",
      " 70% (424800.0 of 604800.0) |########    | Elapsed Time: 0:01:42 ETA:   0:00:33\n",
      " 70% (428400.0 of 604800.0) |########    | Elapsed Time: 0:01:43 ETA:   0:00:33\n",
      " 71% (432000.0 of 604800.0) |########    | Elapsed Time: 0:01:44 ETA:   0:00:32\n",
      " 71% (433800.0 of 604800.0) |########    | Elapsed Time: 0:01:44 ETA:   0:00:33\n",
      " 72% (435600.0 of 604800.0) |########    | Elapsed Time: 0:01:44 ETA:   0:00:33\n",
      " 72% (439200.0 of 604800.0) |########    | Elapsed Time: 0:01:45 ETA:   0:00:32\n",
      " 73% (442800.0 of 604800.0) |########    | Elapsed Time: 0:01:46 ETA:   0:00:32\n",
      " 73% (446400.0 of 604800.0) |########    | Elapsed Time: 0:01:46 ETA:   0:00:29\n",
      " 74% (450000.0 of 604800.0) |########    | Elapsed Time: 0:01:47 ETA:   0:00:28\n",
      " 75% (453600.0 of 604800.0) |#########   | Elapsed Time: 0:01:48 ETA:   0:00:28\n",
      " 75% (455400.0 of 604800.0) |#########   | Elapsed Time: 0:01:48 ETA:   0:00:29\n",
      " 75% (457200.0 of 604800.0) |#########   | Elapsed Time: 0:01:49 ETA:   0:00:29\n",
      " 76% (460800.0 of 604800.0) |#########   | Elapsed Time: 0:01:49 ETA:   0:00:28\n",
      " 76% (464400.0 of 604800.0) |#########   | Elapsed Time: 0:01:50 ETA:   0:00:28\n",
      " 77% (468000.0 of 604800.0) |#########   | Elapsed Time: 0:01:51 ETA:   0:00:25\n",
      " 77% (471600.0 of 604800.0) |#########   | Elapsed Time: 0:01:51 ETA:   0:00:24\n",
      " 78% (475200.0 of 604800.0) |#########   | Elapsed Time: 0:01:52 ETA:   0:00:24\n",
      " 78% (477000.0 of 604800.0) |#########   | Elapsed Time: 0:01:52 ETA:   0:00:25\n",
      " 79% (478800.0 of 604800.0) |#########   | Elapsed Time: 0:01:53 ETA:   0:00:24\n",
      " 79% (482400.0 of 604800.0) |#########   | Elapsed Time: 0:01:53 ETA:   0:00:24\n",
      " 80% (486000.0 of 604800.0) |#########   | Elapsed Time: 0:01:54 ETA:   0:00:23\n",
      " 80% (489600.0 of 604800.0) |#########   | Elapsed Time: 0:01:55 ETA:   0:00:21\n",
      " 81% (493200.0 of 604800.0) |#########   | Elapsed Time: 0:01:55 ETA:   0:00:20\n",
      " 82% (496800.0 of 604800.0) |#########   | Elapsed Time: 0:01:56 ETA:   0:00:20\n",
      " 82% (498600.0 of 604800.0) |#########   | Elapsed Time: 0:01:57 ETA:   0:00:21\n",
      " 82% (500400.0 of 604800.0) |#########   | Elapsed Time: 0:01:57 ETA:   0:00:21\n",
      " 83% (504000.0 of 604800.0) |##########  | Elapsed Time: 0:01:58 ETA:   0:00:20\n",
      " 83% (507600.0 of 604800.0) |##########  | Elapsed Time: 0:01:58 ETA:   0:00:19\n",
      " 84% (511200.0 of 604800.0) |##########  | Elapsed Time: 0:01:59 ETA:   0:00:17\n",
      " 85% (514800.0 of 604800.0) |##########  | Elapsed Time: 0:02:00 ETA:   0:00:16\n",
      " 85% (518400.0 of 604800.0) |##########  | Elapsed Time: 0:02:00 ETA:   0:00:16\n",
      " 86% (520200.0 of 604800.0) |##########  | Elapsed Time: 0:02:01 ETA:   0:00:16\n",
      " 86% (522000.0 of 604800.0) |##########  | Elapsed Time: 0:02:01 ETA:   0:00:16\n",
      " 86% (525600.0 of 604800.0) |##########  | Elapsed Time: 0:02:02 ETA:   0:00:15\n",
      " 87% (529200.0 of 604800.0) |##########  | Elapsed Time: 0:02:03 ETA:   0:00:15\n",
      " 88% (532800.0 of 604800.0) |##########  | Elapsed Time: 0:02:03 ETA:   0:00:13\n",
      " 88% (536400.0 of 604800.0) |##########  | Elapsed Time: 0:02:04 ETA:   0:00:12\n",
      " 89% (540000.0 of 604800.0) |##########  | Elapsed Time: 0:02:05 ETA:   0:00:12\n",
      " 89% (541800.0 of 604800.0) |##########  | Elapsed Time: 0:02:05 ETA:   0:00:12\n",
      " 89% (543600.0 of 604800.0) |##########  | Elapsed Time: 0:02:05 ETA:   0:00:12\n",
      " 90% (547200.0 of 604800.0) |##########  | Elapsed Time: 0:02:06 ETA:   0:00:11\n",
      " 91% (550800.0 of 604800.0) |##########  | Elapsed Time: 0:02:07 ETA:   0:00:10\n",
      " 91% (554400.0 of 604800.0) |########### | Elapsed Time: 0:02:07 ETA:   0:00:09\n",
      " 92% (558000.0 of 604800.0) |########### | Elapsed Time: 0:02:08 ETA:   0:00:08\n",
      " 92% (561600.0 of 604800.0) |########### | Elapsed Time: 0:02:09 ETA:   0:00:08\n",
      " 93% (563400.0 of 604800.0) |########### | Elapsed Time: 0:02:09 ETA:   0:00:08\n",
      " 93% (565200.0 of 604800.0) |########### | Elapsed Time: 0:02:09 ETA:   0:00:07\n",
      " 94% (568800.0 of 604800.0) |########### | Elapsed Time: 0:02:10 ETA:   0:00:07\n",
      " 94% (572400.0 of 604800.0) |########### | Elapsed Time: 0:02:11 ETA:   0:00:06\n",
      " 95% (576000.0 of 604800.0) |########### | Elapsed Time: 0:02:11 ETA:   0:00:05\n",
      " 95% (579600.0 of 604800.0) |########### | Elapsed Time: 0:02:12 ETA:   0:00:04\n",
      " 96% (583200.0 of 604800.0) |########### | Elapsed Time: 0:02:13 ETA:   0:00:03\n",
      " 96% (585000.0 of 604800.0) |########### | Elapsed Time: 0:02:13 ETA:   0:00:03\n",
      " 97% (586800.0 of 604800.0) |########### | Elapsed Time: 0:02:14 ETA:   0:00:03\n",
      " 97% (590400.0 of 604800.0) |########### | Elapsed Time: 0:02:14 ETA:   0:00:02\n",
      " 98% (594000.0 of 604800.0) |########### | Elapsed Time: 0:02:15 ETA:   0:00:02\n",
      " 98% (597600.0 of 604800.0) |########### | Elapsed Time: 0:02:16 ETA:   0:00:01\n",
      " 99% (601200.0 of 604800.0) |########### | Elapsed Time: 0:02:16 ETA:   0:00:00\n",
      "100% (604800.0 of 604800.0) |############| Elapsed Time: 0:02:17 ETA:  00:00:00\n",
      "100% (604800.0 of 604800.0) |############| Elapsed Time: 0:02:17 Time:  0:02:17\n"
     ]
    },
    {
     "data": {
      "image/png": "[encoded data removed]",
      "text/plain": [
       "<Figure size 432x288 with 1 Axes>"
      ]
     },
     "metadata": {
      "needs_background": "light"
     },
     "output_type": "display_data"
    },
    {
     "name": "stdout",
     "output_type": "stream",
     "text": [
      "particle trajectories completed\n"
     ]
    }
   ],
   "source": [
    "## Output properties\n",
    "output_file = pset.ParticleFile(name= output_file_name, outputdt = timedelta(minutes = 60))\n",
    "pset.execute(my_kernel,                 # the kernel (which defines how particles move)\n",
    "             runtime=timedelta(hours = 24*7),   # the total length of the run\n",
    "             dt = timedelta(minutes = 60),      # the timestep of the kernel\n",
    "             output_file = output_file)  # the file name and the time step of the outputs\n",
    "output_file.close()\n",
    "\n",
    "plotTrajectoriesFile(output_file_name);\n",
    "\n",
    "print('particle trajectories completed')"
   ]
  },
  {
   "cell_type": "code",
   "execution_count": 82,
   "id": "618b0ac1",
   "metadata": {},
   "outputs": [
    {
     "data": {
      "image/png": "[encoded data removed]",
      "text/plain": [
       "<Figure size 1224x576 with 1 Axes>"
      ]
     },
     "metadata": {
      "needs_background": "light"
     },
     "output_type": "display_data"
    }
   ],
   "source": [
    "pfile = xr.open_dataset(str(output_file_name), decode_cf=True)\n",
    "fig, ax = plt.subplots(figsize=(17, 8))\n",
    "ax.pcolormesh(pfile.beached)\n",
    "ax.set_xlabel('Hours since deployment')\n",
    "ax.set_ylabel('Particle number')\n",
    "ax.set_title('Yellow = beached')\n",
    "plt.show()"
   ]
  }
 ],
 "metadata": {
  "kernelspec": {
   "display_name": "parcels-dev",
   "language": "python",
   "name": "python3"
  },
  "language_info": {
   "codemirror_mode": {
    "name": "ipython",
    "version": 3
   },
   "file_extension": ".py",
   "mimetype": "text/x-python",
   "name": "python",
   "nbconvert_exporter": "python",
   "pygments_lexer": "ipython3",
   "version": "3.8.10"
  }
 },
 "nbformat": 4,
 "nbformat_minor": 5
}
