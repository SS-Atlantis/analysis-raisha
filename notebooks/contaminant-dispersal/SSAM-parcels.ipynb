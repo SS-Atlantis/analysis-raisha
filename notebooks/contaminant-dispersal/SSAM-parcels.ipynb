{
 "cells": [
  {
   "attachments": {},
   "cell_type": "markdown",
   "id": "0b8d036b-e362-4a3f-a7cd-79fe1b26aa08",
   "metadata": {},
   "source": [
    "Using [Ocean Parcels](https://oceanparcels.org) to determine the surface movement of a point pollution oil spill.\n",
    "Original code written by Bec Gordon & Javier Porobic, CSIRO. Code requires additional python libraries stored in /Parcel_Utils/ within the [SSAM Ocean Parcels Repo](https://bitbucket.csiro.au/users/por07g/repos/ssam_oceanparcels/browse)"
   ]
  },
  {
   "cell_type": "code",
   "execution_count": 1,
   "id": "14e85ecd-0b24-4ae4-81a6-d9de3b6d88ef",
   "metadata": {},
   "outputs": [
    {
     "name": "stderr",
     "output_type": "stream",
     "text": [
      "INFO: Compiled ParcelsRandom ==> /tmp/parcels-2926/libparcels_random_f4209b70-8230-4dd1-999f-788a426ba5bf.so\n"
     ]
    }
   ],
   "source": [
    "import sys\n",
    "import os\n",
    "import math\n",
    "from pathlib import Path\n",
    "from pprint import pprint\n",
    "from parcels import VectorField, Variable #AdvectionRK4\n",
    "from parcels import FieldSet, plotTrajectoriesFile, Variable, ScipyParticle, Field, ParcelsRandom\n",
    "import numpy as np\n",
    "from datetime import timedelta\n",
    "sys.path.append('/ocean/rlovindeer/Atlantis/ssam_oceanparcels/Parcels_Utils/particle_tracking/parcels/')\n",
    "from util.seed_particles import get_particles, get_release_times\n",
    "# from util.parse_wildcards import parse_wildcards"
   ]
  },
  {
   "attachments": {},
   "cell_type": "markdown",
   "id": "e3895b9f",
   "metadata": {},
   "source": [
    "| **spill ID**  | **oil** | **spill size (m^3)** | **season** | **location** |\n",
    "|---------|---------|--------------------|------------|--------------|\n",
    "| 4a | Diesel | 500 | summer, ebb tide | Active Pass |\n",
    "| 5b | Dilbit | 2000 | winter, ebb tide | Turn Point, Arachne Reef |\n",
    "| 6a | Bunker C| 15 | summer, flood tide | leaving Vancouver Harbour, at Anchorage|\n",
    "| 7a | Bunker C| 1000 | winter storm, flood tide | Strait of Juan de Fuca |\n"
   ]
  },
  {
   "cell_type": "code",
   "execution_count": 2,
   "id": "2125a154",
   "metadata": {},
   "outputs": [],
   "source": [
    "# Spill release times (years 2019 and 2020 only)\n",
    "release_start_time = '2020-01-26'  # Winter Jan - 5b: 19, 26 | 7a: 19, 26 |Summer Jul - 6a: 16, 23 | 4a: 15, 22\n",
    "release_end_time = '2020-01-27'\n",
    "release_YYYY = '2020-01'"
   ]
  },
  {
   "cell_type": "markdown",
   "id": "d10cbc8d-88bf-42b7-a270-2d523e1a02fa",
   "metadata": {},
   "source": [
    "Select the location of interest, which is specified by a shapefile."
   ]
  },
  {
   "cell_type": "code",
   "execution_count": 3,
   "id": "e7a25536-1e75-4dc0-8679-d4b81889f2c1",
   "metadata": {},
   "outputs": [
    {
     "name": "stdout",
     "output_type": "stream",
     "text": [
      "\n",
      "Scenario running  : 7a_JStrait_BunkerC\n"
     ]
    }
   ],
   "source": [
    "file_id = int(input( ))\n",
    "scenario = {1 : \"5b_Turn_Point_Diluted_bitumen\",\n",
    "            2 : \"6a_VancouverHarbour_BunkerC\",\n",
    "            3 : \"7a_JStrait_BunkerC\",\n",
    "            4 : \"4a_ActivePass_Diesel\",\n",
    "            5 : \"SandHeads\"}\n",
    "print(\"\\nScenario running  :\", scenario[file_id], sep = \" \")"
   ]
  },
  {
   "cell_type": "code",
   "execution_count": 4,
   "id": "34fdf25b-955c-4553-ac0c-930a86217905",
   "metadata": {},
   "outputs": [],
   "source": [
    "#Kernels\n",
    "def AdvectionRK4(particle, fieldset, time):\n",
    "    \"\"\"Advection of particles using fourth-order Runge-Kutta integration.\n",
    "    Function needs to be converted to Kernel object before execution\"\"\"\n",
    "    if particle.beached == 0:\n",
    "        (u1, v1) = fieldset.UV[particle]\n",
    "        lon1, lat1 = (particle.lon + u1*.5*particle.dt, particle.lat + v1*.5*particle.dt)\n",
    "        (u2, v2) = fieldset.UV[time + .5 * particle.dt, particle.depth, lat1, lon1, particle]\n",
    "        lon2, lat2 = (particle.lon + u2*.5*particle.dt, particle.lat + v2*.5*particle.dt)\n",
    "        (u3, v3) = fieldset.UV[time + .5 * particle.dt, particle.depth, lat2, lon2, particle]\n",
    "        lon3, lat3 = (particle.lon + u3*particle.dt, particle.lat + v3*particle.dt)\n",
    "        (u4, v4) = fieldset.UV[time + particle.dt, particle.depth, lat3, lon3, particle]\n",
    "        particle.lon += (u1 + 2*u2 + 2*u3 + u4) / 6. * particle.dt\n",
    "        particle.lat += (v1 + 2*v2 + 2*v3 + v4) / 6. * particle.dt\n",
    "\n",
    "def WindAdvectionRK4(particle, fieldset, time):\n",
    "    \"\"\"Advection of particles using fourth-order Runge-Kutta integration.\n",
    "     Function needs to be converted to Kernel object before execution\"\"\"\n",
    "    if particle.beached == 0:\n",
    "        wp = fieldset.wind_percentage ## this need to be add to the fieldset\n",
    "        \n",
    "        if wp > 0:\n",
    "\n",
    "            (u1, v1) = fieldset.UVwind[time, particle.depth, particle.lat, particle.lon]\n",
    "            u1 = u1 * wp\n",
    "            v1 = v1 * wp\n",
    "            lon1, lat1 = (particle.lon + u1*.5*particle.dt, particle.lat + v1*.5*particle.dt)\n",
    "            \n",
    "            (u2, v2) = fieldset.UVwind[time + .5 * particle.dt, particle.depth, lat1, lon1]\n",
    "            u2 = u2 * wp\n",
    "            v2 = v2 * wp\n",
    "            lon2, lat2 = (particle.lon + u2*.5*particle.dt, particle.lat + v2*.5*particle.dt)\n",
    "            \n",
    "            (u3, v3) = fieldset.UVwind[time + .5 * particle.dt, particle.depth, lat2, lon2]\n",
    "            u3 = u3 * wp\n",
    "            v3 = v3 * wp\n",
    "            lon3, lat3 = (particle.lon + u3*particle.dt, particle.lat + v3*particle.dt)\n",
    "            \n",
    "            (u4, v4) = fieldset.UVwind[time + particle.dt, particle.depth, lat3, lon3]\n",
    "            u4 = u4 * wp\n",
    "            v4 = v4 * wp            \n",
    "            \n",
    "            u_wind  = (u1 + 2*u2 + 2*u3 + u4) / 6. * particle.dt\n",
    "            v_wind  = (v1 + 2*v2 + 2*v3 + v4) / 6. * particle.dt\n",
    "            \n",
    "            particle.lon += (u1 + 2*u2 + 2*u3 + u4) / 6. * particle.dt\n",
    "            particle.lat += (v1 + 2*v2 + 2*v3 + v4) / 6. * particle.dt\n",
    "            \n",
    "            particle.beached = 2\n",
    "            \n",
    "def beaching(particle, fieldset, time):\n",
    "    \n",
    "    if particle.beached == 2:\n",
    "        \n",
    "        # Parameters\n",
    "        deg2m = 111000     # [m/deg]\n",
    "        D = 50   # maximum beaching distance [m]\n",
    "        \n",
    "        # Grounding probability over radius D\n",
    "        offset_lon = random.uniform(-1., 1.) * D / deg2m\n",
    "        offset_lat = random.uniform(-1., 1.) * D / deg2m\n",
    "\n",
    "        # Evaluate if chosen point is over land\n",
    "        (u, v) = fieldset.UV[time, particle.depth, particle.lat + offset_lat, particle.lon + offset_lon]\n",
    "        if u == 0 and v == 0: \n",
    "            particle.beached = 1\n",
    "        else:\n",
    "            particle.beached = 0\n",
    "\n",
    "def DeleteParticle(particle, fieldset, time):\n",
    "    particle.delete()\n",
    "\n",
    "def DecayParticle(particle, fieldset, time):\n",
    "    dt = particle.dt\n",
    "    field_decay_value = fieldset.decay\n",
    "    decay = math.exp(0 * dt/field_decay_value) # -0.099 for diesel, 0 for other oils\n",
    "    particle.decay_value = particle.decay_value * decay"
   ]
  },
  {
   "cell_type": "code",
   "execution_count": 5,
   "id": "e3c19fb9-3acc-442e-b1ea-62bcf5a3fb3b",
   "metadata": {},
   "outputs": [],
   "source": [
    "# Data Paths\n",
    "currents = Path('/ocean/rlovindeer/Atlantis/Physics/Raw_Transport_Data/')\n",
    "winds = Path('/ocean/rlovindeer/Atlantis/Physics/Wind/')\n",
    "sea_grid = Path('/ocean/rlovindeer/Atlantis/Physics/Grids/ubcSSnBathymetryV17-02_a29d_efc9_4047.nc')\n",
    "air_grid = Path('/ocean/rlovindeer/Atlantis/Physics/Grids/ubcSSaAtmosphereGridV1_0f03_6268_df4b.nc')"
   ]
  },
  {
   "cell_type": "code",
   "execution_count": 6,
   "id": "62049698-848c-46a5-a4da-4fb6de91df61",
   "metadata": {},
   "outputs": [
    {
     "name": "stderr",
     "output_type": "stream",
     "text": [
      "WARNING: Casting lon data to np.float32\n",
      "WARNING: Casting lat data to np.float32\n",
      "WARNING: Casting depth data to np.float32\n"
     ]
    },
    {
     "name": "stdout",
     "output_type": "stream",
     "text": [
      "creating from_nemo\n",
      "creating from_nemo done\n",
      "add_constant decay\n"
     ]
    }
   ],
   "source": [
    "# Salish Sea NEMO Model Grid, Geo-location and Bathymetry, v17-02\n",
    "\n",
    "# Currents\n",
    "# u_data_path = currents + '2018-01*URaw_variables.nc'\n",
    "# v_data_path = currents + '2018-01*VRaw_variables.nc'\n",
    "# u_current = parse_wildcards(u_data_path, 'u')\n",
    "# v_current = parse_wildcards(v_data_path, 'v')\n",
    "\n",
    "u_current = sorted([p for p in currents.glob(str(release_YYYY) + '*URaw_variables.nc')])\n",
    "v_current = sorted([p for p in currents.glob(str(release_YYYY) + '*VRaw_variables.nc')])\n",
    "\n",
    "filenames = {\n",
    "    'U': {'lon': sea_grid,'lat': sea_grid,'data': u_current},\n",
    "    'V': {'lon': sea_grid,'lat': sea_grid,'data': v_current}\n",
    "            }\n",
    "\n",
    "variables = {'U': 'uVelocity','V': 'vVelocity'}\n",
    "dimensions = {'lon': 'longitude', 'lat': 'latitude', 'time': 'time'}\n",
    "print('creating from_nemo')\n",
    "fieldset = FieldSet.from_nemo(filenames, variables, dimensions, allow_time_extrapolation=True)\n",
    "print('creating from_nemo done')\n",
    "\n",
    "fieldset.add_constant('decay', 1.0 * 3600.0)\n",
    "print('add_constant decay')"
   ]
  },
  {
   "cell_type": "code",
   "execution_count": 7,
   "id": "10d71250-4e60-47bd-8cbb-12c2b538d61b",
   "metadata": {},
   "outputs": [
    {
     "name": "stdout",
     "output_type": "stream",
     "text": [
      "{'data': [PosixPath('/ocean/rlovindeer/Atlantis/Physics/Wind/2020-01-02_Wind_variables.nc'),\n",
      "          PosixPath('/ocean/rlovindeer/Atlantis/Physics/Wind/2020-01-08_Wind_variables.nc'),\n",
      "          PosixPath('/ocean/rlovindeer/Atlantis/Physics/Wind/2020-01-14_Wind_variables.nc'),\n",
      "          PosixPath('/ocean/rlovindeer/Atlantis/Physics/Wind/2020-01-20_Wind_variables.nc'),\n",
      "          PosixPath('/ocean/rlovindeer/Atlantis/Physics/Wind/2020-01-26_Wind_variables.nc')],\n",
      " 'lat': '/ocean/rlovindeer/Atlantis/Physics/Grids/ubcSSaAtmosphereGridV1_0f03_6268_df4b.nc',\n",
      " 'lon': '/ocean/rlovindeer/Atlantis/Physics/Grids/ubcSSaAtmosphereGridV1_0f03_6268_df4b.nc'}\n"
     ]
    }
   ],
   "source": [
    "# HRDPS, Salish Sea, Atmospheric Forcing Grid, Geo-location, v1\"\n",
    "\n",
    "wind_paths = sorted([p for p in winds.glob(str(release_YYYY) + '*Wind_variables.nc')])\n",
    "wind_filenames = {'lon': os.fspath(air_grid),'lat': os.fspath(air_grid),'data': wind_paths}\n",
    "wind_dimensions = {'lon': 'longitude', 'lat': 'latitude', 'time': 'time'}\n",
    "\n",
    "pprint(wind_filenames)"
   ]
  },
  {
   "cell_type": "code",
   "execution_count": 8,
   "id": "c7a4b014-1f05-4dc8-9f4c-2a65f51d0df4",
   "metadata": {},
   "outputs": [
    {
     "name": "stdout",
     "output_type": "stream",
     "text": [
      "wind data loaded\n"
     ]
    }
   ],
   "source": [
    "Uwind_field = Field.from_netcdf(wind_filenames, ('U_wind', 'u_wind'),\n",
    "                                     wind_dimensions,\n",
    "                                     fieldtype='U',\n",
    "                                     allow_time_extrapolation=True,\n",
    "                                     transpose=False,\n",
    "                                     deferred_load=False)\n",
    "Vwind_field = Field.from_netcdf(wind_filenames, ('V_wind', 'v_wind'),\n",
    "                                     wind_dimensions,\n",
    "                                     fieldtype='V',\n",
    "                                     allow_time_extrapolation=True,\n",
    "                                     transpose=False,\n",
    "                                     deferred_load=False)\n",
    "\n",
    "print('wind data loaded')"
   ]
  },
  {
   "cell_type": "code",
   "execution_count": 9,
   "id": "37823b69-6440-49f1-a693-4b75a263b7cd",
   "metadata": {},
   "outputs": [],
   "source": [
    "# change longitude for the wind field\n",
    "Uwind_field.grid.lon = Uwind_field.grid.lon - 360\n",
    "Vwind_field.grid.lon = Vwind_field.grid.lon - 360\n",
    "\n",
    "[x_min, x_max, y_min, y_max] = Uwind_field.grid.lonlat_minmax\n",
    "\n",
    "Uwind_field.grid.lonlat_minmax = [x_min - 360, x_max - 360, y_min, y_max]\n",
    "Vwind_field.grid.lonlat_minmax = [x_min - 360, x_max - 360, y_min, y_max]\n",
    "\n",
    "## adding the wind field to the fieldset object\n",
    "fieldset.add_field(Uwind_field)\n",
    "fieldset.add_field(Vwind_field)\n",
    "wind_field = VectorField('UVwind', Uwind_field,  Vwind_field)\n",
    "fieldset.add_vector_field(wind_field)"
   ]
  },
  {
   "cell_type": "code",
   "execution_count": 10,
   "id": "b661e048-885d-492e-97c0-64fe19327be1",
   "metadata": {},
   "outputs": [],
   "source": [
    "# wind_percentage\n",
    "# We need to do a sensitivity analysis of the percetage of wind to be used here\n",
    "wind_percentage = 3\n",
    "fieldset.add_constant('wind_percentage', wind_percentage/100.0)"
   ]
  },
  {
   "cell_type": "raw",
   "id": "3f50b40f-3404-4c6e-abfb-0406dbb85b25",
   "metadata": {},
   "source": [
    "Just in case we want to add a maximum age\n",
    "# fieldset_sum.add_constant('max_age', dispersal_length)"
   ]
  },
  {
   "cell_type": "code",
   "execution_count": 11,
   "id": "927c988b-bba4-4231-812b-6948bb407bf6",
   "metadata": {},
   "outputs": [
    {
     "name": "stdout",
     "output_type": "stream",
     "text": [
      "setting up particles\n",
      "2071800.0\n",
      "100\n",
      "100\n",
      "Using shapefile /ocean/rlovindeer/Atlantis/ssam_oceanparcels/SalishSea/Shape_Scenarios/7a_JStrait_BunkerC.shp\n",
      "Number of sites :  1\n",
      "Up to 0 of 1\n",
      "80\n",
      "100\n",
      "Sucessfully seeded particles\n",
      "\n",
      "num_attempts = 2\n",
      "[-124.48220237299213, -124.48186962126725, -124.48209447324786, -124.482210233634, -124.48245269040132, -124.48200821177386, -124.48242482557747, -124.48151645399842, -124.48253311696234, -124.48171654992383, -124.48224221016049, -124.4821639108778, -124.4814488067234, -124.4831257414006, -124.48163476030889, -124.48174368649809, -124.4815599757035, -124.48170168287156, -124.48237704127548, -124.48173894164742, -124.48306345114825, -124.48202015795734, -124.48141066216589, -124.4822563033565, -124.48247067612002, -124.48277088877579, -124.48175153262112, -124.48238769933556, -124.48216313210226, -124.48326242039913, -124.48206472900584, -124.48207580855455, -124.48206613200624, -124.48141250384296, -124.48193635940179, -124.48258098419885, -124.4824259360924, -124.48190473760813, -124.4819664665691, -124.48195872426076, -124.48287923487786, -124.48266914329815, -124.48215960645916, -124.48242279697307, -124.48309591037851, -124.4828822464878, -124.48297738096423, -124.48199378334907, -124.48279341679492, -124.48236737845428, -124.48298206083271, -124.48307924971768, -124.48198734082106, -124.48256254965868, -124.48310579744842, -124.481624110185, -124.48134708106997, -124.4823626975967, -124.48209030896051, -124.48182147284119, -124.48273438607484, -124.48270771960495, -124.48266403364121, -124.48247147401096, -124.48317170500731, -124.48191505576125, -124.48216679709158, -124.48276922101812, -124.48225350389306, -124.48311211897848, -124.48214810700888, -124.48144140760483, -124.4826628620951, -124.48196517924006, -124.4830364042752, -124.48186734559175, -124.48272118781411, -124.48293361727599, -124.48212697413038, -124.48329060904761, -124.482676408236, -124.48190731302236, -124.48254449632141, -124.48325064254321, -124.481941214453, -124.48239260631088, -124.48222684157778, -124.4828662060312, -124.48197384359379, -124.48277335524652, -124.48178324269232, -124.48265996569835, -124.48253307221165, -124.48212336577289, -124.48163790308952, -124.4820420363128, -124.48275291593036, -124.48170390633217, -124.48292872811139, -124.48139441668604]\n",
      "7a_JStrait_BunkerC2020-01-26_OP_D50_wp3.nc\n"
     ]
    }
   ],
   "source": [
    "class MyParticle(ScipyParticle):\n",
    "    initial_time = -100\n",
    "    decay_value = Variable('decay_value', dtype=np.float32, initial=1.0)\n",
    "    beached = Variable('beached', dtype=np.int32, initial=0.)\n",
    "    age = Variable('age', dtype=np.int32, initial=0.)\n",
    "\n",
    "# Particle Features\n",
    "num_particles_per_day = 100\n",
    "feature_release_index = 0\n",
    "input_shapefile_name = \"/ocean/rlovindeer/Atlantis/ssam_oceanparcels/SalishSea/Shape_Scenarios/\" + scenario[file_id] + \".shp\"\n",
    "release_depth = -0.1\n",
    "release_start_time = np.datetime64(release_start_time)\n",
    "release_end_time = np.datetime64(release_end_time)\n",
    "time_origin = fieldset.U.grid.time_origin.time_origin\n",
    "\n",
    "print('setting up particles')\n",
    "\n",
    "[release_times, p, num_particles] = get_release_times(time_origin, num_particles_per_day, release_start_time, release_end_time)\n",
    "pset = get_particles(fieldset, num_particles, input_shapefile_name, MyParticle, feature_release_index, release_times, release_depth)\n",
    "\n",
    "#print(pset)\n",
    "\n",
    "# Building the kernels\n",
    "decay_kernel = pset.Kernel(DecayParticle)\n",
    "beaching_kernel = pset.Kernel(beaching)\n",
    "ForcingWind_kernel = pset.Kernel(WindAdvectionRK4)\n",
    "Advection_kernel = pset.Kernel(AdvectionRK4)\n",
    "\n",
    "# Adding to the main kernel\n",
    "my_kernel = Advection_kernel + decay_kernel + ForcingWind_kernel + beaching_kernel\n",
    "\n",
    "output_file_name = scenario[file_id] + str(release_start_time) +  '_OP_D50_wp3.nc'\n",
    "print(output_file_name)"
   ]
  },
  {
   "cell_type": "code",
   "execution_count": 12,
   "id": "95d50dee-2c5a-496c-ab9c-798b1e31f8fc",
   "metadata": {},
   "outputs": [
    {
     "name": "stdout",
     "output_type": "stream",
     "text": [
      "executing particle kernel\n"
     ]
    },
    {
     "name": "stderr",
     "output_type": "stream",
     "text": [
      "rm: cannot remove '7a_JStrait_BunkerC2020-01-26_OP_D50_wp3.nc': No such file or directory\n"
     ]
    }
   ],
   "source": [
    "try:\n",
    "    os.system('rm ' + output_file_name)\n",
    "except:\n",
    "    pass\n",
    "\n",
    "print('executing particle kernel')"
   ]
  },
  {
   "cell_type": "code",
   "execution_count": 13,
   "id": "ca91b311-7297-479d-b17e-484906a1b675",
   "metadata": {},
   "outputs": [
    {
     "name": "stderr",
     "output_type": "stream",
     "text": [
      "INFO: Temporary output files are stored in out-AXKPAGWC.\n",
      "INFO: You can use \"parcels_convert_npydir_to_netcdf out-AXKPAGWC\" to convert these to a NetCDF file during the run.\n",
      "N/A% (0 of 864000.0) |                   | Elapsed Time: 0:00:00 ETA:  --:--:--\n",
      "  3% (32400.0 of 864000.0) |             | Elapsed Time: 0:00:03 ETA:   0:01:28\n",
      "  4% (36000.0 of 864000.0) |             | Elapsed Time: 0:00:06 ETA:   0:13:19\n",
      "  4% (39600.0 of 864000.0) |             | Elapsed Time: 0:00:10 ETA:   0:14:08\n",
      "  5% (43200.0 of 864000.0) |             | Elapsed Time: 0:00:14 ETA:   0:13:51\n",
      "  5% (45000.0 of 864000.0) |             | Elapsed Time: 0:00:16 ETA:   0:19:55\n",
      "  5% (46800.0 of 864000.0) |             | Elapsed Time: 0:00:18 ETA:   0:15:58\n",
      "  5% (50400.0 of 864000.0) |             | Elapsed Time: 0:00:23 ETA:   0:16:58\n",
      "  6% (54000.0 of 864000.0) |             | Elapsed Time: 0:00:27 ETA:   0:17:31\n",
      "  6% (57600.0 of 864000.0) |             | Elapsed Time: 0:00:31 ETA:   0:15:50\n",
      "  7% (61200.0 of 864000.0) |             | Elapsed Time: 0:00:36 ETA:   0:16:51\n",
      "  7% (64800.0 of 864000.0) |             | Elapsed Time: 0:00:41 ETA:   0:18:14\n",
      "  7% (66600.0 of 864000.0) |#            | Elapsed Time: 0:00:44 ETA:   0:23:48\n",
      "  7% (68400.0 of 864000.0) |#            | Elapsed Time: 0:00:46 ETA:   0:14:45\n",
      "  8% (72000.0 of 864000.0) |#            | Elapsed Time: 0:00:52 ETA:   0:21:16\n",
      "  8% (75600.0 of 864000.0) |#            | Elapsed Time: 0:00:58 ETA:   0:22:14\n",
      "  9% (79200.0 of 864000.0) |#            | Elapsed Time: 0:01:04 ETA:   0:22:33\n",
      "  9% (82800.0 of 864000.0) |#            | Elapsed Time: 0:01:11 ETA:   0:23:15\n",
      " 10% (86400.0 of 864000.0) |#            | Elapsed Time: 0:01:17 ETA:   0:24:11\n",
      " 10% (88200.0 of 864000.0) |#            | Elapsed Time: 0:01:21 ETA:   0:29:20\n",
      " 10% (90000.0 of 864000.0) |#            | Elapsed Time: 0:01:24 ETA:   0:19:08\n",
      " 10% (93600.0 of 864000.0) |#            | Elapsed Time: 0:01:31 ETA:   0:25:58\n",
      " 11% (97200.0 of 864000.0) |#            | Elapsed Time: 0:01:39 ETA:   0:26:57\n",
      " 11% (100800.0 of 864000.0) |#           | Elapsed Time: 0:01:47 ETA:   0:26:57\n",
      " 12% (104400.0 of 864000.0) |#           | Elapsed Time: 0:01:54 ETA:   0:26:57\n",
      " 12% (108000.0 of 864000.0) |#           | Elapsed Time: 0:02:02 ETA:   0:27:39\n",
      " 12% (109800.0 of 864000.0) |#           | Elapsed Time: 0:02:06 ETA:   0:29:30\n",
      " 12% (111600.0 of 864000.0) |#           | Elapsed Time: 0:02:09 ETA:   0:19:20\n",
      " 13% (115200.0 of 864000.0) |#           | Elapsed Time: 0:02:17 ETA:   0:26:21\n",
      " 13% (118800.0 of 864000.0) |#           | Elapsed Time: 0:02:24 ETA:   0:24:50\n",
      " 14% (122400.0 of 864000.0) |#           | Elapsed Time: 0:02:30 ETA:   0:18:52\n",
      " 14% (126000.0 of 864000.0) |#           | Elapsed Time: 0:02:34 ETA:   0:16:56\n",
      " 15% (129600.0 of 864000.0) |#           | Elapsed Time: 0:02:39 ETA:   0:15:53\n",
      " 15% (131400.0 of 864000.0) |#           | Elapsed Time: 0:02:42 ETA:   0:17:01\n",
      " 15% (133200.0 of 864000.0) |#           | Elapsed Time: 0:02:43 ETA:   0:13:47\n",
      " 15% (136800.0 of 864000.0) |#           | Elapsed Time: 0:02:47 ETA:   0:13:27\n",
      " 16% (140400.0 of 864000.0) |#           | Elapsed Time: 0:02:51 ETA:   0:13:43\n",
      " 16% (144000.0 of 864000.0) |##          | Elapsed Time: 0:02:55 ETA:   0:12:52\n",
      " 17% (147600.0 of 864000.0) |##          | Elapsed Time: 0:02:59 ETA:   0:12:16\n",
      " 17% (151200.0 of 864000.0) |##          | Elapsed Time: 0:03:03 ETA:   0:12:16\n",
      " 17% (153000.0 of 864000.0) |##          | Elapsed Time: 0:03:05 ETA:   0:13:58\n",
      " 17% (154800.0 of 864000.0) |##          | Elapsed Time: 0:03:06 ETA:   0:11:19\n",
      " 18% (158400.0 of 864000.0) |##          | Elapsed Time: 0:03:10 ETA:   0:12:03\n",
      " 18% (162000.0 of 864000.0) |##          | Elapsed Time: 0:03:14 ETA:   0:12:37\n",
      " 19% (165600.0 of 864000.0) |##          | Elapsed Time: 0:03:18 ETA:   0:13:02\n",
      " 19% (169200.0 of 864000.0) |##          | Elapsed Time: 0:03:22 ETA:   0:13:02\n",
      " 20% (172800.0 of 864000.0) |##          | Elapsed Time: 0:03:26 ETA:   0:13:15\n",
      " 20% (174600.0 of 864000.0) |##          | Elapsed Time: 0:03:28 ETA:   0:15:10\n",
      " 20% (176400.0 of 864000.0) |##          | Elapsed Time: 0:03:30 ETA:   0:12:19\n",
      " 20% (180000.0 of 864000.0) |##          | Elapsed Time: 0:03:34 ETA:   0:13:00\n",
      " 21% (183600.0 of 864000.0) |##          | Elapsed Time: 0:03:38 ETA:   0:13:24\n",
      " 21% (187200.0 of 864000.0) |##          | Elapsed Time: 0:03:42 ETA:   0:13:31\n",
      " 22% (190800.0 of 864000.0) |##          | Elapsed Time: 0:03:47 ETA:   0:13:34\n",
      " 22% (194400.0 of 864000.0) |##          | Elapsed Time: 0:03:51 ETA:   0:13:42\n",
      " 22% (196200.0 of 864000.0) |##          | Elapsed Time: 0:03:54 ETA:   0:15:38\n",
      " 22% (198000.0 of 864000.0) |##          | Elapsed Time: 0:03:55 ETA:   0:12:47\n",
      " 23% (201600.0 of 864000.0) |##          | Elapsed Time: 0:04:00 ETA:   0:13:08\n",
      " 23% (205200.0 of 864000.0) |##          | Elapsed Time: 0:04:04 ETA:   0:13:24\n",
      " 24% (208800.0 of 864000.0) |##          | Elapsed Time: 0:04:08 ETA:   0:13:12\n",
      " 24% (212400.0 of 864000.0) |##          | Elapsed Time: 0:04:13 ETA:   0:13:09\n",
      " 25% (216000.0 of 864000.0) |###         | Elapsed Time: 0:04:17 ETA:   0:12:59\n",
      " 25% (217800.0 of 864000.0) |###         | Elapsed Time: 0:04:19 ETA:   0:13:56\n",
      " 25% (219600.0 of 864000.0) |###         | Elapsed Time: 0:04:21 ETA:   0:11:31\n",
      " 25% (223200.0 of 864000.0) |###         | Elapsed Time: 0:04:25 ETA:   0:12:09\n",
      " 26% (226800.0 of 864000.0) |###         | Elapsed Time: 0:04:29 ETA:   0:12:27\n",
      " 26% (230400.0 of 864000.0) |###         | Elapsed Time: 0:04:33 ETA:   0:12:16\n",
      " 27% (234000.0 of 864000.0) |###         | Elapsed Time: 0:04:38 ETA:   0:12:25\n",
      " 27% (237600.0 of 864000.0) |###         | Elapsed Time: 0:04:42 ETA:   0:12:29\n",
      " 27% (239400.0 of 864000.0) |###         | Elapsed Time: 0:04:44 ETA:   0:14:27\n",
      " 27% (241200.0 of 864000.0) |###         | Elapsed Time: 0:04:46 ETA:   0:11:50\n",
      " 28% (244800.0 of 864000.0) |###         | Elapsed Time: 0:04:50 ETA:   0:12:31\n",
      " 28% (248400.0 of 864000.0) |###         | Elapsed Time: 0:04:55 ETA:   0:12:44\n",
      " 29% (252000.0 of 864000.0) |###         | Elapsed Time: 0:04:59 ETA:   0:12:36\n",
      " 29% (255600.0 of 864000.0) |###         | Elapsed Time: 0:05:04 ETA:   0:12:34\n",
      " 30% (259200.0 of 864000.0) |###         | Elapsed Time: 0:05:08 ETA:   0:12:26\n",
      " 30% (261000.0 of 864000.0) |###         | Elapsed Time: 0:05:11 ETA:   0:13:53\n",
      " 30% (262800.0 of 864000.0) |###         | Elapsed Time: 0:05:12 ETA:   0:11:19\n",
      " 30% (266400.0 of 864000.0) |###         | Elapsed Time: 0:05:17 ETA:   0:11:44\n",
      " 31% (270000.0 of 864000.0) |###         | Elapsed Time: 0:05:21 ETA:   0:12:04\n",
      " 31% (273600.0 of 864000.0) |###         | Elapsed Time: 0:05:25 ETA:   0:12:01\n",
      " 32% (277200.0 of 864000.0) |###         | Elapsed Time: 0:05:30 ETA:   0:12:13\n"
     ]
    },
    {
     "name": "stdout",
     "output_type": "stream",
     "text": [
      "Correct cell not found after 1000000 iterations\n",
      "Correct cell not found after 1000000 iterations\n",
      "Correct cell not found after 1000000 iterations\n"
     ]
    },
    {
     "ename": "OutOfBoundsError",
     "evalue": "0\nParticle P[33](lon=-124.715646, lat=48.432056, depth=0.000000, decay_value=1.000000, beached=0.000000, age=0.000000, time=2350800.000000)\nTime: 2020-01-29T05:30:00.000000000,\ttimestep dt: 1800.000000\nField sampled at (-124.726687, 48.430318, 0.000000)",
     "output_type": "error",
     "traceback": [
      "\u001b[0;31m---------------------------------------------------------------------------\u001b[0m",
      "\u001b[0;31mOutOfBoundsError\u001b[0m                          Traceback (most recent call last)",
      "\u001b[0;32m/tmp/ipykernel_3349610/1494745391.py\u001b[0m in \u001b[0;36m<module>\u001b[0;34m\u001b[0m\n\u001b[1;32m      1\u001b[0m \u001b[0;31m## Output properties\u001b[0m\u001b[0;34m\u001b[0m\u001b[0;34m\u001b[0m\u001b[0;34m\u001b[0m\u001b[0m\n\u001b[1;32m      2\u001b[0m \u001b[0moutput_file\u001b[0m \u001b[0;34m=\u001b[0m \u001b[0mpset\u001b[0m\u001b[0;34m.\u001b[0m\u001b[0mParticleFile\u001b[0m\u001b[0;34m(\u001b[0m\u001b[0mname\u001b[0m\u001b[0;34m=\u001b[0m \u001b[0moutput_file_name\u001b[0m\u001b[0;34m,\u001b[0m \u001b[0moutputdt\u001b[0m \u001b[0;34m=\u001b[0m \u001b[0mtimedelta\u001b[0m\u001b[0;34m(\u001b[0m\u001b[0mminutes\u001b[0m \u001b[0;34m=\u001b[0m \u001b[0;36m60\u001b[0m\u001b[0;34m)\u001b[0m\u001b[0;34m)\u001b[0m\u001b[0;34m\u001b[0m\u001b[0;34m\u001b[0m\u001b[0m\n\u001b[0;32m----> 3\u001b[0;31m pset.execute(my_kernel,                 # the kernel (which defines how particles move)\n\u001b[0m\u001b[1;32m      4\u001b[0m              \u001b[0mruntime\u001b[0m\u001b[0;34m=\u001b[0m\u001b[0mtimedelta\u001b[0m\u001b[0;34m(\u001b[0m\u001b[0mhours\u001b[0m \u001b[0;34m=\u001b[0m \u001b[0;36m24\u001b[0m\u001b[0;34m*\u001b[0m\u001b[0;36m10\u001b[0m\u001b[0;34m)\u001b[0m\u001b[0;34m,\u001b[0m   \u001b[0;31m# the total length of the run\u001b[0m\u001b[0;34m\u001b[0m\u001b[0;34m\u001b[0m\u001b[0m\n\u001b[1;32m      5\u001b[0m              \u001b[0mdt\u001b[0m \u001b[0;34m=\u001b[0m \u001b[0mtimedelta\u001b[0m\u001b[0;34m(\u001b[0m\u001b[0mminutes\u001b[0m \u001b[0;34m=\u001b[0m \u001b[0;36m60\u001b[0m\u001b[0;34m)\u001b[0m\u001b[0;34m,\u001b[0m      \u001b[0;31m# the timestep of the kernel\u001b[0m\u001b[0;34m\u001b[0m\u001b[0;34m\u001b[0m\u001b[0m\n",
      "\u001b[0;32m~/conda_envs/parcels-dev/lib/python3.8/site-packages/parcels/particlesets/baseparticleset.py\u001b[0m in \u001b[0;36mexecute\u001b[0;34m(self, pyfunc, endtime, runtime, dt, moviedt, recovery, output_file, movie_background_field, verbose_progress, postIterationCallbacks, callbackdt)\u001b[0m\n\u001b[1;32m    445\u001b[0m             \u001b[0;32melse\u001b[0m\u001b[0;34m:\u001b[0m\u001b[0;34m\u001b[0m\u001b[0;34m\u001b[0m\u001b[0m\n\u001b[1;32m    446\u001b[0m                 \u001b[0mtime\u001b[0m \u001b[0;34m=\u001b[0m \u001b[0mmax\u001b[0m\u001b[0;34m(\u001b[0m\u001b[0mnext_prelease\u001b[0m\u001b[0;34m,\u001b[0m \u001b[0mnext_input\u001b[0m\u001b[0;34m,\u001b[0m \u001b[0mnext_output\u001b[0m\u001b[0;34m,\u001b[0m \u001b[0mnext_movie\u001b[0m\u001b[0;34m,\u001b[0m \u001b[0mnext_callback\u001b[0m\u001b[0;34m,\u001b[0m \u001b[0mendtime\u001b[0m\u001b[0;34m)\u001b[0m\u001b[0;34m\u001b[0m\u001b[0;34m\u001b[0m\u001b[0m\n\u001b[0;32m--> 447\u001b[0;31m             self.kernel.execute(self, endtime=time, dt=dt, recovery=recovery, output_file=output_file,\n\u001b[0m\u001b[1;32m    448\u001b[0m                                 execute_once=execute_once)\n\u001b[1;32m    449\u001b[0m             \u001b[0;32mif\u001b[0m \u001b[0mabs\u001b[0m\u001b[0;34m(\u001b[0m\u001b[0mtime\u001b[0m\u001b[0;34m-\u001b[0m\u001b[0mnext_prelease\u001b[0m\u001b[0;34m)\u001b[0m \u001b[0;34m<\u001b[0m \u001b[0mtol\u001b[0m\u001b[0;34m:\u001b[0m\u001b[0;34m\u001b[0m\u001b[0;34m\u001b[0m\u001b[0m\n",
      "\u001b[0;32m~/conda_envs/parcels-dev/lib/python3.8/site-packages/parcels/kernel.py\u001b[0m in \u001b[0;36mexecute\u001b[0;34m(self, pset, endtime, dt, recovery, output_file, execute_once)\u001b[0m\n\u001b[1;32m    444\u001b[0m                     \u001b[0mrecovery_kernel\u001b[0m \u001b[0;34m=\u001b[0m \u001b[0mrecovery_map\u001b[0m\u001b[0;34m[\u001b[0m\u001b[0mp\u001b[0m\u001b[0;34m.\u001b[0m\u001b[0mstate\u001b[0m\u001b[0;34m]\u001b[0m\u001b[0;34m\u001b[0m\u001b[0;34m\u001b[0m\u001b[0m\n\u001b[1;32m    445\u001b[0m                     \u001b[0mp\u001b[0m\u001b[0;34m.\u001b[0m\u001b[0mset_state\u001b[0m\u001b[0;34m(\u001b[0m\u001b[0mStateCode\u001b[0m\u001b[0;34m.\u001b[0m\u001b[0mSuccess\u001b[0m\u001b[0;34m)\u001b[0m\u001b[0;34m\u001b[0m\u001b[0;34m\u001b[0m\u001b[0m\n\u001b[0;32m--> 446\u001b[0;31m                     \u001b[0mrecovery_kernel\u001b[0m\u001b[0;34m(\u001b[0m\u001b[0mp\u001b[0m\u001b[0;34m,\u001b[0m \u001b[0mself\u001b[0m\u001b[0;34m.\u001b[0m\u001b[0mfieldset\u001b[0m\u001b[0;34m,\u001b[0m \u001b[0mp\u001b[0m\u001b[0;34m.\u001b[0m\u001b[0mtime\u001b[0m\u001b[0;34m)\u001b[0m\u001b[0;34m\u001b[0m\u001b[0;34m\u001b[0m\u001b[0m\n\u001b[0m\u001b[1;32m    447\u001b[0m                     \u001b[0;32mif\u001b[0m \u001b[0mp\u001b[0m\u001b[0;34m.\u001b[0m\u001b[0mstate\u001b[0m \u001b[0;34m==\u001b[0m \u001b[0mStateCode\u001b[0m\u001b[0;34m.\u001b[0m\u001b[0mSuccess\u001b[0m\u001b[0;34m:\u001b[0m\u001b[0;34m\u001b[0m\u001b[0;34m\u001b[0m\u001b[0m\n\u001b[1;32m    448\u001b[0m                         \u001b[0mp\u001b[0m\u001b[0;34m.\u001b[0m\u001b[0mset_state\u001b[0m\u001b[0;34m(\u001b[0m\u001b[0mStateCode\u001b[0m\u001b[0;34m.\u001b[0m\u001b[0mEvaluate\u001b[0m\u001b[0;34m)\u001b[0m\u001b[0;34m\u001b[0m\u001b[0;34m\u001b[0m\u001b[0m\n",
      "\u001b[0;32m~/conda_envs/parcels-dev/lib/python3.8/site-packages/parcels/tools/statuscodes.py\u001b[0m in \u001b[0;36mrecovery_kernel_out_of_bounds\u001b[0;34m(particle, fieldset, time)\u001b[0m\n\u001b[1;32m    197\u001b[0m     \u001b[0;32melse\u001b[0m\u001b[0;34m:\u001b[0m\u001b[0;34m\u001b[0m\u001b[0;34m\u001b[0m\u001b[0m\n\u001b[1;32m    198\u001b[0m         \u001b[0merror\u001b[0m \u001b[0;34m=\u001b[0m \u001b[0mparticle\u001b[0m\u001b[0;34m.\u001b[0m\u001b[0mexception\u001b[0m\u001b[0;34m\u001b[0m\u001b[0;34m\u001b[0m\u001b[0m\n\u001b[0;32m--> 199\u001b[0;31m         \u001b[0;32mraise\u001b[0m \u001b[0mOutOfBoundsError\u001b[0m\u001b[0;34m(\u001b[0m\u001b[0mparticle\u001b[0m\u001b[0;34m,\u001b[0m \u001b[0mfieldset\u001b[0m\u001b[0;34m,\u001b[0m \u001b[0merror\u001b[0m\u001b[0;34m.\u001b[0m\u001b[0mx\u001b[0m\u001b[0;34m,\u001b[0m \u001b[0merror\u001b[0m\u001b[0;34m.\u001b[0m\u001b[0my\u001b[0m\u001b[0;34m,\u001b[0m \u001b[0merror\u001b[0m\u001b[0;34m.\u001b[0m\u001b[0mz\u001b[0m\u001b[0;34m)\u001b[0m\u001b[0;34m\u001b[0m\u001b[0;34m\u001b[0m\u001b[0m\n\u001b[0m\u001b[1;32m    200\u001b[0m \u001b[0;34m\u001b[0m\u001b[0m\n\u001b[1;32m    201\u001b[0m \u001b[0;34m\u001b[0m\u001b[0m\n",
      "\u001b[0;31mOutOfBoundsError\u001b[0m: 0\nParticle P[33](lon=-124.715646, lat=48.432056, depth=0.000000, decay_value=1.000000, beached=0.000000, age=0.000000, time=2350800.000000)\nTime: 2020-01-29T05:30:00.000000000,\ttimestep dt: 1800.000000\nField sampled at (-124.726687, 48.430318, 0.000000)"
     ]
    }
   ],
   "source": [
    "## Output properties\n",
    "output_file = pset.ParticleFile(name= output_file_name, outputdt = timedelta(minutes = 60))\n",
    "pset.execute(my_kernel,                 # the kernel (which defines how particles move)\n",
    "             runtime=timedelta(hours = 24*10),   # the total length of the run\n",
    "             dt = timedelta(minutes = 60),      # the timestep of the kernel\n",
    "             output_file = output_file)  # the file name and the time step of the outputs\n",
    "output_file.close()\n",
    "\n",
    "plotTrajectoriesFile(output_file_name);\n",
    "\n",
    "print('particle trajectories completed')"
   ]
  },
  {
   "cell_type": "code",
   "execution_count": null,
   "id": "71702295",
   "metadata": {},
   "outputs": [],
   "source": [
    "plotTrajectoriesFile('results/5b_Turn_Point_Diluted_bitumen2019-01-05_OP_D50_wp3.nc')"
   ]
  }
 ],
 "metadata": {
  "kernelspec": {
   "display_name": "parcels-dev",
   "language": "python",
   "name": "python3"
  },
  "language_info": {
   "codemirror_mode": {
    "name": "ipython",
    "version": 3
   },
   "file_extension": ".py",
   "mimetype": "text/x-python",
   "name": "python",
   "nbconvert_exporter": "python",
   "pygments_lexer": "ipython3",
   "version": "3.8.10"
  }
 },
 "nbformat": 4,
 "nbformat_minor": 5
}
