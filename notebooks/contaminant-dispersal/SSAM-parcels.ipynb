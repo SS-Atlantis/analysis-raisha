{
 "cells": [
  {
   "cell_type": "markdown",
   "id": "0b8d036b-e362-4a3f-a7cd-79fe1b26aa08",
   "metadata": {},
   "source": [
    "Using [Ocean Parcels](https://oceanparcels.org) to track the surface movement of contaminants. \n",
    "Original code written by Bec Gordon & Javier Porobic, CSIRO, and code requires additional python libraries stored in /Parcel_Utils/ within the [SSAM Ocean Parcels Repo](https://bitbucket.csiro.au/users/por07g/repos/ssam_oceanparcels/browse)"
   ]
  },
  {
   "cell_type": "code",
   "execution_count": 1,
   "id": "14e85ecd-0b24-4ae4-81a6-d9de3b6d88ef",
   "metadata": {},
   "outputs": [
    {
     "name": "stderr",
     "output_type": "stream",
     "text": [
      "INFO: Compiled ParcelsRandom ==> /tmp/parcels-2926/libparcels_random_e0783373-41a3-4c79-9813-a1ec083fcfec.so\n"
     ]
    }
   ],
   "source": [
    "import sys\n",
    "import os\n",
    "import math\n",
    "from parcels import AdvectionRK4, VectorField, Variable\n",
    "from parcels import FieldSet, plotTrajectoriesFile, Variable, ScipyParticle, Field\n",
    "import numpy as np\n",
    "from datetime import timedelta as delta\n",
    "from datetime import timedelta\n",
    "sys.path.append('/ocean/rlovindeer/Atlantis/ssam_oceanparcels/Parcels_Utils/particle_tracking/parcels/')\n",
    "from util.seed_particles import get_particles, get_release_times\n",
    "from util.parse_wildcards import parse_wildcards"
   ]
  },
  {
   "cell_type": "markdown",
   "id": "d10cbc8d-88bf-42b7-a270-2d523e1a02fa",
   "metadata": {},
   "source": [
    "Select the location of interest, which is specified by a shapefile."
   ]
  },
  {
   "cell_type": "code",
   "execution_count": 2,
   "id": "e7a25536-1e75-4dc0-8679-d4b81889f2c1",
   "metadata": {},
   "outputs": [
    {
     "name": "stdin",
     "output_type": "stream",
     "text": [
      " 1\n"
     ]
    },
    {
     "name": "stdout",
     "output_type": "stream",
     "text": [
      "\n",
      "Scenario running  : 5b_Turn_Point_Diluted_bitumen\n"
     ]
    }
   ],
   "source": [
    "file_id = int(input( ))\n",
    "scenario = {1 : \"5b_Turn_Point_Diluted_bitumen\",\n",
    "            2 : \"6a_VancouverHarbour_BunkerC\",\n",
    "            3 : \"7a_JohnsonStrait_BunkerC\",}\n",
    "print(\"\\nScenario running  :\", scenario[file_id], sep = \" \")"
   ]
  },
  {
   "cell_type": "code",
   "execution_count": 3,
   "id": "34fdf25b-955c-4553-ac0c-930a86217905",
   "metadata": {},
   "outputs": [],
   "source": [
    "#Kernels\n",
    "def WindAdvectionRK4(particle, fieldset, time):\n",
    "    \"\"\"Advection of particles using fourth-order Runge-Kutta integration.\n",
    "     Function needs to be converted to Kernel object before execution\"\"\"\n",
    "    if particle.beached == 0:\n",
    "        wp = fieldset.wind_percentage ## this need to be add to the fieldset\n",
    "        \n",
    "        if wp > 0:\n",
    "\n",
    "            (u1, v1) = fieldset.UV[time, particle.depth, particle.lat, particle.lon]\n",
    "            u1 = u1 * wp\n",
    "            v1 = v1 * wp\n",
    "            lon1, lat1 = (particle.lon + u1*.5*particle.dt, particle.lat + v1*.5*particle.dt)\n",
    "            \n",
    "            (u2, v2) = fieldset.UVwind[time + .5 * particle.dt, particle.depth, lat1, lon1]\n",
    "            u2 = u2 * wp\n",
    "            v2 = v2 * wp\n",
    "            lon2, lat2 = (particle.lon + u2*.5*particle.dt, particle.lat + v2*.5*particle.dt)\n",
    "            \n",
    "            (u3, v3) = fieldset.UVwind[time + .5 * particle.dt, particle.depth, lat2, lon2]\n",
    "            u3 = u3 * wp\n",
    "            v3 = v3 * wp\n",
    "            lon3, lat3 = (particle.lon + u3*particle.dt, particle.lat + v3*particle.dt)\n",
    "            \n",
    "            (u4, v4) = fieldset.UVwind[time + particle.dt, particle.depth, lat3, lon3]\n",
    "            u4 = u4 * wp\n",
    "            v4 = v4 * wp            \n",
    "            \n",
    "            u_wind  = (u1 + 2*u2 + 2*u3 + u4) / 6. * particle.dt\n",
    "            v_wind  = (v1 + 2*v2 + 2*v3 + v4) / 6. * particle.dt\n",
    "            \n",
    "            particle.lon += (u1 + 2*u2 + 2*u3 + u4) / 6. * particle.dt\n",
    "            particle.lat += (v1 + 2*v2 + 2*v3 + v4) / 6. * particle.dt\n",
    "            \n",
    "            particle.beached = 2\n",
    "            \n",
    "def BeachTesting(particle, fieldset, time):\n",
    "    \"\"\" Testing if particles are on land. if 'yes' particle will be removed\"\"\"\n",
    "    if particle.beached == 2:\n",
    "        (u, v) = fieldset.UV[time, particle.depth, particle.lat, particle.lon]\n",
    "        #print(u, v)\n",
    "        if u == 0 and v == 0:\n",
    "            particle.beached = 1\n",
    "        else:\n",
    "            particle.beached = 0\n",
    "\n",
    "def DeleteParticle(particle, fieldset, time):\n",
    "    particle.delete()\n",
    "\n",
    "def DecayParticle(particle, fieldset, time):\n",
    "    dt = particle.dt\n",
    "    field_decay_value = fieldset.decay\n",
    "    decay = math.exp(-1.0 * dt/field_decay_value)\n",
    "    particle.decay_value = particle.decay_value * decay"
   ]
  },
  {
   "cell_type": "code",
   "execution_count": 4,
   "id": "e3c19fb9-3acc-442e-b1ea-62bcf5a3fb3b",
   "metadata": {},
   "outputs": [],
   "source": [
    "# Data Paths\n",
    "currents = '/ocean/rlovindeer/Atlantis/Physics/Raw_Transport_Data/'\n",
    "winds = '/ocean/rlovindeer/Atlantis/Physics/Wind/'\n",
    "sea_grid = '/ocean/rlovindeer/Atlantis/Physics/Grids/ubcSSnBathymetryV17-02_a29d_efc9_4047.nc'\n",
    "air_grid = '/ocean/rlovindeer/Atlantis/Physics/Grids/ubcSSaAtmosphereGridV1_0f03_6268_df4b.nc'"
   ]
  },
  {
   "cell_type": "code",
   "execution_count": 5,
   "id": "62049698-848c-46a5-a4da-4fb6de91df61",
   "metadata": {},
   "outputs": [
    {
     "name": "stdout",
     "output_type": "stream",
     "text": [
      "creating from_nemo\n"
     ]
    },
    {
     "name": "stderr",
     "output_type": "stream",
     "text": [
      "WARNING: Casting lon data to np.float32\n",
      "WARNING: Casting lat data to np.float32\n",
      "WARNING: Casting depth data to np.float32\n"
     ]
    },
    {
     "name": "stdout",
     "output_type": "stream",
     "text": [
      "creating from_nemo done\n",
      "add_constant decay\n"
     ]
    }
   ],
   "source": [
    "# Salish Sea NEMO Model Grid, Geo-location and Bathymetry, v17-02\n",
    "\n",
    "# Currents\n",
    "u_data_path = currents + '2018-01*URaw_variables.nc'\n",
    "v_data_path = currents + '2018-01*VRaw_variables.nc'\n",
    "u_current = parse_wildcards(u_data_path, 'u')\n",
    "v_current = parse_wildcards(v_data_path, 'v')\n",
    "\n",
    "filenames = {'U': {'lon': sea_grid,'lat': sea_grid,'data': u_current},\n",
    "             'V': {'lon': sea_grid,'lat': sea_grid,'data': v_current}\n",
    "            }\n",
    "\n",
    "variables = {'U': 'uVelocity','V': 'vVelocity'}\n",
    "dimensions = {'lon': 'longitude', 'lat': 'latitude', 'time': 'time'}\n",
    "print('creating from_nemo')\n",
    "fieldset = FieldSet.from_nemo(filenames, variables, dimensions, allow_time_extrapolation=True)\n",
    "print('creating from_nemo done')\n",
    "\n",
    "fieldset.add_constant('decay', 1.0 * 3600.0)\n",
    "print('add_constant decay')"
   ]
  },
  {
   "cell_type": "code",
   "execution_count": 16,
   "id": "10d71250-4e60-47bd-8cbb-12c2b538d61b",
   "metadata": {},
   "outputs": [
    {
     "name": "stdout",
     "output_type": "stream",
     "text": [
      "{'lon': '/ocean/rlovindeer/Atlantis/Physics/Grids/ubcSSaAtmosphereGridV1_0f03_6268_df4b.nc', 'lat': '/ocean/rlovindeer/Atlantis/Physics/Grids/ubcSSaAtmosphereGridV1_0f03_6268_df4b.nc', 'data': ['/ocean/rlovindeer/Atlantis/Physics/Wind/2018-01-01_Wind_variables.nc', '/ocean/rlovindeer/Atlantis/Physics/Wind/2018-01-03_Wind_variables.nc', '/ocean/rlovindeer/Atlantis/Physics/Wind/2018-01-05_Wind_variables.nc', '/ocean/rlovindeer/Atlantis/Physics/Wind/2018-01-07_Wind_variables.nc', '/ocean/rlovindeer/Atlantis/Physics/Wind/2018-01-09_Wind_variables.nc', '/ocean/rlovindeer/Atlantis/Physics/Wind/2018-01-11_Wind_variables.nc', '/ocean/rlovindeer/Atlantis/Physics/Wind/2018-01-13_Wind_variables.nc', '/ocean/rlovindeer/Atlantis/Physics/Wind/2018-01-15_Wind_variables.nc', '/ocean/rlovindeer/Atlantis/Physics/Wind/2018-01-17_Wind_variables.nc', '/ocean/rlovindeer/Atlantis/Physics/Wind/2018-01-19_Wind_variables.nc', '/ocean/rlovindeer/Atlantis/Physics/Wind/2018-01-21_Wind_variables.nc', '/ocean/rlovindeer/Atlantis/Physics/Wind/2018-01-23_Wind_variables.nc', '/ocean/rlovindeer/Atlantis/Physics/Wind/2018-01-25_Wind_variables.nc', '/ocean/rlovindeer/Atlantis/Physics/Wind/2018-01-27_Wind_variables.nc', '/ocean/rlovindeer/Atlantis/Physics/Wind/2018-01-29_Wind_variables.nc']}\n",
      "{'lon': 'longitude', 'lat': 'latitude', 'time': 'time'}\n"
     ]
    }
   ],
   "source": [
    "# HRDPS, Salish Sea, Atmospheric Forcing Grid, Geo-location, v1\"\n",
    "\n",
    "wind_data_path = winds + '*_Wind_variables.nc'\n",
    "wind_paths = parse_wildcards(wind_data_path, 'u')\n",
    "#wind_paths = ['/ocean/rlovindeer/Atlantis/Physics/Wind/2018-01-01_UWind_variables.nc','/ocean/rlovindeer/Atlantis/Physics/Wind/2018-01-02_UWind_variables.nc']\n",
    "wind_filenames = {'lon': air_grid,'lat': air_grid,'data': wind_paths}\n",
    "wind_dimensions = {'lon': 'longitude', 'lat': 'latitude', 'time': 'time'}\n",
    "\n",
    "print(wind_filenames)\n",
    "print(wind_dimensions)"
   ]
  },
  {
   "cell_type": "code",
   "execution_count": 17,
   "id": "c7a4b014-1f05-4dc8-9f4c-2a65f51d0df4",
   "metadata": {},
   "outputs": [
    {
     "name": "stdout",
     "output_type": "stream",
     "text": [
      "wind data loaded\n"
     ]
    }
   ],
   "source": [
    "Uwind_field = Field.from_netcdf(wind_filenames, ('U_wind', 'u_wind'),\n",
    "                                     wind_dimensions,\n",
    "                                     fieldtype='U',\n",
    "                                     allow_time_extrapolation=True,\n",
    "                                     transpose=False,\n",
    "                                     deferred_load=False)\n",
    "Vwind_field = Field.from_netcdf(wind_filenames, ('V_wind', 'v_wind'),\n",
    "                                     wind_dimensions,\n",
    "                                     fieldtype='V',\n",
    "                                     allow_time_extrapolation=True,\n",
    "                                     transpose=False,\n",
    "                                     deferred_load=False)\n",
    "\n",
    "print('wind data loaded')"
   ]
  },
  {
   "cell_type": "code",
   "execution_count": 18,
   "id": "37823b69-6440-49f1-a693-4b75a263b7cd",
   "metadata": {},
   "outputs": [],
   "source": [
    "# change longitude for the wind field\n",
    "Uwind_field.grid.lon = Uwind_field.grid.lon - 360\n",
    "Vwind_field.grid.lon = Vwind_field.grid.lon - 360\n",
    "\n",
    "[x_min, x_max, y_min, y_max] = Uwind_field.grid.lonlat_minmax\n",
    "\n",
    "Uwind_field.grid.lonlat_minmax = [x_min - 360, x_max - 360, y_min, y_max]\n",
    "Vwind_field.grid.lonlat_minmax = [x_min - 360, x_max - 360, y_min, y_max]\n",
    "\n",
    "## adding the wind field to the fieldset object\n",
    "fieldset.add_field(Uwind_field)\n",
    "fieldset.add_field(Vwind_field)\n",
    "wind_field = VectorField('UVwind', Uwind_field,  Vwind_field)\n",
    "fieldset.add_vector_field(wind_field)"
   ]
  },
  {
   "cell_type": "code",
   "execution_count": 19,
   "id": "b661e048-885d-492e-97c0-64fe19327be1",
   "metadata": {},
   "outputs": [],
   "source": [
    "# wind_percentage\n",
    "# We need to do a sensitivity analysis of the percetage of wind to be used here\n",
    "wind_percentage = 1\n",
    "fieldset.add_constant('wind_percentage', wind_percentage/100.0)"
   ]
  },
  {
   "cell_type": "raw",
   "id": "3f50b40f-3404-4c6e-abfb-0406dbb85b25",
   "metadata": {},
   "source": [
    "Just in case we want to add a maximum age\n",
    "# fieldset_sum.add_constant('max_age', dispersal_length)"
   ]
  },
  {
   "cell_type": "code",
   "execution_count": 22,
   "id": "927c988b-bba4-4231-812b-6948bb407bf6",
   "metadata": {},
   "outputs": [
    {
     "name": "stdout",
     "output_type": "stream",
     "text": [
      "setting up particles\n",
      "-1800.0\n",
      "100\n",
      "100\n",
      "Using shapefile /ocean/rlovindeer/Atlantis/ssam_oceanparcels/SalishSea/Shape_Scenarios/5b_Turn_Point_Diluted_bitumen.shp\n",
      "Number of sites :  1\n",
      "Up to 0 of 1\n",
      "80\n",
      "100\n",
      "Sucessfully seeded particles\n",
      "\n",
      "num_attempts = 2\n",
      "[-123.29342181743614, -123.29308906571126, -123.29331391769186, -123.29342967807801, -123.29367213484532, -123.29322765621787, -123.29364427002147, -123.29273589844243, -123.29375256140635, -123.29293599436784, -123.2934616546045, -123.29338335532181, -123.29266825116741, -123.2943451858446, -123.2928542047529, -123.2929631309421, -123.29277942014751, -123.29292112731557, -123.29359648571949, -123.29295838609143, -123.29428289559226, -123.29323960240134, -123.29263010660989, -123.2934757478005, -123.29369012056402, -123.2939903332198, -123.29297097706512, -123.29360714377957, -123.29338257654626, -123.29448186484314, -123.29328417344985, -123.29329525299856, -123.29328557645024, -123.29263194828697, -123.29315580384579, -123.29380042864285, -123.2936453805364, -123.29312418205214, -123.29318591101311, -123.29317816870477, -123.29409867932186, -123.29388858774216, -123.29337905090317, -123.29364224141707, -123.29431535482252, -123.29410169093181, -123.29419682540824, -123.29321322779307, -123.29401286123893, -123.29358682289829, -123.29420150527672, -123.29429869416168, -123.29320678526507, -123.29378199410269, -123.29432524189242, -123.292843554629, -123.29256652551398, -123.2935821420407, -123.29330975340451, -123.2930409172852, -123.29395383051884, -123.29392716404895, -123.29388347808522, -123.29369091845497, -123.29439114945131, -123.29313450020526, -123.29338624153559, -123.29398866546212, -123.29347294833707, -123.29433156342249, -123.29336755145289, -123.29266085204884, -123.2938823065391, -123.29318462368407, -123.2942558487192, -123.29308679003576, -123.29394063225811, -123.29415306172, -123.29334641857439, -123.29451005349162, -123.29389585268001, -123.29312675746637, -123.29376394076542, -123.29447008698722, -123.29316065889701, -123.29361205075489, -123.29344628602179, -123.29408565047521, -123.2931932880378, -123.29399279969053, -123.29300268713632, -123.29387941014235, -123.29375251665566, -123.2933428102169, -123.29285734753353, -123.29326148075681, -123.29397236037437, -123.29292335077618, -123.2941481725554, -123.29261386113005]\n",
      "P[100](lon=-123.293422, lat=48.684747, depth=0.000000, decay_value=1.000000, beached=0.000000, age=0.000000, time=59400.000000)\n",
      "P[101](lon=-123.293089, lat=48.683932, depth=0.000000, decay_value=1.000000, beached=0.000000, age=0.000000, time=81000.000000)\n",
      "P[102](lon=-123.293314, lat=48.684862, depth=0.000000, decay_value=1.000000, beached=0.000000, age=0.000000, time=1800.000000)\n",
      "P[103](lon=-123.293430, lat=48.685316, depth=0.000000, decay_value=1.000000, beached=0.000000, age=0.000000, time=9000.000000)\n",
      "P[104](lon=-123.293672, lat=48.683889, depth=0.000000, decay_value=1.000000, beached=0.000000, age=0.000000, time=23400.000000)\n",
      "P[105](lon=-123.293228, lat=48.684544, depth=0.000000, decay_value=1.000000, beached=0.000000, age=0.000000, time=66600.000000)\n",
      "P[106](lon=-123.293644, lat=48.684576, depth=0.000000, decay_value=1.000000, beached=0.000000, age=0.000000, time=81000.000000)\n",
      "P[107](lon=-123.292736, lat=48.684536, depth=0.000000, decay_value=1.000000, beached=0.000000, age=0.000000, time=52200.000000)\n",
      "P[108](lon=-123.293753, lat=48.685297, depth=0.000000, decay_value=1.000000, beached=0.000000, age=0.000000, time=70200.000000)\n",
      "P[109](lon=-123.292936, lat=48.684286, depth=0.000000, decay_value=1.000000, beached=0.000000, age=0.000000, time=41400.000000)\n",
      "P[110](lon=-123.293462, lat=48.685084, depth=0.000000, decay_value=1.000000, beached=0.000000, age=0.000000, time=63000.000000)\n",
      "P[111](lon=-123.293383, lat=48.684791, depth=0.000000, decay_value=1.000000, beached=0.000000, age=0.000000, time=70200.000000)\n",
      "P[112](lon=-123.292668, lat=48.683987, depth=0.000000, decay_value=1.000000, beached=0.000000, age=0.000000, time=19800.000000)\n",
      "P[113](lon=-123.294345, lat=48.684185, depth=0.000000, decay_value=1.000000, beached=0.000000, age=0.000000, time=1800.000000)\n",
      "P[114](lon=-123.292854, lat=48.684554, depth=0.000000, decay_value=1.000000, beached=0.000000, age=0.000000, time=48600.000000)\n",
      "P[115](lon=-123.292963, lat=48.685155, depth=0.000000, decay_value=1.000000, beached=0.000000, age=0.000000, time=55800.000000)\n",
      "P[116](lon=-123.292779, lat=48.684777, depth=0.000000, decay_value=1.000000, beached=0.000000, age=0.000000, time=84600.000000)\n",
      "P[117](lon=-123.292921, lat=48.684394, depth=0.000000, decay_value=1.000000, beached=0.000000, age=0.000000, time=19800.000000)\n",
      "P[118](lon=-123.293596, lat=48.685304, depth=0.000000, decay_value=1.000000, beached=0.000000, age=0.000000, time=77400.000000)\n",
      "P[119](lon=-123.292958, lat=48.684680, depth=0.000000, decay_value=1.000000, beached=0.000000, age=0.000000, time=-1800.000000)\n",
      "P[120](lon=-123.294283, lat=48.684239, depth=0.000000, decay_value=1.000000, beached=0.000000, age=0.000000, time=52200.000000)\n",
      "P[121](lon=-123.293240, lat=48.684604, depth=0.000000, decay_value=1.000000, beached=0.000000, age=0.000000, time=73800.000000)\n",
      "P[122](lon=-123.292630, lat=48.683995, depth=0.000000, decay_value=1.000000, beached=0.000000, age=0.000000, time=5400.000000)\n",
      "P[123](lon=-123.293476, lat=48.684712, depth=0.000000, decay_value=1.000000, beached=0.000000, age=0.000000, time=52200.000000)\n",
      "P[124](lon=-123.293690, lat=48.683972, depth=0.000000, decay_value=1.000000, beached=0.000000, age=0.000000, time=23400.000000)\n",
      "P[125](lon=-123.293990, lat=48.684628, depth=0.000000, decay_value=1.000000, beached=0.000000, age=0.000000, time=52200.000000)\n",
      "P[126](lon=-123.292971, lat=48.684249, depth=0.000000, decay_value=1.000000, beached=0.000000, age=0.000000, time=23400.000000)\n",
      "P[127](lon=-123.293607, lat=48.683663, depth=0.000000, decay_value=1.000000, beached=0.000000, age=0.000000, time=45000.000000)\n",
      "P[128](lon=-123.293383, lat=48.683988, depth=0.000000, decay_value=1.000000, beached=0.000000, age=0.000000, time=45000.000000)\n",
      "P[129](lon=-123.294482, lat=48.684532, depth=0.000000, decay_value=1.000000, beached=0.000000, age=0.000000, time=55800.000000)\n",
      "P[130](lon=-123.293284, lat=48.684573, depth=0.000000, decay_value=1.000000, beached=0.000000, age=0.000000, time=81000.000000)\n",
      "P[131](lon=-123.293295, lat=48.684540, depth=0.000000, decay_value=1.000000, beached=0.000000, age=0.000000, time=19800.000000)\n",
      "P[132](lon=-123.293286, lat=48.684698, depth=0.000000, decay_value=1.000000, beached=0.000000, age=0.000000, time=37800.000000)\n",
      "P[133](lon=-123.292632, lat=48.684696, depth=0.000000, decay_value=1.000000, beached=0.000000, age=0.000000, time=27000.000000)\n",
      "P[134](lon=-123.293156, lat=48.684255, depth=0.000000, decay_value=1.000000, beached=0.000000, age=0.000000, time=66600.000000)\n",
      "P[135](lon=-123.293800, lat=48.685185, depth=0.000000, decay_value=1.000000, beached=0.000000, age=0.000000, time=41400.000000)\n",
      "P[136](lon=-123.293645, lat=48.684127, depth=0.000000, decay_value=1.000000, beached=0.000000, age=0.000000, time=37800.000000)\n",
      "P[137](lon=-123.293124, lat=48.684263, depth=0.000000, decay_value=1.000000, beached=0.000000, age=0.000000, time=37800.000000)\n",
      "P[138](lon=-123.293186, lat=48.685004, depth=0.000000, decay_value=1.000000, beached=0.000000, age=0.000000, time=1800.000000)\n",
      "P[139](lon=-123.293178, lat=48.684799, depth=0.000000, decay_value=1.000000, beached=0.000000, age=0.000000, time=73800.000000)\n",
      "P[140](lon=-123.294099, lat=48.683592, depth=0.000000, decay_value=1.000000, beached=0.000000, age=0.000000, time=30600.000000)\n",
      "P[141](lon=-123.293889, lat=48.684820, depth=0.000000, decay_value=1.000000, beached=0.000000, age=0.000000, time=52200.000000)\n",
      "P[142](lon=-123.293379, lat=48.683691, depth=0.000000, decay_value=1.000000, beached=0.000000, age=0.000000, time=41400.000000)\n",
      "P[143](lon=-123.293642, lat=48.685128, depth=0.000000, decay_value=1.000000, beached=0.000000, age=0.000000, time=84600.000000)\n",
      "P[144](lon=-123.294315, lat=48.684623, depth=0.000000, decay_value=1.000000, beached=0.000000, age=0.000000, time=19800.000000)\n",
      "P[145](lon=-123.294102, lat=48.683639, depth=0.000000, decay_value=1.000000, beached=0.000000, age=0.000000, time=70200.000000)\n",
      "P[146](lon=-123.294197, lat=48.685088, depth=0.000000, decay_value=1.000000, beached=0.000000, age=0.000000, time=-1800.000000)\n",
      "P[147](lon=-123.293213, lat=48.685006, depth=0.000000, decay_value=1.000000, beached=0.000000, age=0.000000, time=34200.000000)\n",
      "P[148](lon=-123.294013, lat=48.684530, depth=0.000000, decay_value=1.000000, beached=0.000000, age=0.000000, time=12600.000000)\n",
      "P[149](lon=-123.293587, lat=48.684206, depth=0.000000, decay_value=1.000000, beached=0.000000, age=0.000000, time=81000.000000)\n",
      "P[150](lon=-123.294202, lat=48.684787, depth=0.000000, decay_value=1.000000, beached=0.000000, age=0.000000, time=1800.000000)\n",
      "P[151](lon=-123.294299, lat=48.684299, depth=0.000000, decay_value=1.000000, beached=0.000000, age=0.000000, time=27000.000000)\n",
      "P[152](lon=-123.293207, lat=48.684836, depth=0.000000, decay_value=1.000000, beached=0.000000, age=0.000000, time=1800.000000)\n",
      "P[153](lon=-123.293782, lat=48.685103, depth=0.000000, decay_value=1.000000, beached=0.000000, age=0.000000, time=-1800.000000)\n",
      "P[154](lon=-123.294325, lat=48.684112, depth=0.000000, decay_value=1.000000, beached=0.000000, age=0.000000, time=45000.000000)\n",
      "P[155](lon=-123.292844, lat=48.684852, depth=0.000000, decay_value=1.000000, beached=0.000000, age=0.000000, time=1800.000000)\n",
      "P[156](lon=-123.292567, lat=48.684434, depth=0.000000, decay_value=1.000000, beached=0.000000, age=0.000000, time=55800.000000)\n",
      "P[157](lon=-123.293582, lat=48.683500, depth=0.000000, decay_value=1.000000, beached=0.000000, age=0.000000, time=5400.000000)\n",
      "P[158](lon=-123.293310, lat=48.683429, depth=0.000000, decay_value=1.000000, beached=0.000000, age=0.000000, time=41400.000000)\n",
      "P[159](lon=-123.293041, lat=48.684979, depth=0.000000, decay_value=1.000000, beached=0.000000, age=0.000000, time=48600.000000)\n",
      "P[160](lon=-123.293954, lat=48.684082, depth=0.000000, decay_value=1.000000, beached=0.000000, age=0.000000, time=73800.000000)\n",
      "P[161](lon=-123.293927, lat=48.684800, depth=0.000000, decay_value=1.000000, beached=0.000000, age=0.000000, time=19800.000000)\n",
      "P[162](lon=-123.293883, lat=48.683721, depth=0.000000, decay_value=1.000000, beached=0.000000, age=0.000000, time=73800.000000)\n",
      "P[163](lon=-123.293691, lat=48.684635, depth=0.000000, decay_value=1.000000, beached=0.000000, age=0.000000, time=34200.000000)\n",
      "P[164](lon=-123.294391, lat=48.684546, depth=0.000000, decay_value=1.000000, beached=0.000000, age=0.000000, time=1800.000000)\n",
      "P[165](lon=-123.293135, lat=48.683867, depth=0.000000, decay_value=1.000000, beached=0.000000, age=0.000000, time=73800.000000)\n",
      "P[166](lon=-123.293386, lat=48.685260, depth=0.000000, decay_value=1.000000, beached=0.000000, age=0.000000, time=63000.000000)\n",
      "P[167](lon=-123.293989, lat=48.684620, depth=0.000000, decay_value=1.000000, beached=0.000000, age=0.000000, time=34200.000000)\n",
      "P[168](lon=-123.293473, lat=48.684463, depth=0.000000, decay_value=1.000000, beached=0.000000, age=0.000000, time=45000.000000)\n",
      "P[169](lon=-123.294332, lat=48.684571, depth=0.000000, decay_value=1.000000, beached=0.000000, age=0.000000, time=23400.000000)\n",
      "P[170](lon=-123.293368, lat=48.684852, depth=0.000000, decay_value=1.000000, beached=0.000000, age=0.000000, time=70200.000000)\n",
      "P[171](lon=-123.292661, lat=48.684016, depth=0.000000, decay_value=1.000000, beached=0.000000, age=0.000000, time=27000.000000)\n",
      "P[172](lon=-123.293882, lat=48.684188, depth=0.000000, decay_value=1.000000, beached=0.000000, age=0.000000, time=41400.000000)\n",
      "P[173](lon=-123.293185, lat=48.683811, depth=0.000000, decay_value=1.000000, beached=0.000000, age=0.000000, time=30600.000000)\n",
      "P[174](lon=-123.294256, lat=48.683764, depth=0.000000, decay_value=1.000000, beached=0.000000, age=0.000000, time=52200.000000)\n",
      "P[175](lon=-123.293087, lat=48.685280, depth=0.000000, decay_value=1.000000, beached=0.000000, age=0.000000, time=59400.000000)\n",
      "P[176](lon=-123.293941, lat=48.684871, depth=0.000000, decay_value=1.000000, beached=0.000000, age=0.000000, time=41400.000000)\n",
      "P[177](lon=-123.294153, lat=48.684373, depth=0.000000, decay_value=1.000000, beached=0.000000, age=0.000000, time=59400.000000)\n",
      "P[178](lon=-123.293346, lat=48.683846, depth=0.000000, decay_value=1.000000, beached=0.000000, age=0.000000, time=27000.000000)\n",
      "P[179](lon=-123.294510, lat=48.684260, depth=0.000000, decay_value=1.000000, beached=0.000000, age=0.000000, time=37800.000000)\n",
      "P[180](lon=-123.293896, lat=48.685205, depth=0.000000, decay_value=1.000000, beached=0.000000, age=0.000000, time=70200.000000)\n",
      "P[181](lon=-123.293127, lat=48.684940, depth=0.000000, decay_value=1.000000, beached=0.000000, age=0.000000, time=27000.000000)\n",
      "P[182](lon=-123.293764, lat=48.684058, depth=0.000000, decay_value=1.000000, beached=0.000000, age=0.000000, time=27000.000000)\n",
      "P[183](lon=-123.294470, lat=48.684206, depth=0.000000, decay_value=1.000000, beached=0.000000, age=0.000000, time=9000.000000)\n",
      "P[184](lon=-123.293161, lat=48.683657, depth=0.000000, decay_value=1.000000, beached=0.000000, age=0.000000, time=30600.000000)\n",
      "P[185](lon=-123.293612, lat=48.683499, depth=0.000000, decay_value=1.000000, beached=0.000000, age=0.000000, time=12600.000000)\n",
      "P[186](lon=-123.293446, lat=48.684843, depth=0.000000, decay_value=1.000000, beached=0.000000, age=0.000000, time=37800.000000)\n",
      "P[187](lon=-123.294086, lat=48.683686, depth=0.000000, decay_value=1.000000, beached=0.000000, age=0.000000, time=1800.000000)\n",
      "P[188](lon=-123.293193, lat=48.683551, depth=0.000000, decay_value=1.000000, beached=0.000000, age=0.000000, time=59400.000000)\n",
      "P[189](lon=-123.293993, lat=48.683571, depth=0.000000, decay_value=1.000000, beached=0.000000, age=0.000000, time=9000.000000)\n",
      "P[190](lon=-123.293003, lat=48.683882, depth=0.000000, decay_value=1.000000, beached=0.000000, age=0.000000, time=34200.000000)\n",
      "P[191](lon=-123.293879, lat=48.684233, depth=0.000000, decay_value=1.000000, beached=0.000000, age=0.000000, time=48600.000000)\n",
      "P[192](lon=-123.293753, lat=48.684506, depth=0.000000, decay_value=1.000000, beached=0.000000, age=0.000000, time=34200.000000)\n",
      "P[193](lon=-123.293343, lat=48.685113, depth=0.000000, decay_value=1.000000, beached=0.000000, age=0.000000, time=27000.000000)\n",
      "P[194](lon=-123.292857, lat=48.684846, depth=0.000000, decay_value=1.000000, beached=0.000000, age=0.000000, time=70200.000000)\n",
      "P[195](lon=-123.293261, lat=48.683932, depth=0.000000, decay_value=1.000000, beached=0.000000, age=0.000000, time=9000.000000)\n",
      "P[196](lon=-123.293972, lat=48.683502, depth=0.000000, decay_value=1.000000, beached=0.000000, age=0.000000, time=41400.000000)\n",
      "P[197](lon=-123.292923, lat=48.683995, depth=0.000000, decay_value=1.000000, beached=0.000000, age=0.000000, time=73800.000000)\n",
      "P[198](lon=-123.294148, lat=48.683916, depth=0.000000, decay_value=1.000000, beached=0.000000, age=0.000000, time=37800.000000)\n",
      "P[199](lon=-123.292614, lat=48.684304, depth=0.000000, decay_value=1.000000, beached=0.000000, age=0.000000, time=9000.000000)\n",
      "5b_Turn_Point_Diluted_bitumen_oil_disperse.nc\n"
     ]
    }
   ],
   "source": [
    "class MyParticle(ScipyParticle):\n",
    "    initial_time = -100\n",
    "    decay_value = Variable('decay_value', dtype=np.float32, initial=1.0)\n",
    "    beached = Variable('beached', dtype=np.int32, initial=0.)\n",
    "    age = Variable('age', dtype=np.int32, initial=0.)\n",
    "\n",
    "# Particle Features\n",
    "num_particles_per_day = 100\n",
    "feature_release_index = 0\n",
    "input_shapefile_name = \"/ocean/rlovindeer/Atlantis/ssam_oceanparcels/SalishSea/Shape_Scenarios/\" + scenario[file_id] + \".shp\"\n",
    "release_depth = -0.1\n",
    "release_start_time = '2018-01-01'  ## winter start on December, Summer Jul - Aug  ## ask Susan about when to do simulation\n",
    "release_end_time = '2018-01-02'\n",
    "release_start_time = np.datetime64(release_start_time)\n",
    "release_end_time = np.datetime64(release_end_time)\n",
    "time_origin = fieldset.U.grid.time_origin.time_origin\n",
    "\n",
    "print('setting up particles')\n",
    "\n",
    "[release_times, p, num_particles] = get_release_times(time_origin, num_particles_per_day, release_start_time, release_end_time)\n",
    "pset = get_particles(fieldset, num_particles, input_shapefile_name, MyParticle, feature_release_index, release_times, release_depth)\n",
    "\n",
    "print(pset)\n",
    "\n",
    "# Building the kernels\n",
    "decay_kernel = pset.Kernel(DecayParticle)\n",
    "beaching_kernel = pset.Kernel(BeachTesting)\n",
    "ForcingWind_kernel = pset.Kernel(WindAdvectionRK4)\n",
    "\n",
    "# Adding to the main kernel\n",
    "my_kernel = AdvectionRK4 + decay_kernel + ForcingWind_kernel + beaching_kernel\n",
    "\n",
    "output_file_name = scenario[file_id] + '_oil_disperse.nc'\n",
    "print(output_file_name)"
   ]
  },
  {
   "cell_type": "code",
   "execution_count": 23,
   "id": "95d50dee-2c5a-496c-ab9c-798b1e31f8fc",
   "metadata": {},
   "outputs": [
    {
     "name": "stdout",
     "output_type": "stream",
     "text": [
      "executing particle kernel\n"
     ]
    },
    {
     "name": "stderr",
     "output_type": "stream",
     "text": [
      "rm: cannot remove '5b_Turn_Point_Diluted_bitumen_oil_disperse.nc': No such file or directory\n"
     ]
    }
   ],
   "source": [
    "try:\n",
    "    os.system('rm ' + output_file_name)\n",
    "except:\n",
    "    pass\n",
    "\n",
    "print('executing particle kernel')"
   ]
  },
  {
   "cell_type": "code",
   "execution_count": 24,
   "id": "ca91b311-7297-479d-b17e-484906a1b675",
   "metadata": {},
   "outputs": [
    {
     "name": "stderr",
     "output_type": "stream",
     "text": [
      "INFO: Temporary output files are stored in out-ULUFKJCK.\n",
      "INFO: You can use \"parcels_convert_npydir_to_netcdf out-ULUFKJCK\" to convert these to a NetCDF file during the run.\n",
      "100% (518400.0 of 518400.0) |############| Elapsed Time: 0:24:20 Time:  0:24:20\n",
      "/home/rlovindeer/conda_envs/parcels-dev/lib/python3.8/site-packages/cartopy/io/__init__.py:241: DownloadWarning: Downloading: https://naciscdn.org/naturalearth/10m/physical/ne_10m_coastline.zip\n",
      "  warnings.warn('Downloading: {}'.format(url), DownloadWarning)\n"
     ]
    },
    {
     "data": {
      "image/png": "[encoded data removed]",
      "text/plain": [
       "<Figure size 432x288 with 1 Axes>"
      ]
     },
     "metadata": {
      "needs_background": "light"
     },
     "output_type": "display_data"
    },
    {
     "name": "stdout",
     "output_type": "stream",
     "text": [
      "particle trajectories completed\n"
     ]
    }
   ],
   "source": [
    "## Output properties\n",
    "output_file = pset.ParticleFile(name= output_file_name, outputdt = timedelta(minutes = 60))\n",
    "pset.execute(my_kernel,                 # the kernel (which defines how particles move)\n",
    "             runtime=timedelta(hours = 24*6),   # the total length of the run\n",
    "             dt = timedelta(minutes = 60),      # the timestep of the kernel\n",
    "             output_file = output_file)  # the file name and the time step of the outputs\n",
    "output_file.close()\n",
    "\n",
    "plotTrajectoriesFile(output_file_name);\n",
    "\n",
    "print('particle trajectories completed')"
   ]
  },
  {
   "cell_type": "code",
   "execution_count": null,
   "id": "c7cf24d8-fd0a-4c14-b371-9ce1e53e3d55",
   "metadata": {},
   "outputs": [],
   "source": []
  }
 ],
 "metadata": {
  "kernelspec": {
   "display_name": "Python 3 (ipykernel)",
   "language": "python",
   "name": "python3"
  },
  "language_info": {
   "codemirror_mode": {
    "name": "ipython",
    "version": 3
   },
   "file_extension": ".py",
   "mimetype": "text/x-python",
   "name": "python",
   "nbconvert_exporter": "python",
   "pygments_lexer": "ipython3",
   "version": "3.8.10"
  }
 },
 "nbformat": 4,
 "nbformat_minor": 5
}
