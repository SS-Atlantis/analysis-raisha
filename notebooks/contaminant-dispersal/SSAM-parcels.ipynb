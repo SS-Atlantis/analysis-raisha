{
 "cells": [
  {
   "attachments": {},
   "cell_type": "markdown",
   "id": "0b8d036b-e362-4a3f-a7cd-79fe1b26aa08",
   "metadata": {},
   "source": [
    "Using [Ocean Parcels](https://oceanparcels.org) to determine the surface movement of a point pollution oil spill.\n",
    "Original code written by Bec Gordon & Javier Porobic, CSIRO. Code requires additional python libraries stored in /Parcel_Utils/ within the [SSAM Ocean Parcels Repo](https://bitbucket.csiro.au/users/por07g/repos/ssam_oceanparcels/browse)"
   ]
  },
  {
   "cell_type": "code",
   "execution_count": 1,
   "id": "14e85ecd-0b24-4ae4-81a6-d9de3b6d88ef",
   "metadata": {},
   "outputs": [
    {
     "name": "stderr",
     "output_type": "stream",
     "text": [
      "INFO: Compiled ParcelsRandom ==> /tmp/parcels-2926/libparcels_random_8fb42be8-4172-4019-8298-3bf9efc82ad4.so\n"
     ]
    }
   ],
   "source": [
    "import sys\n",
    "import os\n",
    "import math\n",
    "import xarray as xr\n",
    "import matplotlib.pyplot as plt\n",
    "from pathlib import Path\n",
    "from pprint import pprint\n",
    "from parcels import VectorField, Variable, AdvectionRK4\n",
    "from parcels import FieldSet, plotTrajectoriesFile, Variable, ScipyParticle, Field, ParcelsRandom\n",
    "import numpy as np\n",
    "from datetime import timedelta\n",
    "sys.path.append('/ocean/rlovindeer/Atlantis/ssam_oceanparcels/Parcels_Utils/particle_tracking/parcels/')\n",
    "from util.seed_particles import get_particles, get_release_times\n",
    "# from util.parse_wildcards import parse_wildcards"
   ]
  },
  {
   "attachments": {},
   "cell_type": "markdown",
   "id": "e3895b9f",
   "metadata": {},
   "source": [
    "| **spill ID**  | **oil** | **spill size (m^3)** | **season** | **location** |\n",
    "|---------|---------|--------------------|------------|--------------|\n",
    "| 4a | Diesel | 500 | summer, ebb tide | Active Pass |\n",
    "| 5b | Dilbit | 2000 | winter, ebb tide | Turn Point, Arachne Reef |\n",
    "| 6a | Bunker C| 15 | summer, flood tide | leaving Vancouver Harbour, at Anchorage|\n",
    "| 7a | Bunker C| 1000 | winter storm, flood tide | Strait of Juan de Fuca |\n"
   ]
  },
  {
   "cell_type": "code",
   "execution_count": 19,
   "id": "2125a154",
   "metadata": {},
   "outputs": [],
   "source": [
    "# Spill release times (years 2019 and 2020 only)\n",
    "release_start_time = '2019-01-20'  # Winter Jan - 5b: 19, 26 | 7a: 19, 26 |Summer Jul - 6a: 16, 23 | 4a: 15, 22\n",
    "release_end_time = '2019-01-21'\n",
    "release_YYYY = '2019-01'"
   ]
  },
  {
   "attachments": {},
   "cell_type": "markdown",
   "id": "d10cbc8d-88bf-42b7-a270-2d523e1a02fa",
   "metadata": {},
   "source": [
    "Select the location of interest, which is specified by a shapefile."
   ]
  },
  {
   "cell_type": "code",
   "execution_count": 20,
   "id": "e7a25536-1e75-4dc0-8679-d4b81889f2c1",
   "metadata": {},
   "outputs": [
    {
     "name": "stdout",
     "output_type": "stream",
     "text": [
      "\n",
      "Scenario running  : 5b_Turn_Point_Diluted_bitumen\n"
     ]
    }
   ],
   "source": [
    "file_id = int(input( ))\n",
    "scenario = {1 : \"5b_Turn_Point_Diluted_bitumen\",\n",
    "            2 : \"6a_VancouverHarbour_BunkerC\",\n",
    "            3 : \"7a_JStrait_BunkerC\",\n",
    "            4 : \"4a_ActivePass_Diesel\",\n",
    "            5 : \"SandHeads\"}\n",
    "print(\"\\nScenario running  :\", scenario[file_id], sep = \" \")"
   ]
  },
  {
   "cell_type": "code",
   "execution_count": 21,
   "id": "34fdf25b-955c-4553-ac0c-930a86217905",
   "metadata": {},
   "outputs": [],
   "source": [
    "#Kernels\n",
    "def WindAdvectionRK4(particle, fieldset, time):\n",
    "    \"\"\"Advection of particles using fourth-order Runge-Kutta integration.\n",
    "     Function needs to be converted to Kernel object before execution\"\"\"\n",
    "    if particle.beached == 0:\n",
    "        wp = fieldset.wind_percentage ## this need to be add to the fieldset\n",
    "        \n",
    "        if wp > 0:\n",
    "\n",
    "            (u1, v1) = fieldset.UVwind[time, particle.depth, particle.lat, particle.lon]\n",
    "            u1 = u1 * wp\n",
    "            v1 = v1 * wp\n",
    "            lon1, lat1 = (particle.lon + u1*.5*particle.dt, particle.lat + v1*.5*particle.dt)\n",
    "            \n",
    "            (u2, v2) = fieldset.UVwind[time + .5 * particle.dt, particle.depth, lat1, lon1]\n",
    "            u2 = u2 * wp\n",
    "            v2 = v2 * wp\n",
    "            lon2, lat2 = (particle.lon + u2*.5*particle.dt, particle.lat + v2*.5*particle.dt)\n",
    "            \n",
    "            (u3, v3) = fieldset.UVwind[time + .5 * particle.dt, particle.depth, lat2, lon2]\n",
    "            u3 = u3 * wp\n",
    "            v3 = v3 * wp\n",
    "            lon3, lat3 = (particle.lon + u3*particle.dt, particle.lat + v3*particle.dt)\n",
    "            \n",
    "            (u4, v4) = fieldset.UVwind[time + particle.dt, particle.depth, lat3, lon3]\n",
    "            u4 = u4 * wp\n",
    "            v4 = v4 * wp            \n",
    "            \n",
    "            u_wind  = (u1 + 2*u2 + 2*u3 + u4) / 6. * particle.dt\n",
    "            v_wind  = (v1 + 2*v2 + 2*v3 + v4) / 6. * particle.dt\n",
    "            \n",
    "            particle.lon += (u1 + 2*u2 + 2*u3 + u4) / 6. * particle.dt\n",
    "            particle.lat += (v1 + 2*v2 + 2*v3 + v4) / 6. * particle.dt\n",
    "            \n",
    "            particle.beached = 2\n",
    "            \n",
    "def beaching(particle, fieldset, time):\n",
    "    \n",
    "    if particle.beached == 2:\n",
    "        \n",
    "        # Parameters\n",
    "        deg2m = 111000     # [m/deg]\n",
    "        D = 50   # maximum beaching distance [m]\n",
    "        \n",
    "        # Grounding probability over radius D\n",
    "        offset_lon = random.uniform(-1., 1.) * D / deg2m\n",
    "        offset_lat = random.uniform(-1., 1.) * D / deg2m\n",
    "\n",
    "        # Evaluate if chosen point is over land\n",
    "        (u, v) = fieldset.UV[time, particle.depth, particle.lat + offset_lat, particle.lon + offset_lon]\n",
    "        if u == 0 and v == 0: \n",
    "            particle.beached = 1\n",
    "        else:\n",
    "            particle.beached = 0\n",
    "\n",
    "def DeleteParticle(particle, fieldset, time):\n",
    "    particle.delete()\n",
    "\n",
    "def DecayParticle(particle, fieldset, time):\n",
    "    dt = particle.dt\n",
    "    field_decay_value = fieldset.decay\n",
    "    decay = math.exp(0 * dt/field_decay_value) # -0.099 for diesel, 0 for other oils\n",
    "    particle.decay_value = particle.decay_value * decay"
   ]
  },
  {
   "cell_type": "code",
   "execution_count": 22,
   "id": "e3c19fb9-3acc-442e-b1ea-62bcf5a3fb3b",
   "metadata": {},
   "outputs": [],
   "source": [
    "# Data Paths\n",
    "currents = Path('/ocean/rlovindeer/Atlantis/Physics/Raw_Transport_Data/')\n",
    "winds = Path('/ocean/rlovindeer/Atlantis/Physics/Wind/')\n",
    "sea_grid = Path('/ocean/rlovindeer/Atlantis/Physics/Grids/ubcSSnBathymetryV17-02_a29d_efc9_4047.nc')\n",
    "air_grid = Path('/ocean/rlovindeer/Atlantis/Physics/Grids/ubcSSaAtmosphereGridV1_0f03_6268_df4b.nc')"
   ]
  },
  {
   "cell_type": "code",
   "execution_count": 23,
   "id": "62049698-848c-46a5-a4da-4fb6de91df61",
   "metadata": {},
   "outputs": [
    {
     "name": "stdout",
     "output_type": "stream",
     "text": [
      "creating from_nemo\n",
      "creating from_nemo done\n",
      "add_constant decay\n"
     ]
    }
   ],
   "source": [
    "# Salish Sea NEMO Model Grid, Geo-location and Bathymetry, v17-02\n",
    "\n",
    "# Currents\n",
    "# u_data_path = currents + '2018-01*URaw_variables.nc'\n",
    "# v_data_path = currents + '2018-01*VRaw_variables.nc'\n",
    "# u_current = parse_wildcards(u_data_path, 'u')\n",
    "# v_current = parse_wildcards(v_data_path, 'v')\n",
    "\n",
    "u_current = sorted([p for p in currents.glob(str(release_YYYY) + '*URaw_variables.nc')])\n",
    "v_current = sorted([p for p in currents.glob(str(release_YYYY) + '*VRaw_variables.nc')])\n",
    "\n",
    "filenames = {\n",
    "    'U': {'lon': sea_grid,'lat': sea_grid,'data': u_current},\n",
    "    'V': {'lon': sea_grid,'lat': sea_grid,'data': v_current}\n",
    "            }\n",
    "\n",
    "variables = {'U': 'uVelocity','V': 'vVelocity'}\n",
    "dimensions = {'lon': 'longitude', 'lat': 'latitude', 'time': 'time'}\n",
    "print('creating from_nemo')\n",
    "fieldset = FieldSet.from_nemo(filenames, variables, dimensions, allow_time_extrapolation=True)\n",
    "print('creating from_nemo done')\n",
    "\n",
    "fieldset.add_constant('decay', 1.0 * 3600.0)\n",
    "print('add_constant decay')"
   ]
  },
  {
   "cell_type": "code",
   "execution_count": 24,
   "id": "10d71250-4e60-47bd-8cbb-12c2b538d61b",
   "metadata": {},
   "outputs": [
    {
     "name": "stdout",
     "output_type": "stream",
     "text": [
      "{'data': [PosixPath('/ocean/rlovindeer/Atlantis/Physics/Wind/2019-01-01_Wind_variables.nc'),\n",
      "          PosixPath('/ocean/rlovindeer/Atlantis/Physics/Wind/2019-01-07_Wind_variables.nc'),\n",
      "          PosixPath('/ocean/rlovindeer/Atlantis/Physics/Wind/2019-01-13_Wind_variables.nc'),\n",
      "          PosixPath('/ocean/rlovindeer/Atlantis/Physics/Wind/2019-01-19_Wind_variables.nc'),\n",
      "          PosixPath('/ocean/rlovindeer/Atlantis/Physics/Wind/2019-01-25_Wind_variables.nc'),\n",
      "          PosixPath('/ocean/rlovindeer/Atlantis/Physics/Wind/2019-01-31_Wind_variables.nc')],\n",
      " 'lat': '/ocean/rlovindeer/Atlantis/Physics/Grids/ubcSSaAtmosphereGridV1_0f03_6268_df4b.nc',\n",
      " 'lon': '/ocean/rlovindeer/Atlantis/Physics/Grids/ubcSSaAtmosphereGridV1_0f03_6268_df4b.nc'}\n"
     ]
    }
   ],
   "source": [
    "# HRDPS, Salish Sea, Atmospheric Forcing Grid, Geo-location, v1\"\n",
    "\n",
    "wind_paths = sorted([p for p in winds.glob(str(release_YYYY) + '*Wind_variables.nc')])\n",
    "wind_filenames = {'lon': os.fspath(air_grid),'lat': os.fspath(air_grid),'data': wind_paths}\n",
    "wind_dimensions = {'lon': 'longitude', 'lat': 'latitude', 'time': 'time'}\n",
    "\n",
    "pprint(wind_filenames)"
   ]
  },
  {
   "cell_type": "code",
   "execution_count": 25,
   "id": "c7a4b014-1f05-4dc8-9f4c-2a65f51d0df4",
   "metadata": {},
   "outputs": [
    {
     "name": "stdout",
     "output_type": "stream",
     "text": [
      "wind data loaded\n"
     ]
    }
   ],
   "source": [
    "Uwind_field = Field.from_netcdf(wind_filenames, ('U_wind', 'u_wind'),\n",
    "                                     wind_dimensions,\n",
    "                                     fieldtype='U',\n",
    "                                     allow_time_extrapolation=True,\n",
    "                                     transpose=False,\n",
    "                                     deferred_load=False)\n",
    "Vwind_field = Field.from_netcdf(wind_filenames, ('V_wind', 'v_wind'),\n",
    "                                     wind_dimensions,\n",
    "                                     fieldtype='V',\n",
    "                                     allow_time_extrapolation=True,\n",
    "                                     transpose=False,\n",
    "                                     deferred_load=False)\n",
    "\n",
    "print('wind data loaded')"
   ]
  },
  {
   "cell_type": "code",
   "execution_count": 26,
   "id": "37823b69-6440-49f1-a693-4b75a263b7cd",
   "metadata": {},
   "outputs": [],
   "source": [
    "# change longitude for the wind field\n",
    "Uwind_field.grid.lon = Uwind_field.grid.lon - 360\n",
    "Vwind_field.grid.lon = Vwind_field.grid.lon - 360\n",
    "\n",
    "[x_min, x_max, y_min, y_max] = Uwind_field.grid.lonlat_minmax\n",
    "\n",
    "Uwind_field.grid.lonlat_minmax = [x_min - 360, x_max - 360, y_min, y_max]\n",
    "Vwind_field.grid.lonlat_minmax = [x_min - 360, x_max - 360, y_min, y_max]\n",
    "\n",
    "## adding the wind field to the fieldset object\n",
    "fieldset.add_field(Uwind_field)\n",
    "fieldset.add_field(Vwind_field)\n",
    "wind_field = VectorField('UVwind', Uwind_field,  Vwind_field)\n",
    "fieldset.add_vector_field(wind_field)"
   ]
  },
  {
   "cell_type": "code",
   "execution_count": 27,
   "id": "b661e048-885d-492e-97c0-64fe19327be1",
   "metadata": {},
   "outputs": [],
   "source": [
    "# wind_percentage\n",
    "# We need to do a sensitivity analysis of the percetage of wind to be used here\n",
    "wind_percentage = 3\n",
    "fieldset.add_constant('wind_percentage', wind_percentage/100.0)"
   ]
  },
  {
   "cell_type": "raw",
   "id": "3f50b40f-3404-4c6e-abfb-0406dbb85b25",
   "metadata": {},
   "source": [
    "Just in case we want to add a maximum age\n",
    "# fieldset_sum.add_constant('max_age', dispersal_length)"
   ]
  },
  {
   "cell_type": "code",
   "execution_count": 28,
   "id": "927c988b-bba4-4231-812b-6948bb407bf6",
   "metadata": {},
   "outputs": [
    {
     "name": "stdout",
     "output_type": "stream",
     "text": [
      "setting up particles\n",
      "1380600.0\n",
      "100\n",
      "100\n",
      "Using shapefile /ocean/rlovindeer/Atlantis/ssam_oceanparcels/SalishSea/Shape_Scenarios/5b_Turn_Point_Diluted_bitumen.shp\n",
      "Number of sites :  1\n",
      "Up to 0 of 1\n",
      "80\n",
      "100\n",
      "Sucessfully seeded particles\n",
      "\n",
      "num_attempts = 2\n",
      "[-123.29342181743614, -123.29308906571126, -123.29331391769186, -123.29342967807801, -123.29367213484532, -123.29322765621787, -123.29364427002147, -123.29273589844243, -123.29375256140635, -123.29293599436784, -123.2934616546045, -123.29338335532181, -123.29266825116741, -123.2943451858446, -123.2928542047529, -123.2929631309421, -123.29277942014751, -123.29292112731557, -123.29359648571949, -123.29295838609143, -123.29428289559226, -123.29323960240134, -123.29263010660989, -123.2934757478005, -123.29369012056402, -123.2939903332198, -123.29297097706512, -123.29360714377957, -123.29338257654626, -123.29448186484314, -123.29328417344985, -123.29329525299856, -123.29328557645024, -123.29263194828697, -123.29315580384579, -123.29380042864285, -123.2936453805364, -123.29312418205214, -123.29318591101311, -123.29317816870477, -123.29409867932186, -123.29388858774216, -123.29337905090317, -123.29364224141707, -123.29431535482252, -123.29410169093181, -123.29419682540824, -123.29321322779307, -123.29401286123893, -123.29358682289829, -123.29420150527672, -123.29429869416168, -123.29320678526507, -123.29378199410269, -123.29432524189242, -123.292843554629, -123.29256652551398, -123.2935821420407, -123.29330975340451, -123.2930409172852, -123.29395383051884, -123.29392716404895, -123.29388347808522, -123.29369091845497, -123.29439114945131, -123.29313450020526, -123.29338624153559, -123.29398866546212, -123.29347294833707, -123.29433156342249, -123.29336755145289, -123.29266085204884, -123.2938823065391, -123.29318462368407, -123.2942558487192, -123.29308679003576, -123.29394063225811, -123.29415306172, -123.29334641857439, -123.29451005349162, -123.29389585268001, -123.29312675746637, -123.29376394076542, -123.29447008698722, -123.29316065889701, -123.29361205075489, -123.29344628602179, -123.29408565047521, -123.2931932880378, -123.29399279969053, -123.29300268713632, -123.29387941014235, -123.29375251665566, -123.2933428102169, -123.29285734753353, -123.29326148075681, -123.29397236037437, -123.29292335077618, -123.2941481725554, -123.29261386113005]\n",
      "5b_Turn_Point_Diluted_bitumen2019-01-20_OP_D50_wp3.nc\n"
     ]
    }
   ],
   "source": [
    "class MyParticle(ScipyParticle):\n",
    "    initial_time = -100\n",
    "    decay_value = Variable('decay_value', dtype=np.float32, initial=1.0)\n",
    "    beached = Variable('beached', dtype=np.int32, initial=0.)\n",
    "    age = Variable('age', dtype=np.int32, initial=0.)\n",
    "\n",
    "# Particle Features\n",
    "num_particles_per_day = 100\n",
    "feature_release_index = 0\n",
    "input_shapefile_name = \"/ocean/rlovindeer/Atlantis/ssam_oceanparcels/SalishSea/Shape_Scenarios/\" + scenario[file_id] + \".shp\"\n",
    "release_depth = -0.1\n",
    "release_start_time = np.datetime64(release_start_time)\n",
    "release_end_time = np.datetime64(release_end_time)\n",
    "time_origin = fieldset.U.grid.time_origin.time_origin\n",
    "\n",
    "print('setting up particles')\n",
    "\n",
    "[release_times, p, num_particles] = get_release_times(time_origin, num_particles_per_day, release_start_time, release_end_time)\n",
    "pset = get_particles(fieldset, num_particles, input_shapefile_name, MyParticle, feature_release_index, release_times, release_depth)\n",
    "\n",
    "#print(pset)\n",
    "\n",
    "# Building the kernels\n",
    "decay_kernel = pset.Kernel(DecayParticle)\n",
    "beaching_kernel = pset.Kernel(beaching)\n",
    "ForcingWind_kernel = pset.Kernel(WindAdvectionRK4)\n",
    "\n",
    "# Adding to the main kernel\n",
    "my_kernel =  AdvectionRK4 + decay_kernel + ForcingWind_kernel + beaching_kernel\n",
    "\n",
    "output_file_name = scenario[file_id] + str(release_start_time) +  '_OP_D50_wp3.nc'\n",
    "print(output_file_name)"
   ]
  },
  {
   "cell_type": "code",
   "execution_count": 29,
   "id": "95d50dee-2c5a-496c-ab9c-798b1e31f8fc",
   "metadata": {},
   "outputs": [
    {
     "name": "stdout",
     "output_type": "stream",
     "text": [
      "executing particle kernel\n"
     ]
    },
    {
     "name": "stderr",
     "output_type": "stream",
     "text": [
      "rm: cannot remove '5b_Turn_Point_Diluted_bitumen2019-01-20_OP_D50_wp3.nc': No such file or directory\n"
     ]
    }
   ],
   "source": [
    "try:\n",
    "    os.system('rm ' + output_file_name)\n",
    "except:\n",
    "    pass\n",
    "\n",
    "print('executing particle kernel')"
   ]
  },
  {
   "cell_type": "code",
   "execution_count": 30,
   "id": "ca91b311-7297-479d-b17e-484906a1b675",
   "metadata": {},
   "outputs": [
    {
     "name": "stderr",
     "output_type": "stream",
     "text": [
      "INFO: Temporary output files are stored in out-GQOJGLAP.\n",
      "INFO: You can use \"parcels_convert_npydir_to_netcdf out-GQOJGLAP\" to convert these to a NetCDF file during the run.\n",
      "N/A% (0 of 604800.0) |                   | Elapsed Time: 0:00:00 ETA:  --:--:--\n",
      "  5% (36000.0 of 604800.0) |             | Elapsed Time: 0:00:02 ETA:   0:00:36\n",
      "  6% (39600.0 of 604800.0) |             | Elapsed Time: 0:00:04 ETA:   0:06:36\n",
      "  7% (43200.0 of 604800.0) |             | Elapsed Time: 0:00:07 ETA:   0:07:00\n",
      "  7% (45000.0 of 604800.0) |             | Elapsed Time: 0:00:09 ETA:   0:10:56\n",
      "  7% (46800.0 of 604800.0) |#            | Elapsed Time: 0:00:11 ETA:   0:09:10\n",
      "  8% (50400.0 of 604800.0) |#            | Elapsed Time: 0:00:15 ETA:   0:10:04\n",
      "  8% (54000.0 of 604800.0) |#            | Elapsed Time: 0:00:19 ETA:   0:10:44\n",
      "  9% (57600.0 of 604800.0) |#            | Elapsed Time: 0:00:23 ETA:   0:11:18\n",
      " 10% (61200.0 of 604800.0) |#            | Elapsed Time: 0:00:28 ETA:   0:11:15\n",
      " 10% (64800.0 of 604800.0) |#            | Elapsed Time: 0:00:32 ETA:   0:11:53\n",
      " 11% (66600.0 of 604800.0) |#            | Elapsed Time: 0:00:35 ETA:   0:14:28\n",
      " 11% (68400.0 of 604800.0) |#            | Elapsed Time: 0:00:37 ETA:   0:10:46\n",
      " 11% (72000.0 of 604800.0) |#            | Elapsed Time: 0:00:43 ETA:   0:14:16\n",
      " 12% (75600.0 of 604800.0) |#            | Elapsed Time: 0:00:50 ETA:   0:15:46\n",
      " 13% (79200.0 of 604800.0) |#            | Elapsed Time: 0:00:57 ETA:   0:16:43\n",
      " 13% (82800.0 of 604800.0) |#            | Elapsed Time: 0:01:04 ETA:   0:16:47\n",
      " 14% (86400.0 of 604800.0) |#            | Elapsed Time: 0:01:11 ETA:   0:17:30\n",
      " 14% (88200.0 of 604800.0) |#            | Elapsed Time: 0:01:15 ETA:   0:20:02\n",
      " 14% (90000.0 of 604800.0) |#            | Elapsed Time: 0:01:18 ETA:   0:14:47\n",
      " 15% (93600.0 of 604800.0) |##           | Elapsed Time: 0:01:26 ETA:   0:19:24\n",
      " 16% (97200.0 of 604800.0) |##           | Elapsed Time: 0:01:35 ETA:   0:20:40\n",
      " 16% (100800.0 of 604800.0) |##          | Elapsed Time: 0:01:44 ETA:   0:21:13\n",
      " 17% (104400.0 of 604800.0) |##          | Elapsed Time: 0:01:54 ETA:   0:21:49\n",
      " 17% (108000.0 of 604800.0) |##          | Elapsed Time: 0:02:03 ETA:   0:22:21\n",
      " 18% (109800.0 of 604800.0) |##          | Elapsed Time: 0:02:08 ETA:   0:22:45\n",
      " 18% (111600.0 of 604800.0) |##          | Elapsed Time: 0:02:12 ETA:   0:16:55\n",
      " 19% (115200.0 of 604800.0) |##          | Elapsed Time: 0:02:22 ETA:   0:21:50\n",
      " 19% (118800.0 of 604800.0) |##          | Elapsed Time: 0:02:32 ETA:   0:22:32\n",
      " 20% (122400.0 of 604800.0) |##          | Elapsed Time: 0:02:42 ETA:   0:22:28\n",
      " 20% (126000.0 of 604800.0) |##          | Elapsed Time: 0:02:52 ETA:   0:22:19\n",
      " 21% (129600.0 of 604800.0) |##          | Elapsed Time: 0:03:02 ETA:   0:22:12\n",
      " 21% (131400.0 of 604800.0) |##          | Elapsed Time: 0:03:07 ETA:   0:22:06\n",
      " 22% (133200.0 of 604800.0) |##          | Elapsed Time: 0:03:11 ETA:   0:16:18\n",
      " 22% (136800.0 of 604800.0) |##          | Elapsed Time: 0:03:20 ETA:   0:20:53\n",
      " 23% (140400.0 of 604800.0) |##          | Elapsed Time: 0:03:30 ETA:   0:21:14\n",
      " 23% (144000.0 of 604800.0) |##          | Elapsed Time: 0:03:40 ETA:   0:20:47\n",
      " 24% (147600.0 of 604800.0) |##          | Elapsed Time: 0:03:50 ETA:   0:20:29\n",
      " 25% (151200.0 of 604800.0) |###         | Elapsed Time: 0:03:59 ETA:   0:20:18\n",
      " 25% (153000.0 of 604800.0) |###         | Elapsed Time: 0:04:04 ETA:   0:20:23\n",
      " 25% (154800.0 of 604800.0) |###         | Elapsed Time: 0:04:08 ETA:   0:15:06\n",
      " 26% (158400.0 of 604800.0) |###         | Elapsed Time: 0:04:17 ETA:   0:19:30\n",
      " 26% (162000.0 of 604800.0) |###         | Elapsed Time: 0:04:27 ETA:   0:20:07\n",
      " 27% (165600.0 of 604800.0) |###         | Elapsed Time: 0:04:37 ETA:   0:19:59\n",
      " 27% (169200.0 of 604800.0) |###         | Elapsed Time: 0:04:47 ETA:   0:19:45\n",
      " 28% (172800.0 of 604800.0) |###         | Elapsed Time: 0:04:56 ETA:   0:19:31\n",
      " 28% (174600.0 of 604800.0) |###         | Elapsed Time: 0:05:01 ETA:   0:19:26\n",
      " 29% (176400.0 of 604800.0) |###         | Elapsed Time: 0:05:05 ETA:   0:14:03\n",
      " 29% (180000.0 of 604800.0) |###         | Elapsed Time: 0:05:14 ETA:   0:18:05\n",
      " 30% (183600.0 of 604800.0) |###         | Elapsed Time: 0:05:24 ETA:   0:18:27\n",
      " 30% (187200.0 of 604800.0) |###         | Elapsed Time: 0:05:33 ETA:   0:18:14\n",
      " 31% (190800.0 of 604800.0) |###         | Elapsed Time: 0:05:42 ETA:   0:18:09\n",
      " 32% (194400.0 of 604800.0) |###         | Elapsed Time: 0:05:52 ETA:   0:17:18\n",
      " 32% (196200.0 of 604800.0) |###         | Elapsed Time: 0:05:56 ETA:   0:16:56\n",
      " 32% (198000.0 of 604800.0) |###         | Elapsed Time: 0:05:59 ETA:   0:12:36\n",
      " 33% (201600.0 of 604800.0) |####        | Elapsed Time: 0:06:08 ETA:   0:16:11\n",
      " 33% (205200.0 of 604800.0) |####        | Elapsed Time: 0:06:17 ETA:   0:16:36\n",
      " 34% (208800.0 of 604800.0) |####        | Elapsed Time: 0:06:26 ETA:   0:16:21\n",
      " 35% (212400.0 of 604800.0) |####        | Elapsed Time: 0:06:35 ETA:   0:16:01\n",
      " 35% (216000.0 of 604800.0) |####        | Elapsed Time: 0:06:43 ETA:   0:15:33\n",
      " 36% (217800.0 of 604800.0) |####        | Elapsed Time: 0:06:48 ETA:   0:15:15\n",
      " 36% (219600.0 of 604800.0) |####        | Elapsed Time: 0:06:51 ETA:   0:10:58\n",
      " 36% (223200.0 of 604800.0) |####        | Elapsed Time: 0:06:58 ETA:   0:13:21\n",
      " 37% (226800.0 of 604800.0) |####        | Elapsed Time: 0:07:06 ETA:   0:12:34\n",
      " 38% (230400.0 of 604800.0) |####        | Elapsed Time: 0:07:12 ETA:   0:11:54\n",
      " 38% (234000.0 of 604800.0) |####        | Elapsed Time: 0:07:19 ETA:   0:11:36\n",
      " 39% (237600.0 of 604800.0) |####        | Elapsed Time: 0:07:26 ETA:   0:11:23\n",
      " 39% (239400.0 of 604800.0) |####        | Elapsed Time: 0:07:29 ETA:   0:11:22\n",
      " 39% (241200.0 of 604800.0) |####        | Elapsed Time: 0:07:32 ETA:   0:08:33\n",
      " 40% (244800.0 of 604800.0) |####        | Elapsed Time: 0:07:38 ETA:   0:10:51\n",
      " 41% (248400.0 of 604800.0) |####        | Elapsed Time: 0:07:45 ETA:   0:11:18\n",
      " 41% (252000.0 of 604800.0) |#####       | Elapsed Time: 0:07:52 ETA:   0:11:18\n",
      " 42% (255600.0 of 604800.0) |#####       | Elapsed Time: 0:07:59 ETA:   0:11:12\n",
      " 42% (259200.0 of 604800.0) |#####       | Elapsed Time: 0:08:06 ETA:   0:11:02\n",
      " 43% (261000.0 of 604800.0) |#####       | Elapsed Time: 0:08:09 ETA:   0:10:40\n",
      " 43% (262800.0 of 604800.0) |#####       | Elapsed Time: 0:08:12 ETA:   0:08:38\n",
      " 44% (266400.0 of 604800.0) |#####       | Elapsed Time: 0:08:18 ETA:   0:09:57\n",
      " 44% (270000.0 of 604800.0) |#####       | Elapsed Time: 0:08:25 ETA:   0:09:49\n",
      " 45% (273600.0 of 604800.0) |#####       | Elapsed Time: 0:08:31 ETA:   0:09:46\n",
      " 45% (277200.0 of 604800.0) |#####       | Elapsed Time: 0:08:37 ETA:   0:09:33\n",
      " 46% (280800.0 of 604800.0) |#####       | Elapsed Time: 0:08:43 ETA:   0:09:13\n",
      " 46% (282600.0 of 604800.0) |#####       | Elapsed Time: 0:08:47 ETA:   0:09:07\n",
      " 47% (284400.0 of 604800.0) |#####       | Elapsed Time: 0:08:49 ETA:   0:07:22\n",
      " 47% (288000.0 of 604800.0) |#####       | Elapsed Time: 0:08:55 ETA:   0:08:53\n",
      " 48% (291600.0 of 604800.0) |#####       | Elapsed Time: 0:09:01 ETA:   0:08:36\n",
      " 48% (295200.0 of 604800.0) |#####       | Elapsed Time: 0:09:07 ETA:   0:08:21\n",
      " 49% (298800.0 of 604800.0) |#####       | Elapsed Time: 0:09:13 ETA:   0:08:08\n",
      " 50% (302400.0 of 604800.0) |######      | Elapsed Time: 0:09:18 ETA:   0:07:52\n",
      " 50% (304200.0 of 604800.0) |######      | Elapsed Time: 0:09:21 ETA:   0:07:47\n",
      " 50% (306000.0 of 604800.0) |######      | Elapsed Time: 0:09:23 ETA:   0:05:53\n",
      " 51% (309600.0 of 604800.0) |######      | Elapsed Time: 0:09:28 ETA:   0:06:52\n",
      " 51% (313200.0 of 604800.0) |######      | Elapsed Time: 0:09:33 ETA:   0:06:21\n",
      " 52% (316800.0 of 604800.0) |######      | Elapsed Time: 0:09:37 ETA:   0:05:58\n",
      " 52% (320400.0 of 604800.0) |######      | Elapsed Time: 0:09:42 ETA:   0:05:42\n",
      " 53% (324000.0 of 604800.0) |######      | Elapsed Time: 0:09:46 ETA:   0:05:28\n",
      " 53% (325800.0 of 604800.0) |######      | Elapsed Time: 0:09:48 ETA:   0:05:23\n",
      " 54% (327600.0 of 604800.0) |######      | Elapsed Time: 0:09:50 ETA:   0:04:51\n",
      " 54% (331200.0 of 604800.0) |######      | Elapsed Time: 0:09:54 ETA:   0:05:14\n",
      " 55% (334800.0 of 604800.0) |######      | Elapsed Time: 0:09:58 ETA:   0:05:08\n",
      " 55% (338400.0 of 604800.0) |######      | Elapsed Time: 0:10:02 ETA:   0:05:06\n",
      " 56% (342000.0 of 604800.0) |######      | Elapsed Time: 0:10:06 ETA:   0:05:02\n",
      " 57% (345600.0 of 604800.0) |######      | Elapsed Time: 0:10:10 ETA:   0:04:58\n",
      " 57% (347400.0 of 604800.0) |######      | Elapsed Time: 0:10:12 ETA:   0:04:56\n",
      " 57% (349200.0 of 604800.0) |######      | Elapsed Time: 0:10:14 ETA:   0:04:29\n",
      " 58% (352800.0 of 604800.0) |#######     | Elapsed Time: 0:10:18 ETA:   0:04:48\n",
      " 58% (356400.0 of 604800.0) |#######     | Elapsed Time: 0:10:22 ETA:   0:04:41\n",
      " 59% (360000.0 of 604800.0) |#######     | Elapsed Time: 0:10:26 ETA:   0:04:37\n",
      " 60% (363600.0 of 604800.0) |#######     | Elapsed Time: 0:10:31 ETA:   0:04:36\n",
      " 60% (367200.0 of 604800.0) |#######     | Elapsed Time: 0:10:35 ETA:   0:04:35\n",
      " 61% (369000.0 of 604800.0) |#######     | Elapsed Time: 0:10:37 ETA:   0:04:37\n",
      " 61% (370800.0 of 604800.0) |#######     | Elapsed Time: 0:10:39 ETA:   0:04:12\n",
      " 61% (374400.0 of 604800.0) |#######     | Elapsed Time: 0:10:43 ETA:   0:04:32\n",
      " 62% (378000.0 of 604800.0) |#######     | Elapsed Time: 0:10:47 ETA:   0:04:28\n",
      " 63% (381600.0 of 604800.0) |#######     | Elapsed Time: 0:10:51 ETA:   0:04:23\n",
      " 63% (385200.0 of 604800.0) |#######     | Elapsed Time: 0:10:56 ETA:   0:04:19\n",
      " 64% (388800.0 of 604800.0) |#######     | Elapsed Time: 0:11:00 ETA:   0:04:15\n",
      " 64% (390600.0 of 604800.0) |#######     | Elapsed Time: 0:11:02 ETA:   0:04:07\n",
      " 64% (392400.0 of 604800.0) |#######     | Elapsed Time: 0:11:04 ETA:   0:03:39\n",
      " 65% (396000.0 of 604800.0) |#######     | Elapsed Time: 0:11:08 ETA:   0:03:48\n",
      " 66% (399600.0 of 604800.0) |#######     | Elapsed Time: 0:11:12 ETA:   0:03:42\n",
      " 66% (403200.0 of 604800.0) |########    | Elapsed Time: 0:11:15 ETA:   0:03:39\n",
      " 67% (406800.0 of 604800.0) |########    | Elapsed Time: 0:11:19 ETA:   0:03:33\n",
      " 67% (410400.0 of 604800.0) |########    | Elapsed Time: 0:11:23 ETA:   0:03:32\n",
      " 68% (412200.0 of 604800.0) |########    | Elapsed Time: 0:11:25 ETA:   0:03:31\n",
      " 68% (414000.0 of 604800.0) |########    | Elapsed Time: 0:11:27 ETA:   0:03:11\n",
      " 69% (417600.0 of 604800.0) |########    | Elapsed Time: 0:11:31 ETA:   0:03:23\n",
      " 69% (421200.0 of 604800.0) |########    | Elapsed Time: 0:11:35 ETA:   0:03:18\n",
      " 70% (424800.0 of 604800.0) |########    | Elapsed Time: 0:11:39 ETA:   0:03:14\n",
      " 70% (428400.0 of 604800.0) |########    | Elapsed Time: 0:11:42 ETA:   0:03:10\n",
      " 71% (432000.0 of 604800.0) |########    | Elapsed Time: 0:11:46 ETA:   0:03:07\n",
      " 71% (433800.0 of 604800.0) |########    | Elapsed Time: 0:11:48 ETA:   0:03:05\n",
      " 72% (435600.0 of 604800.0) |########    | Elapsed Time: 0:11:50 ETA:   0:02:42\n",
      " 72% (439200.0 of 604800.0) |########    | Elapsed Time: 0:11:54 ETA:   0:02:52\n",
      " 73% (442800.0 of 604800.0) |########    | Elapsed Time: 0:11:57 ETA:   0:02:56\n",
      " 73% (446400.0 of 604800.0) |########    | Elapsed Time: 0:12:01 ETA:   0:02:51\n",
      " 74% (450000.0 of 604800.0) |########    | Elapsed Time: 0:12:05 ETA:   0:02:48\n",
      " 75% (453600.0 of 604800.0) |#########   | Elapsed Time: 0:12:09 ETA:   0:02:45\n",
      " 75% (455400.0 of 604800.0) |#########   | Elapsed Time: 0:12:11 ETA:   0:02:44\n",
      " 75% (457200.0 of 604800.0) |#########   | Elapsed Time: 0:12:13 ETA:   0:02:24\n",
      " 76% (460800.0 of 604800.0) |#########   | Elapsed Time: 0:12:17 ETA:   0:02:32\n",
      " 76% (464400.0 of 604800.0) |#########   | Elapsed Time: 0:12:21 ETA:   0:02:33\n",
      " 77% (468000.0 of 604800.0) |#########   | Elapsed Time: 0:12:24 ETA:   0:02:29\n",
      " 77% (471600.0 of 604800.0) |#########   | Elapsed Time: 0:12:28 ETA:   0:02:26\n",
      " 78% (475200.0 of 604800.0) |#########   | Elapsed Time: 0:12:32 ETA:   0:02:22\n",
      " 78% (477000.0 of 604800.0) |#########   | Elapsed Time: 0:12:34 ETA:   0:02:20\n",
      " 79% (478800.0 of 604800.0) |#########   | Elapsed Time: 0:12:36 ETA:   0:02:03\n",
      " 79% (482400.0 of 604800.0) |#########   | Elapsed Time: 0:12:40 ETA:   0:02:10\n",
      " 80% (486000.0 of 604800.0) |#########   | Elapsed Time: 0:12:44 ETA:   0:02:10\n",
      " 80% (489600.0 of 604800.0) |#########   | Elapsed Time: 0:12:48 ETA:   0:02:07\n",
      " 81% (493200.0 of 604800.0) |#########   | Elapsed Time: 0:12:52 ETA:   0:02:03\n",
      " 82% (496800.0 of 604800.0) |#########   | Elapsed Time: 0:12:56 ETA:   0:01:59\n",
      " 82% (498600.0 of 604800.0) |#########   | Elapsed Time: 0:12:58 ETA:   0:01:58\n",
      " 82% (500400.0 of 604800.0) |#########   | Elapsed Time: 0:12:59 ETA:   0:01:42\n",
      " 83% (504000.0 of 604800.0) |##########  | Elapsed Time: 0:13:03 ETA:   0:01:45\n",
      " 83% (507600.0 of 604800.0) |##########  | Elapsed Time: 0:13:07 ETA:   0:01:42\n",
      " 84% (511200.0 of 604800.0) |##########  | Elapsed Time: 0:13:11 ETA:   0:01:38\n",
      " 85% (514800.0 of 604800.0) |##########  | Elapsed Time: 0:13:14 ETA:   0:01:34\n",
      " 85% (518400.0 of 604800.0) |##########  | Elapsed Time: 0:13:18 ETA:   0:01:30\n",
      " 86% (520200.0 of 604800.0) |##########  | Elapsed Time: 0:13:20 ETA:   0:01:28\n",
      " 86% (522000.0 of 604800.0) |##########  | Elapsed Time: 0:13:21 ETA:   0:01:16\n",
      " 86% (525600.0 of 604800.0) |##########  | Elapsed Time: 0:13:25 ETA:   0:01:22\n",
      " 87% (529200.0 of 604800.0) |##########  | Elapsed Time: 0:13:29 ETA:   0:01:18\n",
      " 88% (532800.0 of 604800.0) |##########  | Elapsed Time: 0:13:33 ETA:   0:01:14\n",
      " 88% (536400.0 of 604800.0) |##########  | Elapsed Time: 0:13:36 ETA:   0:01:10\n",
      " 89% (540000.0 of 604800.0) |##########  | Elapsed Time: 0:13:40 ETA:   0:01:06\n",
      " 89% (541800.0 of 604800.0) |##########  | Elapsed Time: 0:13:42 ETA:   0:01:04\n",
      " 89% (543600.0 of 604800.0) |##########  | Elapsed Time: 0:13:43 ETA:   0:00:55\n",
      " 90% (547200.0 of 604800.0) |##########  | Elapsed Time: 0:13:47 ETA:   0:00:56\n",
      " 91% (550800.0 of 604800.0) |##########  | Elapsed Time: 0:13:51 ETA:   0:00:54\n",
      " 91% (554400.0 of 604800.0) |########### | Elapsed Time: 0:13:54 ETA:   0:00:51\n",
      " 92% (558000.0 of 604800.0) |########### | Elapsed Time: 0:13:58 ETA:   0:00:47\n",
      " 92% (561600.0 of 604800.0) |########### | Elapsed Time: 0:14:01 ETA:   0:00:43\n",
      " 93% (563400.0 of 604800.0) |########### | Elapsed Time: 0:14:03 ETA:   0:00:42\n",
      " 93% (565200.0 of 604800.0) |########### | Elapsed Time: 0:14:05 ETA:   0:00:35\n",
      " 94% (568800.0 of 604800.0) |########### | Elapsed Time: 0:14:08 ETA:   0:00:35\n",
      " 94% (572400.0 of 604800.0) |########### | Elapsed Time: 0:14:12 ETA:   0:00:32\n",
      " 95% (576000.0 of 604800.0) |########### | Elapsed Time: 0:14:16 ETA:   0:00:29\n",
      " 95% (579600.0 of 604800.0) |########### | Elapsed Time: 0:14:19 ETA:   0:00:25\n",
      " 96% (583200.0 of 604800.0) |########### | Elapsed Time: 0:14:23 ETA:   0:00:21\n",
      " 96% (585000.0 of 604800.0) |########### | Elapsed Time: 0:14:25 ETA:   0:00:19\n",
      " 97% (586800.0 of 604800.0) |########### | Elapsed Time: 0:14:26 ETA:   0:00:15\n",
      " 97% (590400.0 of 604800.0) |########### | Elapsed Time: 0:14:29 ETA:   0:00:13\n",
      " 98% (594000.0 of 604800.0) |########### | Elapsed Time: 0:14:33 ETA:   0:00:10\n",
      " 98% (597600.0 of 604800.0) |########### | Elapsed Time: 0:14:37 ETA:   0:00:07\n",
      " 99% (601200.0 of 604800.0) |########### | Elapsed Time: 0:14:40 ETA:   0:00:03\n",
      "100% (604800.0 of 604800.0) |############| Elapsed Time: 0:14:44 ETA:  00:00:00\n",
      "100% (604800.0 of 604800.0) |############| Elapsed Time: 0:14:44 Time:  0:14:44\n"
     ]
    },
    {
     "data": {
      "image/png": "[encoded data removed]",
      "text/plain": [
       "<Figure size 432x288 with 1 Axes>"
      ]
     },
     "metadata": {
      "needs_background": "light"
     },
     "output_type": "display_data"
    },
    {
     "name": "stdout",
     "output_type": "stream",
     "text": [
      "particle trajectories completed\n"
     ]
    }
   ],
   "source": [
    "## Output properties\n",
    "output_file = pset.ParticleFile(name= output_file_name, outputdt = timedelta(minutes = 60))\n",
    "pset.execute(my_kernel,                 # the kernel (which defines how particles move)\n",
    "             runtime=timedelta(hours = 24*7),   # the total length of the run\n",
    "             dt = timedelta(minutes = 60),      # the timestep of the kernel\n",
    "             output_file = output_file)  # the file name and the time step of the outputs\n",
    "output_file.close()\n",
    "\n",
    "plotTrajectoriesFile(output_file_name);\n",
    "\n",
    "print('particle trajectories completed')"
   ]
  },
  {
   "cell_type": "code",
   "execution_count": 31,
   "id": "618b0ac1",
   "metadata": {},
   "outputs": [
    {
     "data": {
      "image/png": "[encoded data removed]",
      "text/plain": [
       "<Figure size 1224x576 with 1 Axes>"
      ]
     },
     "metadata": {
      "needs_background": "light"
     },
     "output_type": "display_data"
    }
   ],
   "source": [
    "pfile = xr.open_dataset(str(output_file_name), decode_cf=True)\n",
    "fig, ax = plt.subplots(figsize=(17, 8))\n",
    "ax.pcolormesh(pfile.beached)\n",
    "ax.set_xlabel('Hours since deployment')\n",
    "ax.set_ylabel('Particle number')\n",
    "ax.set_title('Yellow = beached')\n",
    "plt.show()"
   ]
  }
 ],
 "metadata": {
  "kernelspec": {
   "display_name": "parcels-dev",
   "language": "python",
   "name": "python3"
  },
  "language_info": {
   "codemirror_mode": {
    "name": "ipython",
    "version": 3
   },
   "file_extension": ".py",
   "mimetype": "text/x-python",
   "name": "python",
   "nbconvert_exporter": "python",
   "pygments_lexer": "ipython3",
   "version": "3.8.10"
  }
 },
 "nbformat": 4,
 "nbformat_minor": 5
}
