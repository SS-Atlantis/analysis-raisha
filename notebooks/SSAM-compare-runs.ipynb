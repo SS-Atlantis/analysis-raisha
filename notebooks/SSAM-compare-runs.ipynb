{
 "cells": [
  {
   "cell_type": "code",
   "execution_count": 1,
   "id": "19568bc7-c13d-4df7-b892-9a2dfcb19af8",
   "metadata": {},
   "outputs": [],
   "source": [
    "# Load ReactiveAtlantis lib\n",
    "\n",
    "library(ReactiveAtlantis)\n",
    "setwd(\"/ocean/rlovindeer/MOAD/analysis-raisha/SSmodel_outputs/\")"
   ]
  },
  {
   "cell_type": "code",
   "execution_count": null,
   "id": "cdbcc8a0-15ec-4560-958e-5e657d230edb",
   "metadata": {},
   "outputs": [],
   "source": [
    "# Compare two sets of runs [opens new shiny web app]\n",
    "\n",
    "nc.out.current <- 'output-25yr/outputSalishSea.nc'\n",
    "nc.out.previous <- 'output-20yr/outputSalishSea.nc'\n",
    "groups.csv <- '/ocean/rlovindeer/Atlantis/salish-sea-atlantis-model/SS_grps.csv'\n",
    "bgm.file <- '/ocean/rlovindeer/Atlantis/salish-sea-atlantis-model/SS_xy.bgm'\n",
    "cum.depths <- c(0, 25, 50, 100, 250, 400, 700)\n",
    "compare(nc.out.current, nc.out.old = nc.out.previous, grp.csv = groups.csv, bgm.file=bgm.file, cum.depths=cum.depths)"
   ]
  }
 ],
 "metadata": {
  "kernelspec": {
   "display_name": "R",
   "language": "R",
   "name": "ir"
  },
  "language_info": {
   "codemirror_mode": "r",
   "file_extension": ".r",
   "mimetype": "text/x-r-source",
   "name": "R",
   "pygments_lexer": "r",
   "version": "4.0.5"
  }
 },
 "nbformat": 4,
 "nbformat_minor": 5
}
