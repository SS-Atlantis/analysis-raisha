{
 "cells": [
  {
   "cell_type": "code",
   "execution_count": 2,
   "id": "cf629678-de00-4c97-a28a-568541b27f05",
   "metadata": {},
   "outputs": [],
   "source": [
    "# Load ReactiveAtlantis lib\n",
    "\n",
    "library(ReactiveAtlantis)\n",
    "setwd(\"/ocean/rlovindeer/MOAD/analysis-raisha/SSmodel_outputs/\")"
   ]
  },
  {
   "cell_type": "code",
   "execution_count": null,
   "id": "7ba190d6-e35f-46ac-8387-25bbef87f2fd",
   "metadata": {},
   "outputs": [],
   "source": [
    "# Examine food web structure [opens new shiny web app]\n",
    "\n",
    "grp.csv <- '/ocean/rlovindeer/Atlantis/salish-sea-atlantis-model/SS_grps.csv'\n",
    "prm.file <- '/ocean/rlovindeer/Atlantis/salish-sea-atlantis-model/02SS_biology.prm'\n",
    "diet.file <- 'output-25yr/outputSalishSeaDietCheck.txt'\n",
    "food.web(diet.file, grp.csv)"
   ]
  },
  {
   "cell_type": "code",
   "execution_count": null,
   "id": "025310fe-a261-4c24-a2d3-586cd160316c",
   "metadata": {},
   "outputs": [],
   "source": [
    "# Examine food web by polygon\n",
    "# Turn on option \"flagdietcheck\" in Atlantis Run.prm to get DetailedDietCheck.txt\n",
    "\n",
    "grp.csv <- '/ocean/rlovindeer/Atlantis/salish-sea-atlantis-model/SS_grps.csv'\n",
    "prm.file <- '/ocean/rlovindeer/Atlantis/salish-sea-atlantis-model/02SS_biology.prm'\n",
    "diet.file.bypol <- 'output-25yr/outputSalishSeaDetailedDietCheck.txt'\n",
    "food.web(diet.file, grp.file, diet.file.bypol)"
   ]
  },
  {
   "cell_type": "code",
   "execution_count": null,
   "id": "470fd48a-50c1-4f6c-bd4f-e104b119b603",
   "metadata": {},
   "outputs": [],
   "source": [
    "\n"
   ]
  }
 ],
 "metadata": {
  "kernelspec": {
   "display_name": "R",
   "language": "R",
   "name": "ir"
  },
  "language_info": {
   "codemirror_mode": "r",
   "file_extension": ".r",
   "mimetype": "text/x-r-source",
   "name": "R",
   "pygments_lexer": "r",
   "version": "4.0.5"
  }
 },
 "nbformat": 4,
 "nbformat_minor": 5
}
